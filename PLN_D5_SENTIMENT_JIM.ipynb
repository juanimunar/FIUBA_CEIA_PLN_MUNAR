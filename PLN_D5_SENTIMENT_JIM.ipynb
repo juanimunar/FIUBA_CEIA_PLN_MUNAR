{
  "cells": [
    {
      "cell_type": "markdown",
      "metadata": {
        "id": "kBLpTr7plguX"
      },
      "source": [
        "<img src=\"https://github.com/hernancontigiani/ceia_memorias_especializacion/raw/master/Figures/logoFIUBA.jpg\" width=\"250\" align=\"center\">\n",
        "\n",
        "**PROCESAMIENTO DE LENGUAJE NATURAL**\n",
        "\n",
        "*DESAFÍO Nº5 - SENTIMENT ANALYSIS CON EMBEDDINGS + LSTM - JUAN I. MUNAR*"
      ]
    },
    {
      "cell_type": "markdown",
      "metadata": {
        "id": "9W6nuajhlqZD"
      },
      "source": [
        "**OBJETIVO.** El objetivo es utilizar las críticas de compradores de ropa para que el sistema determine la evaluación del comprador y su crítica (cuantas estrellas le asigna al producto)."
      ]
    },
    {
      "cell_type": "code",
      "execution_count": null,
      "metadata": {
        "id": "i6zvzv3qZ6xS"
      },
      "outputs": [],
      "source": [
        "!pip install --upgrade --no-cache-dir gdown --quiet"
      ]
    },
    {
      "cell_type": "code",
      "execution_count": null,
      "metadata": {
        "id": "hCpOVzJdl8_p"
      },
      "outputs": [],
      "source": [
        "import numpy as np\n",
        "import random\n",
        "import io\n",
        "import pickle\n",
        "import pandas as pd\n",
        "\n",
        "import matplotlib.pyplot as plt\n",
        "import seaborn as sns\n",
        "\n",
        "import tensorflow as tf\n",
        "from tensorflow import keras\n",
        "from tensorflow.keras import layers\n",
        "\n",
        "from keras.utils import to_categorical\n",
        "from tensorflow.keras.utils import pad_sequences\n",
        "from keras.models import Sequential\n",
        "from keras.layers import Dense, LSTM, Embedding, Bidirectional, Dropout\n",
        "from keras.models import load_model\n",
        "from keras.utils import plot_model"
      ]
    },
    {
      "cell_type": "markdown",
      "metadata": {
        "id": "8UPeRkrAmbF3"
      },
      "source": [
        "**DATOS.** Utilizaremos como dataset críticas de compradores de ropa (eCommerce) los cuales puntuaron a cada prenda con un puntaje de 1 a 5 estrellas. Referencia del dataset: [LINK](https://www.kaggle.com/nicapotato/womens-ecommerce-clothing-reviews/version/1)"
      ]
    },
    {
      "cell_type": "code",
      "execution_count": null,
      "metadata": {
        "colab": {
          "base_uri": "https://localhost:8080/"
        },
        "id": "C7jLvTU3lSyL",
        "outputId": "be6fabc0-a206-4757-bf39-d36b03fbe829"
      },
      "outputs": [
        {
          "output_type": "stream",
          "name": "stderr",
          "text": [
            "Downloading...\n",
            "From: https://drive.google.com/uc?id=1Urn1UFSrodN5BuW6-sc_igtaySGRwhV8\n",
            "To: /content/clothing_ecommerce_reviews.csv\n",
            "100%|██████████| 8.48M/8.48M [00:00<00:00, 45.6MB/s]\n"
          ]
        }
      ],
      "source": [
        "# Descargar la carpeta de dataset\n",
        "import os\n",
        "import gdown\n",
        "if os.access('clothing_ecommerce_reviews.csv', os.F_OK) is False:\n",
        "    url = 'https://drive.google.com/uc?id=1Urn1UFSrodN5BuW6-sc_igtaySGRwhV8'\n",
        "    output = 'clothing_ecommerce_reviews.csv'\n",
        "    gdown.download(url, output, quiet=False)\n",
        "else:\n",
        "    print(\"El dataset ya se encuentra descargado\")"
      ]
    },
    {
      "cell_type": "code",
      "execution_count": null,
      "metadata": {
        "colab": {
          "base_uri": "https://localhost:8080/",
          "height": 310
        },
        "id": "o-SV1P3dnD1J",
        "outputId": "ee15a856-c037-4abe-94b0-cb2f4f3e5744"
      },
      "outputs": [
        {
          "output_type": "execute_result",
          "data": {
            "text/plain": [
              "   Clothing ID  Age                    Title  \\\n",
              "0          767   33                      NaN   \n",
              "1         1080   34                      NaN   \n",
              "2         1077   60  Some major design flaws   \n",
              "3         1049   50         My favorite buy!   \n",
              "4          847   47         Flattering shirt   \n",
              "\n",
              "                                         Review Text  Rating  Recommended IND  \\\n",
              "0  Absolutely wonderful - silky and sexy and comf...       4                1   \n",
              "1  Love this dress!  it's sooo pretty.  i happene...       5                1   \n",
              "2  I had such high hopes for this dress and reall...       3                0   \n",
              "3  I love, love, love this jumpsuit. it's fun, fl...       5                1   \n",
              "4  This shirt is very flattering to all due to th...       5                1   \n",
              "\n",
              "   Positive Feedback Count   Division Name Department Name Class Name  \n",
              "0                        0       Initmates        Intimate  Intimates  \n",
              "1                        4         General         Dresses    Dresses  \n",
              "2                        0         General         Dresses    Dresses  \n",
              "3                        0  General Petite         Bottoms      Pants  \n",
              "4                        6         General            Tops    Blouses  "
            ],
            "text/html": [
              "\n",
              "  <div id=\"df-997c46f4-c18b-4ab2-95f6-99e40566989e\" class=\"colab-df-container\">\n",
              "    <div>\n",
              "<style scoped>\n",
              "    .dataframe tbody tr th:only-of-type {\n",
              "        vertical-align: middle;\n",
              "    }\n",
              "\n",
              "    .dataframe tbody tr th {\n",
              "        vertical-align: top;\n",
              "    }\n",
              "\n",
              "    .dataframe thead th {\n",
              "        text-align: right;\n",
              "    }\n",
              "</style>\n",
              "<table border=\"1\" class=\"dataframe\">\n",
              "  <thead>\n",
              "    <tr style=\"text-align: right;\">\n",
              "      <th></th>\n",
              "      <th>Clothing ID</th>\n",
              "      <th>Age</th>\n",
              "      <th>Title</th>\n",
              "      <th>Review Text</th>\n",
              "      <th>Rating</th>\n",
              "      <th>Recommended IND</th>\n",
              "      <th>Positive Feedback Count</th>\n",
              "      <th>Division Name</th>\n",
              "      <th>Department Name</th>\n",
              "      <th>Class Name</th>\n",
              "    </tr>\n",
              "  </thead>\n",
              "  <tbody>\n",
              "    <tr>\n",
              "      <th>0</th>\n",
              "      <td>767</td>\n",
              "      <td>33</td>\n",
              "      <td>NaN</td>\n",
              "      <td>Absolutely wonderful - silky and sexy and comf...</td>\n",
              "      <td>4</td>\n",
              "      <td>1</td>\n",
              "      <td>0</td>\n",
              "      <td>Initmates</td>\n",
              "      <td>Intimate</td>\n",
              "      <td>Intimates</td>\n",
              "    </tr>\n",
              "    <tr>\n",
              "      <th>1</th>\n",
              "      <td>1080</td>\n",
              "      <td>34</td>\n",
              "      <td>NaN</td>\n",
              "      <td>Love this dress!  it's sooo pretty.  i happene...</td>\n",
              "      <td>5</td>\n",
              "      <td>1</td>\n",
              "      <td>4</td>\n",
              "      <td>General</td>\n",
              "      <td>Dresses</td>\n",
              "      <td>Dresses</td>\n",
              "    </tr>\n",
              "    <tr>\n",
              "      <th>2</th>\n",
              "      <td>1077</td>\n",
              "      <td>60</td>\n",
              "      <td>Some major design flaws</td>\n",
              "      <td>I had such high hopes for this dress and reall...</td>\n",
              "      <td>3</td>\n",
              "      <td>0</td>\n",
              "      <td>0</td>\n",
              "      <td>General</td>\n",
              "      <td>Dresses</td>\n",
              "      <td>Dresses</td>\n",
              "    </tr>\n",
              "    <tr>\n",
              "      <th>3</th>\n",
              "      <td>1049</td>\n",
              "      <td>50</td>\n",
              "      <td>My favorite buy!</td>\n",
              "      <td>I love, love, love this jumpsuit. it's fun, fl...</td>\n",
              "      <td>5</td>\n",
              "      <td>1</td>\n",
              "      <td>0</td>\n",
              "      <td>General Petite</td>\n",
              "      <td>Bottoms</td>\n",
              "      <td>Pants</td>\n",
              "    </tr>\n",
              "    <tr>\n",
              "      <th>4</th>\n",
              "      <td>847</td>\n",
              "      <td>47</td>\n",
              "      <td>Flattering shirt</td>\n",
              "      <td>This shirt is very flattering to all due to th...</td>\n",
              "      <td>5</td>\n",
              "      <td>1</td>\n",
              "      <td>6</td>\n",
              "      <td>General</td>\n",
              "      <td>Tops</td>\n",
              "      <td>Blouses</td>\n",
              "    </tr>\n",
              "  </tbody>\n",
              "</table>\n",
              "</div>\n",
              "    <div class=\"colab-df-buttons\">\n",
              "\n",
              "  <div class=\"colab-df-container\">\n",
              "    <button class=\"colab-df-convert\" onclick=\"convertToInteractive('df-997c46f4-c18b-4ab2-95f6-99e40566989e')\"\n",
              "            title=\"Convert this dataframe to an interactive table.\"\n",
              "            style=\"display:none;\">\n",
              "\n",
              "  <svg xmlns=\"http://www.w3.org/2000/svg\" height=\"24px\" viewBox=\"0 -960 960 960\">\n",
              "    <path d=\"M120-120v-720h720v720H120Zm60-500h600v-160H180v160Zm220 220h160v-160H400v160Zm0 220h160v-160H400v160ZM180-400h160v-160H180v160Zm440 0h160v-160H620v160ZM180-180h160v-160H180v160Zm440 0h160v-160H620v160Z\"/>\n",
              "  </svg>\n",
              "    </button>\n",
              "\n",
              "  <style>\n",
              "    .colab-df-container {\n",
              "      display:flex;\n",
              "      gap: 12px;\n",
              "    }\n",
              "\n",
              "    .colab-df-convert {\n",
              "      background-color: #E8F0FE;\n",
              "      border: none;\n",
              "      border-radius: 50%;\n",
              "      cursor: pointer;\n",
              "      display: none;\n",
              "      fill: #1967D2;\n",
              "      height: 32px;\n",
              "      padding: 0 0 0 0;\n",
              "      width: 32px;\n",
              "    }\n",
              "\n",
              "    .colab-df-convert:hover {\n",
              "      background-color: #E2EBFA;\n",
              "      box-shadow: 0px 1px 2px rgba(60, 64, 67, 0.3), 0px 1px 3px 1px rgba(60, 64, 67, 0.15);\n",
              "      fill: #174EA6;\n",
              "    }\n",
              "\n",
              "    .colab-df-buttons div {\n",
              "      margin-bottom: 4px;\n",
              "    }\n",
              "\n",
              "    [theme=dark] .colab-df-convert {\n",
              "      background-color: #3B4455;\n",
              "      fill: #D2E3FC;\n",
              "    }\n",
              "\n",
              "    [theme=dark] .colab-df-convert:hover {\n",
              "      background-color: #434B5C;\n",
              "      box-shadow: 0px 1px 3px 1px rgba(0, 0, 0, 0.15);\n",
              "      filter: drop-shadow(0px 1px 2px rgba(0, 0, 0, 0.3));\n",
              "      fill: #FFFFFF;\n",
              "    }\n",
              "  </style>\n",
              "\n",
              "    <script>\n",
              "      const buttonEl =\n",
              "        document.querySelector('#df-997c46f4-c18b-4ab2-95f6-99e40566989e button.colab-df-convert');\n",
              "      buttonEl.style.display =\n",
              "        google.colab.kernel.accessAllowed ? 'block' : 'none';\n",
              "\n",
              "      async function convertToInteractive(key) {\n",
              "        const element = document.querySelector('#df-997c46f4-c18b-4ab2-95f6-99e40566989e');\n",
              "        const dataTable =\n",
              "          await google.colab.kernel.invokeFunction('convertToInteractive',\n",
              "                                                    [key], {});\n",
              "        if (!dataTable) return;\n",
              "\n",
              "        const docLinkHtml = 'Like what you see? Visit the ' +\n",
              "          '<a target=\"_blank\" href=https://colab.research.google.com/notebooks/data_table.ipynb>data table notebook</a>'\n",
              "          + ' to learn more about interactive tables.';\n",
              "        element.innerHTML = '';\n",
              "        dataTable['output_type'] = 'display_data';\n",
              "        await google.colab.output.renderOutput(dataTable, element);\n",
              "        const docLink = document.createElement('div');\n",
              "        docLink.innerHTML = docLinkHtml;\n",
              "        element.appendChild(docLink);\n",
              "      }\n",
              "    </script>\n",
              "  </div>\n",
              "\n",
              "\n",
              "<div id=\"df-901174b4-d51f-42e8-9525-e16daa172883\">\n",
              "  <button class=\"colab-df-quickchart\" onclick=\"quickchart('df-901174b4-d51f-42e8-9525-e16daa172883')\"\n",
              "            title=\"Suggest charts\"\n",
              "            style=\"display:none;\">\n",
              "\n",
              "<svg xmlns=\"http://www.w3.org/2000/svg\" height=\"24px\"viewBox=\"0 0 24 24\"\n",
              "     width=\"24px\">\n",
              "    <g>\n",
              "        <path d=\"M19 3H5c-1.1 0-2 .9-2 2v14c0 1.1.9 2 2 2h14c1.1 0 2-.9 2-2V5c0-1.1-.9-2-2-2zM9 17H7v-7h2v7zm4 0h-2V7h2v10zm4 0h-2v-4h2v4z\"/>\n",
              "    </g>\n",
              "</svg>\n",
              "  </button>\n",
              "\n",
              "<style>\n",
              "  .colab-df-quickchart {\n",
              "      --bg-color: #E8F0FE;\n",
              "      --fill-color: #1967D2;\n",
              "      --hover-bg-color: #E2EBFA;\n",
              "      --hover-fill-color: #174EA6;\n",
              "      --disabled-fill-color: #AAA;\n",
              "      --disabled-bg-color: #DDD;\n",
              "  }\n",
              "\n",
              "  [theme=dark] .colab-df-quickchart {\n",
              "      --bg-color: #3B4455;\n",
              "      --fill-color: #D2E3FC;\n",
              "      --hover-bg-color: #434B5C;\n",
              "      --hover-fill-color: #FFFFFF;\n",
              "      --disabled-bg-color: #3B4455;\n",
              "      --disabled-fill-color: #666;\n",
              "  }\n",
              "\n",
              "  .colab-df-quickchart {\n",
              "    background-color: var(--bg-color);\n",
              "    border: none;\n",
              "    border-radius: 50%;\n",
              "    cursor: pointer;\n",
              "    display: none;\n",
              "    fill: var(--fill-color);\n",
              "    height: 32px;\n",
              "    padding: 0;\n",
              "    width: 32px;\n",
              "  }\n",
              "\n",
              "  .colab-df-quickchart:hover {\n",
              "    background-color: var(--hover-bg-color);\n",
              "    box-shadow: 0 1px 2px rgba(60, 64, 67, 0.3), 0 1px 3px 1px rgba(60, 64, 67, 0.15);\n",
              "    fill: var(--button-hover-fill-color);\n",
              "  }\n",
              "\n",
              "  .colab-df-quickchart-complete:disabled,\n",
              "  .colab-df-quickchart-complete:disabled:hover {\n",
              "    background-color: var(--disabled-bg-color);\n",
              "    fill: var(--disabled-fill-color);\n",
              "    box-shadow: none;\n",
              "  }\n",
              "\n",
              "  .colab-df-spinner {\n",
              "    border: 2px solid var(--fill-color);\n",
              "    border-color: transparent;\n",
              "    border-bottom-color: var(--fill-color);\n",
              "    animation:\n",
              "      spin 1s steps(1) infinite;\n",
              "  }\n",
              "\n",
              "  @keyframes spin {\n",
              "    0% {\n",
              "      border-color: transparent;\n",
              "      border-bottom-color: var(--fill-color);\n",
              "      border-left-color: var(--fill-color);\n",
              "    }\n",
              "    20% {\n",
              "      border-color: transparent;\n",
              "      border-left-color: var(--fill-color);\n",
              "      border-top-color: var(--fill-color);\n",
              "    }\n",
              "    30% {\n",
              "      border-color: transparent;\n",
              "      border-left-color: var(--fill-color);\n",
              "      border-top-color: var(--fill-color);\n",
              "      border-right-color: var(--fill-color);\n",
              "    }\n",
              "    40% {\n",
              "      border-color: transparent;\n",
              "      border-right-color: var(--fill-color);\n",
              "      border-top-color: var(--fill-color);\n",
              "    }\n",
              "    60% {\n",
              "      border-color: transparent;\n",
              "      border-right-color: var(--fill-color);\n",
              "    }\n",
              "    80% {\n",
              "      border-color: transparent;\n",
              "      border-right-color: var(--fill-color);\n",
              "      border-bottom-color: var(--fill-color);\n",
              "    }\n",
              "    90% {\n",
              "      border-color: transparent;\n",
              "      border-bottom-color: var(--fill-color);\n",
              "    }\n",
              "  }\n",
              "</style>\n",
              "\n",
              "  <script>\n",
              "    async function quickchart(key) {\n",
              "      const quickchartButtonEl =\n",
              "        document.querySelector('#' + key + ' button');\n",
              "      quickchartButtonEl.disabled = true;  // To prevent multiple clicks.\n",
              "      quickchartButtonEl.classList.add('colab-df-spinner');\n",
              "      try {\n",
              "        const charts = await google.colab.kernel.invokeFunction(\n",
              "            'suggestCharts', [key], {});\n",
              "      } catch (error) {\n",
              "        console.error('Error during call to suggestCharts:', error);\n",
              "      }\n",
              "      quickchartButtonEl.classList.remove('colab-df-spinner');\n",
              "      quickchartButtonEl.classList.add('colab-df-quickchart-complete');\n",
              "    }\n",
              "    (() => {\n",
              "      let quickchartButtonEl =\n",
              "        document.querySelector('#df-901174b4-d51f-42e8-9525-e16daa172883 button');\n",
              "      quickchartButtonEl.style.display =\n",
              "        google.colab.kernel.accessAllowed ? 'block' : 'none';\n",
              "    })();\n",
              "  </script>\n",
              "</div>\n",
              "    </div>\n",
              "  </div>\n"
            ]
          },
          "metadata": {},
          "execution_count": 4
        }
      ],
      "source": [
        "# Armar el dataset\n",
        "df = pd.read_csv('clothing_ecommerce_reviews.csv')\n",
        "df.drop(columns = ['Unnamed: 0'], inplace = True)\n",
        "df.head()"
      ]
    },
    {
      "cell_type": "markdown",
      "metadata": {
        "id": "q-OwSePKm-FK"
      },
      "source": [
        "**1. LIMPIEZA DE DATOS**\n",
        "\n"
      ]
    },
    {
      "cell_type": "code",
      "execution_count": null,
      "metadata": {
        "colab": {
          "base_uri": "https://localhost:8080/",
          "height": 206
        },
        "id": "-hc7-AmYnPC3",
        "outputId": "223b68b8-99f3-4afa-de16-de52a1790928"
      },
      "outputs": [
        {
          "output_type": "execute_result",
          "data": {
            "text/plain": [
              "                                         Review Text  Rating\n",
              "0  Absolutely wonderful - silky and sexy and comf...       3\n",
              "1  Love this dress!  it's sooo pretty.  i happene...       4\n",
              "2  I had such high hopes for this dress and reall...       2\n",
              "3  I love, love, love this jumpsuit. it's fun, fl...       4\n",
              "4  This shirt is very flattering to all due to th...       4"
            ],
            "text/html": [
              "\n",
              "  <div id=\"df-c75de3ed-8443-4ec1-ae98-62934d11474e\" class=\"colab-df-container\">\n",
              "    <div>\n",
              "<style scoped>\n",
              "    .dataframe tbody tr th:only-of-type {\n",
              "        vertical-align: middle;\n",
              "    }\n",
              "\n",
              "    .dataframe tbody tr th {\n",
              "        vertical-align: top;\n",
              "    }\n",
              "\n",
              "    .dataframe thead th {\n",
              "        text-align: right;\n",
              "    }\n",
              "</style>\n",
              "<table border=\"1\" class=\"dataframe\">\n",
              "  <thead>\n",
              "    <tr style=\"text-align: right;\">\n",
              "      <th></th>\n",
              "      <th>Review Text</th>\n",
              "      <th>Rating</th>\n",
              "    </tr>\n",
              "  </thead>\n",
              "  <tbody>\n",
              "    <tr>\n",
              "      <th>0</th>\n",
              "      <td>Absolutely wonderful - silky and sexy and comf...</td>\n",
              "      <td>3</td>\n",
              "    </tr>\n",
              "    <tr>\n",
              "      <th>1</th>\n",
              "      <td>Love this dress!  it's sooo pretty.  i happene...</td>\n",
              "      <td>4</td>\n",
              "    </tr>\n",
              "    <tr>\n",
              "      <th>2</th>\n",
              "      <td>I had such high hopes for this dress and reall...</td>\n",
              "      <td>2</td>\n",
              "    </tr>\n",
              "    <tr>\n",
              "      <th>3</th>\n",
              "      <td>I love, love, love this jumpsuit. it's fun, fl...</td>\n",
              "      <td>4</td>\n",
              "    </tr>\n",
              "    <tr>\n",
              "      <th>4</th>\n",
              "      <td>This shirt is very flattering to all due to th...</td>\n",
              "      <td>4</td>\n",
              "    </tr>\n",
              "  </tbody>\n",
              "</table>\n",
              "</div>\n",
              "    <div class=\"colab-df-buttons\">\n",
              "\n",
              "  <div class=\"colab-df-container\">\n",
              "    <button class=\"colab-df-convert\" onclick=\"convertToInteractive('df-c75de3ed-8443-4ec1-ae98-62934d11474e')\"\n",
              "            title=\"Convert this dataframe to an interactive table.\"\n",
              "            style=\"display:none;\">\n",
              "\n",
              "  <svg xmlns=\"http://www.w3.org/2000/svg\" height=\"24px\" viewBox=\"0 -960 960 960\">\n",
              "    <path d=\"M120-120v-720h720v720H120Zm60-500h600v-160H180v160Zm220 220h160v-160H400v160Zm0 220h160v-160H400v160ZM180-400h160v-160H180v160Zm440 0h160v-160H620v160ZM180-180h160v-160H180v160Zm440 0h160v-160H620v160Z\"/>\n",
              "  </svg>\n",
              "    </button>\n",
              "\n",
              "  <style>\n",
              "    .colab-df-container {\n",
              "      display:flex;\n",
              "      gap: 12px;\n",
              "    }\n",
              "\n",
              "    .colab-df-convert {\n",
              "      background-color: #E8F0FE;\n",
              "      border: none;\n",
              "      border-radius: 50%;\n",
              "      cursor: pointer;\n",
              "      display: none;\n",
              "      fill: #1967D2;\n",
              "      height: 32px;\n",
              "      padding: 0 0 0 0;\n",
              "      width: 32px;\n",
              "    }\n",
              "\n",
              "    .colab-df-convert:hover {\n",
              "      background-color: #E2EBFA;\n",
              "      box-shadow: 0px 1px 2px rgba(60, 64, 67, 0.3), 0px 1px 3px 1px rgba(60, 64, 67, 0.15);\n",
              "      fill: #174EA6;\n",
              "    }\n",
              "\n",
              "    .colab-df-buttons div {\n",
              "      margin-bottom: 4px;\n",
              "    }\n",
              "\n",
              "    [theme=dark] .colab-df-convert {\n",
              "      background-color: #3B4455;\n",
              "      fill: #D2E3FC;\n",
              "    }\n",
              "\n",
              "    [theme=dark] .colab-df-convert:hover {\n",
              "      background-color: #434B5C;\n",
              "      box-shadow: 0px 1px 3px 1px rgba(0, 0, 0, 0.15);\n",
              "      filter: drop-shadow(0px 1px 2px rgba(0, 0, 0, 0.3));\n",
              "      fill: #FFFFFF;\n",
              "    }\n",
              "  </style>\n",
              "\n",
              "    <script>\n",
              "      const buttonEl =\n",
              "        document.querySelector('#df-c75de3ed-8443-4ec1-ae98-62934d11474e button.colab-df-convert');\n",
              "      buttonEl.style.display =\n",
              "        google.colab.kernel.accessAllowed ? 'block' : 'none';\n",
              "\n",
              "      async function convertToInteractive(key) {\n",
              "        const element = document.querySelector('#df-c75de3ed-8443-4ec1-ae98-62934d11474e');\n",
              "        const dataTable =\n",
              "          await google.colab.kernel.invokeFunction('convertToInteractive',\n",
              "                                                    [key], {});\n",
              "        if (!dataTable) return;\n",
              "\n",
              "        const docLinkHtml = 'Like what you see? Visit the ' +\n",
              "          '<a target=\"_blank\" href=https://colab.research.google.com/notebooks/data_table.ipynb>data table notebook</a>'\n",
              "          + ' to learn more about interactive tables.';\n",
              "        element.innerHTML = '';\n",
              "        dataTable['output_type'] = 'display_data';\n",
              "        await google.colab.output.renderOutput(dataTable, element);\n",
              "        const docLink = document.createElement('div');\n",
              "        docLink.innerHTML = docLinkHtml;\n",
              "        element.appendChild(docLink);\n",
              "      }\n",
              "    </script>\n",
              "  </div>\n",
              "\n",
              "\n",
              "<div id=\"df-4f676482-3f9b-4541-b681-a8816171ffe7\">\n",
              "  <button class=\"colab-df-quickchart\" onclick=\"quickchart('df-4f676482-3f9b-4541-b681-a8816171ffe7')\"\n",
              "            title=\"Suggest charts\"\n",
              "            style=\"display:none;\">\n",
              "\n",
              "<svg xmlns=\"http://www.w3.org/2000/svg\" height=\"24px\"viewBox=\"0 0 24 24\"\n",
              "     width=\"24px\">\n",
              "    <g>\n",
              "        <path d=\"M19 3H5c-1.1 0-2 .9-2 2v14c0 1.1.9 2 2 2h14c1.1 0 2-.9 2-2V5c0-1.1-.9-2-2-2zM9 17H7v-7h2v7zm4 0h-2V7h2v10zm4 0h-2v-4h2v4z\"/>\n",
              "    </g>\n",
              "</svg>\n",
              "  </button>\n",
              "\n",
              "<style>\n",
              "  .colab-df-quickchart {\n",
              "      --bg-color: #E8F0FE;\n",
              "      --fill-color: #1967D2;\n",
              "      --hover-bg-color: #E2EBFA;\n",
              "      --hover-fill-color: #174EA6;\n",
              "      --disabled-fill-color: #AAA;\n",
              "      --disabled-bg-color: #DDD;\n",
              "  }\n",
              "\n",
              "  [theme=dark] .colab-df-quickchart {\n",
              "      --bg-color: #3B4455;\n",
              "      --fill-color: #D2E3FC;\n",
              "      --hover-bg-color: #434B5C;\n",
              "      --hover-fill-color: #FFFFFF;\n",
              "      --disabled-bg-color: #3B4455;\n",
              "      --disabled-fill-color: #666;\n",
              "  }\n",
              "\n",
              "  .colab-df-quickchart {\n",
              "    background-color: var(--bg-color);\n",
              "    border: none;\n",
              "    border-radius: 50%;\n",
              "    cursor: pointer;\n",
              "    display: none;\n",
              "    fill: var(--fill-color);\n",
              "    height: 32px;\n",
              "    padding: 0;\n",
              "    width: 32px;\n",
              "  }\n",
              "\n",
              "  .colab-df-quickchart:hover {\n",
              "    background-color: var(--hover-bg-color);\n",
              "    box-shadow: 0 1px 2px rgba(60, 64, 67, 0.3), 0 1px 3px 1px rgba(60, 64, 67, 0.15);\n",
              "    fill: var(--button-hover-fill-color);\n",
              "  }\n",
              "\n",
              "  .colab-df-quickchart-complete:disabled,\n",
              "  .colab-df-quickchart-complete:disabled:hover {\n",
              "    background-color: var(--disabled-bg-color);\n",
              "    fill: var(--disabled-fill-color);\n",
              "    box-shadow: none;\n",
              "  }\n",
              "\n",
              "  .colab-df-spinner {\n",
              "    border: 2px solid var(--fill-color);\n",
              "    border-color: transparent;\n",
              "    border-bottom-color: var(--fill-color);\n",
              "    animation:\n",
              "      spin 1s steps(1) infinite;\n",
              "  }\n",
              "\n",
              "  @keyframes spin {\n",
              "    0% {\n",
              "      border-color: transparent;\n",
              "      border-bottom-color: var(--fill-color);\n",
              "      border-left-color: var(--fill-color);\n",
              "    }\n",
              "    20% {\n",
              "      border-color: transparent;\n",
              "      border-left-color: var(--fill-color);\n",
              "      border-top-color: var(--fill-color);\n",
              "    }\n",
              "    30% {\n",
              "      border-color: transparent;\n",
              "      border-left-color: var(--fill-color);\n",
              "      border-top-color: var(--fill-color);\n",
              "      border-right-color: var(--fill-color);\n",
              "    }\n",
              "    40% {\n",
              "      border-color: transparent;\n",
              "      border-right-color: var(--fill-color);\n",
              "      border-top-color: var(--fill-color);\n",
              "    }\n",
              "    60% {\n",
              "      border-color: transparent;\n",
              "      border-right-color: var(--fill-color);\n",
              "    }\n",
              "    80% {\n",
              "      border-color: transparent;\n",
              "      border-right-color: var(--fill-color);\n",
              "      border-bottom-color: var(--fill-color);\n",
              "    }\n",
              "    90% {\n",
              "      border-color: transparent;\n",
              "      border-bottom-color: var(--fill-color);\n",
              "    }\n",
              "  }\n",
              "</style>\n",
              "\n",
              "  <script>\n",
              "    async function quickchart(key) {\n",
              "      const quickchartButtonEl =\n",
              "        document.querySelector('#' + key + ' button');\n",
              "      quickchartButtonEl.disabled = true;  // To prevent multiple clicks.\n",
              "      quickchartButtonEl.classList.add('colab-df-spinner');\n",
              "      try {\n",
              "        const charts = await google.colab.kernel.invokeFunction(\n",
              "            'suggestCharts', [key], {});\n",
              "      } catch (error) {\n",
              "        console.error('Error during call to suggestCharts:', error);\n",
              "      }\n",
              "      quickchartButtonEl.classList.remove('colab-df-spinner');\n",
              "      quickchartButtonEl.classList.add('colab-df-quickchart-complete');\n",
              "    }\n",
              "    (() => {\n",
              "      let quickchartButtonEl =\n",
              "        document.querySelector('#df-4f676482-3f9b-4541-b681-a8816171ffe7 button');\n",
              "      quickchartButtonEl.style.display =\n",
              "        google.colab.kernel.accessAllowed ? 'block' : 'none';\n",
              "    })();\n",
              "  </script>\n",
              "</div>\n",
              "    </div>\n",
              "  </div>\n"
            ]
          },
          "metadata": {},
          "execution_count": 5
        }
      ],
      "source": [
        "# Creación de un nuevo dataset con las columnas elegidas y eliminando nulos\n",
        "df_reviews = df.loc[:, ['Review Text', 'Rating']].dropna()\n",
        "\n",
        "# Transformación del rating de 0 a 4\n",
        "df_reviews['Rating'] = df_reviews['Rating'] - 1\n",
        "\n",
        "# Visualización\n",
        "df_reviews.head()"
      ]
    },
    {
      "cell_type": "code",
      "execution_count": null,
      "metadata": {
        "colab": {
          "base_uri": "https://localhost:8080/"
        },
        "id": "sZtvASVOn3ty",
        "outputId": "0ba68c3a-e1a1-4975-dfc0-74672a276b73"
      },
      "outputs": [
        {
          "output_type": "execute_result",
          "data": {
            "text/plain": [
              "4    12540\n",
              "3     4908\n",
              "2     2823\n",
              "1     1549\n",
              "0      821\n",
              "Name: Rating, dtype: int64"
            ]
          },
          "metadata": {},
          "execution_count": 6
        }
      ],
      "source": [
        "# Distribución de valores respecto a columna rating\n",
        "df_reviews['Rating'].value_counts()"
      ]
    },
    {
      "cell_type": "code",
      "execution_count": null,
      "metadata": {
        "colab": {
          "base_uri": "https://localhost:8080/",
          "height": 405
        },
        "id": "Pqpq4eLtERoe",
        "outputId": "b76aa94a-1544-4696-fdac-a49727bf238e"
      },
      "outputs": [
        {
          "output_type": "display_data",
          "data": {
            "text/plain": [
              "<Figure size 500x400 with 1 Axes>"
            ],
            "image/png": "[encoded data removed]"
          },
          "metadata": {}
        }
      ],
      "source": [
        "# Plot\n",
        "plt.style.use('bmh')\n",
        "plt.rcParams['figure.figsize'] = (5,4)\n",
        "plt.rcParams['axes.labelsize'] = 10\n",
        "plt.rcParams['xtick.labelsize'] = 10\n",
        "plt.hist(df_reviews['Rating'],\n",
        "         bins = [i for i in range(6)],\n",
        "         edgecolor = 'black',\n",
        "         color = 'blue')\n",
        "plt.title('DISTRIBUCIÓN DE PUNTAJES', fontsize=10)\n",
        "plt.xlabel('Rating')\n",
        "plt.ylabel('Frecuencia')\n",
        "plt.show()"
      ]
    },
    {
      "cell_type": "code",
      "execution_count": null,
      "metadata": {
        "colab": {
          "base_uri": "https://localhost:8080/",
          "height": 300
        },
        "id": "C8fb8m-MDx7u",
        "outputId": "d03a7032-3339-4b14-cf86-791cb56e2f6d"
      },
      "outputs": [
        {
          "output_type": "execute_result",
          "data": {
            "text/plain": [
              "             Rating\n",
              "count  22641.000000\n",
              "mean       3.183561\n",
              "std        1.115762\n",
              "min        0.000000\n",
              "25%        3.000000\n",
              "50%        4.000000\n",
              "75%        4.000000\n",
              "max        4.000000"
            ],
            "text/html": [
              "\n",
              "  <div id=\"df-194d7bca-801f-4f9b-a8bc-8096d91a9652\" class=\"colab-df-container\">\n",
              "    <div>\n",
              "<style scoped>\n",
              "    .dataframe tbody tr th:only-of-type {\n",
              "        vertical-align: middle;\n",
              "    }\n",
              "\n",
              "    .dataframe tbody tr th {\n",
              "        vertical-align: top;\n",
              "    }\n",
              "\n",
              "    .dataframe thead th {\n",
              "        text-align: right;\n",
              "    }\n",
              "</style>\n",
              "<table border=\"1\" class=\"dataframe\">\n",
              "  <thead>\n",
              "    <tr style=\"text-align: right;\">\n",
              "      <th></th>\n",
              "      <th>Rating</th>\n",
              "    </tr>\n",
              "  </thead>\n",
              "  <tbody>\n",
              "    <tr>\n",
              "      <th>count</th>\n",
              "      <td>22641.000000</td>\n",
              "    </tr>\n",
              "    <tr>\n",
              "      <th>mean</th>\n",
              "      <td>3.183561</td>\n",
              "    </tr>\n",
              "    <tr>\n",
              "      <th>std</th>\n",
              "      <td>1.115762</td>\n",
              "    </tr>\n",
              "    <tr>\n",
              "      <th>min</th>\n",
              "      <td>0.000000</td>\n",
              "    </tr>\n",
              "    <tr>\n",
              "      <th>25%</th>\n",
              "      <td>3.000000</td>\n",
              "    </tr>\n",
              "    <tr>\n",
              "      <th>50%</th>\n",
              "      <td>4.000000</td>\n",
              "    </tr>\n",
              "    <tr>\n",
              "      <th>75%</th>\n",
              "      <td>4.000000</td>\n",
              "    </tr>\n",
              "    <tr>\n",
              "      <th>max</th>\n",
              "      <td>4.000000</td>\n",
              "    </tr>\n",
              "  </tbody>\n",
              "</table>\n",
              "</div>\n",
              "    <div class=\"colab-df-buttons\">\n",
              "\n",
              "  <div class=\"colab-df-container\">\n",
              "    <button class=\"colab-df-convert\" onclick=\"convertToInteractive('df-194d7bca-801f-4f9b-a8bc-8096d91a9652')\"\n",
              "            title=\"Convert this dataframe to an interactive table.\"\n",
              "            style=\"display:none;\">\n",
              "\n",
              "  <svg xmlns=\"http://www.w3.org/2000/svg\" height=\"24px\" viewBox=\"0 -960 960 960\">\n",
              "    <path d=\"M120-120v-720h720v720H120Zm60-500h600v-160H180v160Zm220 220h160v-160H400v160Zm0 220h160v-160H400v160ZM180-400h160v-160H180v160Zm440 0h160v-160H620v160ZM180-180h160v-160H180v160Zm440 0h160v-160H620v160Z\"/>\n",
              "  </svg>\n",
              "    </button>\n",
              "\n",
              "  <style>\n",
              "    .colab-df-container {\n",
              "      display:flex;\n",
              "      gap: 12px;\n",
              "    }\n",
              "\n",
              "    .colab-df-convert {\n",
              "      background-color: #E8F0FE;\n",
              "      border: none;\n",
              "      border-radius: 50%;\n",
              "      cursor: pointer;\n",
              "      display: none;\n",
              "      fill: #1967D2;\n",
              "      height: 32px;\n",
              "      padding: 0 0 0 0;\n",
              "      width: 32px;\n",
              "    }\n",
              "\n",
              "    .colab-df-convert:hover {\n",
              "      background-color: #E2EBFA;\n",
              "      box-shadow: 0px 1px 2px rgba(60, 64, 67, 0.3), 0px 1px 3px 1px rgba(60, 64, 67, 0.15);\n",
              "      fill: #174EA6;\n",
              "    }\n",
              "\n",
              "    .colab-df-buttons div {\n",
              "      margin-bottom: 4px;\n",
              "    }\n",
              "\n",
              "    [theme=dark] .colab-df-convert {\n",
              "      background-color: #3B4455;\n",
              "      fill: #D2E3FC;\n",
              "    }\n",
              "\n",
              "    [theme=dark] .colab-df-convert:hover {\n",
              "      background-color: #434B5C;\n",
              "      box-shadow: 0px 1px 3px 1px rgba(0, 0, 0, 0.15);\n",
              "      filter: drop-shadow(0px 1px 2px rgba(0, 0, 0, 0.3));\n",
              "      fill: #FFFFFF;\n",
              "    }\n",
              "  </style>\n",
              "\n",
              "    <script>\n",
              "      const buttonEl =\n",
              "        document.querySelector('#df-194d7bca-801f-4f9b-a8bc-8096d91a9652 button.colab-df-convert');\n",
              "      buttonEl.style.display =\n",
              "        google.colab.kernel.accessAllowed ? 'block' : 'none';\n",
              "\n",
              "      async function convertToInteractive(key) {\n",
              "        const element = document.querySelector('#df-194d7bca-801f-4f9b-a8bc-8096d91a9652');\n",
              "        const dataTable =\n",
              "          await google.colab.kernel.invokeFunction('convertToInteractive',\n",
              "                                                    [key], {});\n",
              "        if (!dataTable) return;\n",
              "\n",
              "        const docLinkHtml = 'Like what you see? Visit the ' +\n",
              "          '<a target=\"_blank\" href=https://colab.research.google.com/notebooks/data_table.ipynb>data table notebook</a>'\n",
              "          + ' to learn more about interactive tables.';\n",
              "        element.innerHTML = '';\n",
              "        dataTable['output_type'] = 'display_data';\n",
              "        await google.colab.output.renderOutput(dataTable, element);\n",
              "        const docLink = document.createElement('div');\n",
              "        docLink.innerHTML = docLinkHtml;\n",
              "        element.appendChild(docLink);\n",
              "      }\n",
              "    </script>\n",
              "  </div>\n",
              "\n",
              "\n",
              "<div id=\"df-5bb3c184-3b71-4f77-b18c-58825fdda9a3\">\n",
              "  <button class=\"colab-df-quickchart\" onclick=\"quickchart('df-5bb3c184-3b71-4f77-b18c-58825fdda9a3')\"\n",
              "            title=\"Suggest charts\"\n",
              "            style=\"display:none;\">\n",
              "\n",
              "<svg xmlns=\"http://www.w3.org/2000/svg\" height=\"24px\"viewBox=\"0 0 24 24\"\n",
              "     width=\"24px\">\n",
              "    <g>\n",
              "        <path d=\"M19 3H5c-1.1 0-2 .9-2 2v14c0 1.1.9 2 2 2h14c1.1 0 2-.9 2-2V5c0-1.1-.9-2-2-2zM9 17H7v-7h2v7zm4 0h-2V7h2v10zm4 0h-2v-4h2v4z\"/>\n",
              "    </g>\n",
              "</svg>\n",
              "  </button>\n",
              "\n",
              "<style>\n",
              "  .colab-df-quickchart {\n",
              "      --bg-color: #E8F0FE;\n",
              "      --fill-color: #1967D2;\n",
              "      --hover-bg-color: #E2EBFA;\n",
              "      --hover-fill-color: #174EA6;\n",
              "      --disabled-fill-color: #AAA;\n",
              "      --disabled-bg-color: #DDD;\n",
              "  }\n",
              "\n",
              "  [theme=dark] .colab-df-quickchart {\n",
              "      --bg-color: #3B4455;\n",
              "      --fill-color: #D2E3FC;\n",
              "      --hover-bg-color: #434B5C;\n",
              "      --hover-fill-color: #FFFFFF;\n",
              "      --disabled-bg-color: #3B4455;\n",
              "      --disabled-fill-color: #666;\n",
              "  }\n",
              "\n",
              "  .colab-df-quickchart {\n",
              "    background-color: var(--bg-color);\n",
              "    border: none;\n",
              "    border-radius: 50%;\n",
              "    cursor: pointer;\n",
              "    display: none;\n",
              "    fill: var(--fill-color);\n",
              "    height: 32px;\n",
              "    padding: 0;\n",
              "    width: 32px;\n",
              "  }\n",
              "\n",
              "  .colab-df-quickchart:hover {\n",
              "    background-color: var(--hover-bg-color);\n",
              "    box-shadow: 0 1px 2px rgba(60, 64, 67, 0.3), 0 1px 3px 1px rgba(60, 64, 67, 0.15);\n",
              "    fill: var(--button-hover-fill-color);\n",
              "  }\n",
              "\n",
              "  .colab-df-quickchart-complete:disabled,\n",
              "  .colab-df-quickchart-complete:disabled:hover {\n",
              "    background-color: var(--disabled-bg-color);\n",
              "    fill: var(--disabled-fill-color);\n",
              "    box-shadow: none;\n",
              "  }\n",
              "\n",
              "  .colab-df-spinner {\n",
              "    border: 2px solid var(--fill-color);\n",
              "    border-color: transparent;\n",
              "    border-bottom-color: var(--fill-color);\n",
              "    animation:\n",
              "      spin 1s steps(1) infinite;\n",
              "  }\n",
              "\n",
              "  @keyframes spin {\n",
              "    0% {\n",
              "      border-color: transparent;\n",
              "      border-bottom-color: var(--fill-color);\n",
              "      border-left-color: var(--fill-color);\n",
              "    }\n",
              "    20% {\n",
              "      border-color: transparent;\n",
              "      border-left-color: var(--fill-color);\n",
              "      border-top-color: var(--fill-color);\n",
              "    }\n",
              "    30% {\n",
              "      border-color: transparent;\n",
              "      border-left-color: var(--fill-color);\n",
              "      border-top-color: var(--fill-color);\n",
              "      border-right-color: var(--fill-color);\n",
              "    }\n",
              "    40% {\n",
              "      border-color: transparent;\n",
              "      border-right-color: var(--fill-color);\n",
              "      border-top-color: var(--fill-color);\n",
              "    }\n",
              "    60% {\n",
              "      border-color: transparent;\n",
              "      border-right-color: var(--fill-color);\n",
              "    }\n",
              "    80% {\n",
              "      border-color: transparent;\n",
              "      border-right-color: var(--fill-color);\n",
              "      border-bottom-color: var(--fill-color);\n",
              "    }\n",
              "    90% {\n",
              "      border-color: transparent;\n",
              "      border-bottom-color: var(--fill-color);\n",
              "    }\n",
              "  }\n",
              "</style>\n",
              "\n",
              "  <script>\n",
              "    async function quickchart(key) {\n",
              "      const quickchartButtonEl =\n",
              "        document.querySelector('#' + key + ' button');\n",
              "      quickchartButtonEl.disabled = true;  // To prevent multiple clicks.\n",
              "      quickchartButtonEl.classList.add('colab-df-spinner');\n",
              "      try {\n",
              "        const charts = await google.colab.kernel.invokeFunction(\n",
              "            'suggestCharts', [key], {});\n",
              "      } catch (error) {\n",
              "        console.error('Error during call to suggestCharts:', error);\n",
              "      }\n",
              "      quickchartButtonEl.classList.remove('colab-df-spinner');\n",
              "      quickchartButtonEl.classList.add('colab-df-quickchart-complete');\n",
              "    }\n",
              "    (() => {\n",
              "      let quickchartButtonEl =\n",
              "        document.querySelector('#df-5bb3c184-3b71-4f77-b18c-58825fdda9a3 button');\n",
              "      quickchartButtonEl.style.display =\n",
              "        google.colab.kernel.accessAllowed ? 'block' : 'none';\n",
              "    })();\n",
              "  </script>\n",
              "</div>\n",
              "    </div>\n",
              "  </div>\n"
            ]
          },
          "metadata": {},
          "execution_count": 8
        }
      ],
      "source": [
        "# Descripción estadística\n",
        "df_reviews.describe()"
      ]
    },
    {
      "cell_type": "code",
      "execution_count": null,
      "metadata": {
        "colab": {
          "base_uri": "https://localhost:8080/"
        },
        "id": "gVJ_RVi4o1h3",
        "outputId": "a3162875-5eec-4015-8cd1-d3613e62e917"
      },
      "outputs": [
        {
          "output_type": "execute_result",
          "data": {
            "text/plain": [
              "numpy.ndarray"
            ]
          },
          "metadata": {},
          "execution_count": 9
        }
      ],
      "source": [
        "# Vector de reviews\n",
        "text_sequences = df_reviews['Review Text'].values\n",
        "type(text_sequences)"
      ]
    },
    {
      "cell_type": "code",
      "execution_count": null,
      "metadata": {
        "colab": {
          "base_uri": "https://localhost:8080/"
        },
        "id": "4nT5Un_co65Q",
        "outputId": "2e5c134a-ded3-42e8-c224-ea3dde801859"
      },
      "outputs": [
        {
          "output_type": "execute_result",
          "data": {
            "text/plain": [
              "(22641,)"
            ]
          },
          "metadata": {},
          "execution_count": 10
        }
      ],
      "source": [
        "# El vector de reviews tiene las siguientes dimensiones\n",
        "text_sequences.shape"
      ]
    },
    {
      "cell_type": "code",
      "execution_count": null,
      "metadata": {
        "id": "HP5uN9tqpHu_"
      },
      "outputs": [],
      "source": [
        "# Creación del corpus\n",
        "corpus = ' '.join(text_sequences)"
      ]
    },
    {
      "cell_type": "code",
      "execution_count": null,
      "metadata": {
        "colab": {
          "base_uri": "https://localhost:8080/"
        },
        "id": "FEzmePgdpf74",
        "outputId": "3d048bb8-3c5f-4c19-9fbb-315dfd1d5284"
      },
      "outputs": [
        {
          "output_type": "execute_result",
          "data": {
            "text/plain": [
              "7011643"
            ]
          },
          "metadata": {},
          "execution_count": 12
        }
      ],
      "source": [
        "# El corpus tiene la siguiente cantidad de palabras:\n",
        "len(corpus)"
      ]
    },
    {
      "cell_type": "code",
      "execution_count": null,
      "metadata": {
        "id": "MYeJLdDmpvOe"
      },
      "outputs": [],
      "source": [
        "# Se separan las palabras en tokens\n",
        "from keras.preprocessing.text import text_to_word_sequence\n",
        "tokens = text_to_word_sequence(corpus)"
      ]
    },
    {
      "cell_type": "code",
      "execution_count": null,
      "metadata": {
        "colab": {
          "base_uri": "https://localhost:8080/"
        },
        "id": "M6L-fnWAp_lA",
        "outputId": "0e278562-d22a-45c8-bfe6-3699bdf17f42"
      },
      "outputs": [
        {
          "output_type": "execute_result",
          "data": {
            "text/plain": [
              "['absolutely',\n",
              " 'wonderful',\n",
              " 'silky',\n",
              " 'and',\n",
              " 'sexy',\n",
              " 'and',\n",
              " 'comfortable',\n",
              " 'love',\n",
              " 'this',\n",
              " 'dress',\n",
              " \"it's\",\n",
              " 'sooo',\n",
              " 'pretty',\n",
              " 'i',\n",
              " 'happened',\n",
              " 'to',\n",
              " 'find',\n",
              " 'it',\n",
              " 'in',\n",
              " 'a']"
            ]
          },
          "metadata": {},
          "execution_count": 14
        }
      ],
      "source": [
        "# Primeros tokens\n",
        "tokens[:20]"
      ]
    },
    {
      "cell_type": "code",
      "execution_count": null,
      "metadata": {
        "colab": {
          "base_uri": "https://localhost:8080/"
        },
        "id": "-8QgwwMUqG0d",
        "outputId": "a5130eb8-f695-4936-8c9b-78985a66e897"
      },
      "outputs": [
        {
          "output_type": "execute_result",
          "data": {
            "text/plain": [
              "1372203"
            ]
          },
          "metadata": {},
          "execution_count": 15
        }
      ],
      "source": [
        "# La cantidad de tokens es:\n",
        "len(tokens)"
      ]
    },
    {
      "cell_type": "code",
      "execution_count": null,
      "metadata": {
        "id": "TFukNZdOsZ8_"
      },
      "outputs": [],
      "source": [
        "# Importar el tokenizador de Keras\n",
        "from keras.preprocessing.text import Tokenizer\n",
        "\n",
        "# La cantidad máxima de palabras más frecuentes a guardar\n",
        "num_words = 2000\n",
        "\n",
        "# Se asigna a vocab_size\n",
        "vocab_size = num_words\n",
        "\n",
        "# Tokenizar\n",
        "tok = Tokenizer(num_words=2000)\n",
        "tok.fit_on_texts(tokens)"
      ]
    },
    {
      "cell_type": "code",
      "execution_count": null,
      "metadata": {
        "colab": {
          "base_uri": "https://localhost:8080/"
        },
        "id": "JnR1tlqZy94X",
        "outputId": "978f9755-531e-4fb3-82c5-db82bef9bee8"
      },
      "outputs": [
        {
          "output_type": "stream",
          "name": "stdout",
          "text": [
            "tamaño de vocabulario : 14847\n"
          ]
        }
      ],
      "source": [
        "# Diccionario de palabra a índice\n",
        "word_index = tok.word_index\n",
        "print(f'tamaño de vocabulario : {len(word_index)}')\n",
        "\n",
        "# Diccionario de índice a palabra\n",
        "index_word = tok.index_word"
      ]
    },
    {
      "cell_type": "code",
      "execution_count": null,
      "metadata": {
        "id": "AvWzzSretQXf"
      },
      "outputs": [],
      "source": [
        "# Conversión de palabras/tokens a números\n",
        "sequences = tok.texts_to_sequences(text_sequences)"
      ]
    },
    {
      "cell_type": "code",
      "execution_count": null,
      "metadata": {
        "colab": {
          "base_uri": "https://localhost:8080/"
        },
        "id": "za73M5SRtbrP",
        "outputId": "c9195d18-aa2e-442d-856e-d30b0d105bc1"
      },
      "outputs": [
        {
          "output_type": "stream",
          "name": "stdout",
          "text": [
            "El máximo es 115\n"
          ]
        }
      ],
      "source": [
        "# La oración más larga es:\n",
        "seqs_lenght = [len(s) for s in sequences]\n",
        "print(f'El máximo es {max(seqs_lenght)}')"
      ]
    },
    {
      "cell_type": "code",
      "execution_count": null,
      "metadata": {
        "colab": {
          "base_uri": "https://localhost:8080/"
        },
        "id": "oCkO9Wc9tls1",
        "outputId": "9825f690-22c1-43aa-b024-c8c6a21a90da"
      },
      "outputs": [
        {
          "output_type": "stream",
          "name": "stdout",
          "text": [
            "El largo máximo es 115\n",
            "Se procesan completamente el 100.0% de las oraciones\n"
          ]
        }
      ],
      "source": [
        "# Padding de las sentencias al mismo tamaño.\n",
        "from tensorflow.keras.utils import pad_sequences\n",
        "porcentaje_seq_max = 1\n",
        "maxlen = int(max(seqs_lenght) * porcentaje_seq_max)\n",
        "print(f'El largo máximo es {maxlen}')\n",
        "print(f'Se procesan completamente el {round((np.array(seqs_lenght)<maxlen).mean()*100,1)}% de las oraciones')\n",
        "\n",
        "# Obtención de variable X.\n",
        "X = pad_sequences(sequences, padding='pre', maxlen=maxlen)"
      ]
    },
    {
      "cell_type": "code",
      "execution_count": null,
      "metadata": {
        "colab": {
          "base_uri": "https://localhost:8080/"
        },
        "id": "kGHHabVdt_aa",
        "outputId": "b36d647f-651d-4b8b-dc93-0eec80496621"
      },
      "outputs": [
        {
          "output_type": "execute_result",
          "data": {
            "text/plain": [
              "(22641, 115)"
            ]
          },
          "metadata": {},
          "execution_count": 21
        }
      ],
      "source": [
        "# Las dimensiones de la variable input son:\n",
        "X.shape"
      ]
    },
    {
      "cell_type": "code",
      "execution_count": null,
      "metadata": {
        "colab": {
          "base_uri": "https://localhost:8080/"
        },
        "id": "llVM-tzQo9_F",
        "outputId": "7098120d-da3a-4a8e-f41c-8c32e0bc7821"
      },
      "outputs": [
        {
          "output_type": "execute_result",
          "data": {
            "text/plain": [
              "(22641, 5)"
            ]
          },
          "metadata": {},
          "execution_count": 22
        }
      ],
      "source": [
        "# Creación y transformación de la variable y a OHE.\n",
        "y = to_categorical(df_reviews['Rating'].values, num_classes=5)\n",
        "y.shape"
      ]
    },
    {
      "cell_type": "code",
      "execution_count": null,
      "metadata": {
        "id": "Rmz9A6n4uK4V"
      },
      "outputs": [],
      "source": [
        "# División de datos en train y test\n",
        "from sklearn.model_selection import train_test_split\n",
        "X_train, X_test, y_train, y_test = train_test_split(X, y, test_size=0.2, random_state=42)"
      ]
    },
    {
      "cell_type": "code",
      "execution_count": null,
      "metadata": {
        "colab": {
          "base_uri": "https://localhost:8080/"
        },
        "id": "EcDPlhEouQ9E",
        "outputId": "0a10b9fd-d99b-4487-d52b-1af96462423b"
      },
      "outputs": [
        {
          "output_type": "stream",
          "name": "stdout",
          "text": [
            "in_shape 115 , out_shape 5\n"
          ]
        }
      ],
      "source": [
        "# Se determinan las dimensiones de entrada y salida.\n",
        "in_shape = X_train.shape[1] # max input sentence len\n",
        "out_shape = y.shape[1]\n",
        "print(\"in_shape\", in_shape, \", out_shape\", out_shape)"
      ]
    },
    {
      "cell_type": "markdown",
      "metadata": {
        "id": "NpbQHExL6OTu"
      },
      "source": [
        "**2. ENTRENAR MODELOS**\n",
        "\n",
        "El dataset se encuentra desbalanceado, más del 50% de las calificaciones corresponden a 5 estrellas. El uso de estos datos con accuracy como métrica puede llevar a resultados erróneos. Se probará con dos estrategias: sobremuestreo y F1 score."
      ]
    },
    {
      "cell_type": "markdown",
      "metadata": {
        "id": "JcgH53ZOOimi"
      },
      "source": [
        "*2.1. SMOTE + Embeddings + LSTM*\n",
        "\n",
        "Se aplica el método *Synthetic Minority Oversampling Techinque* (SMOTE), se entrenan los embeddings."
      ]
    },
    {
      "cell_type": "code",
      "execution_count": null,
      "metadata": {
        "id": "QnboyGKCqHbE"
      },
      "outputs": [],
      "source": [
        "# Se importa SMOTE de la librería imblearn\n",
        "from imblearn.over_sampling import SMOTE\n",
        "\n",
        "# Se modifica la muestra\n",
        "x_sm, y_sm  = SMOTE().fit_resample(X_train, y_train)"
      ]
    },
    {
      "cell_type": "code",
      "execution_count": null,
      "metadata": {
        "colab": {
          "base_uri": "https://localhost:8080/"
        },
        "id": "oBoc_IBuQW51",
        "outputId": "9ef49d98-2641-4d4a-eea9-bd50557bea0a"
      },
      "outputs": [
        {
          "output_type": "stream",
          "name": "stdout",
          "text": [
            "[9995 9995 9995 9995 9995]\n"
          ]
        }
      ],
      "source": [
        "# Desarmando el OHE\n",
        "y_sm_inv = np.array([sum(y_sm[i] * np.array([0, 1, 2, 3, 4])) for\n",
        "                     i in range(len(y_sm))])\n",
        "\n",
        "# Se observa la nueva distribución\n",
        "print(np.bincount(y_sm_inv))\n",
        "\n",
        "# Limpieza\n",
        "del(y_sm_inv)"
      ]
    },
    {
      "cell_type": "code",
      "source": [
        "# Desarrollando el f1 score\n",
        "import keras.backend as K\n",
        "\n",
        "def f1_score(y_true, y_pred):\n",
        "    y_pred = K.round(y_pred)\n",
        "    true_positives = K.sum(K.round(y_true * y_pred), axis=0)\n",
        "    possible_positives = K.sum(K.round(y_true), axis=0)\n",
        "    predicted_positives = K.sum(K.round(y_pred), axis=0)\n",
        "\n",
        "    precision = true_positives / (predicted_positives + K.epsilon())\n",
        "    recall = true_positives / (possible_positives + K.epsilon())\n",
        "\n",
        "    f1 = 2 * (precision * recall) / (precision + recall + K.epsilon())\n",
        "\n",
        "    return K.mean(f1)"
      ],
      "metadata": {
        "id": "bn-hhnPOOtHo"
      },
      "execution_count": null,
      "outputs": []
    },
    {
      "cell_type": "code",
      "execution_count": null,
      "metadata": {
        "colab": {
          "base_uri": "https://localhost:8080/"
        },
        "id": "1rcU-t6mQbSV",
        "outputId": "4b706c41-1a53-4eaf-9c5c-d565e944b341"
      },
      "outputs": [
        {
          "output_type": "stream",
          "name": "stdout",
          "text": [
            "Model: \"sequential\"\n",
            "_________________________________________________________________\n",
            " Layer (type)                Output Shape              Param #   \n",
            "=================================================================\n",
            " embedding (Embedding)       (None, 115, 10)           20010     \n",
            "                                                                 \n",
            " lstm (LSTM)                 (None, 115, 64)           19200     \n",
            "                                                                 \n",
            " dropout (Dropout)           (None, 115, 64)           0         \n",
            "                                                                 \n",
            " lstm_1 (LSTM)               (None, 64)                33024     \n",
            "                                                                 \n",
            " dense (Dense)               (None, 128)               8320      \n",
            "                                                                 \n",
            " dropout_1 (Dropout)         (None, 128)               0         \n",
            "                                                                 \n",
            " dense_1 (Dense)             (None, 5)                 645       \n",
            "                                                                 \n",
            "=================================================================\n",
            "Total params: 81199 (317.18 KB)\n",
            "Trainable params: 81199 (317.18 KB)\n",
            "Non-trainable params: 0 (0.00 Byte)\n",
            "_________________________________________________________________\n"
          ]
        }
      ],
      "source": [
        "# Modelo con LSTM entrenando propios embeddings\n",
        "model = Sequential()\n",
        "# input_dim = vocab_size (max n_words)\n",
        "# input_length = sentencias con padding a maxlen\n",
        "# output_dim = L^0.25 --> crear embeddings de tamaño 10\n",
        "model.add(Embedding(input_dim=vocab_size+1, output_dim=10, input_length=in_shape))\n",
        "model.add(LSTM(units=64, return_sequences=True))\n",
        "model.add(Dropout(0.2))\n",
        "model.add(LSTM(units=64)) # La última capa LSTM no lleva return_sequences\n",
        "model.add(Dense(units=128, activation='relu'))\n",
        "model.add(Dropout(rate=0.2))\n",
        "model.add(Dense(units=out_shape, activation='softmax'))\n",
        "\n",
        "model.compile(optimizer=\"adam\",\n",
        "              loss='binary_crossentropy',\n",
        "              metrics=[f1_score, 'accuracy'])\n",
        "\n",
        "model.summary()"
      ]
    },
    {
      "cell_type": "code",
      "execution_count": null,
      "metadata": {
        "colab": {
          "base_uri": "https://localhost:8080/",
          "height": 865
        },
        "id": "FpGzNJtDe3Bu",
        "outputId": "d3908127-bbe5-40fb-f989-609ea74a0cba"
      },
      "outputs": [
        {
          "output_type": "execute_result",
          "data": {
            "image/png": "[encoded data removed]",
            "text/plain": [
              "<IPython.core.display.Image object>"
            ]
          },
          "metadata": {},
          "execution_count": 29
        }
      ],
      "source": [
        "# Plot\n",
        "plot_model(model, to_file='model_plot.png', show_shapes=True, show_layer_names=True)"
      ]
    },
    {
      "cell_type": "code",
      "execution_count": null,
      "metadata": {
        "id": "EgMkVtF0nUoz"
      },
      "outputs": [],
      "source": [
        "# Punto para cargar el modelo para entrenar por partes\n",
        "# model = load_model('smote_lstm_emb.keras')"
      ]
    },
    {
      "cell_type": "code",
      "execution_count": null,
      "metadata": {
        "colab": {
          "base_uri": "https://localhost:8080/"
        },
        "id": "CBcpAETtiBDN",
        "outputId": "e9aea2ec-b3bc-446c-ba91-4c6118a7b726"
      },
      "outputs": [
        {
          "output_type": "stream",
          "name": "stdout",
          "text": [
            "Epoch 1/25\n",
            "1562/1562 [==============================] - 58s 31ms/step - loss: 0.4680 - f1_score: 0.0886 - accuracy: 0.3077 - val_loss: 0.3970 - val_f1_score: 0.1362 - val_accuracy: 0.5478\n",
            "Epoch 2/25\n",
            "1562/1562 [==============================] - 23s 14ms/step - loss: 0.4225 - f1_score: 0.1477 - accuracy: 0.3801 - val_loss: 0.3195 - val_f1_score: 0.1632 - val_accuracy: 0.6021\n",
            "Epoch 3/25\n",
            "1562/1562 [==============================] - 21s 13ms/step - loss: 0.4046 - f1_score: 0.1597 - accuracy: 0.4046 - val_loss: 0.3114 - val_f1_score: 0.1639 - val_accuracy: 0.6187\n",
            "Epoch 4/25\n",
            "1562/1562 [==============================] - 22s 14ms/step - loss: 0.3953 - f1_score: 0.1745 - accuracy: 0.4187 - val_loss: 0.3092 - val_f1_score: 0.1743 - val_accuracy: 0.6277\n",
            "Epoch 5/25\n",
            "1562/1562 [==============================] - 20s 13ms/step - loss: 0.3894 - f1_score: 0.1985 - accuracy: 0.4270 - val_loss: 0.3023 - val_f1_score: 0.2307 - val_accuracy: 0.6242\n",
            "Epoch 6/25\n",
            "1562/1562 [==============================] - 19s 12ms/step - loss: 0.3852 - f1_score: 0.2131 - accuracy: 0.4329 - val_loss: 0.3126 - val_f1_score: 0.2463 - val_accuracy: 0.6255\n",
            "Epoch 7/25\n",
            "1562/1562 [==============================] - 20s 13ms/step - loss: 0.3819 - f1_score: 0.2315 - accuracy: 0.4398 - val_loss: 0.3082 - val_f1_score: 0.2126 - val_accuracy: 0.6204\n",
            "Epoch 8/25\n",
            "1562/1562 [==============================] - 20s 13ms/step - loss: 0.3783 - f1_score: 0.2462 - accuracy: 0.4482 - val_loss: 0.3110 - val_f1_score: 0.2852 - val_accuracy: 0.6132\n",
            "Epoch 9/25\n",
            "1562/1562 [==============================] - 20s 13ms/step - loss: 0.3752 - f1_score: 0.2672 - accuracy: 0.4560 - val_loss: 0.3131 - val_f1_score: 0.2712 - val_accuracy: 0.6288\n",
            "Epoch 10/25\n",
            "1562/1562 [==============================] - 20s 13ms/step - loss: 0.3720 - f1_score: 0.2803 - accuracy: 0.4620 - val_loss: 0.3198 - val_f1_score: 0.2971 - val_accuracy: 0.6094\n",
            "Epoch 11/25\n",
            "1562/1562 [==============================] - 21s 13ms/step - loss: 0.3688 - f1_score: 0.2996 - accuracy: 0.4702 - val_loss: 0.3242 - val_f1_score: 0.2940 - val_accuracy: 0.6211\n",
            "Epoch 12/25\n",
            "1562/1562 [==============================] - 20s 13ms/step - loss: 0.3662 - f1_score: 0.3101 - accuracy: 0.4758 - val_loss: 0.3284 - val_f1_score: 0.3143 - val_accuracy: 0.6182\n",
            "Epoch 13/25\n",
            "1562/1562 [==============================] - 21s 14ms/step - loss: 0.3629 - f1_score: 0.3222 - accuracy: 0.4811 - val_loss: 0.3444 - val_f1_score: 0.2808 - val_accuracy: 0.6220\n",
            "Epoch 14/25\n",
            "1562/1562 [==============================] - 20s 13ms/step - loss: 0.3598 - f1_score: 0.3321 - accuracy: 0.4880 - val_loss: 0.3496 - val_f1_score: 0.3183 - val_accuracy: 0.6114\n",
            "Epoch 15/25\n",
            "1562/1562 [==============================] - 21s 13ms/step - loss: 0.3564 - f1_score: 0.3433 - accuracy: 0.4972 - val_loss: 0.3526 - val_f1_score: 0.3366 - val_accuracy: 0.6059\n",
            "Epoch 16/25\n",
            "1562/1562 [==============================] - 21s 13ms/step - loss: 0.3541 - f1_score: 0.3516 - accuracy: 0.4997 - val_loss: 0.3523 - val_f1_score: 0.3133 - val_accuracy: 0.6220\n",
            "Epoch 17/25\n",
            "1562/1562 [==============================] - 21s 14ms/step - loss: 0.3509 - f1_score: 0.3611 - accuracy: 0.5065 - val_loss: 0.3668 - val_f1_score: 0.3334 - val_accuracy: 0.6132\n",
            "Epoch 18/25\n",
            "1562/1562 [==============================] - 21s 13ms/step - loss: 0.3482 - f1_score: 0.3688 - accuracy: 0.5098 - val_loss: 0.3722 - val_f1_score: 0.3285 - val_accuracy: 0.5917\n",
            "Epoch 19/25\n",
            "1562/1562 [==============================] - 19s 12ms/step - loss: 0.3455 - f1_score: 0.3787 - accuracy: 0.5161 - val_loss: 0.3708 - val_f1_score: 0.3237 - val_accuracy: 0.6072\n",
            "Epoch 20/25\n",
            "1562/1562 [==============================] - 21s 13ms/step - loss: 0.3418 - f1_score: 0.3857 - accuracy: 0.5206 - val_loss: 0.3962 - val_f1_score: 0.3084 - val_accuracy: 0.5984\n",
            "Epoch 21/25\n",
            "1562/1562 [==============================] - 19s 12ms/step - loss: 0.3397 - f1_score: 0.3979 - accuracy: 0.5284 - val_loss: 0.3871 - val_f1_score: 0.3224 - val_accuracy: 0.5917\n",
            "Epoch 22/25\n",
            "1562/1562 [==============================] - 20s 13ms/step - loss: 0.3362 - f1_score: 0.4052 - accuracy: 0.5341 - val_loss: 0.3921 - val_f1_score: 0.3474 - val_accuracy: 0.6169\n",
            "Epoch 23/25\n",
            "1562/1562 [==============================] - 20s 13ms/step - loss: 0.3330 - f1_score: 0.4156 - accuracy: 0.5406 - val_loss: 0.4207 - val_f1_score: 0.3384 - val_accuracy: 0.5995\n",
            "Epoch 24/25\n",
            "1562/1562 [==============================] - 21s 13ms/step - loss: 0.3303 - f1_score: 0.4200 - accuracy: 0.5438 - val_loss: 0.4214 - val_f1_score: 0.3391 - val_accuracy: 0.5891\n",
            "Epoch 25/25\n",
            "1562/1562 [==============================] - 20s 13ms/step - loss: 0.3265 - f1_score: 0.4342 - accuracy: 0.5505 - val_loss: 0.4363 - val_f1_score: 0.3397 - val_accuracy: 0.6110\n"
          ]
        }
      ],
      "source": [
        "# Entreno el modelo\n",
        "hist = model.fit(x_sm, y_sm, epochs=25, validation_data=(X_test, y_test))"
      ]
    },
    {
      "cell_type": "code",
      "execution_count": null,
      "metadata": {
        "colab": {
          "base_uri": "https://localhost:8080/",
          "height": 402
        },
        "id": "M5ZyOhDecIQR",
        "outputId": "88e9dc74-3d22-4859-c4f5-281516e90b41"
      },
      "outputs": [
        {
          "output_type": "display_data",
          "data": {
            "text/plain": [
              "<Figure size 500x400 with 1 Axes>"
            ],
            "image/png": "[encoded data removed]"
          },
          "metadata": {}
        }
      ],
      "source": [
        "# Plot\n",
        "plt.plot(hist.history['f1_score'], label='Train F1')\n",
        "plt.plot(hist.history['val_f1_score'], label='Test F1')\n",
        "plt.xlabel('Epoch')\n",
        "plt.ylabel('F1 Score')\n",
        "plt.title('SMOTE + LSTM + EMB', fontsize=10)\n",
        "plt.legend()\n",
        "plt.show()"
      ]
    },
    {
      "cell_type": "code",
      "execution_count": null,
      "metadata": {
        "id": "LVXg8T-cjmDv"
      },
      "outputs": [],
      "source": [
        "# Guardado como modelo de keras\n",
        "model.save('smote_lstm_emb.keras')"
      ]
    },
    {
      "cell_type": "code",
      "execution_count": null,
      "metadata": {
        "id": "L3enqVvkWDrl"
      },
      "outputs": [],
      "source": [
        "# Defino una función para predecir el puntaje a partir de una review\n",
        "def predecir_puntaje(input_texto, tok, maxlen, model):\n",
        "    '''\n",
        "    INPUTS\n",
        "    input_texto: str\n",
        "    tok: tokenizador\n",
        "    maxlen: int para fijar longitud de texto\n",
        "    model: modelo entrenado previamente\n",
        "\n",
        "    OUTPUTS\n",
        "    y_pred: np.array de probabilidades\n",
        "    puntaje_predicho: int que representa el puntaje\n",
        "    '''\n",
        "    # Vector de reviews\n",
        "    vector_input_texto = np.array([input_texto])\n",
        "\n",
        "    # Conversión de palabras/tokens a números\n",
        "    input_final = tok.texts_to_sequences(vector_input_texto)\n",
        "\n",
        "    # Padding de las sentencias al mismo tamaño.\n",
        "    input_X = pad_sequences(input_final, padding='pre', maxlen=maxlen)\n",
        "\n",
        "    # Predicciones\n",
        "    y_pred = model.predict(input_X)\n",
        "    puntaje_predicho = np.argmax(y_pred) + 1\n",
        "\n",
        "    print(f'Para la review: \"{input_texto}\"')\n",
        "    print(f'Se predice un puntaje de {puntaje_predicho}/5')\n",
        "\n",
        "    return y_pred, puntaje_predicho"
      ]
    },
    {
      "cell_type": "code",
      "execution_count": null,
      "metadata": {
        "colab": {
          "base_uri": "https://localhost:8080/"
        },
        "id": "S4tEIDzqZTNY",
        "outputId": "dfc6fb6e-f935-4545-c7f4-11beede79437"
      },
      "outputs": [
        {
          "output_type": "stream",
          "name": "stdout",
          "text": [
            "1/1 [==============================] - 1s 651ms/step\n",
            "Para la review: \"shipping was so slow\"\n",
            "Se predice un puntaje de 1/5\n",
            "1/1 [==============================] - 0s 19ms/step\n",
            "Para la review: \"shipping was slow\"\n",
            "Se predice un puntaje de 1/5\n",
            "1/1 [==============================] - 0s 20ms/step\n",
            "Para la review: \"shipping was fast\"\n",
            "Se predice un puntaje de 5/5\n",
            "1/1 [==============================] - 0s 19ms/step\n",
            "Para la review: \"wonderful stuff\"\n",
            "Se predice un puntaje de 5/5\n",
            "1/1 [==============================] - 0s 19ms/step\n",
            "Para la review: \"awesome product\"\n",
            "Se predice un puntaje de 5/5\n",
            "1/1 [==============================] - 0s 19ms/step\n",
            "Para la review: \"this product sucks\"\n",
            "Se predice un puntaje de 5/5\n",
            "1/1 [==============================] - 0s 20ms/step\n",
            "Para la review: \"awful experience\"\n",
            "Se predice un puntaje de 5/5\n",
            "1/1 [==============================] - 0s 25ms/step\n",
            "Para la review: \"shipping was slow but the product is excelent, will buy again\"\n",
            "Se predice un puntaje de 1/5\n",
            "1/1 [==============================] - 0s 23ms/step\n",
            "Para la review: \"shipping was slow but the product is great\"\n",
            "Se predice un puntaje de 1/5\n",
            "1/1 [==============================] - 0s 20ms/step\n",
            "Para la review: \"not happy with the product but return policies worked perfectly\"\n",
            "Se predice un puntaje de 1/5\n",
            "1/1 [==============================] - 0s 19ms/step\n",
            "Para la review: \"beautifel shirt\"\n",
            "Se predice un puntaje de 1/5\n",
            "1/1 [==============================] - 0s 20ms/step\n",
            "Para la review: \"bbad shirt\"\n",
            "Se predice un puntaje de 1/5\n",
            "1/1 [==============================] - 0s 19ms/step\n",
            "Para la review: \"cualquier cosa\"\n",
            "Se predice un puntaje de 3/5\n",
            "1/1 [==============================] - 0s 18ms/step\n",
            "Para la review: \"not happy\"\n",
            "Se predice un puntaje de 3/5\n",
            "1/1 [==============================] - 0s 18ms/step\n",
            "Para la review: \"happy\"\n",
            "Se predice un puntaje de 5/5\n"
          ]
        }
      ],
      "source": [
        "# Pruebas varias\n",
        "input_texto = 'shipping was so slow'\n",
        "y_pred, puntaje_predicho = predecir_puntaje(input_texto, tok, maxlen, model)\n",
        "\n",
        "input_texto = 'shipping was slow'\n",
        "y_pred, puntaje_predicho = predecir_puntaje(input_texto, tok, maxlen, model)\n",
        "\n",
        "input_texto = 'shipping was fast'\n",
        "y_pred, puntaje_predicho = predecir_puntaje(input_texto, tok, maxlen, model)\n",
        "\n",
        "input_texto = 'wonderful stuff'\n",
        "y_pred, puntaje_predicho = predecir_puntaje(input_texto, tok, maxlen, model)\n",
        "\n",
        "input_texto = 'awesome product'\n",
        "y_pred, puntaje_predicho = predecir_puntaje(input_texto, tok, maxlen, model)\n",
        "\n",
        "input_texto = 'this product sucks'\n",
        "y_pred, puntaje_predicho = predecir_puntaje(input_texto, tok, maxlen, model)\n",
        "\n",
        "input_texto = 'awful experience'\n",
        "y_pred, puntaje_predicho = predecir_puntaje(input_texto, tok, maxlen, model)\n",
        "\n",
        "input_texto = 'shipping was slow but the product is excelent, will buy again'\n",
        "y_pred, puntaje_predicho = predecir_puntaje(input_texto, tok, maxlen, model)\n",
        "\n",
        "input_texto = 'shipping was slow but the product is great'\n",
        "y_pred, puntaje_predicho = predecir_puntaje(input_texto, tok, maxlen, model)\n",
        "\n",
        "input_texto = 'not happy with the product but return policies worked perfectly'\n",
        "y_pred, puntaje_predicho = predecir_puntaje(input_texto, tok, maxlen, model)\n",
        "\n",
        "# Probemos con faltas de ortografía\n",
        "input_texto = 'beautifel shirt'\n",
        "y_pred, puntaje_predicho = predecir_puntaje(input_texto, tok, maxlen, model)\n",
        "\n",
        "input_texto = 'bbad shirt'\n",
        "y_pred, puntaje_predicho = predecir_puntaje(input_texto, tok, maxlen, model)\n",
        "\n",
        "input_texto = 'cualquier cosa'\n",
        "y_pred, puntaje_predicho = predecir_puntaje(input_texto, tok, maxlen, model)\n",
        "\n",
        "input_texto = 'not happy'\n",
        "y_pred, puntaje_predicho = predecir_puntaje(input_texto, tok, maxlen, model)\n",
        "\n",
        "input_texto = 'happy'\n",
        "y_pred, puntaje_predicho = predecir_puntaje(input_texto, tok, maxlen, model)"
      ]
    },
    {
      "cell_type": "markdown",
      "metadata": {
        "id": "kuhvFh6SjGe4"
      },
      "source": [
        "*2.2. SMOTE + Fasttext + LSTM*\n",
        "\n",
        "Se aplica el método *Synthetic Minority Oversampling Techinque* (SMOTE), se utilizan los embeddings de Fasttext."
      ]
    },
    {
      "cell_type": "code",
      "execution_count": null,
      "metadata": {
        "colab": {
          "base_uri": "https://localhost:8080/"
        },
        "id": "tIgZkwiNprmG",
        "outputId": "157c9b4d-c0d2-4890-898f-8d64f4893a26"
      },
      "outputs": [
        {
          "output_type": "stream",
          "name": "stdout",
          "text": [
            "  % Total    % Received % Xferd  Average Speed   Time    Time     Time  Current\n",
            "                                 Dload  Upload   Total   Spent    Left  Speed\n",
            "  0     0    0     0    0     0      0      0 --:--:-- --:--:-- --:--:--     0\n",
            "  0     0    0     0    0     0      0      0 --:--:-- --:--:-- --:--:--     0\n",
            "100 2746M  100 2746M    0     0  68.2M      0  0:00:40  0:00:40 --:--:-- 75.0M\n"
          ]
        }
      ],
      "source": [
        "# Descargar los embeddings desde un gogle drive (es la forma más rápida)\n",
        "# NOTA: No hay garantía de que estos links perduren, en caso de que no estén\n",
        "# disponibles descargar de la página oficial como se explica en el siguiente bloque\n",
        "!curl -L -o 'fasttext.pkl' 'https://drive.google.com/u/0/uc?id=1Qi1r-u5lsEsNqRSxLrpNOqQ3B_ufltCa&export=download&confirm=t'"
      ]
    },
    {
      "cell_type": "code",
      "execution_count": null,
      "metadata": {
        "id": "QMbkn_KppuDI"
      },
      "outputs": [],
      "source": [
        "import logging\n",
        "import os\n",
        "from pathlib import Path\n",
        "from io import StringIO\n",
        "import pickle\n",
        "\n",
        "class WordsEmbeddings(object):\n",
        "    logger = logging.getLogger(__name__)\n",
        "\n",
        "    def __init__(self):\n",
        "        # load the embeddings\n",
        "        words_embedding_pkl = Path(self.PKL_PATH)\n",
        "        if not words_embedding_pkl.is_file():\n",
        "            words_embedding_txt = Path(self.WORD_TO_VEC_MODEL_TXT_PATH)\n",
        "            assert words_embedding_txt.is_file(), 'Words embedding not available'\n",
        "            embeddings = self.convert_model_to_pickle()\n",
        "        else:\n",
        "            embeddings = self.load_model_from_pickle()\n",
        "        self.embeddings = embeddings\n",
        "        # build the vocabulary hashmap\n",
        "        index = np.arange(self.embeddings.shape[0])\n",
        "        # Dicctionarios para traducir de embedding a IDX de la palabra\n",
        "        self.word2idx = dict(zip(self.embeddings['word'], index))\n",
        "        self.idx2word = dict(zip(index, self.embeddings['word']))\n",
        "\n",
        "    def get_words_embeddings(self, words):\n",
        "        words_idxs = self.words2idxs(words)\n",
        "        return self.embeddings[words_idxs]['embedding']\n",
        "\n",
        "    def words2idxs(self, words):\n",
        "        return np.array([self.word2idx.get(word, -1) for word in words])\n",
        "\n",
        "    def idxs2words(self, idxs):\n",
        "        return np.array([self.idx2word.get(idx, '-1') for idx in idxs])\n",
        "\n",
        "    def load_model_from_pickle(self):\n",
        "        self.logger.debug(\n",
        "            'loading words embeddings from pickle {}'.format(\n",
        "                self.PKL_PATH\n",
        "            )\n",
        "        )\n",
        "        max_bytes = 2**28 - 1 # 256MB\n",
        "        bytes_in = bytearray(0)\n",
        "        input_size = os.path.getsize(self.PKL_PATH)\n",
        "        with open(self.PKL_PATH, 'rb') as f_in:\n",
        "            for _ in range(0, input_size, max_bytes):\n",
        "                bytes_in += f_in.read(max_bytes)\n",
        "        embeddings = pickle.loads(bytes_in)\n",
        "        self.logger.debug('words embeddings loaded')\n",
        "        return embeddings\n",
        "\n",
        "    def convert_model_to_pickle(self):\n",
        "        # create a numpy strctured array:\n",
        "        # word     embedding\n",
        "        # U50      np.float32[]\n",
        "        # word_1   a, b, c\n",
        "        # word_2   d, e, f\n",
        "        # ...\n",
        "        # word_n   g, h, i\n",
        "        self.logger.debug(\n",
        "            'converting and loading words embeddings from text file {}'.format(\n",
        "                self.WORD_TO_VEC_MODEL_TXT_PATH\n",
        "            )\n",
        "        )\n",
        "        structure = [('word', np.dtype('U' + str(self.WORD_MAX_SIZE))),\n",
        "                     ('embedding', np.float32, (self.N_FEATURES,))]\n",
        "        structure = np.dtype(structure)\n",
        "        # load numpy array from disk using a generator\n",
        "        with open(self.WORD_TO_VEC_MODEL_TXT_PATH, encoding=\"utf8\") as words_embeddings_txt:\n",
        "            embeddings_gen = (\n",
        "                (line.split()[0], line.split()[1:]) for line in words_embeddings_txt\n",
        "                if len(line.split()[1:]) == self.N_FEATURES\n",
        "            )\n",
        "            embeddings = np.fromiter(embeddings_gen, structure)\n",
        "        # add a null embedding\n",
        "        null_embedding = np.array(\n",
        "            [('null_embedding', np.zeros((self.N_FEATURES,), dtype=np.float32))],\n",
        "            dtype=structure\n",
        "        )\n",
        "        embeddings = np.concatenate([embeddings, null_embedding])\n",
        "        # dump numpy array to disk using pickle\n",
        "        max_bytes = 2**28 - 1 # # 256MB\n",
        "        bytes_out = pickle.dumps(embeddings, protocol=pickle.HIGHEST_PROTOCOL)\n",
        "        with open(self.PKL_PATH, 'wb') as f_out:\n",
        "            for idx in range(0, len(bytes_out), max_bytes):\n",
        "                f_out.write(bytes_out[idx:idx+max_bytes])\n",
        "        self.logger.debug('words embeddings loaded')\n",
        "        return embeddings\n",
        "\n",
        "\n",
        "class GloveEmbeddings(WordsEmbeddings):\n",
        "    WORD_TO_VEC_MODEL_TXT_PATH = 'glove.twitter.27B.50d.txt'\n",
        "    PKL_PATH = 'gloveembedding.pkl'\n",
        "    N_FEATURES = 50\n",
        "    WORD_MAX_SIZE = 60\n",
        "\n",
        "\n",
        "class FasttextEmbeddings(WordsEmbeddings):\n",
        "    WORD_TO_VEC_MODEL_TXT_PATH = 'cc.en.300.vec'\n",
        "    PKL_PATH = 'fasttext.pkl'\n",
        "    N_FEATURES = 300\n",
        "    WORD_MAX_SIZE = 60"
      ]
    },
    {
      "cell_type": "code",
      "execution_count": null,
      "metadata": {
        "id": "Vo3STvSgp938"
      },
      "outputs": [],
      "source": [
        "model_fasttext = FasttextEmbeddings()"
      ]
    },
    {
      "cell_type": "code",
      "execution_count": null,
      "metadata": {
        "colab": {
          "base_uri": "https://localhost:8080/"
        },
        "id": "j2ECgkKCzSFt",
        "outputId": "deeb427a-f678-4cb9-d6c7-e8f10e8f7173"
      },
      "outputs": [
        {
          "output_type": "stream",
          "name": "stdout",
          "text": [
            "preparing embedding matrix...\n",
            "number of null word embeddings: 2\n"
          ]
        }
      ],
      "source": [
        "# Crear la Embedding matrix para la cantidad nb_words seleccionadas\n",
        "# nos vamos a quedar sólo con los vectores de embeddings para las palabras\n",
        "# que definimos como vocabulario\n",
        "\n",
        "print('preparing embedding matrix...')\n",
        "embed_dim = 300 # fasttext\n",
        "words_not_found = []\n",
        "\n",
        "# word_index proviene del tokenizer\n",
        "\n",
        "nb_words = min(num_words, len(word_index)) # vocab_size\n",
        "embedding_matrix = np.zeros((nb_words, embed_dim))\n",
        "\n",
        "# word_index está ordenado de mayor a menor frecuencia de palabras\n",
        "# las primeras que entren en el ciclo for serán las más frecuentes\n",
        "# Atención! El tokenizador de Keras no tiene soporte para stop words\n",
        "# las primeras palabras probablemente sean stopwords.\n",
        "for word, i in word_index.items():\n",
        "    if i >= nb_words:\n",
        "        continue\n",
        "    embedding_vector = model_fasttext.get_words_embeddings(word)[0]\n",
        "    if (embedding_vector is not None) and len(embedding_vector) > 0:\n",
        "        embedding_matrix[i] = embedding_vector\n",
        "    else:\n",
        "        # words que no estén en el índice de la matriz de embedding tendrán\n",
        "        # como vector de embedding correspondiente todos ceros\n",
        "        words_not_found.append(word)\n",
        "        print(word)\n",
        "\n",
        "print('number of null word embeddings:', np.sum(np.sum(embedding_matrix**2, axis=1) == 0))"
      ]
    },
    {
      "cell_type": "code",
      "execution_count": null,
      "metadata": {
        "colab": {
          "base_uri": "https://localhost:8080/"
        },
        "id": "ONZRlDa3l94_",
        "outputId": "d8d795c0-2fd3-4a30-c4b5-233ea3285b8f"
      },
      "outputs": [
        {
          "output_type": "stream",
          "name": "stdout",
          "text": [
            "Model: \"sequential_1\"\n",
            "_________________________________________________________________\n",
            " Layer (type)                Output Shape              Param #   \n",
            "=================================================================\n",
            " embedding_1 (Embedding)     (None, 115, 300)          600000    \n",
            "                                                                 \n",
            " lstm_2 (LSTM)               (None, 115, 64)           93440     \n",
            "                                                                 \n",
            " dropout_2 (Dropout)         (None, 115, 64)           0         \n",
            "                                                                 \n",
            " lstm_3 (LSTM)               (None, 64)                33024     \n",
            "                                                                 \n",
            " dense_2 (Dense)             (None, 128)               8320      \n",
            "                                                                 \n",
            " dropout_3 (Dropout)         (None, 128)               0         \n",
            "                                                                 \n",
            " dense_3 (Dense)             (None, 5)                 645       \n",
            "                                                                 \n",
            "=================================================================\n",
            "Total params: 735429 (2.81 MB)\n",
            "Trainable params: 135429 (529.02 KB)\n",
            "Non-trainable params: 600000 (2.29 MB)\n",
            "_________________________________________________________________\n"
          ]
        }
      ],
      "source": [
        "# Definimos el modelo\n",
        "\n",
        "model = Sequential()\n",
        "model.add(Embedding(input_dim=vocab_size, # definido en el Tokenizador\n",
        "                    output_dim=embed_dim, # dimensión de los embeddings utilizados\n",
        "                    input_length=in_shape, # máxima sentencia de entrada\n",
        "                    weights=[embedding_matrix], # matrix de embeddings\n",
        "                    trainable=False)) # marcar como layer no entrenable\n",
        "\n",
        "model.add(LSTM(units=64, return_sequences=True))\n",
        "model.add(Dropout(0.2))\n",
        "model.add(LSTM(units=64)) # La última capa LSTM no lleva return_sequences\n",
        "model.add(Dense(units=128, activation='relu'))\n",
        "model.add(Dropout(rate=0.2))\n",
        "model.add(Dense(units=out_shape, activation='sigmoid'))\n",
        "\n",
        "model.compile(optimizer=\"adam\",\n",
        "              loss='binary_crossentropy',\n",
        "              metrics=[f1_score, 'accuracy'])\n",
        "\n",
        "model.summary()"
      ]
    },
    {
      "cell_type": "code",
      "execution_count": null,
      "metadata": {
        "id": "7s3ngI8BmvdI"
      },
      "outputs": [],
      "source": [
        "# Punto para cargar el modelo para entrenar por partes\n",
        "# model = load_model('smote_lstm_fasttext.keras')"
      ]
    },
    {
      "cell_type": "code",
      "execution_count": null,
      "metadata": {
        "colab": {
          "base_uri": "https://localhost:8080/"
        },
        "id": "4VcCrDJWmvdI",
        "outputId": "754029a7-bb49-4f82-9452-06903b1f70b4"
      },
      "outputs": [
        {
          "output_type": "stream",
          "name": "stdout",
          "text": [
            "Epoch 1/25\n",
            "1562/1562 [==============================] - 25s 13ms/step - loss: 0.4793 - f1_score: 0.0347 - accuracy: 0.2928 - val_loss: 0.4295 - val_f1_score: 0.1029 - val_accuracy: 0.4897\n",
            "Epoch 2/25\n",
            "1562/1562 [==============================] - 19s 12ms/step - loss: 0.4460 - f1_score: 0.1063 - accuracy: 0.3566 - val_loss: 0.3955 - val_f1_score: 0.1228 - val_accuracy: 0.5330\n",
            "Epoch 3/25\n",
            "1562/1562 [==============================] - 19s 12ms/step - loss: 0.4428 - f1_score: 0.1128 - accuracy: 0.3616 - val_loss: 0.3804 - val_f1_score: 0.1315 - val_accuracy: 0.5423\n",
            "Epoch 4/25\n",
            "1562/1562 [==============================] - 19s 12ms/step - loss: 0.4358 - f1_score: 0.1200 - accuracy: 0.3738 - val_loss: 0.3779 - val_f1_score: 0.1283 - val_accuracy: 0.5533\n",
            "Epoch 5/25\n",
            "1562/1562 [==============================] - 18s 12ms/step - loss: 0.4316 - f1_score: 0.1261 - accuracy: 0.3792 - val_loss: 0.3888 - val_f1_score: 0.1264 - val_accuracy: 0.5270\n",
            "Epoch 6/25\n",
            "1562/1562 [==============================] - 18s 12ms/step - loss: 0.4276 - f1_score: 0.1310 - accuracy: 0.3865 - val_loss: 0.3791 - val_f1_score: 0.1324 - val_accuracy: 0.5357\n",
            "Epoch 7/25\n",
            "1562/1562 [==============================] - 20s 12ms/step - loss: 0.4248 - f1_score: 0.1338 - accuracy: 0.3903 - val_loss: 0.3788 - val_f1_score: 0.1307 - val_accuracy: 0.5363\n",
            "Epoch 8/25\n",
            "1562/1562 [==============================] - 20s 13ms/step - loss: 0.4219 - f1_score: 0.1369 - accuracy: 0.3941 - val_loss: 0.3608 - val_f1_score: 0.1457 - val_accuracy: 0.5635\n",
            "Epoch 9/25\n",
            "1562/1562 [==============================] - 20s 12ms/step - loss: 0.4192 - f1_score: 0.1377 - accuracy: 0.4002 - val_loss: 0.3757 - val_f1_score: 0.1282 - val_accuracy: 0.5440\n",
            "Epoch 10/25\n",
            "1562/1562 [==============================] - 19s 12ms/step - loss: 0.4170 - f1_score: 0.1408 - accuracy: 0.4016 - val_loss: 0.3753 - val_f1_score: 0.1397 - val_accuracy: 0.5379\n",
            "Epoch 11/25\n",
            "1562/1562 [==============================] - 19s 12ms/step - loss: 0.4141 - f1_score: 0.1457 - accuracy: 0.4060 - val_loss: 0.3833 - val_f1_score: 0.1373 - val_accuracy: 0.5317\n",
            "Epoch 12/25\n",
            "1562/1562 [==============================] - 19s 12ms/step - loss: 0.4111 - f1_score: 0.1509 - accuracy: 0.4112 - val_loss: 0.3789 - val_f1_score: 0.1383 - val_accuracy: 0.5337\n",
            "Epoch 13/25\n",
            "1562/1562 [==============================] - 20s 13ms/step - loss: 0.4086 - f1_score: 0.1566 - accuracy: 0.4159 - val_loss: 0.3837 - val_f1_score: 0.1403 - val_accuracy: 0.5270\n",
            "Epoch 14/25\n",
            "1562/1562 [==============================] - 19s 12ms/step - loss: 0.4053 - f1_score: 0.1611 - accuracy: 0.4230 - val_loss: 0.3719 - val_f1_score: 0.1414 - val_accuracy: 0.5478\n",
            "Epoch 15/25\n",
            "1562/1562 [==============================] - 20s 13ms/step - loss: 0.4034 - f1_score: 0.1675 - accuracy: 0.4252 - val_loss: 0.3945 - val_f1_score: 0.1335 - val_accuracy: 0.5092\n",
            "Epoch 16/25\n",
            "1562/1562 [==============================] - 18s 12ms/step - loss: 0.4001 - f1_score: 0.1749 - accuracy: 0.4310 - val_loss: 0.3803 - val_f1_score: 0.1536 - val_accuracy: 0.5425\n",
            "Epoch 17/25\n",
            "1562/1562 [==============================] - 20s 13ms/step - loss: 0.3974 - f1_score: 0.1824 - accuracy: 0.4346 - val_loss: 0.3868 - val_f1_score: 0.1568 - val_accuracy: 0.5376\n",
            "Epoch 18/25\n",
            "1562/1562 [==============================] - 19s 12ms/step - loss: 0.3947 - f1_score: 0.1871 - accuracy: 0.4402 - val_loss: 0.4044 - val_f1_score: 0.1601 - val_accuracy: 0.5103\n",
            "Epoch 19/25\n",
            "1562/1562 [==============================] - 20s 13ms/step - loss: 0.3917 - f1_score: 0.1955 - accuracy: 0.4440 - val_loss: 0.4012 - val_f1_score: 0.1627 - val_accuracy: 0.5244\n",
            "Epoch 20/25\n",
            "1562/1562 [==============================] - 19s 12ms/step - loss: 0.3899 - f1_score: 0.2044 - accuracy: 0.4487 - val_loss: 0.4046 - val_f1_score: 0.1590 - val_accuracy: 0.5412\n",
            "Epoch 21/25\n",
            "1562/1562 [==============================] - 19s 12ms/step - loss: 0.3870 - f1_score: 0.2125 - accuracy: 0.4546 - val_loss: 0.4298 - val_f1_score: 0.1424 - val_accuracy: 0.4950\n",
            "Epoch 22/25\n",
            "1562/1562 [==============================] - 19s 12ms/step - loss: 0.3844 - f1_score: 0.2178 - accuracy: 0.4593 - val_loss: 0.4171 - val_f1_score: 0.1755 - val_accuracy: 0.5160\n",
            "Epoch 23/25\n",
            "1562/1562 [==============================] - 19s 12ms/step - loss: 0.3817 - f1_score: 0.2237 - accuracy: 0.4614 - val_loss: 0.4328 - val_f1_score: 0.1622 - val_accuracy: 0.5028\n",
            "Epoch 24/25\n",
            "1562/1562 [==============================] - 20s 13ms/step - loss: 0.3795 - f1_score: 0.2321 - accuracy: 0.4649 - val_loss: 0.4428 - val_f1_score: 0.1592 - val_accuracy: 0.4992\n",
            "Epoch 25/25\n",
            "1562/1562 [==============================] - 19s 12ms/step - loss: 0.3779 - f1_score: 0.2392 - accuracy: 0.4702 - val_loss: 0.4396 - val_f1_score: 0.1788 - val_accuracy: 0.4946\n"
          ]
        }
      ],
      "source": [
        "# Entreno el modelo\n",
        "hist = model.fit(x_sm, y_sm, epochs=25, validation_data=(X_test, y_test))"
      ]
    },
    {
      "cell_type": "code",
      "execution_count": null,
      "metadata": {
        "colab": {
          "base_uri": "https://localhost:8080/",
          "height": 402
        },
        "id": "cg3y4nDTmvdJ",
        "outputId": "56ea5ad0-9f10-4849-aa28-5b8a75bbbae5"
      },
      "outputs": [
        {
          "output_type": "display_data",
          "data": {
            "text/plain": [
              "<Figure size 500x400 with 1 Axes>"
            ],
            "image/png": "[encoded data removed]"
          },
          "metadata": {}
        }
      ],
      "source": [
        "# Plot\n",
        "plt.plot(hist.history['f1_score'], label='Train F1')\n",
        "plt.plot(hist.history['val_f1_score'], label='Test F1')\n",
        "plt.xlabel('Epoch')\n",
        "plt.ylabel('F1 Score')\n",
        "plt.title('SMOTE + LSTM + FASTTEXT', fontsize=10)\n",
        "plt.legend()\n",
        "plt.show()"
      ]
    },
    {
      "cell_type": "code",
      "execution_count": null,
      "metadata": {
        "id": "MjWfbwLymvdJ"
      },
      "outputs": [],
      "source": [
        "# Guardado como modelo de keras\n",
        "model.save('smote_lstm_fasttext.keras')"
      ]
    },
    {
      "cell_type": "code",
      "execution_count": null,
      "metadata": {
        "colab": {
          "base_uri": "https://localhost:8080/"
        },
        "id": "uEc2YSxjBli4",
        "outputId": "87d64147-24d8-4dd4-c9ac-ca11e3125dd0"
      },
      "outputs": [
        {
          "output_type": "stream",
          "name": "stdout",
          "text": [
            "1/1 [==============================] - 1s 627ms/step\n",
            "Para la review: \"shipping was so slow\"\n",
            "Se predice un puntaje de 5/5\n",
            "1/1 [==============================] - 0s 25ms/step\n",
            "Para la review: \"shipping was slow\"\n",
            "Se predice un puntaje de 5/5\n",
            "1/1 [==============================] - 0s 19ms/step\n",
            "Para la review: \"shipping was fast\"\n",
            "Se predice un puntaje de 5/5\n",
            "1/1 [==============================] - 0s 19ms/step\n",
            "Para la review: \"wonderful stuff\"\n",
            "Se predice un puntaje de 5/5\n",
            "1/1 [==============================] - 0s 19ms/step\n",
            "Para la review: \"awesome product\"\n",
            "Se predice un puntaje de 5/5\n",
            "1/1 [==============================] - 0s 30ms/step\n",
            "Para la review: \"this product sucks\"\n",
            "Se predice un puntaje de 5/5\n",
            "1/1 [==============================] - 0s 31ms/step\n",
            "Para la review: \"awful experience\"\n",
            "Se predice un puntaje de 5/5\n",
            "1/1 [==============================] - 0s 32ms/step\n",
            "Para la review: \"shipping was slow but the product is excelent, will buy again\"\n",
            "Se predice un puntaje de 4/5\n",
            "1/1 [==============================] - 0s 31ms/step\n",
            "Para la review: \"shipping was slow but the product is great\"\n",
            "Se predice un puntaje de 1/5\n",
            "1/1 [==============================] - 0s 33ms/step\n",
            "Para la review: \"not happy with the product but return policies worked perfectly\"\n",
            "Se predice un puntaje de 1/5\n",
            "1/1 [==============================] - 0s 30ms/step\n",
            "Para la review: \"beautifel shirt\"\n",
            "Se predice un puntaje de 5/5\n",
            "1/1 [==============================] - 0s 32ms/step\n",
            "Para la review: \"bbad shirt\"\n",
            "Se predice un puntaje de 5/5\n",
            "1/1 [==============================] - 0s 30ms/step\n",
            "Para la review: \"cualquier cosa\"\n",
            "Se predice un puntaje de 5/5\n",
            "1/1 [==============================] - 0s 31ms/step\n",
            "Para la review: \"not happy\"\n",
            "Se predice un puntaje de 4/5\n",
            "1/1 [==============================] - 0s 27ms/step\n",
            "Para la review: \"happy\"\n",
            "Se predice un puntaje de 5/5\n"
          ]
        }
      ],
      "source": [
        "# Pruebas varias\n",
        "input_texto = 'shipping was so slow'\n",
        "y_pred, puntaje_predicho = predecir_puntaje(input_texto, tok, maxlen, model)\n",
        "\n",
        "input_texto = 'shipping was slow'\n",
        "y_pred, puntaje_predicho = predecir_puntaje(input_texto, tok, maxlen, model)\n",
        "\n",
        "input_texto = 'shipping was fast'\n",
        "y_pred, puntaje_predicho = predecir_puntaje(input_texto, tok, maxlen, model)\n",
        "\n",
        "input_texto = 'wonderful stuff'\n",
        "y_pred, puntaje_predicho = predecir_puntaje(input_texto, tok, maxlen, model)\n",
        "\n",
        "input_texto = 'awesome product'\n",
        "y_pred, puntaje_predicho = predecir_puntaje(input_texto, tok, maxlen, model)\n",
        "\n",
        "input_texto = 'this product sucks'\n",
        "y_pred, puntaje_predicho = predecir_puntaje(input_texto, tok, maxlen, model)\n",
        "\n",
        "input_texto = 'awful experience'\n",
        "y_pred, puntaje_predicho = predecir_puntaje(input_texto, tok, maxlen, model)\n",
        "\n",
        "input_texto = 'shipping was slow but the product is excelent, will buy again'\n",
        "y_pred, puntaje_predicho = predecir_puntaje(input_texto, tok, maxlen, model)\n",
        "\n",
        "input_texto = 'shipping was slow but the product is great'\n",
        "y_pred, puntaje_predicho = predecir_puntaje(input_texto, tok, maxlen, model)\n",
        "\n",
        "input_texto = 'not happy with the product but return policies worked perfectly'\n",
        "y_pred, puntaje_predicho = predecir_puntaje(input_texto, tok, maxlen, model)\n",
        "\n",
        "# Probemos con faltas de ortografía\n",
        "input_texto = 'beautifel shirt'\n",
        "y_pred, puntaje_predicho = predecir_puntaje(input_texto, tok, maxlen, model)\n",
        "\n",
        "input_texto = 'bbad shirt'\n",
        "y_pred, puntaje_predicho = predecir_puntaje(input_texto, tok, maxlen, model)\n",
        "\n",
        "input_texto = 'cualquier cosa'\n",
        "y_pred, puntaje_predicho = predecir_puntaje(input_texto, tok, maxlen, model)\n",
        "\n",
        "input_texto = 'not happy'\n",
        "y_pred, puntaje_predicho = predecir_puntaje(input_texto, tok, maxlen, model)\n",
        "\n",
        "input_texto = 'happy'\n",
        "y_pred, puntaje_predicho = predecir_puntaje(input_texto, tok, maxlen, model)"
      ]
    },
    {
      "cell_type": "markdown",
      "metadata": {
        "id": "Xc_FlmbcHR6J"
      },
      "source": [
        "*2.3. Stratify + Embeddings + LSTM*\n",
        "\n",
        "Para el desbalance de datos se hace un muestreo estratificado. Por otro lado, se entrenan los embeddings."
      ]
    },
    {
      "cell_type": "code",
      "source": [
        "# División de datos en train y test\n",
        "from sklearn.model_selection import train_test_split\n",
        "X_train, X_test, y_train, y_test = train_test_split(X,\n",
        "                                                    y,\n",
        "                                                    test_size=0.2,\n",
        "                                                    random_state=42,\n",
        "                                                    stratify=y)"
      ],
      "metadata": {
        "id": "zQoh4OrsTamh"
      },
      "execution_count": null,
      "outputs": []
    },
    {
      "cell_type": "code",
      "execution_count": null,
      "metadata": {
        "id": "UKEqGEA6HWx0",
        "colab": {
          "base_uri": "https://localhost:8080/"
        },
        "outputId": "76835bcd-5066-4e91-dc49-d511f5d837b0"
      },
      "outputs": [
        {
          "output_type": "stream",
          "name": "stdout",
          "text": [
            "Model: \"sequential_2\"\n",
            "_________________________________________________________________\n",
            " Layer (type)                Output Shape              Param #   \n",
            "=================================================================\n",
            " embedding_2 (Embedding)     (None, 115, 10)           20010     \n",
            "                                                                 \n",
            " lstm_4 (LSTM)               (None, 115, 64)           19200     \n",
            "                                                                 \n",
            " dropout_4 (Dropout)         (None, 115, 64)           0         \n",
            "                                                                 \n",
            " lstm_5 (LSTM)               (None, 64)                33024     \n",
            "                                                                 \n",
            " dense_4 (Dense)             (None, 128)               8320      \n",
            "                                                                 \n",
            " dropout_5 (Dropout)         (None, 128)               0         \n",
            "                                                                 \n",
            " dense_5 (Dense)             (None, 5)                 645       \n",
            "                                                                 \n",
            "=================================================================\n",
            "Total params: 81199 (317.18 KB)\n",
            "Trainable params: 81199 (317.18 KB)\n",
            "Non-trainable params: 0 (0.00 Byte)\n",
            "_________________________________________________________________\n"
          ]
        }
      ],
      "source": [
        "# Modelo con LSTM entrenando propios embeddings\n",
        "model = Sequential()\n",
        "model.add(Embedding(input_dim=vocab_size+1, output_dim=10, input_length=in_shape))\n",
        "model.add(LSTM(units=64, return_sequences=True))\n",
        "model.add(Dropout(0.2))\n",
        "model.add(LSTM(units=64)) # La última capa LSTM no lleva return_sequences\n",
        "model.add(Dense(units=128, activation='relu'))\n",
        "model.add(Dropout(rate=0.2))\n",
        "model.add(Dense(units=out_shape, activation='softmax'))\n",
        "\n",
        "model.compile(optimizer='adam',\n",
        "              loss='categorical_crossentropy',\n",
        "              metrics=[f1_score, 'accuracy'])\n",
        "\n",
        "model.summary()"
      ]
    },
    {
      "cell_type": "code",
      "execution_count": null,
      "metadata": {
        "id": "MD5RkgpmJkm1"
      },
      "outputs": [],
      "source": [
        "# Punto para cargar el modelo para entrenar por partes\n",
        "# model = load_model('strat_lstm_emb.keras')"
      ]
    },
    {
      "cell_type": "code",
      "execution_count": null,
      "metadata": {
        "colab": {
          "base_uri": "https://localhost:8080/"
        },
        "outputId": "b1093ebb-d5ff-4e74-c95c-0b12a095ce93",
        "id": "J8T32Kq8Jkm1"
      },
      "outputs": [
        {
          "output_type": "stream",
          "name": "stdout",
          "text": [
            "Epoch 1/25\n",
            "566/566 [==============================] - 28s 43ms/step - loss: 1.0117 - f1_score: 0.1523 - accuracy: 0.5972 - val_loss: 0.8928 - val_f1_score: 0.1652 - val_accuracy: 0.6275\n",
            "Epoch 2/25\n",
            "566/566 [==============================] - 8s 15ms/step - loss: 0.8863 - f1_score: 0.1685 - accuracy: 0.6281 - val_loss: 0.8902 - val_f1_score: 0.1650 - val_accuracy: 0.6198\n",
            "Epoch 3/25\n",
            "566/566 [==============================] - 10s 18ms/step - loss: 0.8615 - f1_score: 0.1669 - accuracy: 0.6358 - val_loss: 0.8785 - val_f1_score: 0.1654 - val_accuracy: 0.6319\n",
            "Epoch 4/25\n",
            "566/566 [==============================] - 8s 14ms/step - loss: 0.8430 - f1_score: 0.1698 - accuracy: 0.6426 - val_loss: 0.8739 - val_f1_score: 0.1639 - val_accuracy: 0.6242\n",
            "Epoch 5/25\n",
            "566/566 [==============================] - 9s 16ms/step - loss: 0.8202 - f1_score: 0.1755 - accuracy: 0.6501 - val_loss: 0.8767 - val_f1_score: 0.1689 - val_accuracy: 0.6275\n",
            "Epoch 6/25\n",
            "566/566 [==============================] - 9s 15ms/step - loss: 0.7958 - f1_score: 0.2053 - accuracy: 0.6620 - val_loss: 0.8711 - val_f1_score: 0.1799 - val_accuracy: 0.6310\n",
            "Epoch 7/25\n",
            "566/566 [==============================] - 8s 15ms/step - loss: 0.7622 - f1_score: 0.2448 - accuracy: 0.6762 - val_loss: 0.8877 - val_f1_score: 0.2666 - val_accuracy: 0.6271\n",
            "Epoch 8/25\n",
            "566/566 [==============================] - 7s 12ms/step - loss: 0.7364 - f1_score: 0.2900 - accuracy: 0.6876 - val_loss: 0.9011 - val_f1_score: 0.2369 - val_accuracy: 0.6246\n",
            "Epoch 9/25\n",
            "566/566 [==============================] - 8s 14ms/step - loss: 0.7129 - f1_score: 0.3033 - accuracy: 0.6964 - val_loss: 0.9001 - val_f1_score: 0.2909 - val_accuracy: 0.6330\n",
            "Epoch 10/25\n",
            "566/566 [==============================] - 7s 13ms/step - loss: 0.6893 - f1_score: 0.3519 - accuracy: 0.7090 - val_loss: 0.9279 - val_f1_score: 0.2638 - val_accuracy: 0.6321\n",
            "Epoch 11/25\n",
            "566/566 [==============================] - 8s 14ms/step - loss: 0.6750 - f1_score: 0.3630 - accuracy: 0.7138 - val_loss: 0.9359 - val_f1_score: 0.2569 - val_accuracy: 0.6286\n",
            "Epoch 12/25\n",
            "566/566 [==============================] - 9s 15ms/step - loss: 0.6624 - f1_score: 0.3782 - accuracy: 0.7195 - val_loss: 0.9613 - val_f1_score: 0.2920 - val_accuracy: 0.6149\n",
            "Epoch 13/25\n",
            "566/566 [==============================] - 8s 13ms/step - loss: 0.6450 - f1_score: 0.4019 - accuracy: 0.7310 - val_loss: 1.0043 - val_f1_score: 0.2870 - val_accuracy: 0.6145\n",
            "Epoch 14/25\n",
            "566/566 [==============================] - 9s 15ms/step - loss: 0.6314 - f1_score: 0.4064 - accuracy: 0.7382 - val_loss: 1.0671 - val_f1_score: 0.3072 - val_accuracy: 0.6105\n",
            "Epoch 15/25\n",
            "566/566 [==============================] - 8s 14ms/step - loss: 0.6154 - f1_score: 0.4257 - accuracy: 0.7433 - val_loss: 1.0397 - val_f1_score: 0.2944 - val_accuracy: 0.6171\n",
            "Epoch 16/25\n",
            "566/566 [==============================] - 8s 13ms/step - loss: 0.6037 - f1_score: 0.4478 - accuracy: 0.7527 - val_loss: 1.0952 - val_f1_score: 0.2937 - val_accuracy: 0.6216\n",
            "Epoch 17/25\n",
            "566/566 [==============================] - 8s 14ms/step - loss: 0.5937 - f1_score: 0.4554 - accuracy: 0.7545 - val_loss: 1.1015 - val_f1_score: 0.2997 - val_accuracy: 0.5878\n",
            "Epoch 18/25\n",
            "566/566 [==============================] - 7s 12ms/step - loss: 0.5749 - f1_score: 0.4759 - accuracy: 0.7645 - val_loss: 1.1777 - val_f1_score: 0.3395 - val_accuracy: 0.6015\n",
            "Epoch 19/25\n",
            "566/566 [==============================] - 8s 15ms/step - loss: 0.5683 - f1_score: 0.4854 - accuracy: 0.7678 - val_loss: 1.2014 - val_f1_score: 0.3173 - val_accuracy: 0.6021\n",
            "Epoch 20/25\n",
            "566/566 [==============================] - 8s 14ms/step - loss: 0.5502 - f1_score: 0.4965 - accuracy: 0.7741 - val_loss: 1.2262 - val_f1_score: 0.3369 - val_accuracy: 0.5981\n",
            "Epoch 21/25\n",
            "566/566 [==============================] - 7s 12ms/step - loss: 0.5415 - f1_score: 0.5187 - accuracy: 0.7810 - val_loss: 1.2422 - val_f1_score: 0.3189 - val_accuracy: 0.6136\n",
            "Epoch 22/25\n",
            "566/566 [==============================] - 8s 15ms/step - loss: 0.5243 - f1_score: 0.5309 - accuracy: 0.7885 - val_loss: 1.3088 - val_f1_score: 0.3243 - val_accuracy: 0.5765\n",
            "Epoch 23/25\n",
            "566/566 [==============================] - 7s 12ms/step - loss: 0.5189 - f1_score: 0.5368 - accuracy: 0.7904 - val_loss: 1.3423 - val_f1_score: 0.3243 - val_accuracy: 0.5845\n",
            "Epoch 24/25\n",
            "566/566 [==============================] - 8s 15ms/step - loss: 0.5001 - f1_score: 0.5614 - accuracy: 0.7987 - val_loss: 1.3576 - val_f1_score: 0.3265 - val_accuracy: 0.5778\n",
            "Epoch 25/25\n",
            "566/566 [==============================] - 8s 14ms/step - loss: 0.4856 - f1_score: 0.5814 - accuracy: 0.8080 - val_loss: 1.3478 - val_f1_score: 0.3359 - val_accuracy: 0.5752\n"
          ]
        }
      ],
      "source": [
        "# Entreno el modelo\n",
        "hist = model.fit(X_train, y_train, epochs=25, validation_data=(X_test, y_test))"
      ]
    },
    {
      "cell_type": "code",
      "execution_count": null,
      "metadata": {
        "colab": {
          "base_uri": "https://localhost:8080/",
          "height": 402
        },
        "outputId": "9f5d55cc-cb40-484e-b461-3e337c04aeb4",
        "id": "dgzKuQ5rJkm1"
      },
      "outputs": [
        {
          "output_type": "display_data",
          "data": {
            "text/plain": [
              "<Figure size 500x400 with 1 Axes>"
            ],
            "image/png": "[encoded data removed]"
          },
          "metadata": {}
        }
      ],
      "source": [
        "# Plot\n",
        "plt.plot(hist.history['f1_score'], label='Train F1')\n",
        "plt.plot(hist.history['val_f1_score'], label='Test F1')\n",
        "plt.xlabel('Epoch')\n",
        "plt.ylabel('F1 Score')\n",
        "plt.title('STRAT + LSTM + EMB', fontsize=10)\n",
        "plt.legend()\n",
        "plt.show()"
      ]
    },
    {
      "cell_type": "code",
      "execution_count": null,
      "metadata": {
        "id": "Qsrtho_DJkm2"
      },
      "outputs": [],
      "source": [
        "# Guardado como modelo de keras\n",
        "model.save('strat_lstm_emb.keras')"
      ]
    },
    {
      "cell_type": "code",
      "execution_count": null,
      "metadata": {
        "colab": {
          "base_uri": "https://localhost:8080/"
        },
        "outputId": "7697e8a3-6d52-4595-f0ee-474720db2c78",
        "id": "jm_UDvSJJkm2"
      },
      "outputs": [
        {
          "output_type": "stream",
          "name": "stdout",
          "text": [
            "1/1 [==============================] - 1s 619ms/step\n",
            "Para la review: \"shipping was so slow\"\n",
            "Se predice un puntaje de 3/5\n",
            "1/1 [==============================] - 0s 19ms/step\n",
            "Para la review: \"shipping was slow\"\n",
            "Se predice un puntaje de 3/5\n",
            "1/1 [==============================] - 0s 29ms/step\n",
            "Para la review: \"shipping was fast\"\n",
            "Se predice un puntaje de 5/5\n",
            "1/1 [==============================] - 0s 40ms/step\n",
            "Para la review: \"wonderful stuff\"\n",
            "Se predice un puntaje de 5/5\n",
            "1/1 [==============================] - 0s 33ms/step\n",
            "Para la review: \"awesome product\"\n",
            "Se predice un puntaje de 5/5\n",
            "1/1 [==============================] - 0s 29ms/step\n",
            "Para la review: \"this product sucks\"\n",
            "Se predice un puntaje de 5/5\n",
            "1/1 [==============================] - 0s 27ms/step\n",
            "Para la review: \"awful experience\"\n",
            "Se predice un puntaje de 3/5\n",
            "1/1 [==============================] - 0s 34ms/step\n",
            "Para la review: \"shipping was slow but the product is excelent, will buy again\"\n",
            "Se predice un puntaje de 5/5\n",
            "1/1 [==============================] - 0s 39ms/step\n",
            "Para la review: \"shipping was slow but the product is great\"\n",
            "Se predice un puntaje de 5/5\n",
            "1/1 [==============================] - 0s 27ms/step\n",
            "Para la review: \"not happy with the product but return policies worked perfectly\"\n",
            "Se predice un puntaje de 4/5\n",
            "1/1 [==============================] - 0s 30ms/step\n",
            "Para la review: \"beautifel shirt\"\n",
            "Se predice un puntaje de 3/5\n",
            "1/1 [==============================] - 0s 27ms/step\n",
            "Para la review: \"bbad shirt\"\n",
            "Se predice un puntaje de 3/5\n",
            "1/1 [==============================] - 0s 36ms/step\n",
            "Para la review: \"cualquier cosa\"\n",
            "Se predice un puntaje de 4/5\n",
            "1/1 [==============================] - 0s 31ms/step\n",
            "Para la review: \"not happy\"\n",
            "Se predice un puntaje de 4/5\n",
            "1/1 [==============================] - 0s 32ms/step\n",
            "Para la review: \"happy\"\n",
            "Se predice un puntaje de 4/5\n"
          ]
        }
      ],
      "source": [
        "# Pruebas varias\n",
        "input_texto = 'shipping was so slow'\n",
        "y_pred, puntaje_predicho = predecir_puntaje(input_texto, tok, maxlen, model)\n",
        "\n",
        "input_texto = 'shipping was slow'\n",
        "y_pred, puntaje_predicho = predecir_puntaje(input_texto, tok, maxlen, model)\n",
        "\n",
        "input_texto = 'shipping was fast'\n",
        "y_pred, puntaje_predicho = predecir_puntaje(input_texto, tok, maxlen, model)\n",
        "\n",
        "input_texto = 'wonderful stuff'\n",
        "y_pred, puntaje_predicho = predecir_puntaje(input_texto, tok, maxlen, model)\n",
        "\n",
        "input_texto = 'awesome product'\n",
        "y_pred, puntaje_predicho = predecir_puntaje(input_texto, tok, maxlen, model)\n",
        "\n",
        "input_texto = 'this product sucks'\n",
        "y_pred, puntaje_predicho = predecir_puntaje(input_texto, tok, maxlen, model)\n",
        "\n",
        "input_texto = 'awful experience'\n",
        "y_pred, puntaje_predicho = predecir_puntaje(input_texto, tok, maxlen, model)\n",
        "\n",
        "input_texto = 'shipping was slow but the product is excelent, will buy again'\n",
        "y_pred, puntaje_predicho = predecir_puntaje(input_texto, tok, maxlen, model)\n",
        "\n",
        "input_texto = 'shipping was slow but the product is great'\n",
        "y_pred, puntaje_predicho = predecir_puntaje(input_texto, tok, maxlen, model)\n",
        "\n",
        "input_texto = 'not happy with the product but return policies worked perfectly'\n",
        "y_pred, puntaje_predicho = predecir_puntaje(input_texto, tok, maxlen, model)\n",
        "\n",
        "# Probemos con faltas de ortografía\n",
        "input_texto = 'beautifel shirt'\n",
        "y_pred, puntaje_predicho = predecir_puntaje(input_texto, tok, maxlen, model)\n",
        "\n",
        "input_texto = 'bbad shirt'\n",
        "y_pred, puntaje_predicho = predecir_puntaje(input_texto, tok, maxlen, model)\n",
        "\n",
        "input_texto = 'cualquier cosa'\n",
        "y_pred, puntaje_predicho = predecir_puntaje(input_texto, tok, maxlen, model)\n",
        "\n",
        "input_texto = 'not happy'\n",
        "y_pred, puntaje_predicho = predecir_puntaje(input_texto, tok, maxlen, model)\n",
        "\n",
        "input_texto = 'happy'\n",
        "y_pred, puntaje_predicho = predecir_puntaje(input_texto, tok, maxlen, model)"
      ]
    },
    {
      "cell_type": "markdown",
      "metadata": {
        "id": "J3AthPoEYZ7O"
      },
      "source": [
        "*2.4. Stratify + Fasttext + LSTM*\n",
        "\n",
        "Para el desbalance de datos se hace un muestreo estratificado. Se utilizan los embeddings de Fasttext."
      ]
    },
    {
      "cell_type": "code",
      "execution_count": null,
      "metadata": {
        "colab": {
          "base_uri": "https://localhost:8080/"
        },
        "outputId": "15f318e8-0483-4640-debf-650136e220c0",
        "id": "1_JbYuX8ZI7C"
      },
      "outputs": [
        {
          "output_type": "stream",
          "name": "stdout",
          "text": [
            "Model: \"sequential_3\"\n",
            "_________________________________________________________________\n",
            " Layer (type)                Output Shape              Param #   \n",
            "=================================================================\n",
            " embedding_3 (Embedding)     (None, 115, 300)          600000    \n",
            "                                                                 \n",
            " lstm_6 (LSTM)               (None, 115, 64)           93440     \n",
            "                                                                 \n",
            " dropout_6 (Dropout)         (None, 115, 64)           0         \n",
            "                                                                 \n",
            " lstm_7 (LSTM)               (None, 64)                33024     \n",
            "                                                                 \n",
            " dense_6 (Dense)             (None, 128)               8320      \n",
            "                                                                 \n",
            " dropout_7 (Dropout)         (None, 128)               0         \n",
            "                                                                 \n",
            " dense_7 (Dense)             (None, 5)                 645       \n",
            "                                                                 \n",
            "=================================================================\n",
            "Total params: 735429 (2.81 MB)\n",
            "Trainable params: 135429 (529.02 KB)\n",
            "Non-trainable params: 600000 (2.29 MB)\n",
            "_________________________________________________________________\n"
          ]
        }
      ],
      "source": [
        "# Definimos el modelo\n",
        "\n",
        "model = Sequential()\n",
        "model.add(Embedding(input_dim=vocab_size, # definido en el Tokenizador\n",
        "                    output_dim=embed_dim, # dimensión de los embeddings utilizados\n",
        "                    input_length=in_shape, # máxima sentencia de entrada\n",
        "                    weights=[embedding_matrix], # matrix de embeddings\n",
        "                    trainable=False)) # marcar como layer no entrenable\n",
        "\n",
        "model.add(LSTM(units=64, return_sequences=True))\n",
        "model.add(Dropout(0.2))\n",
        "model.add(LSTM(units=64)) # La última capa LSTM no lleva return_sequences\n",
        "\n",
        "model.add(Dense(units=128, activation='relu'))\n",
        "model.add(Dropout(rate=0.2))\n",
        "model.add(Dense(units=out_shape, activation='sigmoid'))\n",
        "\n",
        "model.compile(optimizer=\"adam\",\n",
        "              loss='binary_crossentropy',\n",
        "              metrics=['accuracy', f1_score])\n",
        "\n",
        "model.summary()"
      ]
    },
    {
      "cell_type": "code",
      "execution_count": null,
      "metadata": {
        "id": "cW1aofVLZI7J"
      },
      "outputs": [],
      "source": [
        "# Punto para cargar el modelo para entrenar por partes\n",
        "# model = load_model('strat_lstm_fasttext.keras')"
      ]
    },
    {
      "cell_type": "code",
      "execution_count": null,
      "metadata": {
        "colab": {
          "base_uri": "https://localhost:8080/"
        },
        "outputId": "e5eb0246-b138-463d-aa21-ce25d1133d56",
        "id": "J5vIWxpWZI7J"
      },
      "outputs": [
        {
          "output_type": "stream",
          "name": "stdout",
          "text": [
            "Epoch 1/25\n",
            "566/566 [==============================] - 11s 14ms/step - loss: 0.4042 - accuracy: 0.5520 - f1_score: 0.1307 - val_loss: 0.3862 - val_accuracy: 0.5538 - val_f1_score: 0.1344\n",
            "Epoch 2/25\n",
            "566/566 [==============================] - 8s 14ms/step - loss: 0.3857 - accuracy: 0.5536 - f1_score: 0.1314 - val_loss: 0.3760 - val_accuracy: 0.5538 - val_f1_score: 0.1408\n",
            "Epoch 3/25\n",
            "566/566 [==============================] - 7s 12ms/step - loss: 0.3773 - accuracy: 0.5557 - f1_score: 0.1366 - val_loss: 0.3718 - val_accuracy: 0.5558 - val_f1_score: 0.1460\n",
            "Epoch 4/25\n",
            "566/566 [==============================] - 7s 13ms/step - loss: 0.3710 - accuracy: 0.5596 - f1_score: 0.1407 - val_loss: 0.3661 - val_accuracy: 0.5595 - val_f1_score: 0.1353\n",
            "Epoch 5/25\n",
            "566/566 [==============================] - 7s 13ms/step - loss: 0.3651 - accuracy: 0.5649 - f1_score: 0.1427 - val_loss: 0.3602 - val_accuracy: 0.5672 - val_f1_score: 0.1433\n",
            "Epoch 6/25\n",
            "566/566 [==============================] - 6s 11ms/step - loss: 0.3603 - accuracy: 0.5716 - f1_score: 0.1454 - val_loss: 0.3568 - val_accuracy: 0.5714 - val_f1_score: 0.1446\n",
            "Epoch 7/25\n",
            "566/566 [==============================] - 8s 14ms/step - loss: 0.3546 - accuracy: 0.5760 - f1_score: 0.1484 - val_loss: 0.3589 - val_accuracy: 0.5650 - val_f1_score: 0.1428\n",
            "Epoch 8/25\n",
            "566/566 [==============================] - 7s 12ms/step - loss: 0.3492 - accuracy: 0.5767 - f1_score: 0.1498 - val_loss: 0.3549 - val_accuracy: 0.5794 - val_f1_score: 0.1491\n",
            "Epoch 9/25\n",
            "566/566 [==============================] - 8s 14ms/step - loss: 0.3453 - accuracy: 0.5816 - f1_score: 0.1512 - val_loss: 0.3531 - val_accuracy: 0.5763 - val_f1_score: 0.1472\n",
            "Epoch 10/25\n",
            "566/566 [==============================] - 7s 12ms/step - loss: 0.3403 - accuracy: 0.5857 - f1_score: 0.1528 - val_loss: 0.3555 - val_accuracy: 0.5745 - val_f1_score: 0.1487\n",
            "Epoch 11/25\n",
            "566/566 [==============================] - 8s 13ms/step - loss: 0.3336 - accuracy: 0.5932 - f1_score: 0.1589 - val_loss: 0.3515 - val_accuracy: 0.5752 - val_f1_score: 0.1487\n",
            "Epoch 12/25\n",
            "566/566 [==============================] - 8s 14ms/step - loss: 0.3296 - accuracy: 0.5982 - f1_score: 0.1575 - val_loss: 0.3527 - val_accuracy: 0.5745 - val_f1_score: 0.1527\n",
            "Epoch 13/25\n",
            "566/566 [==============================] - 7s 12ms/step - loss: 0.3240 - accuracy: 0.6064 - f1_score: 0.1667 - val_loss: 0.3561 - val_accuracy: 0.5637 - val_f1_score: 0.1483\n",
            "Epoch 14/25\n",
            "566/566 [==============================] - 7s 13ms/step - loss: 0.3179 - accuracy: 0.6105 - f1_score: 0.1691 - val_loss: 0.3569 - val_accuracy: 0.5611 - val_f1_score: 0.1484\n",
            "Epoch 15/25\n",
            "566/566 [==============================] - 7s 12ms/step - loss: 0.3133 - accuracy: 0.6165 - f1_score: 0.1744 - val_loss: 0.3618 - val_accuracy: 0.5701 - val_f1_score: 0.1524\n",
            "Epoch 16/25\n",
            "566/566 [==============================] - 9s 16ms/step - loss: 0.3073 - accuracy: 0.6244 - f1_score: 0.1833 - val_loss: 0.3671 - val_accuracy: 0.5429 - val_f1_score: 0.1661\n",
            "Epoch 17/25\n",
            "566/566 [==============================] - 7s 12ms/step - loss: 0.3011 - accuracy: 0.6323 - f1_score: 0.2016 - val_loss: 0.3685 - val_accuracy: 0.5602 - val_f1_score: 0.1673\n",
            "Epoch 18/25\n",
            "566/566 [==============================] - 7s 13ms/step - loss: 0.2928 - accuracy: 0.6437 - f1_score: 0.2226 - val_loss: 0.3901 - val_accuracy: 0.5485 - val_f1_score: 0.1747\n",
            "Epoch 19/25\n",
            "566/566 [==============================] - 7s 12ms/step - loss: 0.2875 - accuracy: 0.6525 - f1_score: 0.2451 - val_loss: 0.3807 - val_accuracy: 0.5388 - val_f1_score: 0.1717\n",
            "Epoch 20/25\n",
            "566/566 [==============================] - 7s 12ms/step - loss: 0.2808 - accuracy: 0.6647 - f1_score: 0.2633 - val_loss: 0.3958 - val_accuracy: 0.5427 - val_f1_score: 0.1958\n",
            "Epoch 21/25\n",
            "566/566 [==============================] - 7s 13ms/step - loss: 0.2712 - accuracy: 0.6751 - f1_score: 0.2940 - val_loss: 0.4013 - val_accuracy: 0.5003 - val_f1_score: 0.2016\n",
            "Epoch 22/25\n",
            "566/566 [==============================] - 7s 13ms/step - loss: 0.2664 - accuracy: 0.6845 - f1_score: 0.3099 - val_loss: 0.4081 - val_accuracy: 0.5343 - val_f1_score: 0.1971\n",
            "Epoch 23/25\n",
            "566/566 [==============================] - 8s 14ms/step - loss: 0.2570 - accuracy: 0.6961 - f1_score: 0.3328 - val_loss: 0.4241 - val_accuracy: 0.5374 - val_f1_score: 0.2113\n",
            "Epoch 24/25\n",
            "566/566 [==============================] - 6s 11ms/step - loss: 0.2503 - accuracy: 0.7045 - f1_score: 0.3573 - val_loss: 0.4256 - val_accuracy: 0.5275 - val_f1_score: 0.2124\n",
            "Epoch 25/25\n",
            "566/566 [==============================] - 7s 13ms/step - loss: 0.2415 - accuracy: 0.7153 - f1_score: 0.3866 - val_loss: 0.4302 - val_accuracy: 0.5116 - val_f1_score: 0.2134\n"
          ]
        }
      ],
      "source": [
        "# Entreno el modelo\n",
        "hist = model.fit(X_train, y_train, epochs=25, validation_data=(X_test, y_test))"
      ]
    },
    {
      "cell_type": "code",
      "execution_count": null,
      "metadata": {
        "id": "pHYm7nWFZI7J",
        "colab": {
          "base_uri": "https://localhost:8080/",
          "height": 402
        },
        "outputId": "547b0c5c-68d6-41b9-9507-43c6e547736c"
      },
      "outputs": [
        {
          "output_type": "display_data",
          "data": {
            "text/plain": [
              "<Figure size 500x400 with 1 Axes>"
            ],
            "image/png": "[encoded data removed]"
          },
          "metadata": {}
        }
      ],
      "source": [
        "# Plot\n",
        "plt.plot(hist.history['f1_score'], label='Train F1')\n",
        "plt.plot(hist.history['val_f1_score'], label='Test F1')\n",
        "plt.xlabel('Epoch')\n",
        "plt.ylabel('F1 Score')\n",
        "plt.title('STRAT + LSTM + FASTTEXT', fontsize=10)\n",
        "plt.legend()\n",
        "plt.show()"
      ]
    },
    {
      "cell_type": "code",
      "execution_count": null,
      "metadata": {
        "id": "gNzX8iXTZI7J"
      },
      "outputs": [],
      "source": [
        "# Guardado como modelo de keras\n",
        "model.save('strat_lstm_fasttext.keras')"
      ]
    },
    {
      "cell_type": "code",
      "execution_count": null,
      "metadata": {
        "id": "YZ86hZSZZI7J",
        "colab": {
          "base_uri": "https://localhost:8080/"
        },
        "outputId": "dc5430b4-d6b6-40a9-c6e6-ac3272c0e173"
      },
      "outputs": [
        {
          "output_type": "stream",
          "name": "stdout",
          "text": [
            "1/1 [==============================] - 1s 593ms/step\n",
            "Para la review: \"shipping was so slow\"\n",
            "Se predice un puntaje de 5/5\n",
            "1/1 [==============================] - 0s 24ms/step\n",
            "Para la review: \"shipping was slow\"\n",
            "Se predice un puntaje de 5/5\n",
            "1/1 [==============================] - 0s 21ms/step\n",
            "Para la review: \"shipping was fast\"\n",
            "Se predice un puntaje de 5/5\n",
            "1/1 [==============================] - 0s 18ms/step\n",
            "Para la review: \"wonderful stuff\"\n",
            "Se predice un puntaje de 5/5\n",
            "1/1 [==============================] - 0s 20ms/step\n",
            "Para la review: \"awesome product\"\n",
            "Se predice un puntaje de 5/5\n",
            "1/1 [==============================] - 0s 20ms/step\n",
            "Para la review: \"this product sucks\"\n",
            "Se predice un puntaje de 5/5\n",
            "1/1 [==============================] - 0s 20ms/step\n",
            "Para la review: \"awful experience\"\n",
            "Se predice un puntaje de 5/5\n",
            "1/1 [==============================] - 0s 20ms/step\n",
            "Para la review: \"shipping was slow but the product is excelent, will buy again\"\n",
            "Se predice un puntaje de 5/5\n",
            "1/1 [==============================] - 0s 21ms/step\n",
            "Para la review: \"shipping was slow but the product is great\"\n",
            "Se predice un puntaje de 4/5\n",
            "1/1 [==============================] - 0s 20ms/step\n",
            "Para la review: \"not happy with the product but return policies worked perfectly\"\n",
            "Se predice un puntaje de 5/5\n",
            "1/1 [==============================] - 0s 20ms/step\n",
            "Para la review: \"beautifel shirt\"\n",
            "Se predice un puntaje de 5/5\n",
            "1/1 [==============================] - 0s 21ms/step\n",
            "Para la review: \"bbad shirt\"\n",
            "Se predice un puntaje de 5/5\n",
            "1/1 [==============================] - 0s 22ms/step\n",
            "Para la review: \"cualquier cosa\"\n",
            "Se predice un puntaje de 5/5\n",
            "1/1 [==============================] - 0s 20ms/step\n",
            "Para la review: \"not happy\"\n",
            "Se predice un puntaje de 4/5\n",
            "1/1 [==============================] - 0s 24ms/step\n",
            "Para la review: \"happy\"\n",
            "Se predice un puntaje de 3/5\n"
          ]
        }
      ],
      "source": [
        "# Pruebas varias\n",
        "input_texto = 'shipping was so slow'\n",
        "y_pred, puntaje_predicho = predecir_puntaje(input_texto, tok, maxlen, model)\n",
        "\n",
        "input_texto = 'shipping was slow'\n",
        "y_pred, puntaje_predicho = predecir_puntaje(input_texto, tok, maxlen, model)\n",
        "\n",
        "input_texto = 'shipping was fast'\n",
        "y_pred, puntaje_predicho = predecir_puntaje(input_texto, tok, maxlen, model)\n",
        "\n",
        "input_texto = 'wonderful stuff'\n",
        "y_pred, puntaje_predicho = predecir_puntaje(input_texto, tok, maxlen, model)\n",
        "\n",
        "input_texto = 'awesome product'\n",
        "y_pred, puntaje_predicho = predecir_puntaje(input_texto, tok, maxlen, model)\n",
        "\n",
        "input_texto = 'this product sucks'\n",
        "y_pred, puntaje_predicho = predecir_puntaje(input_texto, tok, maxlen, model)\n",
        "\n",
        "input_texto = 'awful experience'\n",
        "y_pred, puntaje_predicho = predecir_puntaje(input_texto, tok, maxlen, model)\n",
        "\n",
        "input_texto = 'shipping was slow but the product is excelent, will buy again'\n",
        "y_pred, puntaje_predicho = predecir_puntaje(input_texto, tok, maxlen, model)\n",
        "\n",
        "input_texto = 'shipping was slow but the product is great'\n",
        "y_pred, puntaje_predicho = predecir_puntaje(input_texto, tok, maxlen, model)\n",
        "\n",
        "input_texto = 'not happy with the product but return policies worked perfectly'\n",
        "y_pred, puntaje_predicho = predecir_puntaje(input_texto, tok, maxlen, model)\n",
        "\n",
        "# Probemos con faltas de ortografía\n",
        "input_texto = 'beautifel shirt'\n",
        "y_pred, puntaje_predicho = predecir_puntaje(input_texto, tok, maxlen, model)\n",
        "\n",
        "input_texto = 'bbad shirt'\n",
        "y_pred, puntaje_predicho = predecir_puntaje(input_texto, tok, maxlen, model)\n",
        "\n",
        "input_texto = 'cualquier cosa'\n",
        "y_pred, puntaje_predicho = predecir_puntaje(input_texto, tok, maxlen, model)\n",
        "\n",
        "input_texto = 'not happy'\n",
        "y_pred, puntaje_predicho = predecir_puntaje(input_texto, tok, maxlen, model)\n",
        "\n",
        "input_texto = 'happy'\n",
        "y_pred, puntaje_predicho = predecir_puntaje(input_texto, tok, maxlen, model)"
      ]
    },
    {
      "cell_type": "markdown",
      "source": [
        "**3. MODELO ALTERNATIVO**\n",
        "\n",
        "En este apartado planteo la siguiente posibilidad, las estrellas 1 a 5 no son clases sino el redondeo de un puntaje contínuo, el hecho de que figure en valores enteros solo está relacionado con la interfase del usuario."
      ],
      "metadata": {
        "id": "XUB6Gm1NeeO3"
      }
    },
    {
      "cell_type": "code",
      "execution_count": null,
      "metadata": {
        "colab": {
          "base_uri": "https://localhost:8080/"
        },
        "outputId": "3cbcf43b-eb90-4275-fda5-69e0dc80b12f",
        "id": "lkCcl8BOgt0M"
      },
      "outputs": [
        {
          "output_type": "execute_result",
          "data": {
            "text/plain": [
              "(22641,)"
            ]
          },
          "metadata": {},
          "execution_count": 59
        }
      ],
      "source": [
        "# Creación y transformación de la variable y a OHE.\n",
        "y = df_reviews['Rating'].values\n",
        "y.shape"
      ]
    },
    {
      "cell_type": "code",
      "execution_count": null,
      "metadata": {
        "id": "v26NbpFXgt0N"
      },
      "outputs": [],
      "source": [
        "# División de datos en train y test\n",
        "from sklearn.model_selection import train_test_split\n",
        "X_train, X_test, y_train, y_test = train_test_split(X,\n",
        "                                                    y,\n",
        "                                                    test_size=0.2,\n",
        "                                                    random_state=42,\n",
        "                                                    stratify=y)"
      ]
    },
    {
      "cell_type": "code",
      "execution_count": null,
      "metadata": {
        "colab": {
          "base_uri": "https://localhost:8080/"
        },
        "outputId": "baa31bb8-0dd4-4f86-f0df-77cb43d02ddb",
        "id": "S2ijwKrlgt0O"
      },
      "outputs": [
        {
          "output_type": "stream",
          "name": "stdout",
          "text": [
            "in_shape 115 , out_shape 1\n"
          ]
        }
      ],
      "source": [
        "# Se determinan las dimensiones de entrada y salida.\n",
        "in_shape = X_train.shape[1] # max input sentence len\n",
        "out_shape = 1\n",
        "print(\"in_shape\", in_shape, \", out_shape\", out_shape)"
      ]
    },
    {
      "cell_type": "code",
      "source": [
        "# Modelo con LSTM entrenando propios embeddings\n",
        "model = Sequential()\n",
        "model.add(Embedding(input_dim=vocab_size+1, output_dim=10, input_length=in_shape))\n",
        "model.add(LSTM(units=64, return_sequences=True))\n",
        "model.add(Dropout(0.2))\n",
        "model.add(LSTM(units=64)) # La última capa LSTM no lleva return_sequences\n",
        "model.add(Dense(units=128, activation='relu'))\n",
        "model.add(Dropout(rate=0.2))\n",
        "model.add(Dense(units=out_shape, activation='relu'))\n",
        "\n",
        "model.compile(optimizer='adam',\n",
        "              loss='mean_squared_error')\n",
        "\n",
        "model.summary()"
      ],
      "metadata": {
        "colab": {
          "base_uri": "https://localhost:8080/"
        },
        "id": "vb5HPnwWhqif",
        "outputId": "94aeb89e-afd0-42ef-bde4-728bb7c8c08e"
      },
      "execution_count": null,
      "outputs": [
        {
          "output_type": "stream",
          "name": "stdout",
          "text": [
            "Model: \"sequential_4\"\n",
            "_________________________________________________________________\n",
            " Layer (type)                Output Shape              Param #   \n",
            "=================================================================\n",
            " embedding_4 (Embedding)     (None, 115, 10)           20010     \n",
            "                                                                 \n",
            " lstm_8 (LSTM)               (None, 115, 64)           19200     \n",
            "                                                                 \n",
            " dropout_8 (Dropout)         (None, 115, 64)           0         \n",
            "                                                                 \n",
            " lstm_9 (LSTM)               (None, 64)                33024     \n",
            "                                                                 \n",
            " dense_8 (Dense)             (None, 128)               8320      \n",
            "                                                                 \n",
            " dropout_9 (Dropout)         (None, 128)               0         \n",
            "                                                                 \n",
            " dense_9 (Dense)             (None, 1)                 129       \n",
            "                                                                 \n",
            "=================================================================\n",
            "Total params: 80683 (315.17 KB)\n",
            "Trainable params: 80683 (315.17 KB)\n",
            "Non-trainable params: 0 (0.00 Byte)\n",
            "_________________________________________________________________\n"
          ]
        }
      ]
    },
    {
      "cell_type": "code",
      "source": [
        "hist = model.fit(X_train, y_train, epochs=25, validation_data=(X_test, y_test))"
      ],
      "metadata": {
        "colab": {
          "base_uri": "https://localhost:8080/"
        },
        "id": "9TJ236qNkPeJ",
        "outputId": "cbe41d50-c8d4-4ec5-f457-e4ea5d83ce9e"
      },
      "execution_count": null,
      "outputs": [
        {
          "output_type": "stream",
          "name": "stdout",
          "text": [
            "Epoch 1/25\n",
            "566/566 [==============================] - 26s 39ms/step - loss: 1.0975 - val_loss: 0.5891\n",
            "Epoch 2/25\n",
            "566/566 [==============================] - 9s 16ms/step - loss: 0.6111 - val_loss: 0.5668\n",
            "Epoch 3/25\n",
            "566/566 [==============================] - 7s 13ms/step - loss: 0.5633 - val_loss: 0.6137\n",
            "Epoch 4/25\n",
            "566/566 [==============================] - 8s 13ms/step - loss: 0.5354 - val_loss: 0.5593\n",
            "Epoch 5/25\n",
            "566/566 [==============================] - 7s 12ms/step - loss: 0.5084 - val_loss: 0.5675\n",
            "Epoch 6/25\n",
            "566/566 [==============================] - 8s 14ms/step - loss: 0.4860 - val_loss: 0.5887\n",
            "Epoch 7/25\n",
            "566/566 [==============================] - 7s 12ms/step - loss: 0.4596 - val_loss: 0.5975\n",
            "Epoch 8/25\n",
            "566/566 [==============================] - 7s 13ms/step - loss: 0.4340 - val_loss: 0.6032\n",
            "Epoch 9/25\n",
            "566/566 [==============================] - 8s 14ms/step - loss: 0.4123 - val_loss: 0.6108\n",
            "Epoch 10/25\n",
            "566/566 [==============================] - 6s 11ms/step - loss: 0.3935 - val_loss: 0.6084\n",
            "Epoch 11/25\n",
            "566/566 [==============================] - 7s 13ms/step - loss: 0.3780 - val_loss: 0.6198\n",
            "Epoch 12/25\n",
            "566/566 [==============================] - 6s 11ms/step - loss: 0.3611 - val_loss: 0.6233\n",
            "Epoch 13/25\n",
            "566/566 [==============================] - 7s 13ms/step - loss: 0.3413 - val_loss: 0.6085\n",
            "Epoch 14/25\n",
            "566/566 [==============================] - 7s 12ms/step - loss: 0.3337 - val_loss: 0.6274\n",
            "Epoch 15/25\n",
            "566/566 [==============================] - 7s 13ms/step - loss: 0.3115 - val_loss: 0.6228\n",
            "Epoch 16/25\n",
            "566/566 [==============================] - 6s 11ms/step - loss: 0.3079 - val_loss: 0.6429\n",
            "Epoch 17/25\n",
            "566/566 [==============================] - 8s 13ms/step - loss: 0.2913 - val_loss: 0.6758\n",
            "Epoch 18/25\n",
            "566/566 [==============================] - 6s 11ms/step - loss: 0.2914 - val_loss: 0.6768\n",
            "Epoch 19/25\n",
            "566/566 [==============================] - 7s 13ms/step - loss: 0.2746 - val_loss: 0.6982\n",
            "Epoch 20/25\n",
            "566/566 [==============================] - 6s 11ms/step - loss: 0.2651 - val_loss: 0.6626\n",
            "Epoch 21/25\n",
            "566/566 [==============================] - 7s 13ms/step - loss: 0.2620 - val_loss: 0.7048\n",
            "Epoch 22/25\n",
            "566/566 [==============================] - 7s 12ms/step - loss: 0.2683 - val_loss: 0.6877\n",
            "Epoch 23/25\n",
            "566/566 [==============================] - 7s 13ms/step - loss: 0.2444 - val_loss: 0.6897\n",
            "Epoch 24/25\n",
            "566/566 [==============================] - 7s 13ms/step - loss: 0.2378 - val_loss: 0.7113\n",
            "Epoch 25/25\n",
            "566/566 [==============================] - 7s 12ms/step - loss: 0.2374 - val_loss: 0.7620\n"
          ]
        }
      ]
    },
    {
      "cell_type": "code",
      "source": [
        "# Plot\n",
        "plt.plot(hist.history['loss'], label='Train MSE')\n",
        "plt.plot(hist.history['val_loss'], label='Test MSE')\n",
        "plt.xlabel('Epoch')\n",
        "plt.ylabel('MSE')\n",
        "plt.title('PUNTAJE CONTÍNUO', fontsize=10)\n",
        "plt.legend()\n",
        "plt.show()"
      ],
      "metadata": {
        "colab": {
          "base_uri": "https://localhost:8080/",
          "height": 404
        },
        "id": "9apWQGrXklY4",
        "outputId": "be698a0d-6948-4925-b962-dbb05e2a3fbc"
      },
      "execution_count": null,
      "outputs": [
        {
          "output_type": "display_data",
          "data": {
            "text/plain": [
              "<Figure size 500x400 with 1 Axes>"
            ],
            "image/png": "[encoded data removed]"
          },
          "metadata": {}
        }
      ]
    },
    {
      "cell_type": "code",
      "source": [
        "# Guardado como modelo de keras\n",
        "model.save('strat_lstm_emb_continuo.keras')"
      ],
      "metadata": {
        "id": "XqT-2EPpkne-"
      },
      "execution_count": null,
      "outputs": []
    },
    {
      "cell_type": "code",
      "source": [
        "# Defino una función para predecir el puntaje a partir de una review\n",
        "def predecir_puntaje(input_texto, tok, maxlen, model):\n",
        "    '''\n",
        "    INPUTS\n",
        "    input_texto: str\n",
        "    tok: tokenizador\n",
        "    maxlen: int para fijar longitud de texto\n",
        "    model: modelo entrenado previamente\n",
        "\n",
        "    OUTPUTS\n",
        "    y_pred: np.array de probabilidades\n",
        "    puntaje_predicho: int que representa el puntaje\n",
        "    '''\n",
        "    # Vector de reviews\n",
        "    vector_input_texto = np.array([input_texto])\n",
        "\n",
        "    # Conversión de palabras/tokens a números\n",
        "    input_final = tok.texts_to_sequences(vector_input_texto)\n",
        "\n",
        "    # Padding de las sentencias al mismo tamaño.\n",
        "    input_X = pad_sequences(input_final, padding='pre', maxlen=maxlen)\n",
        "\n",
        "    # Predicciones\n",
        "    y_pred = model.predict(input_X)\n",
        "    y_print = round(y_pred[0][0], 1)\n",
        "\n",
        "    print(f'Para la review: \"{input_texto}\"')\n",
        "    print(f'Se predice un puntaje de {y_print}/5')\n",
        "\n",
        "    return y_pred"
      ],
      "metadata": {
        "id": "-7prUhrbkuNu"
      },
      "execution_count": null,
      "outputs": []
    },
    {
      "cell_type": "code",
      "source": [
        "# Pruebas varias\n",
        "input_texto = 'shipping was so slow'\n",
        "y_pred = predecir_puntaje(input_texto, tok, maxlen, model)\n",
        "\n",
        "input_texto = 'shipping was slow'\n",
        "y_pred = predecir_puntaje(input_texto, tok, maxlen, model)\n",
        "\n",
        "input_texto = 'shipping was fast'\n",
        "y_pred = predecir_puntaje(input_texto, tok, maxlen, model)\n",
        "\n",
        "input_texto = 'wonderful stuff'\n",
        "y_pred = predecir_puntaje(input_texto, tok, maxlen, model)\n",
        "\n",
        "input_texto = 'awesome product'\n",
        "y_pred = predecir_puntaje(input_texto, tok, maxlen, model)\n",
        "\n",
        "input_texto = 'this product sucks'\n",
        "y_pred = predecir_puntaje(input_texto, tok, maxlen, model)\n",
        "\n",
        "input_texto = 'awful experience'\n",
        "y_pred = predecir_puntaje(input_texto, tok, maxlen, model)\n",
        "\n",
        "input_texto = 'shipping was slow but the product is excelent, will buy again'\n",
        "y_pred = predecir_puntaje(input_texto, tok, maxlen, model)\n",
        "\n",
        "input_texto = 'shipping was slow but the product is great'\n",
        "y_pred = predecir_puntaje(input_texto, tok, maxlen, model)\n",
        "\n",
        "input_texto = 'not happy with the product but return policies worked perfectly'\n",
        "y_pred = predecir_puntaje(input_texto, tok, maxlen, model)\n",
        "\n",
        "# Probemos con faltas de ortografía\n",
        "input_texto = 'beautifel shirt'\n",
        "y_pred = predecir_puntaje(input_texto, tok, maxlen, model)\n",
        "\n",
        "input_texto = 'bbad shirt'\n",
        "y_pred = predecir_puntaje(input_texto, tok, maxlen, model)\n",
        "\n",
        "input_texto = 'cualquier cosa'\n",
        "y_pred = predecir_puntaje(input_texto, tok, maxlen, model)\n",
        "\n",
        "input_texto = 'not happy'\n",
        "y_pred = predecir_puntaje(input_texto, tok, maxlen, model)\n",
        "\n",
        "input_texto = 'happy'\n",
        "y_pred = predecir_puntaje(input_texto, tok, maxlen, model)"
      ],
      "metadata": {
        "colab": {
          "base_uri": "https://localhost:8080/"
        },
        "id": "uWz1hfmvlRvf",
        "outputId": "d09111a5-5ff1-4463-8a5f-2371bea913b9"
      },
      "execution_count": null,
      "outputs": [
        {
          "output_type": "stream",
          "name": "stdout",
          "text": [
            "1/1 [==============================] - 1s 1s/step\n",
            "Para la review: \"shipping was so slow\"\n",
            "Se predice un puntaje de 0.30000001192092896/5\n",
            "1/1 [==============================] - 0s 22ms/step\n",
            "Para la review: \"shipping was slow\"\n",
            "Se predice un puntaje de 0.4000000059604645/5\n",
            "1/1 [==============================] - 0s 20ms/step\n",
            "Para la review: \"shipping was fast\"\n",
            "Se predice un puntaje de 0.0/5\n",
            "1/1 [==============================] - 0s 26ms/step\n",
            "Para la review: \"wonderful stuff\"\n",
            "Se predice un puntaje de 4.300000190734863/5\n",
            "1/1 [==============================] - 0s 20ms/step\n",
            "Para la review: \"awesome product\"\n",
            "Se predice un puntaje de 4.099999904632568/5\n",
            "1/1 [==============================] - 0s 21ms/step\n",
            "Para la review: \"this product sucks\"\n",
            "Se predice un puntaje de 1.100000023841858/5\n",
            "1/1 [==============================] - 0s 21ms/step\n",
            "Para la review: \"awful experience\"\n",
            "Se predice un puntaje de 0.10000000149011612/5\n",
            "1/1 [==============================] - 0s 20ms/step\n",
            "Para la review: \"shipping was slow but the product is excelent, will buy again\"\n",
            "Se predice un puntaje de 3.0999999046325684/5\n",
            "1/1 [==============================] - 0s 22ms/step\n",
            "Para la review: \"shipping was slow but the product is great\"\n",
            "Se predice un puntaje de 1.2000000476837158/5\n",
            "1/1 [==============================] - 0s 20ms/step\n",
            "Para la review: \"not happy with the product but return policies worked perfectly\"\n",
            "Se predice un puntaje de 3.799999952316284/5\n",
            "1/1 [==============================] - 0s 19ms/step\n",
            "Para la review: \"beautifel shirt\"\n",
            "Se predice un puntaje de 0.699999988079071/5\n",
            "1/1 [==============================] - 0s 20ms/step\n",
            "Para la review: \"bbad shirt\"\n",
            "Se predice un puntaje de 0.699999988079071/5\n",
            "1/1 [==============================] - 0s 20ms/step\n",
            "Para la review: \"cualquier cosa\"\n",
            "Se predice un puntaje de 0.30000001192092896/5\n",
            "1/1 [==============================] - 0s 20ms/step\n",
            "Para la review: \"not happy\"\n",
            "Se predice un puntaje de 3.5999999046325684/5\n",
            "1/1 [==============================] - 0s 19ms/step\n",
            "Para la review: \"happy\"\n",
            "Se predice un puntaje de 4.099999904632568/5\n"
          ]
        }
      ]
    },
    {
      "cell_type": "markdown",
      "source": [
        "**4. CONCLUSIONES**\n",
        "\n",
        "Los modelos no presentan buenas métricas y tienden rápidamente al overfitting. Se hicieron numerosas pruebas con más y menos capas y con capas bidireccionales, y los resultados no mejoraron significativamente. Dependiendo del mínimo local en que caiga el entrenamiento parecen tener más o menos sentido las respuestas en las pruebas manuales. El accuracy en general estuvo alrededor del 60%, valor algo mayor al porcentaje de valores de 5 estrellas del dataset original. Se observaron métricas mejores cuando se entrenaron los embeddings que cuando se importaron. Para mejorar los resultados parece necesario contar con más datos de entrenamiento."
      ],
      "metadata": {
        "id": "VN6Af0Tgv5bI"
      }
    },
    {
      "cell_type": "code",
      "source": [],
      "metadata": {
        "id": "Wx4H23MPKxGX"
      },
      "execution_count": null,
      "outputs": []
    }
  ],
  "metadata": {
    "accelerator": "GPU",
    "colab": {
      "provenance": [],
      "gpuType": "T4"
    },
    "kernelspec": {
      "display_name": "Python 3",
      "name": "python3"
    },
    "language_info": {
      "name": "python"
    }
  },
  "nbformat": 4,
  "nbformat_minor": 0
}
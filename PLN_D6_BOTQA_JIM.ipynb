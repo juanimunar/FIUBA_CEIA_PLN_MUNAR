{
  "cells": [
    {
      "cell_type": "markdown",
      "metadata": {
        "id": "pfa39F4lsLf3"
      },
      "source": [
        "<img src=\"https://github.com/hernancontigiani/ceia_memorias_especializacion/raw/master/Figures/logoFIUBA.jpg\" width=\"250\" align=\"center\">\n",
        "\n",
        "**PROCESAMIENTO DE LENGUAJE NATURAL**\n",
        "\n",
        "*DESAFÍO Nº6 - LSTM BOT QA - JUAN I. MUNAR*"
      ]
    },
    {
      "cell_type": "markdown",
      "metadata": {
        "id": "ZqO0PRcFsPTe"
      },
      "source": [
        "**DATOS.** El objetivo es utilizar datos disponibles del challenge ConvAI2 (Conversational Intelligence Challenge 2) de conversaciones en inglés. Se construirá un BOT para responder a preguntas del usuario (QA).\\\n",
        "[LINK](http://convai.io/data/)"
      ]
    },
    {
      "cell_type": "code",
      "execution_count": null,
      "metadata": {
        "id": "bDFC0I3j9oFD"
      },
      "outputs": [],
      "source": [
        "!pip install --upgrade --no-cache-dir gdown --quiet"
      ]
    },
    {
      "cell_type": "code",
      "execution_count": null,
      "metadata": {
        "id": "cq3YXak9sGHd"
      },
      "outputs": [],
      "source": [
        "import re\n",
        "\n",
        "import numpy as np\n",
        "import pandas as pd\n",
        "\n",
        "import tensorflow as tf\n",
        "from keras.preprocessing.text import one_hot\n",
        "from tensorflow.keras.utils import pad_sequences\n",
        "from keras.models import Sequential\n",
        "from keras.layers import Activation, Dropout, Dense\n",
        "from keras.layers import Flatten, LSTM, SimpleRNN\n",
        "from keras.models import Model\n",
        "from tensorflow.keras.layers import Embedding\n",
        "from sklearn.model_selection import train_test_split\n",
        "from keras.preprocessing.text import Tokenizer\n",
        "from keras.layers import Input"
      ]
    },
    {
      "cell_type": "code",
      "execution_count": null,
      "metadata": {
        "id": "RHNkUaPp6aYq",
        "colab": {
          "base_uri": "https://localhost:8080/"
        },
        "outputId": "45d834b6-3f3c-44f7-bcf2-f253959e534c"
      },
      "outputs": [
        {
          "output_type": "stream",
          "name": "stderr",
          "text": [
            "Downloading...\n",
            "From: https://drive.google.com/uc?id=1awUxYwImF84MIT5-jCaYAPe2QwSgS1hN&export=download\n",
            "To: /content/data_volunteers.json\n",
            "100%|██████████| 2.58M/2.58M [00:00<00:00, 206MB/s]\n"
          ]
        }
      ],
      "source": [
        "# Carpeta del dataset\n",
        "import os\n",
        "import gdown\n",
        "if os.access('data_volunteers.json', os.F_OK) is False:\n",
        "    url = 'https://drive.google.com/uc?id=1awUxYwImF84MIT5-jCaYAPe2QwSgS1hN&export=download'\n",
        "    output = 'data_volunteers.json'\n",
        "    gdown.download(url, output, quiet=False)\n",
        "else:\n",
        "    print(\"El dataset ya se encuentra descargado\")"
      ]
    },
    {
      "cell_type": "code",
      "execution_count": null,
      "metadata": {
        "id": "WZy1-wgG-Rp7"
      },
      "outputs": [],
      "source": [
        "# Dataset file\n",
        "import json\n",
        "\n",
        "text_file = \"data_volunteers.json\"\n",
        "with open(text_file) as f:\n",
        "    data = json.load(f) # la variable data será un diccionario\n",
        "\n"
      ]
    },
    {
      "cell_type": "code",
      "execution_count": null,
      "metadata": {
        "id": "ue5qd54S-eew",
        "colab": {
          "base_uri": "https://localhost:8080/"
        },
        "outputId": "3147d573-57ff-4792-aa0c-79cbab279578"
      },
      "outputs": [
        {
          "output_type": "execute_result",
          "data": {
            "text/plain": [
              "dict_keys(['dialog', 'start_time', 'end_time', 'bot_profile', 'user_profile', 'eval_score', 'profile_match', 'participant1_id', 'participant2_id'])"
            ]
          },
          "metadata": {},
          "execution_count": 5
        }
      ],
      "source": [
        "# Observar los campos disponibles en cada linea del dataset\n",
        "data[0].keys()"
      ]
    },
    {
      "cell_type": "code",
      "execution_count": null,
      "metadata": {
        "id": "jHBRAXPl-3dz",
        "colab": {
          "base_uri": "https://localhost:8080/"
        },
        "outputId": "5bf1f434-4e7c-4d22-cfa7-6bbf8d510ca8"
      },
      "outputs": [
        {
          "output_type": "stream",
          "name": "stdout",
          "text": [
            "Cantidad de rows utilizadas: 390\n"
          ]
        }
      ],
      "source": [
        "# Listas de preguntas y respuestas\n",
        "chat_in = []\n",
        "chat_out = []\n",
        "\n",
        "# Listas de entrada y salida como sentencias\n",
        "input_sentences = []\n",
        "output_sentences = []\n",
        "output_sentences_inputs = []\n",
        "max_len = 10\n",
        "\n",
        "# Limpieza del texto\n",
        "def clean_text(txt):\n",
        "    txt = txt.lower()\n",
        "    txt.replace(\"\\'d\", \" had\")\n",
        "    txt.replace(\"\\'s\", \" is\")\n",
        "    txt.replace(\"\\'m\", \" am\")\n",
        "    txt.replace(\"don't\", \"do not\")\n",
        "    txt = re.sub(r'\\W+', ' ', txt)\n",
        "\n",
        "    return txt\n",
        "\n",
        "# Limpieza del diálogo\n",
        "for line in data:\n",
        "    for i in range(len(line['dialog'])-1):\n",
        "        # Separación y limpieza del texto en \"preguntas\" (chat_in)\n",
        "        # y \"respuestas\" (chat_out)\n",
        "        chat_in = clean_text(line['dialog'][i]['text'])\n",
        "        chat_out = clean_text(line['dialog'][i+1]['text'])\n",
        "\n",
        "        if len(chat_in) >= max_len or len(chat_out) >= max_len:\n",
        "            continue\n",
        "\n",
        "        input_sentence, output = chat_in, chat_out\n",
        "\n",
        "        # Output sentence (decoder_output) tiene <eos>\n",
        "        output_sentence = output + ' <eos>'\n",
        "        # Output sentence input (decoder_input) tiene <sos>\n",
        "        output_sentence_input = '<sos> ' + output\n",
        "\n",
        "        input_sentences.append(input_sentence)\n",
        "        output_sentences.append(output_sentence)\n",
        "        output_sentences_inputs.append(output_sentence_input)\n",
        "\n",
        "print(\"Cantidad de rows utilizadas:\", len(input_sentences))"
      ]
    },
    {
      "cell_type": "code",
      "execution_count": null,
      "metadata": {
        "id": "07L1qj8pC_l6",
        "colab": {
          "base_uri": "https://localhost:8080/"
        },
        "outputId": "87cb3ede-fee5-43c8-9c94-ef4153b6e857"
      },
      "outputs": [
        {
          "output_type": "execute_result",
          "data": {
            "text/plain": [
              "('hi ', 'hello  <eos>', '<sos> hello ')"
            ]
          },
          "metadata": {},
          "execution_count": 7
        }
      ],
      "source": [
        "input_sentences[1], output_sentences[1], output_sentences_inputs[1]"
      ]
    },
    {
      "cell_type": "markdown",
      "metadata": {
        "id": "8P-ynUNP5xp6"
      },
      "source": [
        "**1. PREPROCESAMIENTO**"
      ]
    },
    {
      "cell_type": "code",
      "source": [
        "# El tamaño máximo del vocabulario\n",
        "MAX_VOCAB_SIZE = 8000"
      ],
      "metadata": {
        "id": "5F4iDyFuTQEP"
      },
      "execution_count": null,
      "outputs": []
    },
    {
      "cell_type": "code",
      "source": [
        "# Tokenizar las palabras con el Tokenizer de Keras\n",
        "# Definir una máxima cantidad de palabras a utilizar:\n",
        "from keras.preprocessing.text import Tokenizer\n",
        "\n",
        "# Tokenizador de entrada\n",
        "input_tokenizer = Tokenizer(num_words=MAX_VOCAB_SIZE)\n",
        "input_tokenizer.fit_on_texts(input_sentences)\n",
        "input_integer_seq = input_tokenizer.texts_to_sequences(input_sentences)\n",
        "\n",
        "word2idx_inputs = input_tokenizer.word_index\n",
        "print(\"Palabras en el vocabulario:\", len(word2idx_inputs))\n",
        "\n",
        "max_input_len = max(len(sen) for sen in input_integer_seq)\n",
        "print(\"Sentencia de entrada más larga:\", max_input_len)"
      ],
      "metadata": {
        "id": "QkOPiuxKTiLw",
        "colab": {
          "base_uri": "https://localhost:8080/"
        },
        "outputId": "a99b07f0-589b-4dba-c4b8-c679d2dfbf02"
      },
      "execution_count": null,
      "outputs": [
        {
          "output_type": "stream",
          "name": "stdout",
          "text": [
            "Palabras en el vocabulario: 142\n",
            "Sentencia de entrada más larga: 4\n"
          ]
        }
      ]
    },
    {
      "cell_type": "code",
      "source": [
        "# Tokenizador de salida\n",
        "# Sacamos los \"<>\" para que no afectar nuestros tokens\n",
        "output_tokenizer = Tokenizer(num_words=MAX_VOCAB_SIZE, filters='!\"#$%&()*+,-./:;=?@[\\\\]^_`{|}~\\t\\n')\n",
        "output_tokenizer.fit_on_texts([\"<sos>\", \"<eos>\"] + output_sentences)\n",
        "output_integer_seq = output_tokenizer.texts_to_sequences(output_sentences)\n",
        "output_input_integer_seq = output_tokenizer.texts_to_sequences(output_sentences_inputs)\n",
        "\n",
        "# De palabra a índice\n",
        "word2idx_outputs = output_tokenizer.word_index\n",
        "print(\"Palabras en el vocabulario:\", len(word2idx_outputs))\n",
        "\n",
        "num_words_output = min(len(word2idx_outputs) + 1, MAX_VOCAB_SIZE)\n",
        "# Se suma 1 para incluir el token de palabra desconocida\n",
        "\n",
        "max_out_len = max(len(sen) for sen in output_integer_seq)\n",
        "print(\"Sentencia de salida más larga:\", max_out_len)"
      ],
      "metadata": {
        "id": "IoYlfCW-TiIp",
        "colab": {
          "base_uri": "https://localhost:8080/"
        },
        "outputId": "92b06c18-4287-464f-824b-a56bbce7c8f9"
      },
      "execution_count": null,
      "outputs": [
        {
          "output_type": "stream",
          "name": "stdout",
          "text": [
            "Palabras en el vocabulario: 158\n",
            "Sentencia de salida más larga: 4\n"
          ]
        }
      ]
    },
    {
      "cell_type": "code",
      "source": [
        "# Padding de encoder y decoder\n",
        "print(\"Cantidad de rows del dataset:\", len(input_integer_seq))\n",
        "\n",
        "encoder_input_sequences = pad_sequences(input_integer_seq, maxlen=max_input_len)\n",
        "print(\"encoder_input_sequences shape:\", encoder_input_sequences.shape)\n",
        "\n",
        "decoder_input_sequences = pad_sequences(output_input_integer_seq, maxlen=max_out_len, padding='post')\n",
        "print(\"decoder_input_sequences shape:\", decoder_input_sequences.shape)"
      ],
      "metadata": {
        "id": "j0f84ZWKTiF5",
        "colab": {
          "base_uri": "https://localhost:8080/"
        },
        "outputId": "389905ab-a7f1-4125-d8ea-b40b19f4d403"
      },
      "execution_count": null,
      "outputs": [
        {
          "output_type": "stream",
          "name": "stdout",
          "text": [
            "Cantidad de rows del dataset: 390\n",
            "encoder_input_sequences shape: (390, 4)\n",
            "decoder_input_sequences shape: (390, 4)\n"
          ]
        }
      ]
    },
    {
      "cell_type": "code",
      "source": [
        "from keras.utils import to_categorical\n",
        "decoder_output_sequences = pad_sequences(output_integer_seq, maxlen=max_out_len, padding='post')\n",
        "decoder_targets = to_categorical(decoder_output_sequences, num_classes=num_words_output)\n",
        "decoder_targets.shape"
      ],
      "metadata": {
        "id": "Wlv2BIblTiDY",
        "colab": {
          "base_uri": "https://localhost:8080/"
        },
        "outputId": "80ac564e-b454-489b-c0f0-9e451ab9d150"
      },
      "execution_count": null,
      "outputs": [
        {
          "output_type": "execute_result",
          "data": {
            "text/plain": [
              "(390, 4, 159)"
            ]
          },
          "metadata": {},
          "execution_count": 13
        }
      ]
    },
    {
      "cell_type": "markdown",
      "metadata": {
        "id": "_CJIsLBbj6rg"
      },
      "source": [
        "**3. PREPARACIÓN DE EMBEDDINGS**\n",
        "\n",
        "Se utilizan los embeddings de FastText para transformar los tokens de entrada en vectores"
      ]
    },
    {
      "cell_type": "code",
      "source": [
        "# Descargar los embeddings desde un gogle drive (es la forma más rápida)\n",
        "# NOTA: No hay garantía de que estos links perduren, en caso de que no estén\n",
        "# disponibles descargar de la página oficial como se explica en el siguiente bloque\n",
        "!curl -L -o 'fasttext.pkl' 'https://drive.google.com/u/0/uc?id=1Qi1r-u5lsEsNqRSxLrpNOqQ3B_ufltCa&export=download&confirm=t'"
      ],
      "metadata": {
        "id": "Mpf79JTVshc5",
        "colab": {
          "base_uri": "https://localhost:8080/"
        },
        "outputId": "f5217da9-b195-4c6e-e865-dab4d66f1114"
      },
      "execution_count": null,
      "outputs": [
        {
          "output_type": "stream",
          "name": "stdout",
          "text": [
            "  % Total    % Received % Xferd  Average Speed   Time    Time     Time  Current\n",
            "                                 Dload  Upload   Total   Spent    Left  Speed\n",
            "  0     0    0     0    0     0      0      0 --:--:-- --:--:-- --:--:--     0\n",
            "  0     0    0     0    0     0      0      0 --:--:-- --:--:-- --:--:--     0\n",
            "100 2746M  100 2746M    0     0  99.3M      0  0:00:27  0:00:27 --:--:-- 86.0M\n"
          ]
        }
      ]
    },
    {
      "cell_type": "code",
      "source": [
        "import logging\n",
        "import os\n",
        "from pathlib import Path\n",
        "from io import StringIO\n",
        "import pickle\n",
        "\n",
        "class WordsEmbeddings(object):\n",
        "    logger = logging.getLogger(__name__)\n",
        "\n",
        "    def __init__(self):\n",
        "        # load the embeddings\n",
        "        words_embedding_pkl = Path(self.PKL_PATH)\n",
        "        if not words_embedding_pkl.is_file():\n",
        "            words_embedding_txt = Path(self.WORD_TO_VEC_MODEL_TXT_PATH)\n",
        "            assert words_embedding_txt.is_file(), 'Words embedding not available'\n",
        "            embeddings = self.convert_model_to_pickle()\n",
        "        else:\n",
        "            embeddings = self.load_model_from_pickle()\n",
        "        self.embeddings = embeddings\n",
        "        # build the vocabulary hashmap\n",
        "        index = np.arange(self.embeddings.shape[0])\n",
        "        # Dicctionarios para traducir de embedding a IDX de la palabra\n",
        "        self.word2idx = dict(zip(self.embeddings['word'], index))\n",
        "        self.idx2word = dict(zip(index, self.embeddings['word']))\n",
        "\n",
        "    def get_words_embeddings(self, words):\n",
        "        words_idxs = self.words2idxs(words)\n",
        "        return self.embeddings[words_idxs]['embedding']\n",
        "\n",
        "    def words2idxs(self, words):\n",
        "        return np.array([self.word2idx.get(word, -1) for word in words])\n",
        "\n",
        "    def idxs2words(self, idxs):\n",
        "        return np.array([self.idx2word.get(idx, '-1') for idx in idxs])\n",
        "\n",
        "    def load_model_from_pickle(self):\n",
        "        self.logger.debug(\n",
        "            'loading words embeddings from pickle {}'.format(\n",
        "                self.PKL_PATH\n",
        "            )\n",
        "        )\n",
        "        max_bytes = 2**28 - 1 # 256MB\n",
        "        bytes_in = bytearray(0)\n",
        "        input_size = os.path.getsize(self.PKL_PATH)\n",
        "        with open(self.PKL_PATH, 'rb') as f_in:\n",
        "            for _ in range(0, input_size, max_bytes):\n",
        "                bytes_in += f_in.read(max_bytes)\n",
        "        embeddings = pickle.loads(bytes_in)\n",
        "        self.logger.debug('words embeddings loaded')\n",
        "        return embeddings\n",
        "\n",
        "    def convert_model_to_pickle(self):\n",
        "        # create a numpy strctured array:\n",
        "        # word     embedding\n",
        "        # U50      np.float32[]\n",
        "        # word_1   a, b, c\n",
        "        # word_2   d, e, f\n",
        "        # ...\n",
        "        # word_n   g, h, i\n",
        "        self.logger.debug(\n",
        "            'converting and loading words embeddings from text file {}'.format(\n",
        "                self.WORD_TO_VEC_MODEL_TXT_PATH\n",
        "            )\n",
        "        )\n",
        "        structure = [('word', np.dtype('U' + str(self.WORD_MAX_SIZE))),\n",
        "                     ('embedding', np.float32, (self.N_FEATURES,))]\n",
        "        structure = np.dtype(structure)\n",
        "        # load numpy array from disk using a generator\n",
        "        with open(self.WORD_TO_VEC_MODEL_TXT_PATH, encoding=\"utf8\") as words_embeddings_txt:\n",
        "            embeddings_gen = (\n",
        "                (line.split()[0], line.split()[1:]) for line in words_embeddings_txt\n",
        "                if len(line.split()[1:]) == self.N_FEATURES\n",
        "            )\n",
        "            embeddings = np.fromiter(embeddings_gen, structure)\n",
        "        # add a null embedding\n",
        "        null_embedding = np.array(\n",
        "            [('null_embedding', np.zeros((self.N_FEATURES,), dtype=np.float32))],\n",
        "            dtype=structure\n",
        "        )\n",
        "        embeddings = np.concatenate([embeddings, null_embedding])\n",
        "        # dump numpy array to disk using pickle\n",
        "        max_bytes = 2**28 - 1 # # 256MB\n",
        "        bytes_out = pickle.dumps(embeddings, protocol=pickle.HIGHEST_PROTOCOL)\n",
        "        with open(self.PKL_PATH, 'wb') as f_out:\n",
        "            for idx in range(0, len(bytes_out), max_bytes):\n",
        "                f_out.write(bytes_out[idx:idx+max_bytes])\n",
        "        self.logger.debug('words embeddings loaded')\n",
        "        return embeddings\n",
        "\n",
        "\n",
        "class GloveEmbeddings(WordsEmbeddings):\n",
        "    WORD_TO_VEC_MODEL_TXT_PATH = 'glove.twitter.27B.50d.txt'\n",
        "    PKL_PATH = 'gloveembedding.pkl'\n",
        "    N_FEATURES = 50\n",
        "    WORD_MAX_SIZE = 60\n",
        "\n",
        "class FasttextEmbeddings(WordsEmbeddings):\n",
        "    WORD_TO_VEC_MODEL_TXT_PATH = 'cc.en.300.vec'\n",
        "    PKL_PATH = 'fasttext.pkl'\n",
        "    N_FEATURES = 300\n",
        "    WORD_MAX_SIZE = 60"
      ],
      "metadata": {
        "id": "kdovC_zMshaZ"
      },
      "execution_count": null,
      "outputs": []
    },
    {
      "cell_type": "code",
      "source": [
        "# Se utilizarán los embeddings de Fasttext\n",
        "model_embeddings = FasttextEmbeddings()"
      ],
      "metadata": {
        "id": "at9_OyIksvPK"
      },
      "execution_count": null,
      "outputs": []
    },
    {
      "cell_type": "code",
      "source": [
        "# Crear la Embedding matrix de las secuencias en inglés\n",
        "print('preparing embedding matrix...')\n",
        "embed_dim = model_embeddings.N_FEATURES\n",
        "words_not_found = []\n",
        "\n",
        "# word_index provieen del tokenizer\n",
        "nb_words = min(MAX_VOCAB_SIZE, len(word2idx_inputs)) # vocab_size\n",
        "embedding_matrix = np.zeros((nb_words, embed_dim))\n",
        "for word, i in word2idx_inputs.items():\n",
        "    if i >= nb_words:\n",
        "        continue\n",
        "    embedding_vector = model_embeddings.get_words_embeddings(word)[0]\n",
        "    if (embedding_vector is not None) and len(embedding_vector) > 0:\n",
        "\n",
        "        embedding_matrix[i] = embedding_vector\n",
        "    else:\n",
        "        words_not_found.append(word)\n",
        "\n",
        "print('number of null word embeddings:', np.sum(np.sum(embedding_matrix**2, axis=1) == 0))"
      ],
      "metadata": {
        "id": "-0WDpCDisvMU",
        "colab": {
          "base_uri": "https://localhost:8080/"
        },
        "outputId": "8ecc64fa-1b1f-4fd0-9cf5-5be7fd0ab88e"
      },
      "execution_count": null,
      "outputs": [
        {
          "output_type": "stream",
          "name": "stdout",
          "text": [
            "preparing embedding matrix...\n",
            "number of null word embeddings: 1\n"
          ]
        }
      ]
    },
    {
      "cell_type": "code",
      "source": [
        "# Dimensión de los embeddings de la secuencia en inglés\n",
        "embedding_matrix.shape"
      ],
      "metadata": {
        "id": "vsyEJoNQsvJZ",
        "colab": {
          "base_uri": "https://localhost:8080/"
        },
        "outputId": "6286e2c3-0dd8-49a9-9532-1a3fb46724e7"
      },
      "execution_count": null,
      "outputs": [
        {
          "output_type": "execute_result",
          "data": {
            "text/plain": [
              "(142, 300)"
            ]
          },
          "metadata": {},
          "execution_count": 18
        }
      ]
    },
    {
      "cell_type": "markdown",
      "metadata": {
        "id": "3vKbhjtIwPgM"
      },
      "source": [
        "**4.ENTRENAMIENTO**\n",
        "\n",
        "Entreno un modelo basado en el esquema encoder-decoder utilizando los datos generados en los puntos anteriores."
      ]
    },
    {
      "cell_type": "code",
      "source": [
        "from keras.models import Model\n",
        "from keras.layers import Input, LSTM, Dense\n",
        "\n",
        "n_units = 128\n",
        "\n",
        "# Define training encoder\n",
        "encoder_inputs = Input(shape=(max_input_len))\n",
        "\n",
        "# encoder_embedding_layer = Embedding(num_words, EMBEDDING_SIZE, weights=[embedding_matrix], input_length=max_input_len)\n",
        "\n",
        "encoder_embedding_layer = Embedding(\n",
        "          input_dim=nb_words,  # Definido en el Tokenizador\n",
        "          output_dim=embed_dim,  # Dimensión de los embeddings utilizados\n",
        "          input_length=max_input_len, # Tamaño máximo de la secuencia de entrada\n",
        "          weights=[embedding_matrix],  # Matrix de embeddings\n",
        "          trainable=False)      # Marcar como layer no entrenable\n",
        "\n",
        "encoder_inputs_x = encoder_embedding_layer(encoder_inputs)\n",
        "\n",
        "encoder = LSTM(n_units, return_state=True)\n",
        "encoder_outputs, state_h, state_c = encoder(encoder_inputs_x)\n",
        "encoder_states = [state_h, state_c]\n",
        "\n",
        "# Define training decoder\n",
        "decoder_inputs = Input(shape=(max_out_len))\n",
        "decoder_embedding_layer = Embedding(input_dim=num_words_output, output_dim=n_units, input_length=max_out_len)\n",
        "decoder_inputs_x = decoder_embedding_layer(decoder_inputs)\n",
        "\n",
        "decoder_lstm = LSTM(n_units, return_sequences=True, return_state=True)\n",
        "decoder_outputs, _, _ = decoder_lstm(decoder_inputs_x, initial_state=encoder_states)\n",
        "\n",
        "# Dense\n",
        "decoder_dense = Dense(num_words_output, activation='softmax')\n",
        "decoder_outputs = decoder_dense(decoder_outputs)\n",
        "model = Model([encoder_inputs, decoder_inputs], decoder_outputs)\n",
        "\n",
        "model.compile(loss='categorical_crossentropy', optimizer=\"Adam\", metrics=['accuracy'])\n",
        "model.summary()"
      ],
      "metadata": {
        "id": "RodnPq4ss7Fr",
        "colab": {
          "base_uri": "https://localhost:8080/"
        },
        "outputId": "360af40b-170b-4a12-82c6-fa803e739ede"
      },
      "execution_count": null,
      "outputs": [
        {
          "output_type": "stream",
          "name": "stdout",
          "text": [
            "Model: \"model\"\n",
            "__________________________________________________________________________________________________\n",
            " Layer (type)                Output Shape                 Param #   Connected to                  \n",
            "==================================================================================================\n",
            " input_1 (InputLayer)        [(None, 4)]                  0         []                            \n",
            "                                                                                                  \n",
            " input_2 (InputLayer)        [(None, 4)]                  0         []                            \n",
            "                                                                                                  \n",
            " embedding (Embedding)       (None, 4, 300)               42600     ['input_1[0][0]']             \n",
            "                                                                                                  \n",
            " embedding_1 (Embedding)     (None, 4, 128)               20352     ['input_2[0][0]']             \n",
            "                                                                                                  \n",
            " lstm (LSTM)                 [(None, 128),                219648    ['embedding[0][0]']           \n",
            "                              (None, 128),                                                        \n",
            "                              (None, 128)]                                                        \n",
            "                                                                                                  \n",
            " lstm_1 (LSTM)               [(None, 4, 128),             131584    ['embedding_1[0][0]',         \n",
            "                              (None, 128),                           'lstm[0][1]',                \n",
            "                              (None, 128)]                           'lstm[0][2]']                \n",
            "                                                                                                  \n",
            " dense (Dense)               (None, 4, 159)               20511     ['lstm_1[0][0]']              \n",
            "                                                                                                  \n",
            "==================================================================================================\n",
            "Total params: 434695 (1.66 MB)\n",
            "Trainable params: 392095 (1.50 MB)\n",
            "Non-trainable params: 42600 (166.41 KB)\n",
            "__________________________________________________________________________________________________\n"
          ]
        }
      ]
    },
    {
      "cell_type": "code",
      "source": [
        "from keras.utils import plot_model\n",
        "# Modelo completo (encoder+decoder) para poder entrenar\n",
        "plot_model(model, to_file='model_plot.png', show_shapes=True, show_layer_names=True)"
      ],
      "metadata": {
        "id": "mfmH3qs1s7BM",
        "colab": {
          "base_uri": "https://localhost:8080/",
          "height": 533
        },
        "outputId": "6733894b-7885-4c37-a8a7-d0189917bdf2"
      },
      "execution_count": null,
      "outputs": [
        {
          "output_type": "execute_result",
          "data": {
            "image/png": "[encoded data removed]",
            "text/plain": [
              "<IPython.core.display.Image object>"
            ]
          },
          "metadata": {},
          "execution_count": 20
        }
      ]
    },
    {
      "cell_type": "code",
      "source": [
        "# Modelo solo encoder\n",
        "encoder_model = Model(encoder_inputs, encoder_states)\n",
        "\n",
        "plot_model(encoder_model, to_file='encoder_plot.png', show_shapes=True, show_layer_names=True)"
      ],
      "metadata": {
        "id": "IEjkA25Ys69X",
        "colab": {
          "base_uri": "https://localhost:8080/",
          "height": 312
        },
        "outputId": "c1cc45e7-a06d-4b15-c6c1-4cc2f440a8ff"
      },
      "execution_count": null,
      "outputs": [
        {
          "output_type": "execute_result",
          "data": {
            "image/png": "[encoded data removed]",
            "text/plain": [
              "<IPython.core.display.Image object>"
            ]
          },
          "metadata": {},
          "execution_count": 21
        }
      ]
    },
    {
      "cell_type": "code",
      "source": [
        "# Modelo solo decoder (para realizar inferencia)\n",
        "\n",
        "# Define inference decoder\n",
        "decoder_state_input_h = Input(shape=(n_units,))\n",
        "decoder_state_input_c = Input(shape=(n_units,))\n",
        "decoder_states_inputs = [decoder_state_input_h, decoder_state_input_c]\n",
        "\n",
        "# En cada predicción habrá una sola palabra de entrada al decoder,\n",
        "# que es la realimentación de la palabra anterior\n",
        "# por lo que hay que modificar el input shape de la layer de Embedding\n",
        "decoder_inputs_single = Input(shape=(1,))\n",
        "decoder_inputs_single_x = decoder_embedding_layer(decoder_inputs_single)\n",
        "\n",
        "decoder_outputs, state_h, state_c = decoder_lstm(decoder_inputs_single_x, initial_state=decoder_states_inputs)\n",
        "decoder_states = [state_h, state_c]\n",
        "decoder_outputs = decoder_dense(decoder_outputs)\n",
        "decoder_model = Model([decoder_inputs_single] + decoder_states_inputs, [decoder_outputs] + decoder_states)\n",
        "\n",
        "plot_model(decoder_model, to_file='decoder_plot.png', show_shapes=True, show_layer_names=True)"
      ],
      "metadata": {
        "id": "Djwt5Bias65a",
        "colab": {
          "base_uri": "https://localhost:8080/",
          "height": 422
        },
        "outputId": "b3566f8c-c92e-463f-b123-8992a89a91c1"
      },
      "execution_count": null,
      "outputs": [
        {
          "output_type": "execute_result",
          "data": {
            "image/png": "[encoded data removed]",
            "text/plain": [
              "<IPython.core.display.Image object>"
            ]
          },
          "metadata": {},
          "execution_count": 22
        }
      ]
    },
    {
      "cell_type": "code",
      "source": [
        "hist = model.fit(\n",
        "    [encoder_input_sequences, decoder_input_sequences],\n",
        "    decoder_targets,\n",
        "    epochs=50,\n",
        "    validation_split=0.2)"
      ],
      "metadata": {
        "id": "b8onkU2Zs608",
        "colab": {
          "base_uri": "https://localhost:8080/"
        },
        "outputId": "d81057ed-5000-4cf5-e10e-c6b7825cab2f"
      },
      "execution_count": null,
      "outputs": [
        {
          "output_type": "stream",
          "name": "stdout",
          "text": [
            "Epoch 1/50\n",
            "10/10 [==============================] - 11s 246ms/step - loss: 4.7552 - accuracy: 0.3934 - val_loss: 4.0728 - val_accuracy: 0.4679\n",
            "Epoch 2/50\n",
            "10/10 [==============================] - 1s 65ms/step - loss: 3.0363 - accuracy: 0.4423 - val_loss: 2.2709 - val_accuracy: 0.4679\n",
            "Epoch 3/50\n",
            "10/10 [==============================] - 0s 33ms/step - loss: 2.1813 - accuracy: 0.4752 - val_loss: 2.1129 - val_accuracy: 0.6571\n",
            "Epoch 4/50\n",
            "10/10 [==============================] - 0s 22ms/step - loss: 2.0136 - accuracy: 0.6106 - val_loss: 1.9466 - val_accuracy: 0.5962\n",
            "Epoch 5/50\n",
            "10/10 [==============================] - 0s 13ms/step - loss: 1.8593 - accuracy: 0.5905 - val_loss: 1.8953 - val_accuracy: 0.6827\n",
            "Epoch 6/50\n",
            "10/10 [==============================] - 0s 12ms/step - loss: 1.7656 - accuracy: 0.6538 - val_loss: 1.8104 - val_accuracy: 0.6859\n",
            "Epoch 7/50\n",
            "10/10 [==============================] - 0s 12ms/step - loss: 1.6812 - accuracy: 0.6643 - val_loss: 1.7625 - val_accuracy: 0.6923\n",
            "Epoch 8/50\n",
            "10/10 [==============================] - 0s 22ms/step - loss: 1.6085 - accuracy: 0.6803 - val_loss: 1.7188 - val_accuracy: 0.6987\n",
            "Epoch 9/50\n",
            "10/10 [==============================] - 0s 11ms/step - loss: 1.5435 - accuracy: 0.6883 - val_loss: 1.6854 - val_accuracy: 0.7115\n",
            "Epoch 10/50\n",
            "10/10 [==============================] - 0s 14ms/step - loss: 1.4901 - accuracy: 0.7027 - val_loss: 1.6605 - val_accuracy: 0.7308\n",
            "Epoch 11/50\n",
            "10/10 [==============================] - 0s 12ms/step - loss: 1.4438 - accuracy: 0.7292 - val_loss: 1.6406 - val_accuracy: 0.7340\n",
            "Epoch 12/50\n",
            "10/10 [==============================] - 0s 11ms/step - loss: 1.4054 - accuracy: 0.7284 - val_loss: 1.6257 - val_accuracy: 0.7308\n",
            "Epoch 13/50\n",
            "10/10 [==============================] - 0s 22ms/step - loss: 1.3703 - accuracy: 0.7284 - val_loss: 1.6235 - val_accuracy: 0.7308\n",
            "Epoch 14/50\n",
            "10/10 [==============================] - 0s 12ms/step - loss: 1.3391 - accuracy: 0.7316 - val_loss: 1.6208 - val_accuracy: 0.7340\n",
            "Epoch 15/50\n",
            "10/10 [==============================] - 0s 23ms/step - loss: 1.3114 - accuracy: 0.7364 - val_loss: 1.6229 - val_accuracy: 0.7308\n",
            "Epoch 16/50\n",
            "10/10 [==============================] - 0s 11ms/step - loss: 1.2851 - accuracy: 0.7380 - val_loss: 1.6280 - val_accuracy: 0.7308\n",
            "Epoch 17/50\n",
            "10/10 [==============================] - 0s 12ms/step - loss: 1.2612 - accuracy: 0.7380 - val_loss: 1.6335 - val_accuracy: 0.7308\n",
            "Epoch 18/50\n",
            "10/10 [==============================] - 0s 12ms/step - loss: 1.2377 - accuracy: 0.7404 - val_loss: 1.6412 - val_accuracy: 0.7308\n",
            "Epoch 19/50\n",
            "10/10 [==============================] - 0s 12ms/step - loss: 1.2165 - accuracy: 0.7468 - val_loss: 1.6530 - val_accuracy: 0.7308\n",
            "Epoch 20/50\n",
            "10/10 [==============================] - 0s 12ms/step - loss: 1.1941 - accuracy: 0.7460 - val_loss: 1.6618 - val_accuracy: 0.7276\n",
            "Epoch 21/50\n",
            "10/10 [==============================] - 0s 12ms/step - loss: 1.1738 - accuracy: 0.7452 - val_loss: 1.6682 - val_accuracy: 0.7276\n",
            "Epoch 22/50\n",
            "10/10 [==============================] - 0s 12ms/step - loss: 1.1541 - accuracy: 0.7468 - val_loss: 1.6794 - val_accuracy: 0.7244\n",
            "Epoch 23/50\n",
            "10/10 [==============================] - 0s 13ms/step - loss: 1.1349 - accuracy: 0.7484 - val_loss: 1.6951 - val_accuracy: 0.7244\n",
            "Epoch 24/50\n",
            "10/10 [==============================] - 0s 12ms/step - loss: 1.1154 - accuracy: 0.7484 - val_loss: 1.7067 - val_accuracy: 0.7244\n",
            "Epoch 25/50\n",
            "10/10 [==============================] - 0s 12ms/step - loss: 1.0984 - accuracy: 0.7492 - val_loss: 1.7121 - val_accuracy: 0.7244\n",
            "Epoch 26/50\n",
            "10/10 [==============================] - 0s 12ms/step - loss: 1.0799 - accuracy: 0.7500 - val_loss: 1.7291 - val_accuracy: 0.7244\n",
            "Epoch 27/50\n",
            "10/10 [==============================] - 0s 13ms/step - loss: 1.0595 - accuracy: 0.7532 - val_loss: 1.7407 - val_accuracy: 0.7244\n",
            "Epoch 28/50\n",
            "10/10 [==============================] - 0s 13ms/step - loss: 1.0407 - accuracy: 0.7564 - val_loss: 1.7586 - val_accuracy: 0.7244\n",
            "Epoch 29/50\n",
            "10/10 [==============================] - 0s 12ms/step - loss: 1.0214 - accuracy: 0.7596 - val_loss: 1.7679 - val_accuracy: 0.7276\n",
            "Epoch 30/50\n",
            "10/10 [==============================] - 0s 11ms/step - loss: 1.0011 - accuracy: 0.7644 - val_loss: 1.7842 - val_accuracy: 0.7276\n",
            "Epoch 31/50\n",
            "10/10 [==============================] - 0s 13ms/step - loss: 0.9809 - accuracy: 0.7652 - val_loss: 1.7945 - val_accuracy: 0.7244\n",
            "Epoch 32/50\n",
            "10/10 [==============================] - 0s 12ms/step - loss: 0.9610 - accuracy: 0.7692 - val_loss: 1.8075 - val_accuracy: 0.7212\n",
            "Epoch 33/50\n",
            "10/10 [==============================] - 0s 12ms/step - loss: 0.9400 - accuracy: 0.7740 - val_loss: 1.8338 - val_accuracy: 0.7244\n",
            "Epoch 34/50\n",
            "10/10 [==============================] - 0s 11ms/step - loss: 0.9230 - accuracy: 0.7732 - val_loss: 1.8428 - val_accuracy: 0.7212\n",
            "Epoch 35/50\n",
            "10/10 [==============================] - 0s 11ms/step - loss: 0.9011 - accuracy: 0.7764 - val_loss: 1.8610 - val_accuracy: 0.7244\n",
            "Epoch 36/50\n",
            "10/10 [==============================] - 0s 11ms/step - loss: 0.8821 - accuracy: 0.7788 - val_loss: 1.8679 - val_accuracy: 0.7212\n",
            "Epoch 37/50\n",
            "10/10 [==============================] - 0s 13ms/step - loss: 0.8622 - accuracy: 0.7812 - val_loss: 1.8922 - val_accuracy: 0.7212\n",
            "Epoch 38/50\n",
            "10/10 [==============================] - 0s 12ms/step - loss: 0.8443 - accuracy: 0.7885 - val_loss: 1.9047 - val_accuracy: 0.7244\n",
            "Epoch 39/50\n",
            "10/10 [==============================] - 0s 17ms/step - loss: 0.8281 - accuracy: 0.7909 - val_loss: 1.9232 - val_accuracy: 0.7179\n",
            "Epoch 40/50\n",
            "10/10 [==============================] - 0s 12ms/step - loss: 0.8106 - accuracy: 0.7909 - val_loss: 1.9335 - val_accuracy: 0.7179\n",
            "Epoch 41/50\n",
            "10/10 [==============================] - 0s 11ms/step - loss: 0.7931 - accuracy: 0.7949 - val_loss: 1.9475 - val_accuracy: 0.7244\n",
            "Epoch 42/50\n",
            "10/10 [==============================] - 0s 13ms/step - loss: 0.7776 - accuracy: 0.8005 - val_loss: 1.9603 - val_accuracy: 0.7147\n",
            "Epoch 43/50\n",
            "10/10 [==============================] - 0s 21ms/step - loss: 0.7612 - accuracy: 0.8077 - val_loss: 1.9821 - val_accuracy: 0.7179\n",
            "Epoch 44/50\n",
            "10/10 [==============================] - 0s 12ms/step - loss: 0.7488 - accuracy: 0.8061 - val_loss: 1.9927 - val_accuracy: 0.7147\n",
            "Epoch 45/50\n",
            "10/10 [==============================] - 0s 13ms/step - loss: 0.7339 - accuracy: 0.8117 - val_loss: 2.0007 - val_accuracy: 0.7115\n",
            "Epoch 46/50\n",
            "10/10 [==============================] - 0s 12ms/step - loss: 0.7209 - accuracy: 0.8149 - val_loss: 2.0164 - val_accuracy: 0.7115\n",
            "Epoch 47/50\n",
            "10/10 [==============================] - 0s 12ms/step - loss: 0.7106 - accuracy: 0.8157 - val_loss: 2.0309 - val_accuracy: 0.7115\n",
            "Epoch 48/50\n",
            "10/10 [==============================] - 0s 11ms/step - loss: 0.6986 - accuracy: 0.8197 - val_loss: 2.0418 - val_accuracy: 0.7115\n",
            "Epoch 49/50\n",
            "10/10 [==============================] - 0s 12ms/step - loss: 0.6870 - accuracy: 0.8221 - val_loss: 2.0586 - val_accuracy: 0.7115\n",
            "Epoch 50/50\n",
            "10/10 [==============================] - 0s 11ms/step - loss: 0.6789 - accuracy: 0.8253 - val_loss: 2.0659 - val_accuracy: 0.7115\n"
          ]
        }
      ]
    },
    {
      "cell_type": "code",
      "source": [
        "import matplotlib.pyplot as plt\n",
        "import seaborn as sns\n",
        "\n",
        "# Entrenamiento\n",
        "epoch_count = range(1, len(hist.history['accuracy']) + 1)\n",
        "sns.lineplot(x=epoch_count,  y=hist.history['accuracy'], label='train')\n",
        "sns.lineplot(x=epoch_count,  y=hist.history['val_accuracy'], label='valid')\n",
        "plt.show()"
      ],
      "metadata": {
        "id": "GWqvPjqBzvtz",
        "colab": {
          "base_uri": "https://localhost:8080/",
          "height": 430
        },
        "outputId": "9983cf8b-9b34-412b-fce1-bc538b8f143b"
      },
      "execution_count": null,
      "outputs": [
        {
          "output_type": "display_data",
          "data": {
            "text/plain": [
              "<Figure size 640x480 with 1 Axes>"
            ],
            "image/png": "[encoded data removed]"
          },
          "metadata": {}
        }
      ]
    },
    {
      "cell_type": "code",
      "source": [
        "from keras.models import load_model\n",
        "\n",
        "# Guardado como modelo de keras\n",
        "model.save('bot_qa.keras')"
      ],
      "metadata": {
        "id": "bhf_DuoI13Lq"
      },
      "execution_count": null,
      "outputs": []
    },
    {
      "cell_type": "markdown",
      "metadata": {
        "id": "Zbwn0ekDy_s2"
      },
      "source": [
        "**5. INFERENCIA**\n",
        "\n",
        "Experimento con el funcionamiento del modelo. Se debe realizar la inferencia de los modelos por separado de encoder y decoder."
      ]
    },
    {
      "cell_type": "code",
      "source": [
        "# Armar los conversores de índice a palabra:\n",
        "idx2word_input = {v:k for k, v in word2idx_inputs.items()}\n",
        "idx2word_target = {v:k for k, v in word2idx_outputs.items()}"
      ],
      "metadata": {
        "id": "yIuv8fMa0CDi"
      },
      "execution_count": null,
      "outputs": []
    },
    {
      "cell_type": "code",
      "source": [
        "def respuesta(input_seq):\n",
        "    # Se transforma la sequencia de entrada a los estados \"h\" y \"c\" de la LSTM\n",
        "    # para enviar la primera vez al decoder\n",
        "    states_value = encoder_model.predict(input_seq)\n",
        "\n",
        "    # Se inicializa la secuencia de entrada al decoder como \"<sos>\"\n",
        "    target_seq = np.zeros((1, 1))\n",
        "    target_seq[0, 0] = word2idx_outputs['<sos>']\n",
        "\n",
        "    # Se obtiene el índice que finaliza la inferencia\n",
        "    eos = word2idx_outputs['<eos>']\n",
        "\n",
        "    output_sentence = []\n",
        "    for _ in range(max_out_len):\n",
        "        # Predicción del próximo elemento\n",
        "        output_tokens, h, c = decoder_model.predict([target_seq] + states_value)\n",
        "        idx = np.argmax(output_tokens[0, 0, :])\n",
        "\n",
        "        # Si es \"end of sentece <eos>\" se acaba\n",
        "        if eos == idx:\n",
        "            break\n",
        "\n",
        "        # Transformar idx a palabra\n",
        "        word = ''\n",
        "        if idx > 0:\n",
        "            word = idx2word_target[idx]\n",
        "            output_sentence.append(word)\n",
        "\n",
        "        # Actualizar los estados dada la última predicción\n",
        "        states_value = [h, c]\n",
        "\n",
        "        # Actualizar secuencia de entrada con la salida (re-alimentación)\n",
        "        target_seq[0, 0] = idx\n",
        "\n",
        "    return ' '.join(output_sentence)"
      ],
      "metadata": {
        "id": "sQfYZDVN0Cj8"
      },
      "execution_count": null,
      "outputs": []
    },
    {
      "cell_type": "code",
      "source": [
        "i = np.random.choice(len(input_sentences))\n",
        "input_seq = encoder_input_sequences[i:i+1]\n",
        "resp = respuesta(input_seq)\n",
        "print('-')\n",
        "print('Input:', input_sentences[i])\n",
        "print('Response:', resp)"
      ],
      "metadata": {
        "id": "c4Ug45vU0P67",
        "colab": {
          "base_uri": "https://localhost:8080/"
        },
        "outputId": "1bc239fc-3030-4f59-e8c9-774f60ce8afe"
      },
      "execution_count": null,
      "outputs": [
        {
          "output_type": "stream",
          "name": "stdout",
          "text": [
            "1/1 [==============================] - 0s 375ms/step\n",
            "1/1 [==============================] - 0s 379ms/step\n",
            "1/1 [==============================] - 0s 21ms/step\n",
            "-\n",
            "Input: hi\n",
            "Response: hi\n"
          ]
        }
      ]
    },
    {
      "cell_type": "code",
      "source": [
        "input_test = \"Do you have any pet?\"\n",
        "print('Input:', input_test)\n",
        "integer_seq_test = input_tokenizer.texts_to_sequences([input_test])[0]\n",
        "print(\"Representacion en vector de tokens de ids\", integer_seq_test)\n",
        "encoder_sequence_test = pad_sequences([integer_seq_test], maxlen=max_input_len)\n",
        "print(\"Padding del vector:\", encoder_sequence_test)\n",
        "\n",
        "print('Input:', input_test)\n",
        "resp = respuesta(input_seq)\n",
        "print('Response:', resp)"
      ],
      "metadata": {
        "id": "tTEDgmr0l7lC",
        "colab": {
          "base_uri": "https://localhost:8080/"
        },
        "outputId": "5bd33fd4-2bbb-4181-9659-ddb4a5ce5739"
      },
      "execution_count": null,
      "outputs": [
        {
          "output_type": "stream",
          "name": "stdout",
          "text": [
            "Input: Do you have any pet?\n",
            "Representacion en vector de tokens de ids [46, 18, 37]\n",
            "Padding del vector: [[ 0 46 18 37]]\n",
            "Input: Do you have any pet?\n",
            "1/1 [==============================] - 0s 18ms/step\n",
            "1/1 [==============================] - 0s 20ms/step\n",
            "1/1 [==============================] - 0s 18ms/step\n",
            "Response: hi\n"
          ]
        }
      ]
    },
    {
      "cell_type": "code",
      "source": [
        "input_test = \"Where are you from?\"\n",
        "print('Input:', input_test)\n",
        "integer_seq_test = input_tokenizer.texts_to_sequences([input_test])[0]\n",
        "print(\"Representacion en vector de tokens de ids\", integer_seq_test)\n",
        "encoder_sequence_test = pad_sequences([integer_seq_test], maxlen=max_input_len)\n",
        "print(\"Padding del vector:\", encoder_sequence_test)\n",
        "\n",
        "print('Input:', input_test)\n",
        "resp = respuesta(input_seq)\n",
        "print('Response:', resp)"
      ],
      "metadata": {
        "id": "qJ3vVrw3mFaD",
        "colab": {
          "base_uri": "https://localhost:8080/"
        },
        "outputId": "d2285c9a-b87c-4a94-cf26-a9a30e61c769"
      },
      "execution_count": null,
      "outputs": [
        {
          "output_type": "stream",
          "name": "stdout",
          "text": [
            "Input: Where are you from?\n",
            "Representacion en vector de tokens de ids [22, 65, 18]\n",
            "Padding del vector: [[ 0 22 65 18]]\n",
            "Input: Where are you from?\n",
            "1/1 [==============================] - 0s 16ms/step\n",
            "1/1 [==============================] - 0s 20ms/step\n",
            "1/1 [==============================] - 0s 24ms/step\n",
            "Response: hi\n"
          ]
        }
      ]
    },
    {
      "cell_type": "code",
      "source": [
        "input_test = \"Do you reed?\"\n",
        "print('Input:', input_test)\n",
        "integer_seq_test = input_tokenizer.texts_to_sequences([input_test])[0]\n",
        "print(\"Representacion en vector de tokens de ids\", integer_seq_test)\n",
        "encoder_sequence_test = pad_sequences([integer_seq_test], maxlen=max_input_len)\n",
        "print(\"Padding del vector:\", encoder_sequence_test)\n",
        "\n",
        "print('Input:', input_test)\n",
        "resp = respuesta(input_seq)\n",
        "print('Response:', resp)"
      ],
      "metadata": {
        "id": "AmWiqxsX0R06",
        "colab": {
          "base_uri": "https://localhost:8080/"
        },
        "outputId": "79c2f957-cffe-43eb-9505-10bd451e180e"
      },
      "execution_count": null,
      "outputs": [
        {
          "output_type": "stream",
          "name": "stdout",
          "text": [
            "Input: Do you reed?\n",
            "Representacion en vector de tokens de ids [46, 18]\n",
            "Padding del vector: [[ 0  0 46 18]]\n",
            "Input: Do you reed?\n",
            "1/1 [==============================] - 0s 17ms/step\n",
            "1/1 [==============================] - 0s 20ms/step\n",
            "1/1 [==============================] - 0s 17ms/step\n",
            "Response: hi\n"
          ]
        }
      ]
    },
    {
      "cell_type": "markdown",
      "metadata": {
        "id": "PdHnxXPl2VXm"
      },
      "source": [
        "**6 - Conclusiones**\n",
        "\n",
        "El modelo requiere una mayor cantidad de datos para funcionar correctamente. La arquitectura entrega mejores métricas que las vistas hasta el momento."
      ]
    },
    {
      "cell_type": "code",
      "source": [],
      "metadata": {
        "id": "yHHeyXTMmOMi"
      },
      "execution_count": null,
      "outputs": []
    }
  ],
  "metadata": {
    "accelerator": "GPU",
    "colab": {
      "provenance": [],
      "gpuType": "T4"
    },
    "kernelspec": {
      "display_name": "Python 3",
      "name": "python3"
    },
    "language_info": {
      "name": "python",
      "version": "3.10.6"
    },
    "vscode": {
      "interpreter": {
        "hash": "916dbcbb3f70747c44a77c7bcd40155683ae19c65e1c03b4aa3499c5328201f1"
      }
    }
  },
  "nbformat": 4,
  "nbformat_minor": 0
}
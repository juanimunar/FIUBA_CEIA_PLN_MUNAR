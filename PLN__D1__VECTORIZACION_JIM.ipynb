{
  "cells": [
    {
      "cell_type": "markdown",
      "metadata": {
        "id": "Ue5hxxkdAQJg"
      },
      "source": [
        "<img src=\"https://github.com/juanimunar/FIUBA_CEIA_PLN_MUNAR/blob/main/logoFIUBA.jpg\" width=\"250\" align=\"center\">\n",
        "\n",
        "**PROCESAMIENTO DE LENGUAJE NATURAL**\n",
        "\n",
        "*DESAFÍO Nº1 - VECTORIZACIÓN - JUAN I. MUNAR*\n"
      ]
    },
    {
      "cell_type": "code",
      "execution_count": null,
      "metadata": {
        "id": "kCED1hh-Ioyf"
      },
      "outputs": [],
      "source": [
        "import numpy as np"
      ]
    },
    {
      "cell_type": "markdown",
      "metadata": {
        "id": "DMOa4JPSCJ29"
      },
      "source": [
        "**1. DATOS**"
      ]
    },
    {
      "cell_type": "code",
      "execution_count": null,
      "metadata": {
        "id": "RIO7b8GjAC17"
      },
      "outputs": [],
      "source": [
        "corpus = np.array(['que dia es hoy', 'martes el dia de hoy es martes', 'martes muchas gracias'])"
      ]
    },
    {
      "cell_type": "markdown",
      "metadata": {
        "id": "FVHxBRNzCMOS"
      },
      "source": [
        "**2. VOCABULARIO**\n",
        "\n",
        "Obtener el vocabulario del corpus (los términos utilizados)\n",
        "  - Cada documento transformarlo en una lista de términos\n",
        "  - Armar un vector de términos no repetidos de todos los documentos"
      ]
    },
    {
      "cell_type": "code",
      "execution_count": null,
      "metadata": {
        "id": "3ZqTOZzDI7uv",
        "colab": {
          "base_uri": "https://localhost:8080/"
        },
        "outputId": "aaebe5b9-155b-4c57-fd6d-b3dcf4f6d139"
      },
      "outputs": [
        {
          "output_type": "execute_result",
          "data": {
            "text/plain": [
              "array([list(['que', 'dia', 'es', 'hoy']),\n",
              "       list(['martes', 'el', 'dia', 'de', 'hoy', 'es', 'martes']),\n",
              "       list(['martes', 'muchas', 'gracias'])], dtype=object)"
            ]
          },
          "metadata": {},
          "execution_count": 3
        }
      ],
      "source": [
        "# Transformo cada documento en una lista de términos\n",
        "listas_terminos = np.char.split(corpus)\n",
        "listas_terminos"
      ]
    },
    {
      "cell_type": "code",
      "execution_count": null,
      "metadata": {
        "colab": {
          "base_uri": "https://localhost:8080/"
        },
        "id": "XF54_gNohO4R",
        "outputId": "21f1d40b-2ba0-4e23-d66f-8ccbacc3714b"
      },
      "outputs": [
        {
          "output_type": "stream",
          "name": "stdout",
          "text": [
            "['de' 'dia' 'el' 'es' 'gracias' 'hoy' 'martes' 'muchas' 'que']\n",
            "[1 2 1 2 1 2 3 1 1]\n"
          ]
        }
      ],
      "source": [
        "# Unifico los términos en un solo array\n",
        "array_terminos = np.concatenate([np.array(lista) for lista in listas_terminos])\n",
        "\n",
        "# Obtengo los términos y su conteo\n",
        "terminos, counts = np.unique(array_terminos, return_counts=True)\n",
        "\n",
        "print(terminos)\n",
        "print(counts)"
      ]
    },
    {
      "cell_type": "markdown",
      "metadata": {
        "id": "RUhH983FI7It"
      },
      "source": [
        "**3. ONE HOT ENCODING**\n",
        "\n",
        "Data una lista de textos, devolver una matriz con la representación oneHotEncoding de estos"
      ]
    },
    {
      "cell_type": "code",
      "execution_count": null,
      "metadata": {
        "id": "_FSe0IUJhO4T"
      },
      "outputs": [],
      "source": [
        "# Defino una función para obtener el One Hot Encoding del corpus\n",
        "def OHE(corpus):\n",
        "\n",
        "    # Obtengo listas de términos y términos que las integran\n",
        "    listas_terminos = np.char.split(corpus)\n",
        "    array_terminos = np.concatenate([np.array(lista)\n",
        "                                     for lista in listas_terminos])\n",
        "    terminos, count = np.unique(array_terminos, return_counts=True)\n",
        "\n",
        "    # Obtengo la matriz\n",
        "    matriz_OHE = np.array([np.isin(terminos, listas_terminos[i]).astype(int)\n",
        "                           for i in range(listas_terminos.size)])\n",
        "\n",
        "    return matriz_OHE"
      ]
    },
    {
      "cell_type": "code",
      "execution_count": null,
      "metadata": {
        "colab": {
          "base_uri": "https://localhost:8080/"
        },
        "id": "5j3dmXWbhO4U",
        "outputId": "5f174972-7596-4a6c-da63-71b4cb4e1d11"
      },
      "outputs": [
        {
          "output_type": "stream",
          "name": "stdout",
          "text": [
            "[list(['que', 'dia', 'es', 'hoy'])\n",
            " list(['martes', 'el', 'dia', 'de', 'hoy', 'es', 'martes'])\n",
            " list(['martes', 'muchas', 'gracias'])]\n",
            "\n",
            "['de' 'dia' 'el' 'es' 'gracias' 'hoy' 'martes' 'muchas' 'que']\n"
          ]
        },
        {
          "output_type": "execute_result",
          "data": {
            "text/plain": [
              "array([[0, 1, 0, 1, 0, 1, 0, 0, 1],\n",
              "       [1, 1, 1, 1, 0, 1, 1, 0, 0],\n",
              "       [0, 0, 0, 0, 1, 0, 1, 1, 0]])"
            ]
          },
          "metadata": {},
          "execution_count": 6
        }
      ],
      "source": [
        "# Ejecuto la función para el corpus\n",
        "print(listas_terminos)\n",
        "print()\n",
        "print(terminos)\n",
        "OHE(corpus)"
      ]
    },
    {
      "cell_type": "markdown",
      "metadata": {
        "id": "IIyWGmCpJVQL"
      },
      "source": [
        "**4. VECTORES DE FRECUENCIA**\n",
        "\n",
        "Data una lista de textos, devolver una matriz con la representación de frecuencia de estos"
      ]
    },
    {
      "cell_type": "code",
      "execution_count": null,
      "metadata": {
        "id": "1KnDx9BXhO4V"
      },
      "outputs": [],
      "source": [
        "# Defino una función para obtener los vectores de frecuencia\n",
        "def vectores_frecuencia(corpus):\n",
        "\n",
        "    # Obtengo listas de terminos y terminos que las integran\n",
        "    listas_terminos = np.char.split(corpus)\n",
        "    array_terminos = np.concatenate([np.array(lista)\n",
        "                                     for lista in listas_terminos])\n",
        "    terminos, count = np.unique(array_terminos, return_counts=True)\n",
        "\n",
        "    # Recorre la lista de palabras y suma en el vector cuando hay coincidencias\n",
        "    lista_vectores = []\n",
        "    for i in range(listas_terminos.size):\n",
        "        vector = np.zeros(len(terminos), dtype=int)\n",
        "        for palabra in listas_terminos[i]:\n",
        "            coincidencias = (terminos == palabra)\n",
        "            vector = vector + coincidencias\n",
        "        lista_vectores.append(vector)\n",
        "\n",
        "    # Convierto en array\n",
        "    array_vectores = np.array(lista_vectores)\n",
        "\n",
        "    return array_vectores"
      ]
    },
    {
      "cell_type": "code",
      "execution_count": null,
      "metadata": {
        "colab": {
          "base_uri": "https://localhost:8080/"
        },
        "id": "qYRxekVihO4W",
        "outputId": "46fc58d7-0e53-4fc0-d79b-c6789c3d50b7"
      },
      "outputs": [
        {
          "output_type": "stream",
          "name": "stdout",
          "text": [
            "[list(['que', 'dia', 'es', 'hoy'])\n",
            " list(['martes', 'el', 'dia', 'de', 'hoy', 'es', 'martes'])\n",
            " list(['martes', 'muchas', 'gracias'])]\n",
            "\n",
            "['de' 'dia' 'el' 'es' 'gracias' 'hoy' 'martes' 'muchas' 'que']\n"
          ]
        },
        {
          "output_type": "execute_result",
          "data": {
            "text/plain": [
              "array([[0, 1, 0, 1, 0, 1, 0, 0, 1],\n",
              "       [1, 1, 1, 1, 0, 1, 2, 0, 0],\n",
              "       [0, 0, 0, 0, 1, 0, 1, 1, 0]])"
            ]
          },
          "metadata": {},
          "execution_count": 8
        }
      ],
      "source": [
        "# Ejecuto la función para el corpus\n",
        "print(listas_terminos)\n",
        "print()\n",
        "print(terminos)\n",
        "vectores_frecuencia(corpus)"
      ]
    },
    {
      "cell_type": "markdown",
      "metadata": {
        "id": "z_Ot8HvWJcBu"
      },
      "source": [
        "**5. TF-IDF**\n",
        "\n",
        "Data una lista de textos, devolver una matriz con la representacion TFIDF"
      ]
    },
    {
      "cell_type": "code",
      "execution_count": null,
      "metadata": {
        "id": "GvGxi1rzhO4X"
      },
      "outputs": [],
      "source": [
        "# Defino una función para obtener la matriz TF-IDF\n",
        "def TF_IDF(corpus):\n",
        "\n",
        "    # Obtengo listas de términos y términos que las integran\n",
        "    listas_terminos = np.char.split(corpus)\n",
        "    array_terminos = np.concatenate([np.array(lista)\n",
        "                                     for lista in listas_terminos])\n",
        "    terminos, count = np.unique(array_terminos, return_counts=True)\n",
        "\n",
        "    # Obtengo el One Hot Encoding\n",
        "    matriz_OHE = np.array([np.isin(terminos, listas_terminos[i]).astype(int)\n",
        "                           for i in range(listas_terminos.size)])\n",
        "\n",
        "    # Broadcasting\n",
        "    IDF = np.log10(corpus.size / np.sum(matriz_OHE, axis=0))\n",
        "\n",
        "    # Factor TF\n",
        "    lista_vectores = []\n",
        "    for i in range(listas_terminos.size):\n",
        "        vector = np.zeros(len(terminos), dtype=int)\n",
        "        for palabra in listas_terminos[i]:\n",
        "            coincidencias = (terminos == palabra)\n",
        "            vector = vector + coincidencias\n",
        "        lista_vectores.append(vector)\n",
        "\n",
        "    # Convierto en array\n",
        "    TF = np.array(lista_vectores)\n",
        "\n",
        "    # Obtengo la matriz\n",
        "    matriz_TF_IDF = TF * IDF\n",
        "\n",
        "    return matriz_TF_IDF"
      ]
    },
    {
      "cell_type": "code",
      "execution_count": null,
      "metadata": {
        "colab": {
          "base_uri": "https://localhost:8080/"
        },
        "id": "3HY51EMlhO4Y",
        "outputId": "6a351da2-5e92-43d0-90a5-649efd2faf08"
      },
      "outputs": [
        {
          "output_type": "stream",
          "name": "stdout",
          "text": [
            "[list(['que', 'dia', 'es', 'hoy'])\n",
            " list(['martes', 'el', 'dia', 'de', 'hoy', 'es', 'martes'])\n",
            " list(['martes', 'muchas', 'gracias'])]\n",
            "\n",
            "['de' 'dia' 'el' 'es' 'gracias' 'hoy' 'martes' 'muchas' 'que']\n",
            "\n",
            "[[0 1 0 1 0 1 0 0 1]\n",
            " [1 1 1 1 0 1 1 0 0]\n",
            " [0 0 0 0 1 0 1 1 0]]\n",
            "\n",
            "[[0.     0.1761 0.     0.1761 0.     0.1761 0.     0.     0.4771]\n",
            " [0.4771 0.1761 0.4771 0.1761 0.     0.1761 0.3522 0.     0.    ]\n",
            " [0.     0.     0.     0.     0.4771 0.     0.1761 0.4771 0.    ]]\n"
          ]
        }
      ],
      "source": [
        "# Ejecuto la función para el corpus\n",
        "print(listas_terminos)\n",
        "print()\n",
        "print(terminos)\n",
        "print()\n",
        "print(OHE(corpus))\n",
        "print()\n",
        "print(np.round(TF_IDF(corpus),4))"
      ]
    },
    {
      "cell_type": "markdown",
      "metadata": {
        "id": "xMcsfndWJjm_"
      },
      "source": [
        "**6. COMPARACIÓN DE DOCUMENTOS**\n",
        "\n",
        "  Realizar una funcion que reciba el corpus y el índice de un documento y devuelva los documentos ordenados por la similitud coseno"
      ]
    },
    {
      "cell_type": "code",
      "execution_count": null,
      "metadata": {
        "id": "LN8BpGJUhO4Z"
      },
      "outputs": [],
      "source": [
        "# Planteo la similitud coseno entre vectores TF-IDF\n",
        "def similitud_documento(corpus, indice):\n",
        "\n",
        "    # Obtengo listas de términos y términos que las integran\n",
        "    listas_terminos = np.char.split(corpus)\n",
        "    array_terminos = np.concatenate([np.array(lista)\n",
        "                                     for lista in listas_terminos])\n",
        "    terminos, count = np.unique(array_terminos, return_counts=True)\n",
        "\n",
        "    # Obtengo el One Hot Encoding\n",
        "    matriz_OHE = np.array([np.isin(terminos, listas_terminos[i]).astype(int)\n",
        "                           for i in range(listas_terminos.size)])\n",
        "\n",
        "    # Broadcasting\n",
        "    IDF = np.log10(corpus.size / np.sum(matriz_OHE, axis=0))\n",
        "\n",
        "    # Factor TF\n",
        "    lista_vectores = []\n",
        "    for i in range(listas_terminos.size):\n",
        "        vector = np.zeros(len(terminos), dtype=int)\n",
        "        for palabra in listas_terminos[i]:\n",
        "            coincidencias = (terminos == palabra)\n",
        "            vector = vector + coincidencias\n",
        "        lista_vectores.append(vector)\n",
        "\n",
        "    # Convierto en array\n",
        "    TF = np.array(lista_vectores)\n",
        "\n",
        "    # Obtengo la matriz\n",
        "    matriz_TF_IDF = TF * IDF\n",
        "\n",
        "    # Obtengo el vector de producto punto\n",
        "    dot = np.sum(matriz_TF_IDF[indice]* matriz_TF_IDF, axis=1)\n",
        "\n",
        "    # Norma del vector\n",
        "    norma_vector = np.linalg.norm(matriz_TF_IDF[indice])\n",
        "\n",
        "    # Vector de normas\n",
        "    norma_matriz = np.linalg.norm(matriz_TF_IDF, axis = 1)\n",
        "\n",
        "    # Similitud coseno\n",
        "    vector_similitud = dot / (norma_vector * norma_matriz)\n",
        "\n",
        "    # Ordeno por similitud coseno, el \"-\" ordena de mayor a menor\n",
        "    orden = np.argsort(- vector_similitud)\n",
        "\n",
        "    # Obtengo los documentos ordenados\n",
        "    corpus_ordenado = corpus[orden]\n",
        "\n",
        "    return corpus_ordenado"
      ]
    },
    {
      "cell_type": "code",
      "execution_count": null,
      "metadata": {
        "colab": {
          "base_uri": "https://localhost:8080/"
        },
        "id": "YhrDf8HIhO4Z",
        "outputId": "cf21f6d2-1c82-43e0-ddf2-5f3a533d8c3d"
      },
      "outputs": [
        {
          "output_type": "stream",
          "name": "stdout",
          "text": [
            "que dia es hoy\n"
          ]
        },
        {
          "output_type": "execute_result",
          "data": {
            "text/plain": [
              "array(['que dia es hoy', 'martes el dia de hoy es martes',\n",
              "       'martes muchas gracias'], dtype='<U30')"
            ]
          },
          "metadata": {},
          "execution_count": 12
        }
      ],
      "source": [
        "# Probemos con el primer documento, se ordena de mayor a menor\n",
        "print(corpus[0])\n",
        "similitud_documento(corpus, 0)"
      ]
    },
    {
      "cell_type": "code",
      "source": [],
      "metadata": {
        "id": "_4t2piRYjojL"
      },
      "execution_count": null,
      "outputs": []
    }
  ],
  "metadata": {
    "colab": {
      "provenance": []
    },
    "kernelspec": {
      "display_name": "Python 3 (ipykernel)",
      "language": "python",
      "name": "python3"
    },
    "language_info": {
      "codemirror_mode": {
        "name": "ipython",
        "version": 3
      },
      "file_extension": ".py",
      "mimetype": "text/x-python",
      "name": "python",
      "nbconvert_exporter": "python",
      "pygments_lexer": "ipython3",
      "version": "3.11.5"
    }
  },
  "nbformat": 4,
  "nbformat_minor": 0
}

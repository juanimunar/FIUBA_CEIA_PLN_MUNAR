{
  "nbformat": 4,
  "nbformat_minor": 0,
  "metadata": {
    "colab": {
      "provenance": [],
      "gpuType": "T4"
    },
    "kernelspec": {
      "name": "python3",
      "display_name": "Python 3"
    },
    "language_info": {
      "name": "python"
    },
    "accelerator": "GPU"
  },
  "cells": [
    {
      "cell_type": "markdown",
      "metadata": {
        "id": "Dj7N7G963SQE"
      },
      "source": [
        "<img src=\"https://github.com/hernancontigiani/ceia_memorias_especializacion/raw/master/Figures/logoFIUBA.jpg\" width=\"250\" align=\"center\">\n",
        "\n",
        "**PROCESAMIENTO DE LENGUAJE NATURAL**\n",
        "\n",
        "*DESAFÍO Nº4 - PREDICCIÓN DE PALABRA - JUAN I. MUNAR*\n"
      ]
    },
    {
      "cell_type": "markdown",
      "source": [
        "El objetivo es utilizar documentos / corpus para crear embeddings de palabras en un contexto utilizando la layer Embedding de Keras. Se utilizarán esos embeddings junto con layers LSTM para predeccir la próxima posible palabra."
      ],
      "metadata": {
        "id": "e_Pxwq49zphr"
      }
    },
    {
      "cell_type": "markdown",
      "source": [
        "**1. LIBRERÍAS**"
      ],
      "metadata": {
        "id": "6nv3mCjz3hhZ"
      }
    },
    {
      "cell_type": "code",
      "execution_count": null,
      "metadata": {
        "id": "Y-YtdtNDydr9"
      },
      "outputs": [],
      "source": [
        "# Varios Python\n",
        "import random\n",
        "import io\n",
        "import pickle\n",
        "import string\n",
        "\n",
        "# Lectura y parseo\n",
        "import bs4 as bs\n",
        "import urllib.request\n",
        "\n",
        "# Procesamiento y ploteo\n",
        "import re\n",
        "import numpy as np\n",
        "import pandas as pd\n",
        "import matplotlib.pyplot as plt\n",
        "import seaborn as sns\n",
        "\n",
        "# Redes\n",
        "from tensorflow import keras\n",
        "from tensorflow.keras import layers\n",
        "from keras.utils import to_categorical\n",
        "from keras.models import Sequential\n",
        "from keras.layers import Dense, LSTM, Embedding, Dropout, Bidirectional"
      ]
    },
    {
      "cell_type": "markdown",
      "source": [
        "**2. DATOS**"
      ],
      "metadata": {
        "id": "5OZB6k-34Ahb"
      }
    },
    {
      "cell_type": "code",
      "source": [
        "# Función para obtener el texto con bs y urllib\n",
        "def texto(URL):\n",
        "  raw_html = urllib.request.urlopen(URL)\n",
        "  raw_html = raw_html.read()\n",
        "\n",
        "  # Parsear artículo, 'lxml' es el parser a utilizar\n",
        "  text_html = bs.BeautifulSoup(raw_html, 'lxml')\n",
        "\n",
        "  # Encontrar todos los párrafos del HTML (bajo el tag <p>)\n",
        "  # y tenerlos disponible como lista\n",
        "  text_paragraphs = text_html.find_all('p')\n",
        "\n",
        "  text_salida = ''\n",
        "\n",
        "  for para in text_paragraphs:\n",
        "      text_salida += para.text\n",
        "\n",
        "  return text_salida\n",
        "\n",
        "# De textos.info obtengo La Metamorfosis de Kafka porque es una novela corta.\n",
        "# Este mismo código se ensayó con otros textos de mayor longitud, lo que colapsa el RAM del Colab ~12GB\n",
        "corpus = texto('https://www.textos.info/franz-kafka/la-metamorfosis/ebook')"
      ],
      "metadata": {
        "id": "0QDB6fNo36oy"
      },
      "execution_count": null,
      "outputs": []
    },
    {
      "cell_type": "code",
      "source": [
        "# Primer preprocesamiento del texto\n",
        "def preprocess_clean_text(text):\n",
        "\n",
        "    # Sacar saltos de línea\n",
        "    text = re.sub( r'\\r\\n', ' ', text)\n",
        "    # Quitar caracteres especiales\n",
        "    text = re.sub(r'[«»!¡¿?\\-]', '', text)\n",
        "    # Quitar espacios innecesarios\n",
        "    text = re.sub(r'\\s+', ' ', text)\n",
        "\n",
        "    return text\n",
        "\n",
        "# Preproceso y visualizo\n",
        "corpus = preprocess_clean_text(corpus)\n",
        "corpus"
      ],
      "metadata": {
        "colab": {
          "base_uri": "https://localhost:8080/",
          "height": 123
        },
        "id": "iIcDuR055_d3",
        "outputId": "b3c452f6-01a5-4266-bc53-bf07e1c00612"
      },
      "execution_count": null,
      "outputs": [
        {
          "output_type": "execute_result",
          "data": {
            "text/plain": [
              "'Cuando Gregorio Samsa se despertó una mañana después de un sueño intranquilo, se encontró sobre su cama convertido en un monstruoso insecto. Estaba tumbado sobre su espalda dura, y en forma de caparazón y, al levantar un poco la cabeza veía un vientre abombado, parduzco, dividido por partes duras en forma de arco, sobre cuya protuberancia apenas podía mantenerse el cobertor, a punto ya de resbalar al suelo. Sus muchas patas, ridículamente pequeñas en comparación con el resto de su tamaño, le vibraban desamparadas ante los ojos.Qué me ha ocurrido, pensó.No era un sueño. Su habitación, una auténtica habitación humana, si bien algo pequeña, permanecía tranquila entre las cuatro paredes harto conocidas. Por encima de la mesa, sobre la que se encontraba extendido un muestrario de paños desempaquetados —Samsa era viajante de comercio—, estaba colgado aquel cuadro que hacía poco había recortado de una revista y había colocado en un bonito marco dorado. Representaba a una dama ataviada con un sombrero y una boa de piel, que estaba allí, sentada muy erguida y levantaba hacia el observador un pesado manguito de piel, en el cual había desaparecido su antebrazo.La mirada de Gregorio se dirigió después hacia la ventana, y el tiempo lluvioso —se oían caer gotas de lluvia sobre la chapa del alféizar de la ventana— lo ponía muy melancólico.Qué pasaría —pensó— si durmiese un poco más y olvidase todas las chifladurasPero esto era algo absolutamente imposible, porque estaba acostumbrado a dormir del lado derecho, pero en su estado actual no podía ponerse de ese lado. Aunque se lanzase con mucha fuerza hacia el lado derecho, una y otra vez se volvía a balancear sobre la espalda. Lo intentó cien veces, cerraba los ojos para no tener que ver las patas que pataleaban, y sólo cejaba en su empeño cuando comenzaba a notar en el costado un dolor leve y sordo que antes nunca había sentido.Dios mío —pensó—. Qué profesión tan dura he elegido Un día sí y otro también de viaje. Los esfuerzos profesionales son mucho mayores que en el mismo almacén de la ciudad, y además se me ha endosado este ajetreo de viajar, el estar al tanto de los empalmes de tren, la comida mala y a deshora, una relación humana constantemente cambiante, nunca duradera, que jamás llega a ser cordial. Que se vaya todo al diabloSintió sobre el vientre un leve picor, con la espalda se deslizó lentamente más cerca de la cabecera de la cama para poder levantar mejor la cabeza; se encontró con que la parte que le picaba estaba totalmente cubierta por unos pequeños puntos blancos, que no sabía a qué se debían, y quiso palpar esa parte con una pata, pero inmediatamente la retiró, porque el roce le producía escalofríos.Se deslizó de nuevo a su posición inicial.Esto de levantarse pronto —pensó— hace a uno desvariar. El hombre tiene que dormir. Otros viajantes viven como pachás. Si yo, por ejemplo, a lo largo de la mañana vuelvo a la pensión para pasar a limpio los pedidos que he conseguido, estos señores todavía están sentados tomando el desayuno. Eso podría intentar yo con mi jefe, pero en ese momento iría a parar a la calle. Quién sabe, por lo demás, si no sería lo mejor para mí. Si no tuviera que dominarme por mis padres, ya me habría despedido hace tiempo, me habría presentado ante el jefe y le habría dicho mi opinión con toda mi alma. Se habría caído de la mesa Sí que es una extraña costumbre la de sentarse sobre la mesa y, desde esa altura, hablar hacia abajo con el empleado que, además, por culpa de la sordera del jefe, tiene que acercarse mucho. Bueno, la esperanza todavía no está perdida del todo; si alguna vez tengo el dinero suficiente para pagar las deudas que mis padres tienen con él —puedo tardar todavía entre cinco y seis años— lo hago con toda seguridad. Entonces habrá llegado el gran momento; ahora, por lo pronto, tengo que levantarme porque el tren sale a las cinco, y miró hacia el despertador que hacía tic tac sobre el armario.Dios del cielo, pensó.Eran las seis y media y las manecillas seguían tranquilamente hacia delante, ya había pasado incluso la media, eran ya casi las menos cuarto. Es que no habría sonado el despertador Desde la cama se veía que estaba correctamente puesto a las cuatro, seguro que también había sonado. Sí, pero... era posible seguir durmiendo tan tranquilo con ese ruido que hacía temblar los muebles Bueno, tampoco había dormido tranquilo, pero quizá tanto más profundamente.Qué iba a hacer ahora El siguiente tren salía a las siete, para cogerlo tendría que haberse dado una prisa loca, el muestrario todavía no estaba empaquetado, y él mismo no se encontraba especialmente espabilado y ágil; e incluso si consiguiese coger el tren, no se podía evitar una reprimenda del jefe, porque el mozo de los recados habría esperado en el tren de las cinco y ya hacía tiempo que habría dado parte de su descuido. Era un esclavo del jefe, sin agallas ni juicio. Qué pasaría si dijese que estaba enfermo Pero esto sería sumamente desagradable y sospechoso, porque Gregorio no había estado enfermo ni una sola vez durante los cinco años de servicio. Seguramente aparecería el jefe con el médico del seguro, haría reproches a sus padres por tener un hijo tan vago y se salvaría de todas las objeciones remitiéndose al médico del seguro, para el que sólo existen hombres totalmente sanos, pero con aversión al trabajo. Y es que en este caso no tendría un poco de razón Gregorio, a excepción de una modorra realmente superflua después del largo sueño, se encontraba bastante bien e incluso tenía mucha hambre.Mientras reflexionaba sobre todo esto con gran rapidez, sin poderse decidir a abandonar la cama —en este mismo instante el despertador daba las siete menos cuarto—, llamaron cautelosamente a la puerta que estaba a la cabecera de su cama.—Gregorio —dijeron (era la madre)—, son las siete menos cuarto. No ibas a salir de viajeQué dulce voz Gregorio se asustó, en cambio, al contestar. Escuchó una voz que, evidentemente, era la suya, pero en la cual, como desde lo más profundo, se mezclaba un doloroso e incontenible piar, que en el primer momento dejaba salir las palabras con claridad para, al prolongarse el sonido, destrozarlas de tal forma que no se sabía si se había oído bien. Gregorio querría haber contestado detalladamente y explicarlo todo, pero en estas circunstancias se limitó a decir:—Sí, sí, gracias madre, ya me levanto.Probablemente a causa de la puerta de madera no se notaba desde fuera el cambio en la voz de Gregorio, porque la madre se tranquilizó con esta respuesta y se marchó de allí. Pero merced a la breve conversación, los otros miembros de la familia se habían dado cuenta de que Gregorio, en contra de todo lo esperado, estaba todavía en casa, y ya el padre llamaba suavemente, pero con el puño, a una de las puertas laterales.—Gregorio, Gregorio —gritó—. Qué ocurre —tras unos instantes insistió de nuevo con voz más grave—. Gregorio, GregorioDesde la otra puerta lateral se lamentaba en voz baja la hermana.—Gregorio, no te encuentras bien, necesitas algoGregorio contestó hacia ambos lados:—Ya estoy preparado —y con una pronunciación lo más cuidadosa posible, y haciendo largas pausas entre las palabras, se esforzó por despojar a su voz de todo lo que pudiese llamar la atención. El padre volvió a su desayuno, pero la hermana susurró:—Gregorio, abre, te lo suplico —pero Gregorio no tenía ni la menor intención de abrir, más bien elogió la precaución de cerrar las puertas que había adquirido durante sus viajes, y esto incluso en casa.Al principio tenía la intención de levantarse tranquilamente y, sin ser molestado, vestirse y, sobre todo, desayunar, y después pensar en todo lo demás, porque en la cama, eso ya lo veía, no llegaría con sus cavilaciones a una conclusión sensata. Recordó que ya en varias ocasiones había sentido en la cama algún leve dolor, quizá producido por estar mal tumbado, dolor que al levantarse había resultado ser sólo fruto de su imaginación, y tenía curiosidad por ver cómo se iban desvaneciendo paulatinamente sus fantasías de hoy. No dudaba en absoluto de que el cambio de voz no era otra cosa que el síntoma de un buen resfriado, la enfermedad profesional de los viajantes.Tirar el cobertor era muy sencillo, sólo necesitaba inflarse un poco y caería por sí solo, pero el resto sería difícil, especialmente porque él era muy ancho. Hubiera necesitado brazos y manos para incorporarse, pero en su lugar tenía muchas patitas que, sin interrupción, se hallaban en el más dispar de los movimientos y que, además, no podía dominar. Si quería doblar alguna de ellas, entonces era la primera la que se estiraba, y si por fin lograba realizar con esta pata lo que quería, entonces todas las demás se movían, como liberadas, con una agitación grande y dolorosa.No hay que permanecer en la cama inútilmente, se decía Gregorio.Quería salir de la cama en primer lugar con la parte inferior de su cuerpo, pero esta parte inferior que, por cierto, no había visto todavía y que no podía imaginar exactamente, demostró ser difícil de mover; el movimiento se producía muy despacio, y cuando, finalmente, casi furioso, se lanzó hacia delante con toda su fuerza sin pensar en las consecuencias, había calculado mal la dirección, se golpeó fuertemente con la pata trasera de la cama y el dolor punzante que sintió le enseñó que precisamente la parte inferior de su cuerpo era quizá en estos momentos la más sensible.Así pues, intentó en primer lugar sacar de la cama la parte superior del cuerpo y volvió la cabeza con cuidado hacia el borde de la cama. Lo logró con facilidad y, a pesar de su anchura y su peso, el cuerpo siguió finalmente con lentitud el giro de la cabeza. Pero cuando, por fin, tenía la cabeza colgando en el aire fuera de la cama, le entró miedo de continuar avanzando de este modo porque, si se dejaba caer en esta posición, tenía que ocurrir realmente un milagro para que la cabeza no resultase herida, y precisamente ahora no podía de ningún modo perder la cabeza, antes prefería quedarse en la cama.Pero como, jadeando después de semejante esfuerzo, seguía allí tumbado igual que antes, y veía sus patitas de nuevo luchando entre sí, quizá con más fuerza aún, y no encontraba posibilidad de poner sosiego y orden a este atropello, se decía otra vez que de ningún modo podía permanecer en la cama y que lo más sensato era sacrificarlo todo, si es que con ello existía la más mínima esperanza de liberarse de ella. Pero al mismo tiempo no olvidaba recordar de vez en cuando que reflexionar serena, muy serenamente, es mejor que tomar decisiones desesperadas. En tales momentos dirigía sus ojos lo más agudamente posible hacia la ventana, pero, por desgracia, poco optimismo y ánimo se podían sacar del espectáculo de la niebla matinal, que ocultaba incluso el otro lado de la estrecha calle.Las siete ya —se dijo cuando sonó de nuevo el despertador—, las siete ya y todavía semejante niebla, y durante un instante permaneció tumbado, tranquilo, respirando débilmente, como si esperase del absoluto silencio el regreso del estado real y cotidiano. Pero después se dijo:Antes de que den las siete y cuarto tengo que haber salido de la cama del todo, como sea. Por lo demás, para entonces habrá venido alguien del almacén a preguntar por mí, porque el almacén se abre antes de las siete. Y entonces, de forma totalmente regular, comenzó a balancear su cuerpo, cuan largo era, hacia fuera de la cama. Si se dejaba caer de ella de esta forma, la cabeza, que pretendía levantar con fuerza en la caída, permanecería probablemente ilesa. La espalda parecía ser fuerte, seguramente no le pasaría nada al caer sobre la alfombra. Lo más difícil, a su modo de ver, era tener cuidado con el ruido que se produciría, y que posiblemente provocaría al otro lado de todas las puertas, si no temor, al menos preocupación. Pero había que intentarlo.Cuando Gregorio ya sobresalía a medias de la cama —el nuevo método era más un juego que un esfuerzo, sólo tenía que balancearse a empujones— se le ocurrió lo fácil que sería si alguien viniese en su ayuda. Dos personas fuertes —pensaba en su padre y en la criada— hubiesen sido más que suficientes; sólo tendrían que introducir sus brazos por debajo de su abombada espalda, descascararle así de la cama, agacharse con el peso, y después solamente tendrían que haber soportado que diese con cuidado una vuelta impetuosa en el suelo, sobre el cual, seguramente, las patitas adquirirían su razón de ser. Bueno, aparte de que las puertas estaban cerradas, debía de verdad pedir ayuda A pesar de la necesidad, no pudo reprimir una sonrisa al concebir tales pensamientos.Ya había llegado el punto en el que, al balancearse con más fuerza, apenas podía guardar el equilibrio y pronto tendría que decidirse definitivamente, porque dentro de cinco minutos serían las siete y cuarto. En ese momento sonó el timbre de la puerta de la calle.Seguro que es alguien del almacén, se dijo, y casi se quedó petrificado mientras sus patitas bailaban aún más deprisa. Durante un momento todo permaneció en silencio.No abren, se dijo Gregorio, confundido por alguna absurda esperanza.Pero entonces, como siempre, la criada se dirigió, con naturalidad y con paso firme, hacia la puerta y abrió. Gregorio sólo necesitó escuchar el primer saludo del visitante y ya sabía quién era, el apoderado en persona. Por qué había sido condenado Gregorio a prestar sus servicios en una empresa en la que al más mínimo descuido se concebía inmediatamente la mayor sospecha Es que todos los empleados, sin excepción, eran unos bribones Es que no había entre ellos un hombre leal y adicto a quien, simplemente porque no hubiese aprovechado para el almacén un par de horas de la mañana, se lo comiesen los remordimientos y francamente no estuviese en condiciones de abandonar la cama Es que no era de verdad suficiente mandar a preguntar a un aprendiz si es que este pregunteo era necesario Tenía que venir el apoderado en persona y había con ello que mostrar a toda una familia inocente que la investigación de este sospechoso asunto solamente podía ser confiada al juicio del apoderado Y, más como consecuencia de la irritación a la que le condujeron estos pensamientos que como consecuencia de una auténtica decisión, se lanzó de la cama con toda su fuerza. Se produjo un golpe fuerte, pero no fue un auténtico ruido. La caída fue amortiguada un poco por la alfombra y además la espalda era más elástica de lo que Gregorio había pensado; a ello se debió el sonido sordo y poco aparatoso. Solamente no había mantenido la cabeza con el cuidado necesario y se la había golpeado, la giró y la restregó contra la alfombra de rabia y dolor.—Ahí dentro se ha caído algo— dijo el apoderado en la habitación contigua de la izquierda.Gregorio intentó imaginarse si quizá alguna vez no pudiese ocurrirle al apoderado algo parecido a lo que le ocurría hoy a él; había al menos que admitir la posibilidad. Pero, como cruda respuesta a esta pregunta, el apoderado dio ahora un par de pasos firmes en la habitación contigua e hizo crujir sus botas de charol. Desde la habitación de la derecha, la hermana, para advertir a Gregorio, susurró:—Gregorio, el apoderado está aquí.Ya lo sé, se dijo Gregorio para sus adentros, pero no se atrevió a alzar la voz tan alto que la hermana pudiera haberlo oído.—Gregorio —dijo entonces el padre desde la habitación de la derecha—, el señor apoderado ha venido y desea saber por qué no has salido de viaje en el primer tren. No sabemos qué debemos decirle, además desea también hablar personalmente contigo, así es que, por favor, abre la puerta. El señor ya tendrá la bondad de perdonar el desorden en la habitación.—Buenos días, señor Samsa —interrumpió el apoderado amablemente.—No se encuentra bien —dijo la madre al apoderado mientras el padre hablaba ante la puerta—, no se encuentra bien, créame usted, señor apoderado. Cómo si no iba Gregorio a perder un tren El chico no tiene en la cabeza nada más que el negocio. A mí casi me disgusta que nunca salga por la tarde; ahora ha estado ocho días en la ciudad, pero pasó todas las tardes en casa. Allí está, sentado con nosotros a la mesa y lee tranquilamente el periódico o estudia horarios de trenes. Para él es ya una distracción hacer trabajos de marquetería. Por ejemplo, en dos o tres tardes ha tallado un pequeño marco, se asombrará usted de lo bonito que es, está colgado ahí dentro, en la habitación; en cuanto abra Gregorio lo verá usted enseguida. Por cierto, que me alegro de que esté usted aquí, señor apoderado, nosotros solos no habríamos conseguido que Gregorio abriese la puerta; es muy testarudo y seguro que no se encuentra bien a pesar de que lo ha negado esta mañana.—Voy enseguida —dijo Gregorio, lentamente y con precaución, y no se movió para no perderse una palabra de la conversación.—De otro modo, señora, tampoco puedo explicármelo yo —dijo el apoderado—. Espero que no se trate de nada serio, si bien tengo que decir, por otra parte, que nosotros, los comerciantes, por suerte o por desgracia, según se mire, tenemos sencillamente que sobreponernos a una ligera indisposición por consideración a los negocios.—Vamos, puede pasar el apoderado a tu habitación —preguntó impaciente el padre.—No— dijo Gregorio.En la habitación de la izquierda se hizo un penoso silencio, en la habitación de la derecha comenzó a sollozar la hermana.Por qué no se iba la hermana con los otros Seguramente acababa de levantarse de la cama y todavía no había empezado a vestirse; y por qué lloraba Porque él no se levantaba y dejaba entrar al apoderado, porque estaba en peligro de perder el trabajo y entonces el jefe perseguiría otra vez a sus padres con las viejas deudas Éstas eran, de momento, preocupaciones innecesarias. Gregorio todavía estaba aquí y no pensaba de ningún modo abandonar a su familia. De momento yacía en la alfombra y nadie que hubiese tenido conocimiento de su estado hubiese exigido seriamente de él que dejase entrar al apoderado. Pero por esta pequeña descortesía, para la que más tarde se encontraría con facilidad una disculpa apropiada, no podía Gregorio ser despedido inmediatamente. Y a Gregorio le parecía que sería mucho más sensato dejarle tranquilo en lugar de molestarle con lloros e intentos de persuasión. Pero la verdad es que era la incertidumbre la que apuraba a los otros hacia perdonar su comportamiento.—Señor Samsa —exclamó entonces el apoderado levantando la voz—. Qué ocurre Se atrinchera usted en su habitación, contesta solamente con sí o no, preocupa usted grave e inútilmente a sus padres y, dicho sea de paso, falta usted a sus deberes de una forma verdaderamente inaudita. Hablo aquí en nombre de sus padres y de su jefe, y le exijo seriamente una explicación clara e inmediata. Estoy asombrado, estoy asombrado. Yo le tenía a usted por un hombre formal y sensato, y ahora, de repente, parece que quiere usted empezar a hacer alarde de extravagancias extrañas. El jefe me insinuó esta mañana una posible explicación a su demora, se refería al cobro que se le ha confiado desde hace poco tiempo. Yo realmente di casi mi palabra de honor de que esta explicación no podía ser cierta. Pero en este momento veo su incomprensible obstinación y pierdo todo el deseo de dar la cara en lo más mínimo por usted, y su posición no es, en absoluto, la más segura. En principio tenía la intención de decirle todo esto a solas, pero ya que me hace usted perder mi tiempo inútilmente no veo la razón de que no se enteren también sus señores padres. Su rendimiento en los últimos tiempos ha sido muy poco satisfactorio, cierto que no es la época del año apropiada para hacer grandes negocios, eso lo reconocemos, pero una época del año para no hacer negocios no existe, señor Samsa, no debe existir.—Pero señor apoderado —gritó Gregorio, fuera de sí, y en su irritación olvidó todo lo demás—, abro inmediatamente la puerta. Una ligera indisposición, un mareo, me han impedido levantarme. Todavía estoy en la cama, pero ahora ya estoy otra vez despejado. Ahora mismo me levanto de la cama. Sólo un momentito de paciencia Todavía no me encuentro tan bien como creía, pero ya estoy mejor. Cómo puede atacar a una persona una cosa así Ayer por la tarde me encontraba bastante bien, mis padres bien lo saben o, mejor dicho, ya ayer por la tarde tuve una pequeña corazonada, tendría que habérseme notado. Por qué no lo avisé en el almacén Pero lo cierto es que siempre se piensa que se superará la enfermedad sin tener que quedarse. Señor apoderado, tenga consideración con mis padres No hay motivo alguno para todos los reproches que me hace usted; nunca se me dijo una palabra de todo eso; quizá no haya leído los últimos pedidos que he enviado. Por cierto, en el tren de las ocho salgo de viaje, las pocas horas de sosiego me han dado fuerza. No se entretenga usted señor apoderado; yo mismo estaré enseguida en el almacén, tenga usted la bondad de decirlo y de saludar de mi parte al jefe.Y mientras Gregorio farfullaba atropelladamente todo esto, y apenas sabía lo que decía, se había acercado un poco al armario, seguramente como consecuencia del ejercicio ya practicado en la cama, e intentaba ahora levantarse apoyado en él. Quería de verdad abrir la puerta, deseaba sinceramente dejarse ver y hablar con el apoderado; estaba deseoso de saber lo que los otros, que tanto deseaban verle, dirían ante su presencia. Si se asustaban, Gregorio no tendría ya responsabilidad alguna y podría estar tranquilo, pero si lo aceptaban todo con tranquilidad entonces tampoco tenía motivo para excitarse y, de hecho, podría, si se daba prisa, estar a las ocho en la estación. Al principio se resbaló varias veces del liso armario, pero finalmente se dio con fuerza un último impulso y permaneció erguido; ya no prestaba atención alguna a los dolores de vientre, aunque eran muy agudos. Entonces se dejó caer contra el respaldo de una silla cercana, a cuyos bordes se agarró fuertemente con sus patitas. Con esto había conseguido el dominio sobre sí, y enmudeció porque ahora podía escuchar al apoderado.—Han entendido ustedes una sola palabra —preguntó el apoderado a los padres—. O es que nos toma por tontos—Por el amor de Dios —exclamó la madre entre sollozos—, quizá esté gravemente enfermo y nosotros lo atormentamos. Greta Greta —gritó después.—Qué, madre —dijo la hermana desde el otro lado. Se comunicaban a través de la habitación de Gregorio—. Tienes que ir inmediatamente al médico, Gregorio está enfermo. Rápido, a buscar al médico. Acabas de oír hablar a Gregorio—Es una voz de animal —dijo el apoderado en un tono de voz extremadamente bajo comparado con los gritos de la madre.—Anna Anna —gritó el padre en dirección a la cocina a través de la antesala, y dando palmadas—. Ve a buscar inmediatamente un cerrajeroY ya corrían las dos muchachas haciendo ruido con sus faldas por la antesala —cómo se habría vestido la hermana tan deprisa— y abrieron la puerta de par en par. No se oyó cerrar la puerta, seguramente la habían dejado abierta como suele ocurrir en las casas en las que ha ocurrido una gran desgracia.Pero Gregorio ya estaba mucho más tranquilo. Así es que ya no se entendían sus palabras a pesar de que a él le habían parecido lo suficientemente claras, más claras que antes, sin duda, como consecuencia de que el oído se iba acostumbrando. Pero en todo caso ya se creía en el hecho de que algo andaba mal respecto a Gregorio, y se estaba dispuesto a prestarle ayuda. La decisión y seguridad con que fueron tomadas las primeras disposiciones le sentaron bien. De nuevo se consideró incluido en el círculo humano y esperaba de ambos, del médico y del cerrajero, sin distinguirlos del todo entre sí, excelentes y sorprendentes resultados. Con el fin de tener una voz lo más clara posible en las decisivas conversaciones que se avecinaban, tosió un poco, esforzándose, sin embargo, por hacerlo con mucha moderación, porque posiblemente incluso ese ruido sonaba de una forma distinta a la voz humana, hecho que no confiaba poder distinguir él mismo. Mientras tanto, en la habitación contigua reinaba el silencio. Quizás los padres estaban sentados a la mesa con el apoderado y cuchicheaban, quizá todos estaban arrimados a la puerta y escuchaban.Gregorio se acercó lentamente a la puerta con la ayuda de la silla, allí la soltó, se arrojó contra la puerta, se mantuvo erguido sobre ella —las callosidades de sus patitas estaban provistas de una sustancia pegajosa— y descansó allí durante un momento del esfuerzo realizado. A continuación comenzó a girar con la boca la llave, que estaba dentro de la cerradura. Por desgracia, no parecía tener dientes propiamente dichos —con qué iba a agarrar la llave—, pero, por el contrario, las mandíbulas eran, desde luego, muy poderosas. Con su ayuda puso la llave, efectivamente, en movimiento, y no se daba cuenta de que, sin duda, se estaba causando algún daño, porque un líquido parduzco le salía de la boca, chorreaba por la llave y goteaba hasta el suelo.—Escuchen ustedes —dijo el apoderado en la habitación contigua— está dando la vuelta a la llave.Esto significó un gran estímulo para Gregorio; pero todos debían haberle animado, incluso el padre y la madre. Vamos, Gregorio —debían haber aclamado—. Duro con ello, duro con la cerradura Y ante la idea de que todos seguían con expectación sus esfuerzos, se aferró ciegamente a la llave con todas las fuerzas que fue capaz de reunir. A medida que avanzaba el giro de la llave, Gregorio se movía en torno a la cerradura, ya sólo se mantenía de pie con la boca, y, según era necesario, se colgaba de la llave o la apretaba de nuevo hacia dentro con todo el peso de su cuerpo. El sonido agudo de la cerradura, que se abrió por fin, despertó del todo a Gregorio. Respirando profundamente dijo para sus adentros: No he necesitado al cerrajero, y apoyó la cabeza sobre el picaporte para abrir la puerta del todo.Como tuvo que abrir la puerta de esta forma, ésta estaba ya bastante abierta y todavía no se le veía. En primer lugar tenía que darse lentamente la vuelta sobre sí mismo, alrededor de la hoja de la puerta, y ello con mucho cuidado si no quería caer torpemente de espaldas justo ante el umbral de la habitación. Todavía estaba absorto en llevar a cabo aquel difícil movimiento y no tenía tiempo de prestar atención a otra cosa, cuando escuchó al apoderado lanzar en voz alta un Oh que sonó como un silbido del viento, y en ese momento vio también cómo aquél, que era el más cercano a la puerta, se tapaba con la mano la boca abierta y retrocedía lentamente como si le empujase una fuerza invisible que actuaba regularmente. La madre —a pesar de la presencia del apoderado, estaba allí con los cabellos desenredados y levantados hacia arriba— miró en primer lugar al padre con las manos juntas, dio a continuación dos pasos hacia Gregorio y, con el rostro completamente oculto en su pecho, cayó al suelo en medio de sus faldas, que quedaron extendidas a su alrededor. El padre cerró el puño con expresión amenazadora, como si quisiera empujar de nuevo a Gregorio a su habitación, miró inseguro a su alrededor por el cuarto de estar, después se tapó los ojos con las manos y lloró de tal forma que su robusto pecho se estremecía por el llanto.Gregorio no entró, pues, en la habitación, sino que se apoyó en la parte intermedia de la hoja de la puerta que permanecía cerrada, de modo que sólo podía verse la mitad de su cuerpo y sobre él la cabeza, inclinada a un lado, con la cual miraba hacia los demás. Entre tanto el día había aclarado; al otro lado de la calle se distinguía claramente una parte del edificio de enfrente, negruzco e interminable —era un hospital—, con sus ventanas regulares que rompían duramente la fachada. Todavía caía la lluvia, pero sólo a grandes gotas que eran lanzadas hacia abajo aisladamente sobre la tierra. Las piezas de la vajilla del desayuno se extendían en gran cantidad sobre la mesa porque para el padre el desayuno era la comida principal del día, que prolongaba durante horas con la lectura de diversos periódicos. Justamente en la pared de enfrente había una fotografía de Gregorio, de la época de su servicio militar, que le representaba con uniforme de teniente, y cómo, con la mano sobre la espada, sonriendo despreocupadamente, exigía respeto para su actitud y su uniforme. La puerta del vestíbulo estaba abierta y se podía ver el rellano de la escalera y el comienzo de la misma, que conducían hacia abajo.—Bueno— dijo Gregorio, y era completamente consciente de que era el único que había conservado la tranquilidad—, me vestiré inmediatamente, empaquetaré el muestrario y saldré de viaje. Quieren dejarme marchar Bueno, señor apoderado, ya ve usted que no soy obstinado y me gusta trabajar, viajar es fatigoso, pero no podría vivir sin viajar. Adónde va usted, señor apoderado Al almacén Sí Lo contará usted todo tal como es en realidad En un momento dado puede uno ser incapaz de trabajar, pero después llega el momento preciso de acordarse de los servicios prestados y de pensar que después, una vez superado el obstáculo, uno trabajará, con toda seguridad, con más celo y concentración. Yo le debo mucho al jefe, bien lo sabe usted. Por otra parte, tengo a mi cuidado a mis padres y a mi hermana. Estoy en un aprieto, pero saldré de él. Pero no me lo haga usted más difícil de lo que ya es. Póngase de mi parte en el almacén Ya sé que no se quiere bien al viajante. Se piensa que gana un montón de dinero y se da la gran vida. Es cierto que no hay una razón especial para meditar a fondo sobre este prejuicio, pero usted, señor apoderado, usted tiene una visión de conjunto de las circunstancias mejor que la que tiene el resto del personal; sí, en confianza, incluso una visión de conjunto mejor que la del mismo jefe, que, en su condición de empresario, cambia fácilmente de opinión en perjuicio del empleado. También sabe usted muy bien que el viajante, que casi todo el año está fuera del almacén, puede convertirse fácilmente en víctima de murmuraciones, casualidades y quejas infundadas, contra las que le resulta absolutamente imposible defenderse, porque la mayoría de las veces no se entera de ellas y más tarde, cuando, agotado, ha terminado un viaje, siente sobre su propia carne, una vez en el hogar, las funestas consecuencias cuyas causas no puede comprender. Señor apoderado, no se marche usted sin haberme dicho una palabra que me demuestre que, al menos en una pequeña parte, me da usted la razón.Pero el apoderado ya se había dado la vuelta a las primeras palabras de Gregorio, y por encima del hombro, que se movía convulsivamente, miraba hacia Gregorio poniendo los labios en forma de morro, y mientras Gregorio hablaba no estuvo quieto ni un momento, sino que, sin perderle de vista, se iba deslizando hacia la puerta, pero muy lentamente, como si existiese una prohibición secreta de abandonar la habitación. Ya se encontraba en el vestíbulo y, a juzgar por el movimiento repentino con que sacó el pie por última vez del cuarto de estar, podría haberse creído que acababa de quemarse la suela. Ya en el vestíbulo, extendió la mano derecha lejos de sí y en dirección a la escalera, como si allí le esperase realmente una salvación sobrenatural.Gregorio comprendió que de ningún modo debía dejar marchar al apoderado en este estado de ánimo, si es que no quería ver extremadamente amenazado su trabajo en el almacén. Los padres no entendían todo esto demasiado bien: durante todos estos largos años habían llegado al convencimiento de que Gregorio estaba colocado en este almacén para el resto de su vida, y además, con las preocupaciones actuales, tenían tanto que hacer, que habían perdido toda previsión. Pero Gregorio poseía esa previsión. El apoderado tenía que ser retenido, tranquilizado, persuadido y, finalmente, atraído. El futuro de Gregorio y de su familia dependía de ello Si hubiese estado aquí la hermana Ella era lista; ya había llorado cuando Gregorio todavía estaba tranquilamente sobre su espalda, y seguro que el apoderado, ese aficionado a las mujeres, se hubiese dejado llevar por ella; ella habría cerrado la puerta principal y en el vestíbulo le hubiese disuadido de su miedo. Pero lo cierto es que la hermana no estaba aquí y Gregorio tenía que actuar. Y sin pensar que no conocía todavía su actual capacidad de movimiento, y que sus palabras posiblemente, seguramente incluso, no habían sido entendidas, abandonó la hoja de la puerta y se deslizó a través del hueco abierto. Pretendía dirigirse hacia el apoderado que, de una forma grotesca, se agarraba ya con ambas manos a la barandilla del rellano; pero, buscando algo en que apoyarse, se cayó inmediatamente sobre sus múltiples patitas, dando un pequeño grito. Apenas había sucedido esto, sintió por primera vez en esta mañana un bienestar físico: las patitas tenían suelo firme por debajo, obedecían a la perfección, como advirtió con alegría; incluso intentaban transportarle hacia donde él quería; y ya creía Gregorio que el alivio definitivo de todos sus males se encontraba a su alcance; Pero en el mismo momento en que, balanceándose por el movimiento reprimido, no lejos de su madre, permanecía en el suelo justo enfrente de ella, ésta, que parecía completamente sumida en sus propios pensamientos, dio un salto hacia arriba, con los brazos extendidos, con los dedos muy separados entre sí, y exclamó:—Socorro, por el amor de Dios, socorroMantenía la cabeza inclinada, como si quisiera ver mejor a Gregorio, pero, en contradicción con ello, retrocedió atropelladamente; había olvidado que detrás de ella estaba la mesa puesta; cuando hubo llegado a ella, se sentó encima precipitadamente, como fuera de sí, y no pareció notar que, junto a ella, el café de la cafetera volcada caía a chorros sobre la alfombra.—Madre, madre —dijo Gregorio en voz baja, y miró hacia ella. Por un momento había olvidado completamente al apoderado; por el contrario, no pudo evitar, a la vista del café que se derramaba, abrir y cerrar varias veces sus mandíbulas al vacío.Al verlo la madre gritó nuevamente, huyó de la mesa y cayó en los brazos del padre, que corría a su encuentro. Pero Gregorio no tenía ahora tiempo para sus padres. El apoderado se encontraba ya en la escalera; con la barbilla sobre la barandilla miró de nuevo por última vez. Gregorio tomó impulso para alcanzarle con la mayor seguridad posible. El apoderado debió adivinar algo, porque saltó de una vez varios escalones y desapareció; pero lanzó aún un Uh, que se oyó en toda la escalera. Lamentablemente esta huida del apoderado pareció desconcertar del todo al padre, que hasta ahora había estado relativamente sereno, pues en lugar de perseguir él mismo al apoderado o, al menos, no obstaculizar a Gregorio en su persecución, agarró con la mano derecha el bastón del apoderado, que aquél había dejado sobre la silla junto con el sombrero y el gabán; tomó con la mano izquierda un gran periódico que había sobre la mesa y, dando patadas en el suelo, comenzó a hacer retroceder a Gregorio a su habitación blandiendo el bastón y el periódico. De nada sirvieron los ruegos de Gregorio, tampoco fueron entendidos, y por mucho que girase humildemente la cabeza, el padre pataleaba aún con más fuerza. Al otro lado, la madre había abierto de par en par una ventana, a pesar del tiempo frío, e inclinada hacia fuera se cubría el rostro con las manos.Entre la calle y la escalera se estableció una fuerte corriente de aire, las cortinas de las ventanas volaban, se agitaban los periódicos de encima de la mesa, las hojas sueltas revoloteaban por el suelo. El padre le acosaba implacablemente y daba silbidos como un loco. Pero Gregorio todavía no tenía mucha práctica en andar hacia atrás, andaba realmente muy despacio. Si Gregorio se hubiese podido dar la vuelta, enseguida hubiese estado en su habitación, pero tenía miedo de impacientar al padre con su lentitud al darse la vuelta, y a cada instante le amenazaba el golpe mortal del bastón en la espalda o la cabeza. Finalmente, no le quedó a Gregorio otra solución, pues advirtió con angustia que andando hacia atrás ni siquiera era capaz de mantener la dirección, y así, mirando con temor constantemente a su padre de reojo, comenzó a darse la vuelta con la mayor rapidez posible, pero, en realidad, con una gran lentitud. Quizá advirtió el padre su buena voluntad, porque no sólo no le obstaculizó en su empeño, sino que, con la punta de su bastón, le dirigía de vez en cuando, desde lejos, en su movimiento giratorio. Si no hubiese sido por ese insoportable silbar del padre Por su culpa Gregorio perdía la cabeza por completo. Ya casi se había dado la vuelta del todo cuando, siempre oyendo ese silbido, incluso se equivocó y retrocedió un poco en su vuelta. Pero cuando por fin, feliz, tenía ya la cabeza ante la puerta, resultó que su cuerpo era demasiado ancho para pasar por ella sin más. Naturalmente, al padre, en su actual estado de ánimo, ni siquiera se le ocurrió ni por lo más remoto abrir la otra hoja de la puerta para ofrecer a Gregorio espacio suficiente. Su idea fija consistía solamente en que Gregorio tenía que entrar en su habitación lo más rápidamente posible; tampoco hubiera permitido jamás los complicados preparativos que necesitaba Gregorio para incorporarse y, de este modo, atravesar la puerta. Es más, empujaba hacia delante a Gregorio con mayor ruido aún, como si no existiese obstáculo alguno. Ya no sonaba tras de Gregorio como si fuese la voz de un solo padre; ahora ya no había que andarse con bromas, y Gregorio se empotró en la puerta, pasase lo que pasase. Uno de los costados se levantó, ahora estaba atravesado en el hueco de la puerta, su costado estaba herido por completo, en la puerta blanca quedaron marcadas unas manchas desagradables, pronto se quedó atascado y sólo no hubiera podido moverse, las patitas de un costado estaban colgadas en el aire, y temblaban, las del otro lado permanecían aplastadas dolorosamente contra el suelo.Entonces el padre le dio por detrás un fuerte empujón que, en esta situación, le produjo un auténtico alivio, y Gregorio penetró profundamente en su habitación, sangrando con intensidad. La puerta fue cerrada con el bastón y a continuación se hizo, por fin, el silencio.Hasta la caída de la tarde no se despertó Gregorio de su profundo sueño, similar a una pérdida de conocimiento. Seguramente no se hubiese despertado mucho más tarde, aun sin ser molestado, porque se sentía suficientemente repuesto y descansado; sin embargo, le parecía como si le hubiesen despertado unos pasos fugaces y el ruido de la puerta que daba al vestíbulo al ser cerrada con cuidado. El resplandor de las farolas eléctricas de la calle se reflejaba pálidamente aquí y allí en el techo de la habitación y en las partes altas de los muebles, pero abajo, donde se encontraba Gregorio, estaba oscuro. Tanteando todavía torpemente con sus antenas, que ahora aprendía a valorar, se deslizó lentamente hacia la puerta para ver lo que había ocurrido allí. Su costado izquierdo parecía una única y larga cicatriz que le daba desagradables tirones y le obligaba realmente a cojear con sus dos filas de patas. Por cierto, una de las patitas había resultado gravemente herida durante los incidentes de la mañana —casi parecía un milagro que sólo una hubiese resultado herida—, y se arrastraba sin vida.Sólo cuando ya había llegado a la puerta advirtió que lo que lo había atraído hacia ella era el olor a algo comestible, porque allí había una escudilla llena de leche dulce en la que nadaban trocitos de pan. Estuvo a punto de llorar de alegría porque ahora tenía aún más hambre que por la mañana, e inmediatamente introdujo la cabeza dentro de la leche casi hasta por encima de los ojos. Pero pronto volvió a sacarla con desilusión. No sólo comer le resultaba difícil debido a su delicado costado izquierdo —sólo podía comer si todo su cuerpo cooperaba jadeando—, sino que, además, la leche, que siempre había sido su bebida favorita, y que seguramente por eso se la había traído la hermana, ya no le gustaba; es más, se retiró casi con repugnancia de la escudilla y retrocedió a rastras hacia el centro de la habitación.En el cuarto de estar, por lo que veía Gregorio a través de la rendija de la puerta, estaba encendido el gas, pero mientras que —como era habitual a estas horas del día— el padre solía leer en voz alta a la madre, y a veces también a la hermana, el periódico vespertino, ahora no se oía ruido alguno. Bueno, quizá esta costumbre de leer en voz alta, tal como le contaba y le escribía siempre su hermana, se había perdido del todo en los últimos tiempos. Pero todo a su alrededor permanecía en silencio, a pesar de que, sin duda, la casa no estaba vacía. Qué vida tan apacible lleva la familia, se dijo Gregorio, y, mientras miraba fijamente la oscuridad que reinaba ante él, se sintió muy orgulloso de haber podido proporcionar a sus padres y a su hermana la vida que llevaban en una vivienda tan hermosa. Pero qué ocurriría si toda la tranquilidad, todo el bienestar, toda la satisfacción, llegase ahora a un terrible final Para no perderse en tales pensamientos, prefirió Gregorio ponerse en movimiento y arrastrarse de acá para allá por la habitación.En una ocasión, durante el largo anochecer, se abrió una pequeña rendija una vez en una puerta lateral y otra vez en la otra, y ambas se volvieron a cerrar rápidamente; probablemente alguien tenía necesidad de entrar, pero, al mismo tiempo, sentía demasiada vacilación. Entonces Gregorio se paró justamente delante de la puerta del cuarto de estar, decidido a hacer entrar de alguna manera al indeciso visitante, o al menos para saber de quién se trataba; pero la puerta ya no se abrió más y Gregorio esperó en vano. Por la mañana temprano, cuando todas las puertas estaban bajo llave, todos querían entrar en su habitación. Ahora que había abierto una puerta, y que las demás habían sido abiertas sin duda durante el día, no venía nadie y, además, ahora las llaves estaban metidas en las cerraduras desde fuera.Muy tarde, ya de noche, se apagó la luz en el cuarto de estar y entonces fue fácil comprobar que los padres y la hermana habían permanecido despiertos todo ese tiempo, porque tal y como se podía oír perfectamente, se retiraban de puntillas los tres juntos en este momento. Así pues, seguramente hasta la mañana siguiente no entraría nadie más en la habitación de Gregorio; disponía de mucho tiempo para pensar, sin que nadie le molestase, sobre cómo debía organizar de nuevo su vida. Pero la habitación de techos altos y que daba la impresión de estar vacía, en la cual estaba obligado a permanecer tumbado en el suelo, lo asustaba sin que pudiera descubrir cuál era la causa, puesto que era la habitación que ocupaba desde hacía cinco años, y con un giro medio inconsciente y no sin una cierta vergüenza, se apresuró a meterse bajo el canapé, en donde, a pesar de que su caparazón era algo estrujado y a pesar de que ya no podía levantar la cabeza, se sintió pronto muy cómodo y solamente lamentó que su cuerpo fuese demasiado ancho para poder desaparecer por completo debajo del canapé.Allí permaneció durante toda la noche, que pasó, en parte, inmerso en un semisueño, del que una y otra vez lo despertaba el hambre con un sobresalto, y, en parte, entre preocupaciones y confusas esperanzas, que lo llevaban a la consecuencia de que, de momento, debía comportarse con calma y, con la ayuda de una gran paciencia y de una gran consideración por parte de la familia, tendría que hacer soportables las molestias que Gregorio, en su estado actual, no podía evitar producirles.Ya muy de mañana, era todavía casi de noche, tuvo Gregorio la oportunidad de poner a prueba las decisiones que acababa de tomar, porque la hermana, casi vestida del todo, abrió la puerta desde el vestíbulo y miró con expectación hacia dentro. No lo encontró enseguida, pero cuando lo descubrió debajo del canapé —Dios mío, tenía que estar en alguna parte, no podía haber volado— se asustó tanto que, sin poder dominarse, volvió a cerrar la puerta desde afuera. Pero como si se arrepintiese de su comportamiento, inmediatamente la abrió de nuevo y entró de puntillas, como si se tratase de un enfermo grave o de un extraño. Gregorio había adelantado la cabeza casi hasta el borde del canapé y la observaba. Se daría cuenta de que había dejado la leche, y no por falta de hambre, y le traería otra comida más adecuada Si no caía en la cuenta por sí misma Gregorio preferiría morir de hambre antes que llamarle la atención sobre esto, a pesar de que sentía unos enormes deseos de salir de debajo del canapé, arrojarse a los pies de la hermana y rogarle que le trajese algo bueno de comer. Pero la hermana reparó con sorpresa en la escudilla llena, a cuyo alrededor se había vertido un poco de leche, y la levantó del suelo, aunque no lo hizo directamente con las manos, sino con un trapo, y se la llevó. Gregorio tenía mucha curiosidad por saber lo que le traería en su lugar, e hizo al respecto las más diversas conjeturas. Pero nunca hubiese podido adivinar lo que la bondad de la hermana iba realmente a hacer. Para poner a prueba su gusto, le trajo muchas cosas para elegir, todas ellas extendidas sobre un viejo periódico. Había verduras pasadas medio podridas, huesos de la cena, rodeados de una salsa blanca que se había ya endurecido, algunas uvas pasas y almendras, un queso que, hacía dos días, Gregorio había calificado de incomible, un trozo de pan, otro trozo de pan untado con mantequilla y otro trozo de pan untado con mantequilla y sal. Además añadió a todo esto la escudilla que, a partir de ahora, probablemente estaba destinada a Gregorio, en la cual había echado agua. Y por delicadeza, como sabía que Gregorio nunca comería delante de ella, se retiró rápidamente e incluso echó la llave, para que Gregorio se diese cuenta de que podía ponerse todo lo cómodo que desease. Las patitas de Gregorio zumbaban cuando se acercaba el momento de comer. Por cierto, sus heridas ya debían estar curadas del todo porque ya no notaba molestia alguna; se asombró y pensó en cómo, hacía más de un mes, se había cortado un poco un dedo y esa herida, todavía anteayer, le dolía bastante. Tendré ahora menos sensibilidad, pensó, y ya chupaba con voracidad el queso, que fue lo que más fuertemente y de inmediato lo atrajo de todo. Sucesivamente, a toda velocidad, y con los ojos llenos de lágrimas de alegría, devoró el queso, las verduras y la salsa; los alimentos frescos, por el contrario, no le gustaban, ni siquiera podía soportar su olor, e incluso alejó un poco las cosas que quería comer. Ya hacía tiempo que había terminado y permanecía tumbado perezosamente en el mismo sitio, cuando la hermana, como señal de que debía retirarse, giró lentamente la llave. Esto lo asustó, a pesar de que ya dormitaba, y se apresuró a esconderse bajo el canapé, pero le costó una gran fuerza de voluntad permanecer debajo del canapé aun el breve tiempo en el que la hermana estuvo en la habitación, porque, a causa de la abundante comida, el vientre se había redondeado un poco y apenas podía respirar en el reducido espacio. Entre pequeños ataques de asfixia, veía con ojos un poco saltones cómo la hermana, que nada imaginaba de esto, no solamente barría con su escoba los restos, sino también los alimentos que Gregorio ni siquiera había tocado, como si éstos ya no se pudiesen utilizar, y cómo lo tiraba todo precipitadamente a un cubo, que cerró con una tapa de madera, después de lo cual se lo llevó todo. Apenas se había dado la vuelta cuando Gregorio salía ya de debajo del canapé, se estiraba y se inflaba.De esta forma recibía Gregorio su comida diaria una vez por la mañana, cuando los padres y la criada todavía dormían, y la segunda vez después de la comida del mediodía, porque entonces los padres dormían un ratito y la hermana mandaba a la criada a algún recado. Sin duda los padres no querían que Gregorio se muriese de hambre, pero quizá no hubieran podido soportar enterarse de sus costumbres alimenticias más de lo que de ellas les dijese la hermana; quizá la hermana quería ahorrarles una pequeña pena porque, de hecho, ya sufrían bastante.Gregorio no pudo enterarse de las excusas con las que el médico y el cerrajero habían sido despedidos de la casa en aquella primera mañana, puesto que, como no podían entenderle, nadie, ni siquiera la hermana, pensaba que él pudiera entender a los demás, y así, cuando la hermana estaba en su habitación, tenía que conformarse con escuchar de vez en cuando sus suspiros y sus invocaciones a los santos. Sólo más tarde, cuando ya se había acostumbrado un poco a todo —naturalmente nunca podría pensarse en que se acostumbrase del todo—, cazaba Gregorio a veces una observación hecha amablemente o que así podía interpretarse: Hoy sí que le ha gustado, decía cuando Gregorio había comido con abundancia, mientras que, en el caso contrario, que poco a poco se repetía con más frecuencia, solía decir casi con tristeza: Hoy ha sobrado todo.Mientras que Gregorio no se enteraba de novedad alguna de forma directa, escuchaba algunas cosas procedentes de las habitaciones contiguas. Y allí donde escuchaba voces una sola vez, corría enseguida hacia la puerta correspondiente y se estrujaba con todo su cuerpo contra ella. Especialmente en los primeros tiempos no había ninguna conversación que de alguna manera, si bien sólo en secreto, no tratase de él. A lo largo de dos días se escucharon durante las comidas discusiones sobre cómo se debían comportar ahora; pero también entre las comidas se hablaba del mismo tema, porque siempre había en casa al menos dos miembros de la familia, ya que seguramente nadie quería quedarse solo en casa, y tampoco podían dejar de ningún modo la casa sola. Incluso ya el primer día la criada (no estaba del todo claro qué y cuánto sabía de lo ocurrido) había pedido de rodillas a la madre que la despidiese inmediatamente, y cuando, un cuarto de hora después, se marchaba con lágrimas en los ojos, daba gracias por el despido como por el favor más grande que pudiese hacérsele, y sin que nadie se lo pidiese hizo un solemne juramento de no decir nada a nadie.Ahora la hermana, junto con la madre, tenía que cocinar, si bien esto no ocasionaba demasiado trabajo porque apenas se comía nada. Una y otra vez escuchaba Gregorio cómo uno animaba en vano al otro a que comiese y no recibía más contestación que: Gracias, tengo suficiente, o algo parecido. Quizá tampoco se bebía nada. A veces la hermana preguntaba al padre si quería tomar una cerveza, y se ofrecía amablemente a ir ella misma a buscarla, y como el padre permanecía en silencio, añadía para que él no tuviese reparos, que también podía mandar a la portera, pero entonces el padre respondía, por fin, con un poderoso no, y ya no se hablaba más del asunto.Ya en el transcurso del primer día el padre explicó tanto a la madre como a la hermana toda la situación económica y las perspectivas. De vez en cuando se levantaba de la mesa y recogía de la pequeña caja marca Wertheim, que había salvado de la quiebra de su negocio ocurrida hacía cinco años, algún documento o libro de anotaciones. Se oía cómo abría el complicado cerrojo y lo volvía a cerrar después de sacar lo que buscaba. Estas explicaciones del padre eran, en parte, la primera cosa grata que Gregorio oía desde su encierro. Gregorio había creído que al padre no le había quedado nada de aquel negocio, al menos el padre no le había dicho nada en sentido contrario, y, por otra parte, tampoco Gregorio le había preguntado. En aquel entonces la preocupación de Gregorio había sido hacer todo lo posible para que la familia olvidase rápidamente el desastre comercial que los había sumido a todos en la más completa desesperación, y así había empezado entonces a trabajar con un ardor muy especial y, casi de la noche a la mañana, había pasado a ser de un simple dependiente a un viajante que, naturalmente, tenía otras muchas posibilidades de ganar dinero, y cuyos éxitos profesionales, en forma de comisiones, se convierten inmediatamente en dinero constante y sonante, que se podía poner sobre la mesa en casa ante la familia asombrada y feliz. Habían sido buenos tiempos y después nunca se habían repetido, al menos con ese esplendor, a pesar de que Gregorio, después, ganaba tanto dinero, que estaba en situación de cargar con todos los gastos de la familia y así lo hacía. Se habían acostumbrado a esto tanto la familia como Gregorio; se aceptaba el dinero con agradecimiento, él lo entregaba con gusto, pero ya no emanaba de ello un calor especial. Solamente la hermana había permanecido unida a Gregorio, y su intención secreta consistía en mandarla el año próximo al conservatorio sin tener en cuenta los grandes gastos que ello traería consigo y que se compensarían de alguna otra forma, porque ella, al contrario que Gregorio, sentía un gran amor por la música y tocaba el violín de una forma conmovedora. Con frecuencia, durante las breves estancias de Gregorio en la ciudad, se mencionaba el conservatorio en las conversaciones con la hermana, pero sólo como un hermoso sueño en cuya realización no podía ni pensarse, y a los padres ni siquiera les gustaba escuchar estas inocentes alusiones; pero Gregorio pensaba decididamente en ello y tenía la intención de darlo a conocer solemnemente en Nochebuena.Este tipo de pensamientos, completamente inútiles en su estado actual, eran los que le pasaban por la cabeza mientras permanecía allí pegado a la puerta y escuchaba. A veces ya no podía escuchar más de puro cansando y, en un descuido, se golpeaba la cabeza contra la puerta, pero inmediatamente volvía a levantarla, porque incluso el pequeño ruido que había producido con ello había sido escuchado al lado y había hecho enmudecer a todos.—Qué es lo que hará —decía el padre pasados unos momentos y dirigiéndose a todas luces hacia la puerta; después se reanudaba poco a poco la conversación que había sido interrumpida.De esta forma Gregorio se enteró muy bien —el padre solía repetir con frecuencia sus explicaciones, en parte porque él mismo ya hacía tiempo que no se ocupaba de estas cosas, y, en parte también, porque la madre no entendía todo a la primera— de que, a pesar de la desgracia, todavía quedaba una pequeña fortuna; que los intereses, aún intactos, habían aumentado un poco más durante todo este tiempo. Además, el dinero que Gregorio había traído todos los meses a casa —él sólo había guardado para sí unos pocos florines— no se había gastado del todo y se había convertido en un pequeño capital. Gregorio, detrás de su puerta, asentía entusiasmado, contento por la inesperada previsión y ahorro. La verdad es que con ese dinero sobrante Gregorio podía haber ido liquidando la deuda que tenía el padre con el jefe y el día en que, por fin, hubiese podido abandonar ese trabajo habría estado más cercano; pero ahora era sin duda mucho mejor así, tal y como lo había organizado el padre.Sin embargo, este dinero no era del todo suficiente como para que la familia pudiese vivir de los intereses; bastaba quizá para mantener a la familia uno, como mucho dos años, más era imposible. Así pues, se trataba de una suma de dinero que, en realidad, no podía tocarse, y que debía ser reservada para un caso de necesidad, pero el dinero para vivir había que ganarlo. Ahora bien, el padre era ciertamente un hombre sano, pero ya viejo, que desde hacía cinco años no trabajaba y que, en todo caso, no debía confiar mucho en sus fuerzas; durante estos cinco años, que habían sido las primeras vacaciones de su esforzada y, sin embargo, infructuosa existencia, había engordado mucho, y por ello se había vuelto muy torpe. Y la anciana madre Tenía ahora que ganar dinero, ella que padecía de asma, a quien un paseo por la casa producía fatiga, y que pasaba uno de cada dos días con dificultades respiratorias, tumbada en el sofá con la ventana abierta Y la hermana también tenía que ganar dinero, ella que todavía era una criatura de diecisiete años, a quien uno se alegraba de poder proporcionar la forma de vida que había llevado hasta ahora, y que consistía en vestirse bien, dormir mucho, ayudar en la casa, participar en algunas diversiones modestas y, sobre todo, tocar el violín Cuando se empezaba a hablar de la necesidad de ganar dinero Gregorio acababa por abandonar la puerta y arrojarse sobre el fresco sofá de cuero, que estaba junto a la puerta, porque se ponía al rojo vivo de vergüenza y tristeza.A veces permanecía allí tumbado durante toda la noche, no dormía ni un momento, y se restregaba durante horas sobre el cuero. O bien no retrocedía ante el gran esfuerzo de empujar una silla hasta la ventana, trepar a continuación hasta el antepecho y, subido en la silla, apoyarse en la ventana y mirar a través de la misma, sin duda como recuerdo de lo libre que se había sentido siempre que anteriormente había estado apoyado aquí. Porque, efectivamente, de día en día, veía cada vez con menos claridad las cosas que ni siquiera estaban muy alejadas: ya no podía ver el hospital de enfrente, cuya visión constante había antes maldecido, y si no hubiese sabido muy bien que vivía en la tranquila pero central Charlottenstrasse, podría haber creído que veía desde su ventana un desierto en el que el cielo gris y la gris tierra se unían sin poder distinguirse uno de otra. Sólo dos veces había sido necesario que su atenta hermana viese que la silla estaba bajo la ventana para que, a partir de entonces, después de haber recogido la habitación, la colocase siempre bajo aquélla, e incluso dejase abierta la contraventana interior.Si Gregorio hubiese podido hablar con la hermana y darle las gracias por todo lo que tenía que hacer por él, hubiese soportado mejor sus servicios, pero de esta forma sufría con ellos. Ciertamente, la hermana intentaba hacer más llevadero lo desagradable de la situación, y, naturalmente, cuanto más tiempo pasaba, tanto más fácil le resultaba conseguirlo, pero también Gregorio adquirió con el tiempo una visión de conjunto más exacta. Ya el solo hecho de que la hermana entrase le parecía terrible.Apenas había entrado, sin tomarse el tiempo necesario para cerrar la puerta, y eso que siempre ponía mucha atención en ahorrar a todos el espectáculo que ofrecía la habitación de Gregorio, corría derecha hacia la ventana y la abría de par en par, con manos presurosas, como si se asfixiase y, aunque hiciese mucho frío, permanecía durante algunos momentos ante ella, y respiraba profundamente. Estas carreras y ruidos asustaban a Gregorio dos veces al día; durante todo ese tiempo temblaba bajo el canapé y sabía muy bien que ella le hubiese evitado con gusto todo esto, si es que le hubiese sido posible permanecer con la ventana cerrada en la habitación en la que se encontraba Gregorio.Una vez, hacía aproximadamente un mes de la transformación de Gregorio, y el aspecto de éste ya no era para la hermana motivo especial de asombro, llegó un poco antes de lo previsto y encontró a Gregorio mirando por la ventana, inmóvil y realmente colocado para asustar. Para Gregorio no hubiese sido inesperado si ella no hubiese entrado, ya que él, con su posición, impedía que ella pudiese abrir de inmediato la ventana, pero ella no solamente no entró, sino que retrocedió y cerró la puerta; un extraño habría podido pensar que Gregorio la había acechado y había querido morderla. Gregorio, naturalmente, se escondió enseguida bajo el canapé, pero tuvo que esperar hasta mediodía antes de que la hermana volviese de nuevo, y además parecía mucho más intranquila que de costumbre. Gregorio sacó la conclusión de que su aspecto todavía le resultaba insoportable y continuaría pareciéndoselo, y que ella tenía que dominarse a sí misma para no salir corriendo al ver incluso la pequeña parte de su cuerpo que sobresalía del canapé. Para ahorrarle también ese espectáculo, transportó un día sobre la espalda —para ello necesitó cuatro horas— la sábana encima del canapé, y la colocó de tal forma que él quedaba tapado del todo, y la hermana, incluso si se agachaba, no podía verlo. Si, en opinión de la hermana, esa sábana no hubiese sido necesaria, podría haberla retirado, porque estaba suficientemente claro que Gregorio no se aislaba por gusto, pero dejó la sábana tal como estaba, e incluso Gregorio creyó adivinar una mirada de gratitud cuando, con cuidado, levantó la cabeza un poco para ver cómo acogía la hermana la nueva disposición.Durante los primeros catorce días, los padres no consiguieron decidirse a entrar en su habitación, y Gregorio escuchaba con frecuencia cómo ahora reconocían el trabajo de la hermana, a pesar de que anteriormente se habían enfadado muchas veces con ella, porque les parecía una chica un poco inútil. Pero ahora, a veces, ambos, el padre y la madre, esperaban ante la habitación de Gregorio mientras la hermana la recogía y, apenas había salido, tenía que contar con todo detalle qué aspecto tenía la habitación, lo que había comido Gregorio, cómo se había comportado esta vez y si, quizá, se advertía una pequeña mejoría. Por cierto, la madre quiso entrar a ver a Gregorio relativamente pronto, pero el padre y la hermana se lo impidieron, al principio con argumentos racionales, que Gregorio escuchaba con mucha atención, y con los que estaba muy de acuerdo, pero más tarde hubo que impedírselo por la fuerza, y si entonces gritaba: Déjenme entrar a ver a Gregorio, pobre hijo mío Es que no comprenden que tengo que entrar a verlo Entonces Gregorio pensaba que quizá sería bueno que la madre entrase, naturalmente no todos los días, pero sí una vez a la semana; ella comprendía todo mucho mejor que la hermana, que, a pesar de todo su valor, no era más que una niña, y, en última instancia, quizá sólo se había hecho cargo de una tarea tan difícil por irreflexión infantil.El deseo de Gregorio de ver a la madre pronto se convirtió en realidad. Durante el día Gregorio no quería mostrarse por la ventana, por consideración a sus padres, pero tampoco podía arrastrarse demasiado por los pocos metros cuadrados del suelo; ya soportaba con dificultad estar tumbado tranquilamente durante la noche, pronto ya ni siquiera la comida le producía alegría alguna y así, para distraerse, adoptó la costumbre de arrastrarse en todas direcciones por las paredes y el techo. Le gustaba especialmente permanecer colgado del techo; era algo muy distinto a estar tumbado en el suelo; se respiraba con más libertad; un ligero balanceo atravesaba el cuerpo; y sumido en la casi feliz distracción en la que se encontraba allí arriba, podía ocurrir que, para su sorpresa, se dejase caer y se golpease contra el suelo. Pero ahora, naturalmente, dominaba su cuerpo de una forma muy distinta a como lo había hecho antes y no se hacía daño, incluso después de semejante caída. La hermana se dio cuenta inmediatamente de la nueva diversión que Gregorio había descubierto —al arrastrarse dejaba tras de sí, por todas partes, huellas de su sustancia pegajosa— y entonces se le metió en la cabeza proporcionar a Gregorio la posibilidad de arrastrarse a gran escala y sacar de allí los muebles que lo impedían, es decir, sobre todo el armario y el escritorio. Ella no era capaz de hacerlo todo sola, tampoco se atrevía a pedir ayuda al padre; la criada no la hubiese ayudado seguramente, porque esa chica, de unos dieciséis años, resistía ciertamente con valor desde que se despidió a la cocinera anterior, pero había pedido el favor de poder mantener la cocina constantemente cerrada y abrirla solamente a una señal determinada. Así pues, no le quedó a la hermana más remedio que valerse de la madre, una vez que estaba el padre ausente.Con exclamaciones de excitada alegría se acercó la madre, pero enmudeció ante la puerta de la habitación de Gregorio. Primero la hermana se aseguró de que todo en la habitación estaba en orden, después dejó entrar a la madre. Gregorio se había apresurado a colocar la sábana aún más bajo y con más pliegues, de modo que, de verdad, tenía el aspecto de una sábana lanzada casualmente sobre el canapé. Gregorio se abstuvo esta vez de espiar por debajo de la sábana; renunció a ver esta vez a la madre y se contentaba sólo conque hubiese venido.—Vamos, acércate, no se le ve —dijo la hermana, y, sin duda, llevaba a la madre de la mano. Gregorio oyó entonces cómo las dos débiles mujeres movían de su sitio el pesado y viejo armario, y cómo la hermana siempre se cargaba la mayor parte del trabajo, sin escuchar las advertencias de la madre que temía que se esforzase demasiado. Duró mucho tiempo. Aproximadamente después de un cuarto de hora de trabajo dijo la madre que deberían dejar aquí el armario, porque, en primer lugar, era demasiado pesado y no acabarían antes de que regresase el padre, y con el armario en medio de la habitación le bloqueaban a Gregorio cualquier camino y, en segundo lugar, no era del todo seguro que se le hiciese a Gregorio un favor con retirar los muebles. A ella le parecía precisamente lo contrario, la vista de las paredes desnudas le oprimía el corazón, y por qué no iba a sentir Gregorio lo mismo, puesto que ya hacía tiempo que estaba acostumbrado a los muebles de la habitación, y por eso se sentiría abandonado en la habitación vacía.—Y es que acaso no... —finalizó la madre en voz baja, aunque ella hablaba siempre casi susurrando, como si quisiera evitar que Gregorio, cuyo escondite exacto ella ignoraba, escuchase siquiera el sonido de su voz, porque ella estaba convencida de que él no entendía las palabras.—Y es que acaso no parece que retirando los muebles le mostramos que perdemos toda esperanza de mejoría y lo abandonamos a su suerte sin consideración alguna Yo creo que lo mejor sería que intentásemos conservar la habitación en el mismo estado en que se encontraba antes, para que Gregorio, cuando regrese de nuevo con nosotros, encuentre todo tal como estaba y pueda olvidar más fácilmente este paréntesis de tiempo.Al escuchar estas palabras de la madre, Gregorio reconoció que la falta de toda conversación inmediata con un ser humano, junto a la vida monótona en el seno de la familia, tenía que haber confundido sus facultades mentales a lo largo de estos dos meses, porque de otro modo no podía explicarse que hubiese podido desear seriamente que se vaciase su habitación. Deseaba realmente permitir que transformasen la cálida habitación amueblada confortablemente, con muebles heredados de su familia, en una cueva en la que, efectivamente, podría arrastrarse en todas direcciones sin obstáculo alguno, teniendo, sin embargo, como contrapartida, que olvidarse al mismo tiempo, rápidamente y por completo, de su pasado humano Ya se encontraba a punto de olvidar y solamente le había animado la voz de su madre, que no había oído desde hacía tiempo. Nada debía retirarse, todo debía quedar como estaba, no podía prescindir en su estado de la bienhechora influencia de los muebles, y si los muebles le impedían arrastrarse sin sentido de un lado para otro, no se trataba de un perjuicio, sino de una gran ventaja.Pero la hermana era, lamentablemente, de otra opinión; no sin cierto derecho, se había acostumbrado a aparecer frente a los padres como experta al discutir sobre asuntos concernientes a Gregorio, y de esta forma el consejo de la madre era para la hermana motivo suficiente para retirar no sólo el armario y el escritorio, como había pensado en un principio, sino todos los muebles a excepción del imprescindible canapé. Naturalmente, no sólo se trataba de una terquedad pueril y de la confianza en sí misma que en los últimos tiempos, de forma tan inesperada y difícil, había conseguido, lo que la impulsaba a esta exigencia; ella había observado, efectivamente, que Gregorio necesitaba mucho sitio para arrastrarse y que, en cambio, no utilizaba en absoluto los muebles, al menos por lo que se veía. Pero quizá jugaba también un papel importante el carácter exaltado de una chica de su edad, que busca su satisfacción en cada oportunidad, y por el que Greta ahora se dejaba tentar con la intención de hacer más que ahora, porque en una habitación en la que sólo Gregorio era dueño y señor de las paredes vacías, no se atrevería a entrar ninguna otra persona más que Greta.Así pues, no se dejó disuadir de sus propósitos por la madre, que también, de pura inquietud, parecía sentirse insegura en esta habitación; pronto enmudeció y ayudó a la hermana con todas sus fuerzas a sacar el armario. Bueno, en caso de necesidad, Gregorio podía prescindir del armario, pero el escritorio tenía que quedarse; y apenas habían abandonado las mujeres la habitación con el armario, en el cual se apoyaban gimiendo, cuando Gregorio sacó la cabeza de debajo del canapé para ver cómo podía tomar cartas en el asunto lo más prudente y discretamente posible. Pero, por desgracia, fue precisamente la madre quien regresó primero, mientras Greta, en la habitación contigua, sujetaba el armario rodeándolo con los brazos y lo empujaba sola de acá para allá, naturalmente, sin moverlo un ápice de su sitio. Pero la madre no estaba acostumbrada a ver a Gregorio, podría haberse puesto enferma por su culpa, y así Gregorio, andando hacia atrás, se alejó asustado hasta el otro extremo del canapé, pero no pudo evitar que la sábana se moviese un poco por la parte de delante. Esto fue suficiente para llamar la atención de la madre. Ésta se detuvo, permaneció allí un momento en silencio y luego volvió con Greta.A pesar de que Gregorio se repetía una y otra vez que no ocurría nada fuera de lo común, sino que sólo se cambiaban de sitio algunos muebles, sin embargo, como pronto habría de confesarse a sí mismo, este ir y venir de las mujeres, sus breves gritos, el arrastre de los muebles sobre el suelo, le producían la impresión de un gran barullo, que crecía procedente de todas las direcciones y, por mucho que encogía la cabeza y las patas sobre sí mismo y apretaba el cuerpo contra el suelo, tuvo que confesarse irremisiblemente que no soportaría todo esto mucho tiempo. Ellas le vaciaban su habitación, le quitaban todo aquello a lo que tenía cariño, el armario en el que guardaba la sierra y otras herramientas ya lo habían sacado; ahora ya aflojaban el escritorio, que estaba fijo al suelo, en el cual había hecho sus deberes cuando era estudiante de comercio, alumno del instituto e incluso alumno de la escuela primaria. Ante esto no le quedaba ni un momento para comprobar las buenas intenciones que tenían las dos mujeres, y cuya existencia, por cierto, casi había olvidado, porque de puro agotamiento trabajaban en silencio y solamente se oían las sordas pisadas de sus pies.Y así salió de repente —las mujeres estaban en ese momento en la habitación contigua, apoyadas en el escritorio para tomar aliento—, cambió cuatro veces la dirección de su marcha, no sabía a ciencia cierta qué era lo que debía salvar primero, cuando vio en la pared ya vacía, llamándole la atención, el cuadro de la mujer envuelta en pieles. Se arrastró apresuradamente hacia arriba y se apretó contra el cuadro, cuyo cristal lo sujetaba y le aliviaba el ardor de su vientre. Al menos este cuadro, que Gregorio tapaba ahora por completo, seguro que no se lo llevaba nadie. Volvió la cabeza hacia la puerta del cuarto de estar para observar a las mujeres cuando volviesen.No se habían permitido una larga tregua y ya volvían; Greta había rodeado a su madre con el brazo y casi la llevaba en volandas.—Qué nos llevamos ahora —dijo Greta, y miró a su alrededor. Entonces sus miradas se cruzaron con las de Gregorio, que estaba en la pared. Seguramente sólo a causa de la presencia de la madre conservó su serenidad, inclinó su rostro hacia la madre, para impedir que ella mirase a su alrededor, y dijo temblando y aturdida:—Ven, nos volvemos un momento al cuarto de estarGregorio veía claramente la intención de Greta, quería llevar a la madre a un lugar seguro y luego echarle de la pared. Bueno, que lo intentase Él permanecería sobre su cuadro y no renunciaría a él. Prefería saltarle a Greta a la cara.Pero justamente las palabras de Greta inquietaron a la madre, quien se echó a un lado y vio la gigantesca mancha pardusca sobre el papel pintado de flores y, antes de darse realmente cuenta de que aquello que veía era Gregorio, gritó con voz ronca y estridente:—Ay Dios mío, ay Dios mío —y con los brazos extendidos cayó sobre el canapé, como si renunciase a todo, y se quedó allí inmóvil.—Cuidado, Gregorio —gritó la hermana levantando el puño y con una mirada penetrante. Desde la transformación eran estas las primeras palabras que le dirigía directamente. Corrió a la habitación contigua para buscar alguna esencia con la que pudiese despertar a su madre de su inconsciencia; Gregorio también quería ayudar —había tiempo más que suficiente para salvar el cuadro—, pero estaba pegado al cristal y tuvo que desprenderse con fuerza, luego corrió también a la habitación de al lado como si pudiera dar a la hermana algún consejo, como en otros tiempos, pero tuvo que quedarse detrás de ella sin hacer nada; cuando Greta volvía entre diversos frascos, se asustó al darse la vuelta y un frasco se cayó al suelo y se rompió y un trozo de cristal hirió a Gregorio en la cara; una medicina corrosiva se derramó sobre él. Sin detenerse más tiempo, Greta cogió todos los frascos que podía llevar y corrió con ellos hacia donde estaba la madre; cerró la puerta con el pie. Gregorio estaba ahora aislado de la madre, que quizá estaba a punto de morir por su culpa; no debía abrir la habitación, no quería echar a la hermana que tenía que permanecer con la madre; ahora no tenía otra cosa que hacer que esperar; y, afligido por los remordimientos y la preocupación, comenzó a arrastrarse, se arrastró por todas partes: paredes, muebles y techos, y finalmente, en su desesperación, cuando ya la habitación empezaba a dar vueltas a su alrededor, se desplomó en medio de la gran mesa.Pasó un momento, Gregorio yacía allí extenuado, a su alrededor todo estaba tranquilo, quizá esto era una buena señal. Entonces sonó el timbre. La chica estaba, naturalmente, encerrada en su cocina y Greta tenía que ir a abrir. El padre había llegado.—Qué ha ocurrido —fueron sus primeras palabras.El aspecto de Greta lo revelaba todo. Greta contestó con voz ahogada, si duda apretaba su rostro contra el pecho del padre:—Madre se quedó inconsciente, pero ya está mejor. Gregorio ha escapado.—Ya me lo esperaba —dijo el padre—, se los he dicho una y otra vez, pero ustedes, las mujeres, nunca hacen caso.Gregorio se dio cuenta de que el padre había interpretado mal la escueta información de Greta y sospechaba que Gregorio había hecho uso de algún acto violento. Por eso ahora tenía que intentar apaciguar al padre, porque para darle explicaciones no tenía ni el tiempo ni la posibilidad. Así pues, Gregorio se precipitó hacia la puerta de su habitación y se apretó contra ella para que el padre, ya desde el momento en que entrase en el vestíbulo, viese que Gregorio tenía la más sana intención de regresar inmediatamente a su habitación, y que no era necesario hacerle retroceder, sino que sólo hacía falta abrir la puerta e inmediatamente desaparecería. Pero el padre no estaba en situación de advertir tales sutilezas.—Ah —gritó al entrar, en un tono como si al mismo tiempo estuviese furioso y contento. Gregorio retiró la cabeza de la puerta y la levantó hacia el padre. Nunca se hubiese imaginado así al padre, tal y como estaba allí; bien es verdad que en los últimos tiempos, puesta su atención en arrastrarse por todas partes, había perdido la ocasión de preocuparse como antes de los asuntos que ocurrían en el resto de la casa, y tenía realmente que haber estado preparado para encontrar las circunstancias cambiadas. Aun así, aun así. Era este todavía el padre El mismo hombre que yacía sepultado en la cama, cuando, en otros tiempos, Gregorio salía en viaje de negocios El mismo hombre que, la tarde en que volvía, le recibía en bata sentado en su sillón, y que no estaba en condiciones de levantarse, sino que, como señal de alegría, sólo levantaba los brazos hacia él El mismo hombre que, durante los poco frecuentes paseos en común, un par de domingos al año o en las festividades más importantes, se abría paso hacia delante entre Gregorio y la madre, que ya de por sí andaban despacio, aún más despacio que ellos, envuelto en su viejo abrigo, siempre apoyando con cuidado el bastón, y que, cuando quería decir algo, casi siempre se quedaba parado y congregaba a sus acompañantes a su alrededor Pero ahora estaba muy derecho, vestido con un rígido uniforme azul con botones, como los que llevan los ordenanzas de los bancos; por encima del cuello alto y tieso de la chaqueta sobresalía su gran papada; por debajo de las pobladas cejas se abría paso la mirada, despierta y atenta, de unos ojos negros. El cabello blanco, en otro tiempo desgreñado, estaba ahora ordenado en un peinado a raya brillante y exacto. Arrojó su gorra, en la que había bordado un monograma dorado, probablemente el de un banco, sobre el canapé a través de la habitación formando un arco, y se dirigió hacia Gregorio con el rostro enconado, las puntas de la larga chaqueta del uniforme echadas hacia atrás, y las manos en los bolsillos del pantalón. Probablemente ni él mismo sabía lo que iba a hacer, sin embargo levantaba los pies a una altura desusada y Gregorio se asombró del tamaño enorme de las suelas de sus botas. Pero Gregorio no permanecía parado, ya sabía desde el primer día de su nueva vida que el padre, con respecto a él, sólo consideraba oportuna la mayor rigidez. Y así corría delante del padre, se paraba si el padre se paraba, y se apresuraba a seguir hacia delante con sólo que el padre se moviese. Así recorrieron varias veces la habitación sin que ocurriese nada decisivo y sin que ello hubiese tenido el aspecto de una persecución, como consecuencia de la lentitud de su recorrido. Por eso Gregorio permaneció de momento sobre el suelo, especialmente porque temía que el padre considerase una especial maldad por su parte la huida a las paredes o al techo. Por otra parte, Gregorio tuvo que confesarse a sí mismo que no soportaría por mucho tiempo estas carreras, porque mientras el padre daba un paso, él tenía que realizar un sinnúmero de movimientos. Ya comenzaba a sentir ahogos, bien es verdad que tampoco anteriormente había tenido unos pulmones dignos de confianza. Mientras se tambaleaba con la intención de reunir todas sus fuerzas para la carrera, apenas tenía los ojos abiertos; en su embotamiento no pensaba en otra posibilidad de salvación que la de correr; y ya casi había olvidado que las paredes estaban a su disposición, bien es verdad que éstas estaban obstruidas por muelles llenos de esquinas y picos. En ese momento algo, lanzado sin fuerza, cayó junto a él, y echó a rodar por delante de él. Era una manzana; inmediatamente siguió otra; Gregorio se quedó inmóvil del susto; seguir corriendo era inútil, porque el padre había decidido bombardearle. Con la fruta procedente del frutero que estaba sobre el aparador se había llenado los bolsillos y lanzaba manzana tras manzana sin apuntar con exactitud, de momento. Estas pequeñas manzanas rojas rodaban por el suelo como electrificadas y chocaban unas con otras. Una manzana lanzada sin fuerza rozó la espalda de Gregorio, pero resbaló sin causarle daños. Sin embargo, otra que la siguió inmediatamente, se incrustó en la espalda de Gregorio; éste quería continuar arrastrándose, como si el increíble y sorprendente dolor pudiese aliviarse al cambiar de sitio; pero estaba como clavado y se estiraba, totalmente desconcertado.Sólo al mirar por última vez alcanzó a ver cómo la puerta de su habitación se abría de par en par y por delante de la hermana, que chillaba, salía corriendo la madre en enaguas, puesto que la hermana la había desnudado para proporcionarle aire mientras permanecía inconsciente; vio también cómo, a continuación, la madre corría hacia el padre y, en el camino, perdía una tras otra sus enaguas desatadas, y cómo tropezando con ellas, caía sobre el padre, y abrazándole, unida estrechamente a él —ya empezaba a fallarle la vista a Gregorio—, le suplicaba, cruzando las manos por detrás de su nuca, que perdonase la vida de Gregorio.La grave herida de Gregorio, cuyos dolores soportó más de un mes —la manzana permaneció empotrada en la carne como recuerdo visible, ya que nadie se atrevía a retirarla—, pareció recordar, incluso al padre, que Gregorio, a pesar de su triste y repugnante forma actual, era un miembro de la familia, a quien no podía tratarse como a un enemigo, sino frente al cual el deber familiar era aguantarse la repugnancia y resignarse, nada más que resignarse.Y si Gregorio ahora, por culpa de su herida, probablemente había perdido agilidad para siempre, y por lo pronto necesitaba para cruzar su habitación como un viejo inválido largos minutos —no se podía ni pensar en arrastrarse por las alturas—, sin embargo, en compensación por este empeoramiento de su estado, recibió, en su opinión, una reparación más que suficiente: hacia el anochecer se abría la puerta del cuarto de estar, la cual solía observar fijamente ya desde dos horas antes, de forma que, tumbado en la oscuridad de su habitación, sin ser visto desde el comedor, podía ver a toda la familia en la mesa iluminada y podía escuchar sus conversaciones, en cierto modo con el consentimiento general, es decir, de una forma completamente distinta a como había sido hasta ahora.Naturalmente, ya no se trataba de las animadas conversaciones de antaño, en las que Gregorio, desde la habitación de su hotel, siempre había pensado con cierta nostalgia cuando, cansado, tenía que meterse en la cama húmeda. La mayoría de las veces transcurría el tiempo en silencio. El padre no tardaba en dormirse en la silla después de la cena, y la madre y la hermana se recomendaban mutuamente silencio; la madre, inclinada muy por debajo de la luz, cosía ropa fina para un comercio de moda; la hermana, que había aceptado un trabajo como dependienta, estudiaba por la noche estenografía y francés, para conseguir, quizá más tarde, un puesto mejor. A veces el padre se despertaba y, como si no supiera que había dormido, decía a la madre: Cuánto coses hoy también, e inmediatamente volvía a dormirse mientras la madre y la hermana se sonreían mutuamente.Por una especie de obstinación, el padre se negaba a quitarse el uniforme mientras estaba en casa; y mientras la bata colgaba inútilmente de la percha, dormitaba el padre en su asiento, completamente vestido, como si siempre estuviese preparado para el servicio e incluso en casa esperase también la voz de su superior. Como consecuencia, el uniforme, que no era nuevo ya en un principio, empezó a ensuciarse a pesar del cuidado de la madre y de la hermana. Gregorio se pasaba con frecuencia tardes enteras mirando esta brillante ropa, completamente manchada, con sus botones dorados siempre limpios, con la que el anciano dormía muy incómodo y, sin embargo, tranquilo.En cuanto el reloj daba las diez, la madre intentaba despertar al padre en voz baja y convencerle para que se fuese a la cama, porque éste no era un sueño auténtico y el padre tenía necesidad de él, porque tenía que empezar a trabajar a las seis de la mañana. Pero con la obstinación que se había apoderado de él desde que se había convertido en ordenanza, insistía en quedarse más tiempo a la mesa, a pesar de que, normalmente, se quedaba dormido y, además, sólo con grandes esfuerzos podía convencérsele de que cambiase la silla por la cama. Ya podían la madre y la hermana insistir con pequeñas amonestaciones, durante un cuarto de hora daba cabezadas lentamente, mantenía los ojos cerrados y no se levantaba. La madre le tiraba del brazo, diciéndole al oído palabras cariñosas, la hermana abandonaba su trabajo para ayudar a la madre, pero esto no tenía efecto sobre el padre. Se hundía más profundamente en su silla. Sólo cuando las mujeres lo cogían por debajo de los hombros, abría los ojos, miraba alternativamente a la madre y a la hermana, y solía decir: Qué vida ésta Ésta es la tranquilidad de mis últimos días, y apoyado sobre las dos mujeres se levantaba pesadamente, como si él mismo fuese su más pesada carga, se dejaba llevar por ellas hasta la puerta, allí les hacía una señal de que no las necesitaba, y continuaba solo, mientras que la madre y la hermana dejaban apresuradamente su costura y su pluma para correr tras el padre y continuar ayudándolo.Quién en esta familia, agotada por el trabajo y rendida de cansancio, iba a tener más tiempo del necesario para ocuparse de Gregorio El presupuesto familiar se reducía cada vez más, la criada acabó por ser despedida. Una asistenta gigantesca y huesuda, con el pelo blanco y desgreñado, venía por la mañana y por la noche, y hacía el trabajo más pesado; todo lo demás lo hacía la madre, además de su mucha costura. Ocurrió incluso el caso de que varias joyas de la familia, que la madre y la hermana habían lucido entusiasmadas en reuniones y fiestas, hubieron de ser vendidas, según se enteró Gregorio por la noche por la conversación acerca del precio conseguido. Pero el mayor motivo de queja era que no se podía dejar esta casa, que resultaba demasiado grande en las circunstancias presentes, ya que no sabían cómo se podía trasladar a Gregorio. Pero Gregorio comprendía que no era sólo la consideración hacia él lo que impedía un traslado, porque se le hubiera podido transportar fácilmente en un cajón apropiado con un par de agujeros para el aire; lo que, en primer lugar, impedía a la familia un cambio de casa era, aún más, la desesperación total y la idea de que habían sido azotados por una desgracia como no había igual en todo su círculo de parientes y amigos. Todo lo que el mundo exige de la gente pobre lo cumplían ellos hasta la saciedad: el padre iba a buscar el desayuno para el pequeño empleado de banco, la madre se sacrificaba por la ropa de gente extraña, la hermana, a la orden de los clientes, corría de un lado para otro detrás del mostrador, pero las fuerzas de la familia ya no daban para más. La herida de la espalda comenzaba otra vez a dolerle a Gregorio como recién hecha cuando la madre y la hermana, después de haber llevado al padre a la cama, regresaban, dejaban a un lado el trabajo, se acercaban una a otra, sentándose muy juntas. Entonces la madre, señalando hacia la habitación de Gregorio, decía: Cierra la puerta, Greta, y cuando Gregorio se encontraba de nuevo en la oscuridad, fuera las mujeres confundían sus lágrimas o simplemente miraban fijamente a la mesa sin llorar.Gregorio pasaba las noches y los días casi sin dormir. A veces pensaba que la próxima vez que se abriese la puerta él se haría cargo de los asuntos de la familia como antes; en su mente aparecieron de nuevo, después de mucho tiempo, el jefe y el encargado; los dependientes y los aprendices; el mozo de los recados, tan corto de luces; dos, tres amigos de otros almacenes; una camarera de un hotel de provincias; un recuerdo amado y fugaz: una cajera de una tienda de sombreros a quien había hecho la corte seriamente, pero con demasiada lentitud; todos ellos aparecían mezclados con gente extraña o ya olvidada, pero en lugar de ayudarle a él y a su familia, todos ellos eran inaccesibles, y Gregorio se sentía aliviado cuando desaparecían. Pero después ya no estaba de humor para preocuparse por su familia, solamente sentía rabia por el mal cuidado de que era objeto y, a pesar de que no podía imaginarse algo que le hiciese sentir apetito, hacía planes sobre cómo podría llegar a la despensa para tomar de allí lo que quisiese, incluso aunque no tuviese hambre alguna. Sin pensar más en qué es lo que podría gustar a Gregorio, la hermana, por la mañana y al mediodía, antes de marcharse a la tienda, empujaba apresuradamente con el pie cualquier comida en la habitación de Gregorio, para después recogerla por la noche con el palo de la escoba, tanto si la comida había sido probada como si —y éste era el caso más frecuente— ni siquiera hubiera sido tocada. Recoger la habitación, cosa que ahora hacía siempre por la noche, no podía hacerse más deprisa. Franjas de suciedad se extendían por las paredes, por todas partes había ovillos de polvo y suciedad.Al principio, cuando llegaba la hermana, Gregorio se colocaba en el rincón más significativamente sucio para, en cierto modo, hacerle reproches mediante esta posición. Pero seguramente hubiese podido permanecer allí semanas enteras sin que la hermana hubiese mejorado su actitud por ello; ella veía la suciedad lo mismo que él, pero se había decidido a dejarla allí. Al mismo tiempo, con una susceptibilidad completamente nueva en ella y que, en general, se había apoderado de toda la familia, ponía especial atención en el hecho de que se reservase solamente a ella el cuidado de la habitación de Gregorio. En una ocasión la madre había sometido la habitación de Gregorio a una gran limpieza, que había logrado solamente después de utilizar varios cubos de agua —la humedad, sin embargo, también molestaba a Gregorio, que yacía extendido, amargado e inmóvil sobre el canapé—, pero el castigo de la madre no se hizo esperar, porque apenas había notado la hermana por la tarde el cambio en la habitación de Gregorio, cuando, herida en lo más profundo de sus sentimientos, corrió al cuarto de estar y, a pesar de que la madre suplicaba con las manos levantadas, rompió en un mar de lágrimas, que los padres —el padre se despertó sobresaltado en su silla—, al principio, observaban asombrados y sin poder hacer nada, hasta que, también ellos, comenzaron a sentirse conmovidos. El padre, a su derecha, reprochaba a la madre que no hubiese dejado al cuidado de la hermana la limpieza de la habitación de Gregorio; a su izquierda, decía a gritos a la hermana que nunca más volvería a limpiar la habitación de Gregorio. Mientras que la madre intentaba llevar al dormitorio al padre, que no podía más de irritación, la hermana, sacudida por los sollozos, golpeaba la mesa con sus pequeños puños, y Gregorio silbaba de pura rabia porque a nadie se le ocurría cerrar la puerta para ahorrarle este espectáculo y este ruido.Pero incluso si la hermana, agotada por su trabajo, estaba ya harta de cuidar de Gregorio como antes, tampoco la madre tenía que sustituirla y no era necesario que Gregorio hubiese sido abandonado, porque para eso estaba la asistenta. Esa vieja viuda, que en su larga vida debía haber superado lo peor con ayuda de su fuerte constitución, no sentía repugnancia alguna por Gregorio. Sin sentir verdadera curiosidad, una vez había abierto por casualidad la puerta de la habitación de Gregorio y, al verle, se quedó parada, asombrada con los brazos cruzados, mientras éste, sorprendido y a pesar de que nadie le perseguía, comenzó a correr de un lado a otro.Desde entonces no perdía la oportunidad de abrir un poco la puerta por la mañana y por la tarde para echar un vistazo a la habitación de Gregorio. Al principio le llamaba hacia ella con palabras que, probablemente, consideraba amables, como: Ven aquí, viejo escarabajo pelotero o Miren al viejo escarabajo pelotero Gregorio no contestaba nada a tales llamadas, sino que permanecía inmóvil en su sitio, como si la puerta no hubiese sido abierta. Si se le hubiese ordenado a esa asistenta que limpiase diariamente la habitación en lugar de dejar que le molestase inútilmente a su antojo Una vez, por la mañana temprano —una intensa lluvia golpeaba los cristales, quizá como signo de la primavera que ya se acercaba— cuando la asistenta empezó otra vez con sus improperios, Gregorio se enfureció tanto que se dio la vuelta hacia ella como para atacarla, pero de forma lenta y débil. Sin embargo, la asistenta, en vez de asustarse, alzó simplemente una silla, que se encontraba cerca de la puerta, y, tal como permanecía allí, con la boca completamente abierta, estaba clara su intención de cerrar la boca sólo cuando la silla que tenía en la mano acabase en la espalda de Gregorio.—Conque no seguimos adelante —preguntó, al ver que Gregorio se daba de nuevo la vuelta, y volvió a colocar la silla tranquilamente en el rincón.Gregorio ya no comía casi nada. Sólo si pasaba por casualidad al lado de la comida tomaba un bocado para jugar con él en la boca, lo mantenía allí horas y horas y, la mayoría de las veces acababa por escupirlo. Al principio pensó que lo que le impedía comer era la tristeza por el estado de su habitación, pero precisamente con los cambios de la habitación se reconcilió muy pronto. Se habían acostumbrado a meter en esta habitación cosas que no podían colocar en otro sitio, y ahora había muchas cosas de éstas, porque una de las habitaciones de la casa había sido alquilada a tres huéspedes. Estos señores tan severos —los tres tenían barba, según pudo comprobar Gregorio por una rendija de la puerta— ponían especial atención en el orden, no sólo ya de su habitación, sino de toda la casa, puesto que se habían instalado aquí, y especialmente en el orden de la cocina. No soportaban trastos inútiles ni mucho menos sucios. Además, habían traído una gran parte de sus propios muebles. Por ese motivo sobraban muchas cosas que no se podían vender ni tampoco se querían tirar. Todas estas cosas acababan en la habitación de Gregorio. Lo mismo ocurrió con el cubo de la ceniza y el cubo de la basura de la cocina. La asistenta, que siempre tenía mucha prisa, arrojaba simplemente en la habitación de Gregorio todo lo que, de momento, no servía; por suerte, Gregorio sólo veía, la mayoría de las veces, el objeto correspondiente y la mano que lo sujetaba. La asistenta tenía, quizá, la intención de recoger de nuevo las cosas cuando hubiese tiempo y oportunidad, o quizá tirarlas todas de una vez, pero lo cierto es que todas se quedaban tiradas en el mismo lugar en que habían caído al arrojarlas, a no ser que Gregorio se moviese por entre los trastos y los pusiese en movimiento, al principio obligado a ello porque no había sitio libre para arrastrarse, pero más tarde con creciente satisfacción, a pesar de que después de tales paseos acababa mortalmente agotado y triste, y durante horas permanecía inmóvil.Como los huéspedes a veces tomaban la cena en el cuarto de estar, la puerta permanecía algunas noches cerrada, pero Gregorio renunciaba gustoso a abrirla, incluso algunas noches en las que había estado abierta no se había aprovechado de ello, sino que, sin que la familia lo notase, se había tumbado en el rincón más oscuro de la habitación. Pero en una ocasión la asistenta había dejado un poco abierta la puerta que daba al cuarto de estar y se quedó abierta incluso cuando los huéspedes llegaron y se dio la luz. Se sentaban a la mesa en los mismos sitios en que antes habían comido el padre, la madre y Gregorio, desdoblaban las servilletas y tomaban en la mano cuchillo y tenedor. Al momento aparecía por la puerta la madre con una fuente de carne, y poco después lo hacía la hermana con una fuente llena de patatas. La comida humeaba. Los huéspedes se inclinaban sobre las fuentes que había ante ellos como si quisiesen examinarlas antes de comer, y, efectivamente, el señor que estaba sentado en medio y que parecía ser el que más autoridad tenía de los tres, cortaba un trozo de carne en la misma fuente con el fin de comprobar si estaba lo suficientemente tierna, o quizá tenía que ser devuelta a la cocina. La prueba le satisfacía, la madre y la hermana, que habían observado todo con impaciencia, comenzaban a sonreír respirando profundamente.La familia comía en la cocina. A pesar de ello, el padre, antes de entrar en ésta, entraba en la habitación y con una sola reverencia y la gorra en la mano, daba una vuelta a la mesa. Los huéspedes se levantaban y murmuraban algo para el cuello de su camisa. Cuando ya estaban solos, comían casi en absoluto silencio. A Gregorio le parecía extraño el hecho de que, de todos los variados ruidos de la comida, una y otra vez se escuchasen los dientes al masticar, como si con ello quisieran mostrarle a Gregorio que para comer se necesitan los dientes y que, aun con las más hermosas mandíbulas, sin dientes no se podía conseguir nada.—Pero si yo no tengo apetito —se decía Gregorio preocupado—, pero me apetecen estas cosas. Cómo comen los huéspedes y yo me mueroPrecisamente aquella noche —Gregorio no se acordaba de haberlo oído en todo el tiempo— se escuchó el violín. Los huéspedes ya habían terminado de cenar, el de en medio había sacado un periódico, les había dado una hoja a cada uno de los otros dos, y los tres fumaban y leían echados hacia atrás. Cuando el violín comenzó a sonar escucharon con atención, se levantaron y, de puntillas, fueron hacia la puerta del vestíbulo, en la que permanecieron quietos de pie, apretados unos junto a otros. Desde la cocina se les debió oír, porque el padre gritó:—Les molesta a los señores la música Inmediatamente puede dejar de tocarse.—Al contrario —dijo el señor de en medio—. No desearía la señorita entrar con nosotros y tocar aquí en la habitación, donde es mucho más cómodo y agradable—Naturalmente —exclamó el padre, como si el violinista fuese él mismo.Los señores regresaron a la habitación y esperaron. Pronto llegó el padre con el atril, la madre con la partitura y la hermana con el violín. La hermana preparó con tranquilidad todo lo necesario para tocar. Los padres, que nunca antes habían alquilado habitaciones, y por ello exageraban la amabilidad con los huéspedes, no se atrevían a sentarse en sus propias sillas; el padre se apoyó en la puerta, con la mano derecha colocada entre dos botones de la librea abrochada; a la madre le fue ofrecida una silla por uno de los señores y, como la dejó en el lugar en el que, por casualidad, la había colocado el señor, permanecía sentada en un rincón apartado.La hermana empezó a tocar; el padre y la madre, cada uno desde su lugar, seguían con atención los movimientos de sus manos; Gregorio, atraído por la música, había avanzado un poco hacia delante y ya tenía la cabeza en el cuarto de estar. Ya apenas se extrañaba de que en los últimos tiempos no tenía consideración con los demás; antes estaba orgulloso de tener esa consideración y, precisamente ahora, hubiese tenido mayor motivo para esconderse, porque, como consecuencia del polvo que reinaba en su habitación, y que volaba por todas partes al menor movimiento, él mismo estaba también lleno de polvo. Sobre su espalda y sus costados arrastraba consigo por todas partes hilos, pelos, restos de comida... Su indiferencia hacia todo era demasiado grande como para tumbarse sobre su espalda y restregarse contra la alfombra, tal como hacía antes varias veces al día. Y, a pesar de este estado, no sentía vergüenza alguna de avanzar por el suelo impecable del comedor.Por otra parte, nadie le prestaba atención. La familia estaba completamente absorta en la música del violín; por el contrario, los huéspedes, que al principio, con las manos en los bolsillos, se habían colocado demasiado cerca detrás del atril de la hermana, de forma que podrían haber leído la partitura, lo cual sin duda tenía que estorbar a la hermana, hablando a media voz, con las cabezas inclinadas, se retiraron pronto hacia la ventana, donde permanecieron observados por el padre con preocupación. Realmente daba a todas luces la impresión de que habían sido decepcionados en su suposición de escuchar una pieza bella o divertida al violín, de que estaban hartos de la función y sólo permitían que se les molestase por amabilidad. Especialmente la forma en que echaban a lo alto el humo de los cigarrillos por la boca y por la nariz denotaba gran nerviosismo. Y, sin embargo, la hermana tocaba tan bien... Su rostro estaba inclinado hacia un lado, atenta y tristemente seguían sus ojos las notas del pentagrama. Gregorio avanzó un poco más y mantenía la cabeza pegada al suelo para, quizá, poder encontrar sus miradas. Es que era ya una bestia a la que le emocionaba la músicaLe parecía como si se le mostrase el camino hacia el desconocido y anhelado alimento. Estaba decidido a acercarse hasta la hermana, tirarle de la falda y darle así a entender que ella podía entrar con su violín en su habitación porque nadie podía recompensar su música como él quería hacerlo. No quería dejarla salir nunca de su habitación, al menos mientras él viviese; su horrible forma le sería útil por primera vez; quería estar a la vez en todas las puertas de su habitación y tirarse a los que le atacasen; pero la hermana no debía quedarse con él por la fuerza, sino por su propia voluntad; debería sentarse junto a él sobre el canapé, inclinar el oído hacía él, y él deseaba confiarle que había tenido la firme intención de enviarla al conservatorio y que si la desgracia no se hubiese cruzado en su camino la Navidad pasada —probablemente la Navidad ya había pasado— se lo hubiese dicho a todos sin preocuparse de réplica alguna. Después de esta confesión, la hermana estallaría en lágrimas de emoción y Gregorio se levantaría hasta su hombro y le daría un beso en el cuello, que, desde que iba a la tienda, llevaba siempre al aire sin cintas ni adornos.—Señor Samsa —gritó el señor de en medio al padre y señaló, sin decir una palabra más, con el índice hacia Gregorio, que avanzaba lentamente. El violín enmudeció. En un principio el huésped de en medio sonrió a sus amigos moviendo la cabeza y, a continuación, miró hacia Gregorio. El padre, en lugar de echar a Gregorio, consideró más necesario, ante todo, tranquilizar a los huéspedes, a pesar de que ellos no estaban nerviosos en absoluto y Gregorio parecía distraerles más que el violín. Se precipitó hacia ellos e intentó, con los brazos abiertos, empujarles a su habitación y, al mismo tiempo, evitar con su cuerpo que pudiesen ver a Gregorio. Ciertamente se enfadaron un poco, no se sabía ya si por el comportamiento del padre, o porque ahora se empezaban a dar cuenta de que, sin saberlo, habían tenido un vecino como Gregorio. Exigían al padre explicaciones, levantaban los brazos, se tiraban intranquilos de la barba y, muy lentamente, retrocedían hacia su habitación.Entre tanto, la hermana había superado el desconcierto en que había caído después de interrumpir su música de una forma tan repentina, había reaccionado de pronto, después de que durante unos momentos había sostenido en las manos caídas con indolencia el violín y el arco, y había seguido mirando la partitura como si todavía tocase, había colocado el instrumento en el regazo de la madre, que todavía seguía sentada en su silla con dificultades para respirar y agitando violentamente los pulmones, y había corrido hacia la habitación de al lado, a la que los huéspedes se acercaban cada vez más deprisa ante la insistencia del padre. Se veía cómo, gracias a las diestras manos de la hermana, las mantas y almohadas de las camas volaban hacia lo alto y se ordenaban. Antes de que los señores hubiesen llegado a la habitación, había terminado de hacer las camas y se había escabullido hacia fuera. El padre parecía estar hasta tal punto dominado por su obstinación, que olvidó todo el respeto que, ciertamente, debía a sus huéspedes. Sólo les empujaba y les empujaba hasta que, ante la puerta de la habitación, el señor de en medio dio una patada atronadora contra el suelo y así detuvo al padre.—Participo a ustedes —dijo, levantando la mano y buscando con sus miradas también a la madre y a la hermana— que, teniendo en cuenta las repugnantes circunstancias que reinan en esta casa y en esta familia —en este punto escupió decididamente sobre el suelo—, en este preciso instante dejo la habitación. Por los días que he vívido aquí no pagaré, naturalmente, lo más mínimo: por el contrario, me pensaré si no procedo contra ustedes con algunas reclamaciones muy fáciles, créanme, de justificar.Calló y miró hacia delante como si esperase algo. En efecto, sus dos amigos intervinieron inmediatamente con las siguientes palabras:—También nosotros dejamos en este momento la habitación.A continuación agarró el picaporte y cerró la puerta de un portazo. El padre se tambaleaba tanteando con las manos en dirección a su silla y se dejó caer en ella. Parecía como si se preparase para su acostumbrada siestecita nocturna, pero la profunda inclinación de su cabeza, abatida como si nada la sostuviese, mostraba que de ninguna manera dormía. Gregorio yacía todo el tiempo en silencio en el mismo sitio en que le habían descubierto los huéspedes. La decepción por el fracaso de sus planes, pero quizá también la debilidad causada por el hambre que pasaba, le impedían moverse. Temía con cierto fundamento que dentro de unos momentos se desencadenase sobre él una tormenta general, y esperaba. Ni siquiera se sobresaltó con el ruido del violín que, por entre los temblorosos dedos de la madre, se cayó de su regazo y produjo un sonido retumbante.—Queridos padres —dijo la hermana y, como introducción, dio un golpe sobre la mesa—, esto no puede seguir así. Si ustedes no se dan cuenta, yo sí me doy. No quiero, ante esta bestia, pronunciar el nombre de mi hermano, y por eso solamente digo: tenemos que intentar quitárnoslo de encima. Hemos hecho todo lo humanamente posible por cuidarlo y aceptarlo; creo que nadie puede hacernos el menor reproche.—Tienes razón una y mil veces —dijo el padre para sus adentros. La madre, que aún no tenía aire suficiente, comenzó a toser sordamente sobre la mano que tenía ante la boca, con una expresión de enajenación en los ojos.La hermana corrió hacia la madre y le sujetó la frente. El padre parecía estar enfrascado en determinados pensamientos; gracias a las palabras de la hermana, se había sentado más derecho, jugueteaba con su gorra por entre los platos, que desde la cena de los huéspedes seguían en la mesa, y miraba de vez en cuando a Gregorio, que permanecía en silencio.—Tenemos que intentar quitárnoslo de encima —dijo entonces la hermana, dirigiéndose sólo al padre, porque la madre, con su tos, no oía nada—. Los va a matar a los dos, ya lo veo venir. Cuando hay que trabajar tan duramente como lo hacemos nosotros no se puede, además, soportar en casa este tormento sin fin. Yo tampoco puedo más— y rompió a llorar de una forma tan violenta, que sus lágrimas caían sobre el rostro de la madre, la cual las secaba mecánicamente con las manos.—Pero hija —dijo el padre compasivo y con sorprendente comprensión—. Qué podemos hacerPero la hermana sólo se encogió de hombros como signo de la perplejidad que, mientras lloraba, se había apoderado de ella, en contraste con su seguridad anterior.—Sí él nos entendiese... —dijo el padre en tono medio interrogante.La hermana, en su llanto, movió violentamente la mano como señal de que no se podía ni pensar en ello.—Sí él nos entendiese... —repitió el padre, y cerrando los ojos hizo suya la convicción de la hermana acerca de la imposibilidad de ello—, entonces sería posible llegar a un acuerdo con él, pero así...—Tiene que irse —exclamó la hermana—, es la única posibilidad, padre. Sólo tienes que desechar la idea de que se trata de Gregorio. El haberlo creído durante tanto tiempo ha sido nuestra auténtica desgracia, pero cómo es posible que sea Gregorio Si fuese Gregorio hubiese comprendido hace tiempo que una convivencia entre personas y semejante animal no es posible, y se hubiese marchado por su propia voluntad: ya no tendríamos un hermano, pero podríamos continuar viviendo y conservaríamos su recuerdo con honor. Pero esta bestia nos persigue, echa a los huéspedes, quiere, evidentemente, adueñarse de toda la casa y dejar que pasemos la noche en la calle. Mira, padre —gritó de repente—, ya empieza otra vezY con un miedo completamente incomprensible para Gregorio, la hermana abandonó incluso a la madre, se arrojó literalmente de su silla, como si prefiriese sacrificar a la madre antes de permanece cerca de Gregorio, y se precipitó detrás del padre que, principalmente irritado por su comportamiento, se puso también en pie y levantó los brazos a media altura por delante de la hermana para protegerla.Pero Gregorio no pretendía, ni por lo más remoto, asustar a nadie, ni mucho menos a la hermana. Solamente había empezado a darse la vuelta para volver a su habitación y esto llamaba la atención, ya que, como consecuencia de su estado enfermizo, para dar tan difíciles vueltas tenía que ayudarse con la cabeza, que levantaba una y otra vez y que golpeaba contra el suelo. Se detuvo y miró a su alrededor; su buena intención pareció ser entendida; sólo había sido un susto momentáneo, ahora todos lo miraban tristes y en silencio. La madre yacía en su silla con las piernas extendidas y apretadas una contra otra, los ojos casi se le cerraban de puro agotamiento. El padre y la hermana estaban sentados uno junto a otro, y la hermana había colocado su brazo alrededor del cuello del padre.Quizá pueda darme la vuelta ahora, pensó Gregorio, y empezó de nuevo su actividad. No podía contener los resuellos por el esfuerzo y de vez en cuando tenía que descansar. Por lo demás, nadie le apremiaba, se le dejaba hacer lo que quisiera. Cuando hubo dado la vuelta del todo comenzó enseguida a retroceder todo recto... Se asombró de la gran distancia que le separaba de su habitación y no comprendía cómo, con su debilidad, hacía un momento había recorrido el mismo camino sin notarlo. Concentrándose constantemente en avanzar con rapidez, apenas se dio cuenta de que ni una palabra, ni una exclamación de su familia le molestaba. Cuando ya estaba en la puerta volvió la cabeza, no por completo, porque notaba que el cuello se le ponía rígido, pero sí vio aún que tras de él nada había cambiado, sólo la hermana se había levantado. Su última mirada acarició a la madre que, por fin, se había quedado profundamente dormida. Apenas entró en su habitación se cerró la puerta y echaron la llave.Gregorio se asustó tanto del repentino ruido producido detrás de él, que las patitas se le doblaron. Era la hermana quien se había apresurado tanto. Había permanecido en pie allí y había esperado, con ligereza había saltado hacia delante, Gregorio ni siquiera la había oído venir, y gritó un Por fin a los padres mientras echaba la llave.Y ahora, se preguntó Gregorio, y miró a su alrededor en la oscuridad.Pronto descubrió que ya no se podía mover. No se extrañó por ello, más bien le parecía antinatural que, hasta ahora, hubiera podido moverse con estas patitas. Por lo demás, se sentía relativamente a gusto. Bien es verdad que le dolía todo el cuerpo, pero le parecía como si los dolores se hiciesen más y más débiles y, al final, desapareciesen por completo. Apenas sentía ya la manzana podrida de su espalda y la infección que producía a su alrededor, cubiertas ambas por un suave polvo. Pensaba en su familia con cariño y emoción, su opinión de que tenía que desaparecer era, si cabe, aún más decidida que la de su hermana. En este estado de apacible y letárgica meditación permaneció hasta que el reloj de la torre dio las tres de la madrugada. Vivió todavía el comienzo del amanecer detrás de los cristales. A continuación, contra su voluntad, su cabeza se desplomó sobre el suelo y sus orificios nasales exhalaron el último suspiro.Cuando, por la mañana temprano, llegó la asistenta —de pura fuerza y prisa daba tales portazos que, aunque repetidas veces se le había pedido que procurase evitarlo, desde el momento de su llegada era ya imposible concebir el sueño en toda la casa— en su acostumbrada y breve visita a Gregorio nada le llamó al principio la atención. Pensaba que estaba allí tumbado tan inmóvil a propósito y se hacía el ofendido, le creía capaz de tener todo el entendimiento posible. Como tenía por casualidad la larga escoba en la mano, intentó con ella hacer cosquillas a Gregorio desde la puerta. Al no conseguir nada con ello, se enfadó, y pinchó a Gregorio ligeramente, y sólo cuando, sin que él opusiese resistencia, le había movido de su sitio, le prestó atención. Cuando se dio cuenta de las verdaderas circunstancias abrió mucho los ojos, silbó para sus adentros, pero no se entretuvo mucho tiempo, sino que abrió de par en par las puertas del dormitorio y exclamó en voz alta hacia la oscuridad.—Fíjense, ha reventado, ahí está, ha reventado del todoEl matrimonio Samsa estaba sentado en la cama e intentaba sobreponerse del susto de la asistenta antes de llegar a comprender su aviso. Pero después, el señor y la señora Samsa, cada uno por su lado, se bajaron rápidamente de la cama. El señor Samsa se echó la colcha por los hombros, la señora Samsa apareció en camisón, así entraron en la habitación de Gregorio. Entre tanto, también se había abierto la puerta del cuarto de estar, en donde dormía Greta desde la llegada de los huéspedes; estaba completamente vestida, como si no hubiese dormido, su rostro pálido parecía probarlo.—Muerto —dijo la señora Samsa, y levantó los ojos con gesto interrogante hacia la asistenta a pesar de que ella misma podía comprobarlo e incluso podía darse cuenta de ello sin necesidad de comprobarlo—Digo, ya lo creo —dijo la asistenta y, como prueba, empujó el cadáver de Gregorio con la escoba un buen trecho hacia un lado. La señora Samsa hizo un movimiento como si quisiera detener la escoba, pero no lo hizo.—Bueno —dijo el señor Samsa—, ahora podemos dar gracias a Dios —se santiguó y las tres mujeres siguieron su ejemplo.Greta, que no apartaba los ojos del cadáver, dijo:—Miren qué flaco estaba, ya hacía mucho tiempo que no comía nada. Las comidas salían tal como entraban.Efectivamente, el cuerpo de Gregorio estaba completamente plano y seco, sólo se daban realmente cuenta de ello ahora que ya no le levantaban sus patitas, y ninguna otra cosa distraía la mirada.—Greta, ven un momento a nuestra habitación —dijo la señora Samsa con una sonrisa melancólica, y Greta fue al dormitorio detrás de los padres, no sin volver la mirada hacia el cadáver. La asistenta cerró la puerta y abrió del todo la ventana. A pesar de lo temprano de la mañana ya había una cierta tibieza mezclada con el aire fresco. Ya era finales de marzo.Los tres huéspedes salieron de su habitación y miraron asombrados a su alrededor en busca de su desayuno; se habían olvidado de ellos:—Dónde está el desayuno —preguntó de mal humor el señor de en medio a la asistenta, pero ésta se colocó el dedo en la boca e hizo a los señores, apresurada y silenciosamente, señales con la mano para que fuesen a la habitación de Gregorio. Así pues, fueron y permanecieron en pie, con las manos en los bolsillos de sus chaquetas algo gastadas, alrededor del cadáver, en la habitación de Gregorio ya totalmente iluminada.Entonces se abrió la puerta del dormitorio y el señor Samsa apareció vestido con su librea, de un brazo su mujer y del otro su hija. Todos estaban un poco llorosos; a veces Greta apoyaba su rostro en el brazo del padre.—Salgan ustedes de mi casa inmediatamente —dijo el señor Samsa, y señaló la puerta sin soltar a las mujeres.—Qué quiere usted decir —dijo el señor de en medio algo aturdido, y sonrió con cierta hipocresía. Los otros dos tenían las manos en la espalda y se las frotaban constantemente una contra otra, como si esperasen con alegría una gran pelea que tenía que resultarles favorable.—Quiero decir exactamente lo que digo —contestó el señor Samsa, dirigiéndose con sus acompañantes hacia el huésped. Al principio éste se quedó allí en silencio y miró hacia el suelo, como si las cosas se dispusiesen en un nuevo orden en su cabeza.—Pues entonces nos vamos —dijo después, y levantó los ojos hacia el señor Samsa como si, en un repentino ataque de humildad, le pidiese incluso permiso para tomar esta decisión.El señor Samsa solamente asintió brevemente varias veces con los ojos muy abiertos. A continuación el huésped se dirigió, en efecto, a grandes pasos hacia el vestíbulo; sus dos amigos llevaban ya un rato escuchando con las manos completamente tranquilas y ahora daban verdaderos brincos tras de él, como si tuviesen miedo de que el señor Samsa entrase antes que ellos en el vestíbulo e impidiese el contacto con su guía. Ya en el vestíbulo, los tres cogieron sus sombreros del perchero, sacaron sus bastones de la bastonera, hicieron una reverencia en silencio y salieron de la casa. Con una desconfianza completamente infundada, como se demostraría después, el señor Samsa salió con las dos mujeres al rellano; apoyados sobre la barandilla veían cómo los tres, lenta pero constantemente, bajaban la larga escalera, en cada piso desaparecían tras un determinado recodo y volvían a aparecer a los pocos instantes. Cuanto más abajo estaban tanto más interés perdía la familia Samsa por ellos, y cuando un oficial carnicero, con la carga en la cabeza en una posición orgullosa, se les acercó de frente y luego, cruzándose con ellos, siguió subiendo, el señor Samsa abandonó la barandilla con las dos mujeres y todos regresaron aliviados a su casa.Decidieron utilizar aquel día para descansar e ir de paseo; no solamente se habían ganado esta pausa en el trabajo, sino que, incluso, la necesitaban a toda costa. Así pues, se sentaron a la mesa y escribieron tres justificantes: el señor Samsa a su dirección, la señora Samsa al señor que le daba trabajo, y Greta al dueño de la tienda. Mientras escribían entró la asistenta para decir que ya se marchaba porque había terminado su trabajo de por la mañana. Los tres que escribían solamente asintieron al principio sin levantar la vista; cuando la asistenta no daba señales de retirarse levantaron la vista enfadados.—Qué pasa —preguntó el señor Samsa.La asistenta permanecía de pie junto a la puerta, como si quisiera participar a la familia un gran éxito, pero que sólo lo haría cuando la interrogaran con todo detalle. La pequeña pluma de avestruz colocada casi derecha sobre su sombrero, que, desde que estaba a su servicio, incomodaba al señor Samsa, se balanceaba suavemente en todas las direcciones.—Qué es lo que quiere usted —preguntó la señora Samsa que era, de todos, la que más respetaba la asistenta.—Bueno— contestó la asistenta, y no podía seguir hablando de puro sonreír amablemente—, no tienen que preocuparse de cómo deshacerse de la cosa esa de al lado. Ya está todo arreglado.La señora Samsa y Greta se inclinaron de nuevo sobre sus cartas, como si quisieran continuar escribiendo; el señor Samsa, que se dio cuenta de que la asistenta quería empezar a contarlo todo con todo detalle, lo rechazó decididamente con la mano extendida. Como no podía contar nada, recordó la gran prisa que tenía, gritó visiblemente ofendida: Adiós a todos, se dio la vuelta con rabia y abandonó la casa con un portazo tremendo.—Esta noche la despido— dijo el señor Samsa, pero no recibió una respuesta ni de su mujer ni de su hija, porque la asistenta parecía haber turbado la tranquilidad apenas recién conseguida. Se levantaron, fueron hacia la ventana y permanecieron allí abrazadas. El señor Samsa se dio la vuelta en su silla hacia ellas y las observó en silencio un momento, luego las llamó:—Vamos, vengan. Olviden de una vez las cosas pasadas y tengan un poco de consideración conmigo.Las mujeres lo obedecieron enseguida, corrieron hacia él, lo acariciaron y terminaron rápidamente sus cartas. Después, los tres abandonaron la casa juntos, cosa que no habían hecho desde hacía meses, y se marcharon al campo, fuera de la ciudad, en el tranvía. El vehículo en el que estaban sentados solos estaba totalmente iluminado por el cálido sol. Recostados cómodamente en sus asientos, hablaron de las perspectivas para el futuro y llegaron a la conclusión de que, vistas las cosas más de cerca, no eran malas en absoluto, porque los tres trabajos, a este respecto todavía no se habían preguntado realmente unos a otros, eran sumamente buenos y, especialmente, muy prometedores para el futuro. Pero la gran mejoría inmediata de la situación tenía que producirse, naturalmente, con más facilidad con un cambio de casa; ahora querían cambiarse a una más pequeña y barata, pero mejor ubicada y, sobre todo, más práctica que la actual, que había sido escogida por Gregorio.Mientras hablaban así, al señor y a la señora Samsa se les ocurrió casi al mismo tiempo, al ver a su hija cada vez más animada, que en los últimos tiempos, a pesar de las calamidades que habían hecho palidecer sus mejillas, se había convertido en una joven lozana y hermosa. Tornándose cada vez más silenciosos y entendiéndose casi inconscientemente con las miradas, pensaban que ya llegaba el momento de buscarle un buen marido, y para ellos fue como una confirmación de sus nuevos sueños y buenas intenciones cuando, al final de su viaje, fue la hija quien se levantó primero y estiró su cuerpo joven.Publicado el 6 de mayo de 2016 por Edu Robsy. Leído 2.569 veces.Biblioteca digital abierta, legal y gratuita para textos y libros en formato electrónico: online, PDF, ePub, Mobi.Hotel Maison Carrée c/ des Ramal, 48 07730 Alayor Menorca Islas Baleares EspañaTextos.info es un proyecto gratuito de promoción de la lectura.Ayúdanos a que nuestros libros lleguen a más gente compartiendo lecturas en las redes sociales.Si puedes y quieres, también puedes hacer una donación para mantener el proyecto y posibilitar que nuestra biblioteca siga creciendo.'"
            ],
            "application/vnd.google.colaboratory.intrinsic+json": {
              "type": "string"
            }
          },
          "metadata": {},
          "execution_count": 3
        }
      ]
    },
    {
      "cell_type": "markdown",
      "source": [
        "**3. PREPROCESAMIENTO**"
      ],
      "metadata": {
        "id": "zFH1NGjjBDf6"
      }
    },
    {
      "cell_type": "code",
      "source": [
        "# Funciones y clases de keras\n",
        "from keras.preprocessing.text import Tokenizer # equivalente a ltokenizer de nltk\n",
        "from keras.preprocessing.text import text_to_word_sequence # equivalente a word_tokenize de nltk\n",
        "from keras.utils import pad_sequences # se utilizará para padding"
      ],
      "metadata": {
        "id": "napw6_ZDN2kZ"
      },
      "execution_count": null,
      "outputs": []
    },
    {
      "cell_type": "code",
      "source": [
        "# Para ocupar menos RAM, defino una función que transforma el corpus\n",
        "def xy(corpus, train_len):\n",
        "    \"\"\"\n",
        "          args:\n",
        "              corpus (string): string con corpus concatenado\n",
        "              train_len (int): largo de la secuencia\n",
        "    \"\"\"\n",
        "  # Transformar el corpus a tokens\n",
        "    tokens = text_to_word_sequence(corpus)\n",
        "\n",
        "   # Código para hacer el desfasaje de las palabras\n",
        "    text_sequences = []\n",
        "    for i in range(train_len, len(tokens)):\n",
        "      seq = tokens[i-train_len:i]\n",
        "      text_sequences.append(seq)\n",
        "\n",
        "    # Proceso de tokenización\n",
        "    tok = Tokenizer()\n",
        "    tok.fit_on_texts(text_sequences)\n",
        "\n",
        "    # Convertimos las palabras a números\n",
        "    sequences = tok.texts_to_sequences(text_sequences)\n",
        "\n",
        "    # Obtener arrays para slicing\n",
        "    arr_sequences = np.array(sequences)\n",
        "    x_data = arr_sequences[:,:-1]\n",
        "    y_data_int = arr_sequences[:,-1]\n",
        "\n",
        "    # Cantidad de palabras en el vocabulario\n",
        "    vocab_size = len(tok.word_counts)\n",
        "\n",
        "    # One Hot Encoding\n",
        "    y_data_int_offset = y_data_int - 1\n",
        "    y_data = to_categorical(y_data_int_offset, num_classes=vocab_size)\n",
        "\n",
        "    return x_data, y_data, vocab_size, tok"
      ],
      "metadata": {
        "id": "NvzJv1HpCVMf"
      },
      "execution_count": null,
      "outputs": []
    },
    {
      "cell_type": "code",
      "source": [
        "# Obtenemos los valores\n",
        "x_data, y_data, vocab_size,tok = xy(corpus, train_len=4)\n",
        "\n",
        "# Elimino el corpus por RAM\n",
        "del corpus"
      ],
      "metadata": {
        "id": "7hR5rmVlmDdV"
      },
      "execution_count": null,
      "outputs": []
    },
    {
      "cell_type": "markdown",
      "source": [
        "**4. ENTRENAMIENTO**"
      ],
      "metadata": {
        "id": "kPEM3MPXizHU"
      }
    },
    {
      "cell_type": "code",
      "source": [
        "# Largo de la secuencia de entrada\n",
        "input_seq_len = x_data.shape[1]\n",
        "input_seq_len"
      ],
      "metadata": {
        "colab": {
          "base_uri": "https://localhost:8080/"
        },
        "id": "wJcOqn1MhyXm",
        "outputId": "cdf784f7-8160-4fc6-8e58-1dcc4c954d28"
      },
      "execution_count": null,
      "outputs": [
        {
          "output_type": "execute_result",
          "data": {
            "text/plain": [
              "3"
            ]
          },
          "metadata": {},
          "execution_count": 7
        }
      ]
    },
    {
      "cell_type": "code",
      "source": [
        "# Largo del vector de salida --> vocab_size\n",
        "output_size = vocab_size\n",
        "output_size"
      ],
      "metadata": {
        "colab": {
          "base_uri": "https://localhost:8080/"
        },
        "id": "aDaTHNeyi65z",
        "outputId": "83579dd7-ad13-49de-95f0-a7e071cb45b3"
      },
      "execution_count": null,
      "outputs": [
        {
          "output_type": "execute_result",
          "data": {
            "text/plain": [
              "3671"
            ]
          },
          "metadata": {},
          "execution_count": 8
        }
      ]
    },
    {
      "cell_type": "code",
      "source": [
        "# Defino el modelo\n",
        "model = Sequential()\n",
        "\n",
        "# Embedding:\n",
        "# input_seq_len = 3 --> ingreso 3 palabras\n",
        "# input_dim = vocab_size\n",
        "model.add(Embedding(input_dim=vocab_size+1, output_dim=10, input_length=input_seq_len))\n",
        "\n",
        "model.add(Bidirectional(LSTM(64, return_sequences=True)))\n",
        "model.add(Dropout(0.2))\n",
        "model.add(Bidirectional(LSTM(64, return_sequences=True)))\n",
        "model.add(Dropout(0.2))\n",
        "model.add(LSTM(64)) # La última capa LSTM no lleva return_sequences\n",
        "model.add(Dense(32, activation='relu'))\n",
        "\n",
        "# Predicción de clasificación con softmax\n",
        "model.add(Dense(vocab_size, activation='softmax'))\n",
        "\n",
        "# Clasificación multiple categórica --> loss = categorical_crossentropy\n",
        "model.compile(loss='categorical_crossentropy', optimizer='adam', metrics=['accuracy'])\n",
        "\n",
        "model.summary()"
      ],
      "metadata": {
        "colab": {
          "base_uri": "https://localhost:8080/"
        },
        "id": "67pwvaTui84_",
        "outputId": "10e68e66-55c5-4558-cb65-1994615570a2"
      },
      "execution_count": null,
      "outputs": [
        {
          "output_type": "stream",
          "name": "stdout",
          "text": [
            "Model: \"sequential_4\"\n",
            "_________________________________________________________________\n",
            " Layer (type)                Output Shape              Param #   \n",
            "=================================================================\n",
            " embedding_4 (Embedding)     (None, 3, 10)             36720     \n",
            "                                                                 \n",
            " bidirectional_1 (Bidirecti  (None, 3, 128)            38400     \n",
            " onal)                                                           \n",
            "                                                                 \n",
            " dropout (Dropout)           (None, 3, 128)            0         \n",
            "                                                                 \n",
            " bidirectional_2 (Bidirecti  (None, 3, 128)            98816     \n",
            " onal)                                                           \n",
            "                                                                 \n",
            " dropout_1 (Dropout)         (None, 3, 128)            0         \n",
            "                                                                 \n",
            " lstm_6 (LSTM)               (None, 64)                49408     \n",
            "                                                                 \n",
            " dense_4 (Dense)             (None, 32)                2080      \n",
            "                                                                 \n",
            " dense_5 (Dense)             (None, 3671)              121143    \n",
            "                                                                 \n",
            "=================================================================\n",
            "Total params: 346567 (1.32 MB)\n",
            "Trainable params: 346567 (1.32 MB)\n",
            "Non-trainable params: 0 (0.00 Byte)\n",
            "_________________________________________________________________\n"
          ]
        }
      ]
    },
    {
      "cell_type": "code",
      "source": [
        "hist = model.fit(x_data, y_data, epochs=100, validation_split=0.2)"
      ],
      "metadata": {
        "id": "YiGmJWq_i_fO",
        "colab": {
          "base_uri": "https://localhost:8080/"
        },
        "outputId": "ac051dac-24c1-4975-97d7-78f58f0850d2"
      },
      "execution_count": null,
      "outputs": [
        {
          "output_type": "stream",
          "name": "stdout",
          "text": [
            "Epoch 1/100\n",
            "522/522 [==============================] - 27s 31ms/step - loss: 6.6079 - accuracy: 0.0449 - val_loss: 6.5168 - val_accuracy: 0.0508\n",
            "Epoch 2/100\n",
            "522/522 [==============================] - 11s 21ms/step - loss: 6.1204 - accuracy: 0.0468 - val_loss: 6.6504 - val_accuracy: 0.0383\n",
            "Epoch 3/100\n",
            "522/522 [==============================] - 10s 19ms/step - loss: 6.0175 - accuracy: 0.0520 - val_loss: 6.7295 - val_accuracy: 0.0498\n",
            "Epoch 4/100\n",
            "522/522 [==============================] - 11s 22ms/step - loss: 5.8425 - accuracy: 0.0667 - val_loss: 6.7941 - val_accuracy: 0.0604\n",
            "Epoch 5/100\n",
            "522/522 [==============================] - 11s 20ms/step - loss: 5.6268 - accuracy: 0.0776 - val_loss: 6.8518 - val_accuracy: 0.0731\n",
            "Epoch 6/100\n",
            "522/522 [==============================] - 11s 22ms/step - loss: 5.4750 - accuracy: 0.0834 - val_loss: 7.0297 - val_accuracy: 0.0714\n",
            "Epoch 7/100\n",
            "522/522 [==============================] - 10s 19ms/step - loss: 5.3514 - accuracy: 0.0905 - val_loss: 7.1331 - val_accuracy: 0.0754\n",
            "Epoch 8/100\n",
            "522/522 [==============================] - 10s 19ms/step - loss: 5.2360 - accuracy: 0.0939 - val_loss: 7.2119 - val_accuracy: 0.0831\n",
            "Epoch 9/100\n",
            "522/522 [==============================] - 11s 20ms/step - loss: 5.1364 - accuracy: 0.0983 - val_loss: 7.3038 - val_accuracy: 0.0838\n",
            "Epoch 10/100\n",
            "522/522 [==============================] - 13s 25ms/step - loss: 5.0506 - accuracy: 0.1018 - val_loss: 7.4725 - val_accuracy: 0.0836\n",
            "Epoch 11/100\n",
            "522/522 [==============================] - 15s 28ms/step - loss: 4.9685 - accuracy: 0.1069 - val_loss: 7.5597 - val_accuracy: 0.0781\n",
            "Epoch 12/100\n",
            "522/522 [==============================] - 13s 26ms/step - loss: 4.8881 - accuracy: 0.1120 - val_loss: 7.8971 - val_accuracy: 0.0838\n",
            "Epoch 13/100\n",
            "522/522 [==============================] - 12s 22ms/step - loss: 4.8143 - accuracy: 0.1176 - val_loss: 8.0030 - val_accuracy: 0.0810\n",
            "Epoch 14/100\n",
            "522/522 [==============================] - 11s 20ms/step - loss: 4.7368 - accuracy: 0.1225 - val_loss: 7.9538 - val_accuracy: 0.0841\n",
            "Epoch 15/100\n",
            "522/522 [==============================] - 14s 26ms/step - loss: 4.6697 - accuracy: 0.1265 - val_loss: 8.1794 - val_accuracy: 0.0829\n",
            "Epoch 16/100\n",
            "522/522 [==============================] - 13s 25ms/step - loss: 4.6002 - accuracy: 0.1304 - val_loss: 8.3540 - val_accuracy: 0.0867\n",
            "Epoch 17/100\n",
            "522/522 [==============================] - 14s 26ms/step - loss: 4.5324 - accuracy: 0.1367 - val_loss: 8.4887 - val_accuracy: 0.0834\n",
            "Epoch 18/100\n",
            "522/522 [==============================] - 13s 25ms/step - loss: 4.4618 - accuracy: 0.1417 - val_loss: 8.7749 - val_accuracy: 0.0874\n",
            "Epoch 19/100\n",
            "522/522 [==============================] - 13s 24ms/step - loss: 4.3983 - accuracy: 0.1490 - val_loss: 8.9311 - val_accuracy: 0.0846\n",
            "Epoch 20/100\n",
            "522/522 [==============================] - 14s 26ms/step - loss: 4.3368 - accuracy: 0.1513 - val_loss: 8.9801 - val_accuracy: 0.0860\n",
            "Epoch 21/100\n",
            "522/522 [==============================] - 9s 18ms/step - loss: 4.2697 - accuracy: 0.1602 - val_loss: 9.2870 - val_accuracy: 0.0843\n",
            "Epoch 22/100\n",
            "522/522 [==============================] - 14s 26ms/step - loss: 4.2051 - accuracy: 0.1646 - val_loss: 9.2820 - val_accuracy: 0.0841\n",
            "Epoch 23/100\n",
            "522/522 [==============================] - 14s 27ms/step - loss: 4.1468 - accuracy: 0.1696 - val_loss: 9.7119 - val_accuracy: 0.0817\n",
            "Epoch 24/100\n",
            "522/522 [==============================] - 12s 24ms/step - loss: 4.0887 - accuracy: 0.1736 - val_loss: 9.8941 - val_accuracy: 0.0764\n",
            "Epoch 25/100\n",
            "522/522 [==============================] - 13s 25ms/step - loss: 4.0313 - accuracy: 0.1769 - val_loss: 10.1237 - val_accuracy: 0.0752\n",
            "Epoch 26/100\n",
            "522/522 [==============================] - 11s 20ms/step - loss: 3.9829 - accuracy: 0.1796 - val_loss: 10.3421 - val_accuracy: 0.0788\n",
            "Epoch 27/100\n",
            "522/522 [==============================] - 9s 18ms/step - loss: 3.9274 - accuracy: 0.1862 - val_loss: 10.4253 - val_accuracy: 0.0759\n",
            "Epoch 28/100\n",
            "522/522 [==============================] - 10s 19ms/step - loss: 3.8725 - accuracy: 0.1909 - val_loss: 10.7882 - val_accuracy: 0.0714\n",
            "Epoch 29/100\n",
            "522/522 [==============================] - 10s 19ms/step - loss: 3.8243 - accuracy: 0.1944 - val_loss: 11.1000 - val_accuracy: 0.0745\n",
            "Epoch 30/100\n",
            "522/522 [==============================] - 9s 18ms/step - loss: 3.7755 - accuracy: 0.2001 - val_loss: 11.1645 - val_accuracy: 0.0728\n",
            "Epoch 31/100\n",
            "522/522 [==============================] - 10s 19ms/step - loss: 3.7307 - accuracy: 0.2029 - val_loss: 11.5041 - val_accuracy: 0.0719\n",
            "Epoch 32/100\n",
            "522/522 [==============================] - 11s 22ms/step - loss: 3.6848 - accuracy: 0.2111 - val_loss: 11.7430 - val_accuracy: 0.0728\n",
            "Epoch 33/100\n",
            "522/522 [==============================] - 10s 19ms/step - loss: 3.6441 - accuracy: 0.2129 - val_loss: 12.0000 - val_accuracy: 0.0671\n",
            "Epoch 34/100\n",
            "522/522 [==============================] - 9s 17ms/step - loss: 3.6077 - accuracy: 0.2154 - val_loss: 12.2032 - val_accuracy: 0.0699\n",
            "Epoch 35/100\n",
            "522/522 [==============================] - 10s 20ms/step - loss: 3.5690 - accuracy: 0.2237 - val_loss: 12.2331 - val_accuracy: 0.0719\n",
            "Epoch 36/100\n",
            "522/522 [==============================] - 10s 20ms/step - loss: 3.5231 - accuracy: 0.2272 - val_loss: 12.4925 - val_accuracy: 0.0683\n",
            "Epoch 37/100\n",
            "522/522 [==============================] - 9s 18ms/step - loss: 3.4925 - accuracy: 0.2304 - val_loss: 12.9054 - val_accuracy: 0.0731\n",
            "Epoch 38/100\n",
            "522/522 [==============================] - 10s 19ms/step - loss: 3.4452 - accuracy: 0.2339 - val_loss: 12.8985 - val_accuracy: 0.0709\n",
            "Epoch 39/100\n",
            "522/522 [==============================] - 11s 20ms/step - loss: 3.4088 - accuracy: 0.2401 - val_loss: 13.1536 - val_accuracy: 0.0699\n",
            "Epoch 40/100\n",
            "522/522 [==============================] - 10s 19ms/step - loss: 3.3861 - accuracy: 0.2414 - val_loss: 13.3576 - val_accuracy: 0.0695\n",
            "Epoch 41/100\n",
            "522/522 [==============================] - 10s 19ms/step - loss: 3.3411 - accuracy: 0.2480 - val_loss: 13.6571 - val_accuracy: 0.0687\n",
            "Epoch 42/100\n",
            "522/522 [==============================] - 11s 21ms/step - loss: 3.3060 - accuracy: 0.2547 - val_loss: 13.6622 - val_accuracy: 0.0711\n",
            "Epoch 43/100\n",
            "522/522 [==============================] - 11s 22ms/step - loss: 3.2716 - accuracy: 0.2572 - val_loss: 13.8601 - val_accuracy: 0.0680\n",
            "Epoch 44/100\n",
            "522/522 [==============================] - 9s 18ms/step - loss: 3.2451 - accuracy: 0.2617 - val_loss: 14.1370 - val_accuracy: 0.0625\n",
            "Epoch 45/100\n",
            "522/522 [==============================] - 10s 19ms/step - loss: 3.2086 - accuracy: 0.2658 - val_loss: 14.2373 - val_accuracy: 0.0673\n",
            "Epoch 46/100\n",
            "522/522 [==============================] - 11s 20ms/step - loss: 3.1765 - accuracy: 0.2727 - val_loss: 14.3894 - val_accuracy: 0.0687\n",
            "Epoch 47/100\n",
            "522/522 [==============================] - 10s 19ms/step - loss: 3.1638 - accuracy: 0.2707 - val_loss: 14.7436 - val_accuracy: 0.0707\n",
            "Epoch 48/100\n",
            "522/522 [==============================] - 10s 18ms/step - loss: 3.1463 - accuracy: 0.2770 - val_loss: 14.5273 - val_accuracy: 0.0709\n",
            "Epoch 49/100\n",
            "522/522 [==============================] - 11s 20ms/step - loss: 3.1032 - accuracy: 0.2834 - val_loss: 14.8600 - val_accuracy: 0.0685\n",
            "Epoch 50/100\n",
            "522/522 [==============================] - 11s 20ms/step - loss: 3.0848 - accuracy: 0.2870 - val_loss: 14.9635 - val_accuracy: 0.0675\n",
            "Epoch 51/100\n",
            "522/522 [==============================] - 10s 18ms/step - loss: 3.0522 - accuracy: 0.2858 - val_loss: 15.3241 - val_accuracy: 0.0699\n",
            "Epoch 52/100\n",
            "522/522 [==============================] - 11s 21ms/step - loss: 3.0370 - accuracy: 0.2937 - val_loss: 15.4625 - val_accuracy: 0.0675\n",
            "Epoch 53/100\n",
            "522/522 [==============================] - 11s 20ms/step - loss: 3.0110 - accuracy: 0.2945 - val_loss: 15.5702 - val_accuracy: 0.0685\n",
            "Epoch 54/100\n",
            "522/522 [==============================] - 10s 19ms/step - loss: 2.9897 - accuracy: 0.3035 - val_loss: 15.7816 - val_accuracy: 0.0690\n",
            "Epoch 55/100\n",
            "522/522 [==============================] - 10s 18ms/step - loss: 2.9657 - accuracy: 0.3026 - val_loss: 15.8578 - val_accuracy: 0.0642\n",
            "Epoch 56/100\n",
            "522/522 [==============================] - 11s 21ms/step - loss: 2.9407 - accuracy: 0.3056 - val_loss: 16.1097 - val_accuracy: 0.0692\n",
            "Epoch 57/100\n",
            "522/522 [==============================] - 10s 20ms/step - loss: 2.9207 - accuracy: 0.3092 - val_loss: 16.0725 - val_accuracy: 0.0651\n",
            "Epoch 58/100\n",
            "522/522 [==============================] - 9s 17ms/step - loss: 2.9029 - accuracy: 0.3126 - val_loss: 16.1578 - val_accuracy: 0.0659\n",
            "Epoch 59/100\n",
            "522/522 [==============================] - 10s 19ms/step - loss: 2.8807 - accuracy: 0.3177 - val_loss: 16.5982 - val_accuracy: 0.0649\n",
            "Epoch 60/100\n",
            "522/522 [==============================] - 10s 19ms/step - loss: 2.8602 - accuracy: 0.3209 - val_loss: 16.6311 - val_accuracy: 0.0673\n",
            "Epoch 61/100\n",
            "522/522 [==============================] - 9s 18ms/step - loss: 2.8422 - accuracy: 0.3239 - val_loss: 16.5180 - val_accuracy: 0.0704\n",
            "Epoch 62/100\n",
            "522/522 [==============================] - 10s 20ms/step - loss: 2.8258 - accuracy: 0.3270 - val_loss: 16.6213 - val_accuracy: 0.0637\n",
            "Epoch 63/100\n",
            "522/522 [==============================] - 11s 20ms/step - loss: 2.8009 - accuracy: 0.3294 - val_loss: 16.8693 - val_accuracy: 0.0640\n",
            "Epoch 64/100\n",
            "522/522 [==============================] - 10s 20ms/step - loss: 2.7901 - accuracy: 0.3352 - val_loss: 17.0975 - val_accuracy: 0.0675\n",
            "Epoch 65/100\n",
            "522/522 [==============================] - 9s 17ms/step - loss: 2.7669 - accuracy: 0.3386 - val_loss: 17.2012 - val_accuracy: 0.0642\n",
            "Epoch 66/100\n",
            "522/522 [==============================] - 11s 20ms/step - loss: 2.7535 - accuracy: 0.3409 - val_loss: 17.3243 - val_accuracy: 0.0644\n",
            "Epoch 67/100\n",
            "522/522 [==============================] - 10s 20ms/step - loss: 2.7392 - accuracy: 0.3395 - val_loss: 17.5270 - val_accuracy: 0.0690\n",
            "Epoch 68/100\n",
            "522/522 [==============================] - 9s 17ms/step - loss: 2.7289 - accuracy: 0.3452 - val_loss: 17.6346 - val_accuracy: 0.0635\n",
            "Epoch 69/100\n",
            "522/522 [==============================] - 11s 21ms/step - loss: 2.7034 - accuracy: 0.3482 - val_loss: 18.0074 - val_accuracy: 0.0630\n",
            "Epoch 70/100\n",
            "522/522 [==============================] - 11s 22ms/step - loss: 2.6939 - accuracy: 0.3486 - val_loss: 17.8466 - val_accuracy: 0.0604\n",
            "Epoch 71/100\n",
            "522/522 [==============================] - 11s 20ms/step - loss: 2.6693 - accuracy: 0.3586 - val_loss: 17.8815 - val_accuracy: 0.0644\n",
            "Epoch 72/100\n",
            "522/522 [==============================] - 10s 18ms/step - loss: 2.6566 - accuracy: 0.3578 - val_loss: 18.1963 - val_accuracy: 0.0635\n",
            "Epoch 73/100\n",
            "522/522 [==============================] - 10s 20ms/step - loss: 2.6331 - accuracy: 0.3685 - val_loss: 18.3308 - val_accuracy: 0.0651\n",
            "Epoch 74/100\n",
            "522/522 [==============================] - 10s 19ms/step - loss: 2.6199 - accuracy: 0.3618 - val_loss: 18.2251 - val_accuracy: 0.0644\n",
            "Epoch 75/100\n",
            "522/522 [==============================] - 9s 17ms/step - loss: 2.5954 - accuracy: 0.3683 - val_loss: 18.5091 - val_accuracy: 0.0704\n",
            "Epoch 76/100\n",
            "522/522 [==============================] - 11s 20ms/step - loss: 2.5914 - accuracy: 0.3722 - val_loss: 18.4996 - val_accuracy: 0.0642\n",
            "Epoch 77/100\n",
            "522/522 [==============================] - 11s 21ms/step - loss: 2.5718 - accuracy: 0.3735 - val_loss: 18.7986 - val_accuracy: 0.0587\n",
            "Epoch 78/100\n",
            "522/522 [==============================] - 10s 20ms/step - loss: 2.5671 - accuracy: 0.3778 - val_loss: 18.8155 - val_accuracy: 0.0632\n",
            "Epoch 79/100\n",
            "522/522 [==============================] - 9s 17ms/step - loss: 2.5549 - accuracy: 0.3774 - val_loss: 18.9052 - val_accuracy: 0.0644\n",
            "Epoch 80/100\n",
            "522/522 [==============================] - 11s 20ms/step - loss: 2.5374 - accuracy: 0.3815 - val_loss: 18.8856 - val_accuracy: 0.0592\n",
            "Epoch 81/100\n",
            "522/522 [==============================] - 11s 21ms/step - loss: 2.5078 - accuracy: 0.3905 - val_loss: 19.0686 - val_accuracy: 0.0663\n",
            "Epoch 82/100\n",
            "522/522 [==============================] - 10s 18ms/step - loss: 2.5109 - accuracy: 0.3836 - val_loss: 19.1286 - val_accuracy: 0.0640\n",
            "Epoch 83/100\n",
            "522/522 [==============================] - 10s 19ms/step - loss: 2.5092 - accuracy: 0.3863 - val_loss: 19.3061 - val_accuracy: 0.0637\n",
            "Epoch 84/100\n",
            "522/522 [==============================] - 11s 21ms/step - loss: 2.4821 - accuracy: 0.3886 - val_loss: 19.3162 - val_accuracy: 0.0616\n",
            "Epoch 85/100\n",
            "522/522 [==============================] - 10s 20ms/step - loss: 2.4598 - accuracy: 0.3957 - val_loss: 19.4084 - val_accuracy: 0.0618\n",
            "Epoch 86/100\n",
            "522/522 [==============================] - 9s 17ms/step - loss: 2.4393 - accuracy: 0.4008 - val_loss: 19.4635 - val_accuracy: 0.0632\n",
            "Epoch 87/100\n",
            "522/522 [==============================] - 11s 21ms/step - loss: 2.4378 - accuracy: 0.3994 - val_loss: 19.5476 - val_accuracy: 0.0592\n",
            "Epoch 88/100\n",
            "522/522 [==============================] - 11s 21ms/step - loss: 2.4355 - accuracy: 0.4036 - val_loss: 19.6217 - val_accuracy: 0.0647\n",
            "Epoch 89/100\n",
            "522/522 [==============================] - 9s 18ms/step - loss: 2.4142 - accuracy: 0.4034 - val_loss: 19.7246 - val_accuracy: 0.0608\n",
            "Epoch 90/100\n",
            "522/522 [==============================] - 10s 19ms/step - loss: 2.4125 - accuracy: 0.4021 - val_loss: 19.8165 - val_accuracy: 0.0592\n",
            "Epoch 91/100\n",
            "522/522 [==============================] - 10s 20ms/step - loss: 2.3972 - accuracy: 0.4053 - val_loss: 19.9272 - val_accuracy: 0.0635\n",
            "Epoch 92/100\n",
            "522/522 [==============================] - 10s 19ms/step - loss: 2.3709 - accuracy: 0.4147 - val_loss: 20.1597 - val_accuracy: 0.0630\n",
            "Epoch 93/100\n",
            "522/522 [==============================] - 9s 18ms/step - loss: 2.3721 - accuracy: 0.4144 - val_loss: 20.3213 - val_accuracy: 0.0632\n",
            "Epoch 94/100\n",
            "522/522 [==============================] - 10s 20ms/step - loss: 2.3674 - accuracy: 0.4167 - val_loss: 20.1945 - val_accuracy: 0.0625\n",
            "Epoch 95/100\n",
            "522/522 [==============================] - 11s 20ms/step - loss: 2.3405 - accuracy: 0.4201 - val_loss: 20.3790 - val_accuracy: 0.0587\n",
            "Epoch 96/100\n",
            "522/522 [==============================] - 10s 18ms/step - loss: 2.3375 - accuracy: 0.4215 - val_loss: 20.2695 - val_accuracy: 0.0616\n",
            "Epoch 97/100\n",
            "522/522 [==============================] - 10s 20ms/step - loss: 2.3375 - accuracy: 0.4210 - val_loss: 20.4111 - val_accuracy: 0.0632\n",
            "Epoch 98/100\n",
            "522/522 [==============================] - 11s 20ms/step - loss: 2.3176 - accuracy: 0.4255 - val_loss: 20.6219 - val_accuracy: 0.0661\n",
            "Epoch 99/100\n",
            "522/522 [==============================] - 10s 19ms/step - loss: 2.3192 - accuracy: 0.4289 - val_loss: 20.5863 - val_accuracy: 0.0637\n",
            "Epoch 100/100\n",
            "522/522 [==============================] - 10s 19ms/step - loss: 2.2858 - accuracy: 0.4343 - val_loss: 20.7334 - val_accuracy: 0.0582\n"
          ]
        }
      ]
    },
    {
      "cell_type": "code",
      "source": [
        "# Entrenamiento\n",
        "epoch_count = range(1, len(hist.history['accuracy']) + 1)\n",
        "sns.lineplot(x=epoch_count,  y=hist.history['accuracy'], label='train')\n",
        "sns.lineplot(x=epoch_count,  y=hist.history['val_accuracy'], label='valid')\n",
        "plt.show()"
      ],
      "metadata": {
        "id": "eczlxJrXjGVO",
        "colab": {
          "base_uri": "https://localhost:8080/",
          "height": 432
        },
        "outputId": "6155546f-9c25-46c7-b566-8a72823f5821"
      },
      "execution_count": null,
      "outputs": [
        {
          "output_type": "display_data",
          "data": {
            "text/plain": [
              "<Figure size 640x480 with 1 Axes>"
            ],
            "image/png": "[encoded data removed]"
          },
          "metadata": {}
        }
      ]
    },
    {
      "cell_type": "markdown",
      "source": [
        "**5. PREDICCIÓN**\n",
        "\n",
        "Predicción de la próxima palabra"
      ],
      "metadata": {
        "id": "uvqulQi8mko_"
      }
    },
    {
      "cell_type": "code",
      "source": [
        "def model_response(human_text):\n",
        "\n",
        "    # Encodeamos\n",
        "    encoded = tok.texts_to_sequences([human_text])[0]\n",
        "\n",
        "    # Si tienen distinto largo\n",
        "    encoded = pad_sequences([encoded], maxlen=3, padding='pre')\n",
        "\n",
        "    # Predicción softmax\n",
        "    y_hat = model.predict(encoded).argmax(axis=-1)\n",
        "\n",
        "    # Debemos buscar en el vocabulario la palabra\n",
        "    # que corresopnde al indice (y_hat) predicho por le modelo\n",
        "    out_word = ''\n",
        "    for word, index in tok.word_index.items():\n",
        "        if index == y_hat:\n",
        "            out_word = word\n",
        "            break\n",
        "\n",
        "    # Agrego la palabra a la frase predicha\n",
        "    return human_text + ' ' + out_word\n"
      ],
      "metadata": {
        "id": "b-NjRK2MjJIh"
      },
      "execution_count": null,
      "outputs": []
    },
    {
      "cell_type": "code",
      "source": [
        "model_response('es un hombre')"
      ],
      "metadata": {
        "colab": {
          "base_uri": "https://localhost:8080/",
          "height": 53
        },
        "id": "t4n4KFu8tJpp",
        "outputId": "e4b00fac-de32-469d-eece-29a213a8c641"
      },
      "execution_count": null,
      "outputs": [
        {
          "output_type": "stream",
          "name": "stdout",
          "text": [
            "1/1 [==============================] - 2s 2s/step\n"
          ]
        },
        {
          "output_type": "execute_result",
          "data": {
            "text/plain": [
              "'es un hombre cansado'"
            ],
            "application/vnd.google.colaboratory.intrinsic+json": {
              "type": "string"
            }
          },
          "metadata": {},
          "execution_count": 44
        }
      ]
    },
    {
      "cell_type": "code",
      "source": [
        "model_response('es un hombre cansado')"
      ],
      "metadata": {
        "colab": {
          "base_uri": "https://localhost:8080/",
          "height": 53
        },
        "id": "oVX7_SlRMmSI",
        "outputId": "7d9b0561-70cf-4440-9d84-6f92010aaf39"
      },
      "execution_count": null,
      "outputs": [
        {
          "output_type": "stream",
          "name": "stdout",
          "text": [
            "1/1 [==============================] - 0s 41ms/step\n"
          ]
        },
        {
          "output_type": "execute_result",
          "data": {
            "text/plain": [
              "'es un hombre cansado todos'"
            ],
            "application/vnd.google.colaboratory.intrinsic+json": {
              "type": "string"
            }
          },
          "metadata": {},
          "execution_count": 47
        }
      ]
    },
    {
      "cell_type": "code",
      "source": [
        "model_response('es un hombre cansado todos')"
      ],
      "metadata": {
        "colab": {
          "base_uri": "https://localhost:8080/",
          "height": 53
        },
        "id": "A-tBtoyOMpPm",
        "outputId": "97aa6484-3760-4c41-8928-58a1b950b62f"
      },
      "execution_count": null,
      "outputs": [
        {
          "output_type": "stream",
          "name": "stdout",
          "text": [
            "1/1 [==============================] - 0s 39ms/step\n"
          ]
        },
        {
          "output_type": "execute_result",
          "data": {
            "text/plain": [
              "'es un hombre cansado todos o'"
            ],
            "application/vnd.google.colaboratory.intrinsic+json": {
              "type": "string"
            }
          },
          "metadata": {},
          "execution_count": 48
        }
      ]
    },
    {
      "cell_type": "markdown",
      "source": [
        "**6. GENERACIÓN DE NUEVAS SECUENCIAS**"
      ],
      "metadata": {
        "id": "OyTQ3eqx-GQY"
      }
    },
    {
      "cell_type": "code",
      "source": [
        "def generate_seq(model, tokenizer, seed_text, max_length, n_words):\n",
        "    \"\"\"\n",
        "        Exec model sequence prediction\n",
        "\n",
        "        Args:\n",
        "            model (keras): modelo entrenado\n",
        "            tokenizer (keras tokenizer): tonenizer utilizado en el preprocesamiento\n",
        "            seed_text (string): texto de entrada (input_seq)\n",
        "            max_length (int): máxima longitud de la sequencia de entrada\n",
        "            n_words (int): números de palabras a agregar a la sequencia de entrada\n",
        "        returns:\n",
        "            output_text (string): sentencia con las \"n_words\" agregadas\n",
        "    \"\"\"\n",
        "    output_text = seed_text\n",
        "\n",
        "\t  # Generate a fixed number of words\n",
        "    for _ in range(n_words):\n",
        "\n",
        "\t\t# Encodeamos\n",
        "        encoded = tokenizer.texts_to_sequences([output_text])[0]\n",
        "\n",
        "\t\t# Si tienen distinto largo\n",
        "        encoded = pad_sequences([encoded], maxlen=max_length, padding='pre')\n",
        "\n",
        "\t\t# Predicción softmax\n",
        "        y_hat = model.predict(encoded).argmax(axis=-1)\n",
        "\n",
        "\t\t# Vamos concatenando las predicciones\n",
        "        out_word = ''\n",
        "\n",
        "        # Debemos buscar en el vocabulario la palabra\n",
        "        # que corresopnde al indice (y_hat) predicho por le modelo\n",
        "        for word, index in tokenizer.word_index.items():\n",
        "            if index == y_hat:\n",
        "                out_word = word\n",
        "                break\n",
        "\n",
        "\t\t# Agrego las palabras a la frase predicha\n",
        "        output_text += ' ' + out_word\n",
        "\n",
        "    return output_text"
      ],
      "metadata": {
        "id": "JfZjvYdm-w17"
      },
      "execution_count": null,
      "outputs": []
    },
    {
      "cell_type": "code",
      "source": [
        "input_text='es un hombre'\n",
        "\n",
        "generate_seq(model, tok, input_text, max_length=3, n_words=4)"
      ],
      "metadata": {
        "colab": {
          "base_uri": "https://localhost:8080/",
          "height": 105
        },
        "id": "0QNpYRM5-8lI",
        "outputId": "5488247c-28cd-4aeb-bd1a-1abb644279c7"
      },
      "execution_count": null,
      "outputs": [
        {
          "output_type": "stream",
          "name": "stdout",
          "text": [
            "1/1 [==============================] - 0s 38ms/step\n",
            "1/1 [==============================] - 0s 35ms/step\n",
            "1/1 [==============================] - 0s 37ms/step\n",
            "1/1 [==============================] - 0s 36ms/step\n"
          ]
        },
        {
          "output_type": "execute_result",
          "data": {
            "text/plain": [
              "'es un hombre cansado todos o disposición'"
            ],
            "application/vnd.google.colaboratory.intrinsic+json": {
              "type": "string"
            }
          },
          "metadata": {},
          "execution_count": 50
        }
      ]
    },
    {
      "cell_type": "code",
      "source": [
        "input_text='gregorio tiene un'\n",
        "\n",
        "generate_seq(model, tok, input_text, max_length=3, n_words=4)"
      ],
      "metadata": {
        "colab": {
          "base_uri": "https://localhost:8080/",
          "height": 105
        },
        "id": "WTr0AeqtRvFv",
        "outputId": "fd712bfb-7049-44b8-c08b-2dd3ce67ca74"
      },
      "execution_count": null,
      "outputs": [
        {
          "output_type": "stream",
          "name": "stdout",
          "text": [
            "1/1 [==============================] - 0s 31ms/step\n",
            "1/1 [==============================] - 0s 67ms/step\n",
            "1/1 [==============================] - 0s 33ms/step\n",
            "1/1 [==============================] - 0s 35ms/step\n"
          ]
        },
        {
          "output_type": "execute_result",
          "data": {
            "text/plain": [
              "'gregorio tiene un resbaló padres el esperado'"
            ],
            "application/vnd.google.colaboratory.intrinsic+json": {
              "type": "string"
            }
          },
          "metadata": {},
          "execution_count": 51
        }
      ]
    },
    {
      "cell_type": "markdown",
      "source": [
        "**7. BEAM SEARCH Y MUESTREO ALEATORIO**"
      ],
      "metadata": {
        "id": "5KEKexeC_lDi"
      }
    },
    {
      "cell_type": "code",
      "source": [
        "# Funcionalidades para hacer encoding y decoding\n",
        "def encode(text,max_length=3):\n",
        "\n",
        "    encoded = tok.texts_to_sequences([text])[0]\n",
        "    encoded = pad_sequences([encoded], maxlen=max_length, padding='pre')\n",
        "\n",
        "    return encoded\n",
        "\n",
        "def decode(seq):\n",
        "    return tok.sequences_to_texts([seq])\n",
        "\n",
        "from scipy.special import softmax\n",
        "\n",
        "# Función que selecciona candidatos para el Beam Search\n",
        "def select_candidates(pred,num_beams,vocab_size,history_probs,history_tokens,temp=1):\n",
        "\n",
        "  # Colectar todas las probabilidades para la siguiente búsqueda\n",
        "  pred_large = []\n",
        "\n",
        "  for idx,pp in enumerate(pred):\n",
        "    pred_large.extend(np.log(pp+1E-10)+history_probs[idx])\n",
        "\n",
        "  pred_large = np.array(pred_large)\n",
        "\n",
        "  # Criterio de selección\n",
        "  # idx_select = np.argsort(pred_large)[::-1][:num_beams] # Beam Search determinista\n",
        "  idx_select = np.random.choice(np.arange(pred_large.shape[0]),\n",
        "                                num_beams,\n",
        "                                p=softmax(pred_large/temp)) # Beam Search con muestreo\n",
        "\n",
        "  # Traducir a índices de token en el vocabulario\n",
        "  new_history_tokens = np.concatenate((np.array(history_tokens)[idx_select//vocab_size],\n",
        "                        np.array([idx_select%vocab_size]).T),\n",
        "                      axis=1)\n",
        "\n",
        "  # Devolver el producto de las probabilidades (log) y la secuencia de tokens seleccionados\n",
        "  return pred_large[idx_select.astype(int)], new_history_tokens.astype(int)\n",
        "\n",
        "\n",
        "def beam_search(model,num_beams,num_words,input):\n",
        "\n",
        "    # First iteration\n",
        "\n",
        "    # Encode\n",
        "    encoded = encode(input)\n",
        "\n",
        "    # First prediction\n",
        "    y_hat = np.squeeze(model.predict(encoded))\n",
        "\n",
        "    # Get vocabulary size\n",
        "    vocab_size = y_hat.shape[0]\n",
        "\n",
        "    # Initialize history\n",
        "    history_probs = [0]*num_beams\n",
        "    history_tokens = [encoded[0]]*num_beams\n",
        "\n",
        "    # Select num_beams candidates\n",
        "    history_probs, history_tokens = select_candidates([y_hat],\n",
        "                                        num_beams,\n",
        "                                        vocab_size,\n",
        "                                        history_probs,\n",
        "                                        history_tokens)\n",
        "\n",
        "    # Beam search loop\n",
        "    for i in range(num_words-1):\n",
        "\n",
        "      preds = []\n",
        "\n",
        "      for hist in history_tokens:\n",
        "\n",
        "        # Actualizar secuencia de tokens\n",
        "        input_update = np.array([hist[i+1:]]).copy()\n",
        "\n",
        "        # Predicción\n",
        "        y_hat = np.squeeze(model.predict(input_update))\n",
        "\n",
        "        preds.append(y_hat)\n",
        "\n",
        "      history_probs, history_tokens = select_candidates(preds,\n",
        "                                                        num_beams,\n",
        "                                                        vocab_size,\n",
        "                                                        history_probs,\n",
        "                                                        history_tokens)\n",
        "\n",
        "    return history_tokens"
      ],
      "metadata": {
        "id": "Z0zMRkUH_oSp"
      },
      "execution_count": null,
      "outputs": []
    },
    {
      "cell_type": "code",
      "source": [
        "# Predicción con Beam Search\n",
        "salidas = beam_search(model,num_beams=10,num_words=6,input=\"metamorfosis\")"
      ],
      "metadata": {
        "colab": {
          "base_uri": "https://localhost:8080/"
        },
        "id": "9JOUaOwj0CDk",
        "outputId": "4a7ea793-86ca-4381-8c48-33c1652bd700"
      },
      "execution_count": null,
      "outputs": [
        {
          "output_type": "stream",
          "name": "stdout",
          "text": [
            "1/1 [==============================] - 0s 25ms/step\n",
            "1/1 [==============================] - 2s 2s/step\n",
            "1/1 [==============================] - 0s 32ms/step\n",
            "1/1 [==============================] - 0s 23ms/step\n",
            "1/1 [==============================] - 0s 21ms/step\n",
            "1/1 [==============================] - 0s 21ms/step\n",
            "1/1 [==============================] - 0s 23ms/step\n",
            "1/1 [==============================] - 0s 24ms/step\n",
            "1/1 [==============================] - 0s 23ms/step\n",
            "1/1 [==============================] - 0s 25ms/step\n",
            "1/1 [==============================] - 0s 28ms/step\n",
            "1/1 [==============================] - 0s 23ms/step\n",
            "1/1 [==============================] - 0s 24ms/step\n",
            "1/1 [==============================] - 0s 22ms/step\n",
            "1/1 [==============================] - 0s 24ms/step\n",
            "1/1 [==============================] - 0s 22ms/step\n",
            "1/1 [==============================] - 0s 29ms/step\n",
            "1/1 [==============================] - 0s 22ms/step\n",
            "1/1 [==============================] - 0s 36ms/step\n",
            "1/1 [==============================] - 0s 40ms/step\n",
            "1/1 [==============================] - 0s 37ms/step\n",
            "1/1 [==============================] - 0s 38ms/step\n",
            "1/1 [==============================] - 0s 32ms/step\n",
            "1/1 [==============================] - 0s 33ms/step\n",
            "1/1 [==============================] - 0s 32ms/step\n",
            "1/1 [==============================] - 0s 38ms/step\n",
            "1/1 [==============================] - 0s 34ms/step\n",
            "1/1 [==============================] - 0s 37ms/step\n",
            "1/1 [==============================] - 0s 47ms/step\n",
            "1/1 [==============================] - 0s 36ms/step\n",
            "1/1 [==============================] - 0s 36ms/step\n",
            "1/1 [==============================] - 0s 36ms/step\n",
            "1/1 [==============================] - 0s 33ms/step\n",
            "1/1 [==============================] - 0s 35ms/step\n",
            "1/1 [==============================] - 0s 36ms/step\n",
            "1/1 [==============================] - 0s 41ms/step\n",
            "1/1 [==============================] - 0s 34ms/step\n",
            "1/1 [==============================] - 0s 37ms/step\n",
            "1/1 [==============================] - 0s 35ms/step\n",
            "1/1 [==============================] - 0s 38ms/step\n",
            "1/1 [==============================] - 0s 42ms/step\n",
            "1/1 [==============================] - 0s 35ms/step\n",
            "1/1 [==============================] - 0s 32ms/step\n",
            "1/1 [==============================] - 0s 33ms/step\n",
            "1/1 [==============================] - 0s 30ms/step\n",
            "1/1 [==============================] - 0s 43ms/step\n",
            "1/1 [==============================] - 0s 34ms/step\n",
            "1/1 [==============================] - 0s 33ms/step\n",
            "1/1 [==============================] - 0s 32ms/step\n",
            "1/1 [==============================] - 0s 39ms/step\n",
            "1/1 [==============================] - 0s 34ms/step\n"
          ]
        }
      ]
    },
    {
      "cell_type": "code",
      "source": [
        "# Veamos las salidas\n",
        "decode(salidas[0])"
      ],
      "metadata": {
        "colab": {
          "base_uri": "https://localhost:8080/"
        },
        "id": "5EZMiXkS0iaV",
        "outputId": "1733ecf5-cd66-450c-bf92-e6e92b1e611a"
      },
      "execution_count": null,
      "outputs": [
        {
          "output_type": "execute_result",
          "data": {
            "text/plain": [
              "['disculpa cuarto la gran tendría']"
            ]
          },
          "metadata": {},
          "execution_count": 54
        }
      ]
    },
    {
      "cell_type": "markdown",
      "source": [
        "**8. CONCLUSIONES**\n",
        "\n",
        "El funcionamiento del modelo es malo. Hay una gran limitante por disponibilidad de RAM en el Colab. Corpus grandes saturan la RAM en el entrenamiento, corpus chicos presentan problemas de falta de datos.\n",
        "\n",
        "El uso de capas bidireccionales mejoró levemente el funcionamiento. El uso de una mayor cantidad de capas no cambió sustancialmente los resultados."
      ],
      "metadata": {
        "id": "V_ZYY8YrNtAZ"
      }
    },
    {
      "cell_type": "code",
      "source": [],
      "metadata": {
        "id": "i7EcbfkD0nXU"
      },
      "execution_count": null,
      "outputs": []
    }
  ]
}
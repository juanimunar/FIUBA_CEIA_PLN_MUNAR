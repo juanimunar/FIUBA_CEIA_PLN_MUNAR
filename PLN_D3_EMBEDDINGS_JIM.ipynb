{
  "cells": [
    {
      "cell_type": "markdown",
      "metadata": {
        "id": "sZd5yLnnHOK0"
      },
      "source": [
        "<img src=\"https://github.com/hernancontigiani/ceia_memorias_especializacion/raw/master/Figures/logoFIUBA.jpg\" width=\"250\" align=\"center\">\n",
        "\n",
        "**PROCESAMIENTO DE LENGUAJE NATURAL**\n",
        "\n",
        "*DESAFÍO Nº3 - CUSTOM EMBEDDINGS CON GENSIM - JUAN I. MUNAR*\n",
        "\n"
      ]
    },
    {
      "cell_type": "markdown",
      "metadata": {
        "id": "vA7nqkumo9z9"
      },
      "source": [
        "***Objetivo.*** *Utilizar documentos / corpus para crear embeddings de palabras basado en ese contexto.*"
      ]
    },
    {
      "cell_type": "code",
      "execution_count": null,
      "metadata": {
        "id": "lFToQs5FK5uZ"
      },
      "outputs": [],
      "source": [
        "import pandas as pd\n",
        "import matplotlib.pyplot as plt\n",
        "import seaborn as sns\n",
        "\n",
        "import multiprocessing\n",
        "from gensim.models import Word2Vec"
      ]
    },
    {
      "cell_type": "markdown",
      "metadata": {
        "id": "g07zJxG7H9vG"
      },
      "source": [
        "**1. DATOS**\n",
        "\n",
        "Utilizaremos como dataset los dos poemas épicos de José Hernández: \"El Gaucho\" y \"La vuelta de Martín Fierro\".Entrenaremos así embeddings gauchos. Se obtuvieron los textos de: https://www.textos.info/jose-hernandez"
      ]
    },
    {
      "cell_type": "code",
      "execution_count": null,
      "metadata": {
        "id": "ticoqYD1Z3I7",
        "outputId": "384e809c-663b-476e-bcc8-0a7839071e6c",
        "colab": {
          "base_uri": "https://localhost:8080/",
          "height": 324
        }
      },
      "outputs": [
        {
          "output_type": "stream",
          "name": "stderr",
          "text": [
            "<ipython-input-2-c9266a5a5b2a>:2: ParserWarning: Falling back to the 'python' engine because the 'c' engine does not support regex separators (separators > 1 char and different from '\\s+' are interpreted as regex); you can avoid this warning by specifying engine='python'.\n",
            "  df = pd.read_csv('MARTIN_FIERRO.txt', sep='/n', header=None)\n"
          ]
        },
        {
          "output_type": "execute_result",
          "data": {
            "text/plain": [
              "                              0\n",
              "0                             I\n",
              "1        Aquí me pongo a cantar\n",
              "2      al compás de la vigüela,\n",
              "3  que el hombre que lo desvela\n",
              "4       una pena estrordinaria,\n",
              "5         como la ave solitaria\n",
              "6    con el cantar se consuela."
            ],
            "text/html": [
              "\n",
              "  <div id=\"df-6c5352ee-225e-432d-b542-cf278d2c0f1e\" class=\"colab-df-container\">\n",
              "    <div>\n",
              "<style scoped>\n",
              "    .dataframe tbody tr th:only-of-type {\n",
              "        vertical-align: middle;\n",
              "    }\n",
              "\n",
              "    .dataframe tbody tr th {\n",
              "        vertical-align: top;\n",
              "    }\n",
              "\n",
              "    .dataframe thead th {\n",
              "        text-align: right;\n",
              "    }\n",
              "</style>\n",
              "<table border=\"1\" class=\"dataframe\">\n",
              "  <thead>\n",
              "    <tr style=\"text-align: right;\">\n",
              "      <th></th>\n",
              "      <th>0</th>\n",
              "    </tr>\n",
              "  </thead>\n",
              "  <tbody>\n",
              "    <tr>\n",
              "      <th>0</th>\n",
              "      <td>I</td>\n",
              "    </tr>\n",
              "    <tr>\n",
              "      <th>1</th>\n",
              "      <td>Aquí me pongo a cantar</td>\n",
              "    </tr>\n",
              "    <tr>\n",
              "      <th>2</th>\n",
              "      <td>al compás de la vigüela,</td>\n",
              "    </tr>\n",
              "    <tr>\n",
              "      <th>3</th>\n",
              "      <td>que el hombre que lo desvela</td>\n",
              "    </tr>\n",
              "    <tr>\n",
              "      <th>4</th>\n",
              "      <td>una pena estrordinaria,</td>\n",
              "    </tr>\n",
              "    <tr>\n",
              "      <th>5</th>\n",
              "      <td>como la ave solitaria</td>\n",
              "    </tr>\n",
              "    <tr>\n",
              "      <th>6</th>\n",
              "      <td>con el cantar se consuela.</td>\n",
              "    </tr>\n",
              "  </tbody>\n",
              "</table>\n",
              "</div>\n",
              "    <div class=\"colab-df-buttons\">\n",
              "\n",
              "  <div class=\"colab-df-container\">\n",
              "    <button class=\"colab-df-convert\" onclick=\"convertToInteractive('df-6c5352ee-225e-432d-b542-cf278d2c0f1e')\"\n",
              "            title=\"Convert this dataframe to an interactive table.\"\n",
              "            style=\"display:none;\">\n",
              "\n",
              "  <svg xmlns=\"http://www.w3.org/2000/svg\" height=\"24px\" viewBox=\"0 -960 960 960\">\n",
              "    <path d=\"M120-120v-720h720v720H120Zm60-500h600v-160H180v160Zm220 220h160v-160H400v160Zm0 220h160v-160H400v160ZM180-400h160v-160H180v160Zm440 0h160v-160H620v160ZM180-180h160v-160H180v160Zm440 0h160v-160H620v160Z\"/>\n",
              "  </svg>\n",
              "    </button>\n",
              "\n",
              "  <style>\n",
              "    .colab-df-container {\n",
              "      display:flex;\n",
              "      gap: 12px;\n",
              "    }\n",
              "\n",
              "    .colab-df-convert {\n",
              "      background-color: #E8F0FE;\n",
              "      border: none;\n",
              "      border-radius: 50%;\n",
              "      cursor: pointer;\n",
              "      display: none;\n",
              "      fill: #1967D2;\n",
              "      height: 32px;\n",
              "      padding: 0 0 0 0;\n",
              "      width: 32px;\n",
              "    }\n",
              "\n",
              "    .colab-df-convert:hover {\n",
              "      background-color: #E2EBFA;\n",
              "      box-shadow: 0px 1px 2px rgba(60, 64, 67, 0.3), 0px 1px 3px 1px rgba(60, 64, 67, 0.15);\n",
              "      fill: #174EA6;\n",
              "    }\n",
              "\n",
              "    .colab-df-buttons div {\n",
              "      margin-bottom: 4px;\n",
              "    }\n",
              "\n",
              "    [theme=dark] .colab-df-convert {\n",
              "      background-color: #3B4455;\n",
              "      fill: #D2E3FC;\n",
              "    }\n",
              "\n",
              "    [theme=dark] .colab-df-convert:hover {\n",
              "      background-color: #434B5C;\n",
              "      box-shadow: 0px 1px 3px 1px rgba(0, 0, 0, 0.15);\n",
              "      filter: drop-shadow(0px 1px 2px rgba(0, 0, 0, 0.3));\n",
              "      fill: #FFFFFF;\n",
              "    }\n",
              "  </style>\n",
              "\n",
              "    <script>\n",
              "      const buttonEl =\n",
              "        document.querySelector('#df-6c5352ee-225e-432d-b542-cf278d2c0f1e button.colab-df-convert');\n",
              "      buttonEl.style.display =\n",
              "        google.colab.kernel.accessAllowed ? 'block' : 'none';\n",
              "\n",
              "      async function convertToInteractive(key) {\n",
              "        const element = document.querySelector('#df-6c5352ee-225e-432d-b542-cf278d2c0f1e');\n",
              "        const dataTable =\n",
              "          await google.colab.kernel.invokeFunction('convertToInteractive',\n",
              "                                                    [key], {});\n",
              "        if (!dataTable) return;\n",
              "\n",
              "        const docLinkHtml = 'Like what you see? Visit the ' +\n",
              "          '<a target=\"_blank\" href=https://colab.research.google.com/notebooks/data_table.ipynb>data table notebook</a>'\n",
              "          + ' to learn more about interactive tables.';\n",
              "        element.innerHTML = '';\n",
              "        dataTable['output_type'] = 'display_data';\n",
              "        await google.colab.output.renderOutput(dataTable, element);\n",
              "        const docLink = document.createElement('div');\n",
              "        docLink.innerHTML = docLinkHtml;\n",
              "        element.appendChild(docLink);\n",
              "      }\n",
              "    </script>\n",
              "  </div>\n",
              "\n",
              "\n",
              "<div id=\"df-745aa032-1e82-4224-a214-a6292cc924a2\">\n",
              "  <button class=\"colab-df-quickchart\" onclick=\"quickchart('df-745aa032-1e82-4224-a214-a6292cc924a2')\"\n",
              "            title=\"Suggest charts\"\n",
              "            style=\"display:none;\">\n",
              "\n",
              "<svg xmlns=\"http://www.w3.org/2000/svg\" height=\"24px\"viewBox=\"0 0 24 24\"\n",
              "     width=\"24px\">\n",
              "    <g>\n",
              "        <path d=\"M19 3H5c-1.1 0-2 .9-2 2v14c0 1.1.9 2 2 2h14c1.1 0 2-.9 2-2V5c0-1.1-.9-2-2-2zM9 17H7v-7h2v7zm4 0h-2V7h2v10zm4 0h-2v-4h2v4z\"/>\n",
              "    </g>\n",
              "</svg>\n",
              "  </button>\n",
              "\n",
              "<style>\n",
              "  .colab-df-quickchart {\n",
              "      --bg-color: #E8F0FE;\n",
              "      --fill-color: #1967D2;\n",
              "      --hover-bg-color: #E2EBFA;\n",
              "      --hover-fill-color: #174EA6;\n",
              "      --disabled-fill-color: #AAA;\n",
              "      --disabled-bg-color: #DDD;\n",
              "  }\n",
              "\n",
              "  [theme=dark] .colab-df-quickchart {\n",
              "      --bg-color: #3B4455;\n",
              "      --fill-color: #D2E3FC;\n",
              "      --hover-bg-color: #434B5C;\n",
              "      --hover-fill-color: #FFFFFF;\n",
              "      --disabled-bg-color: #3B4455;\n",
              "      --disabled-fill-color: #666;\n",
              "  }\n",
              "\n",
              "  .colab-df-quickchart {\n",
              "    background-color: var(--bg-color);\n",
              "    border: none;\n",
              "    border-radius: 50%;\n",
              "    cursor: pointer;\n",
              "    display: none;\n",
              "    fill: var(--fill-color);\n",
              "    height: 32px;\n",
              "    padding: 0;\n",
              "    width: 32px;\n",
              "  }\n",
              "\n",
              "  .colab-df-quickchart:hover {\n",
              "    background-color: var(--hover-bg-color);\n",
              "    box-shadow: 0 1px 2px rgba(60, 64, 67, 0.3), 0 1px 3px 1px rgba(60, 64, 67, 0.15);\n",
              "    fill: var(--button-hover-fill-color);\n",
              "  }\n",
              "\n",
              "  .colab-df-quickchart-complete:disabled,\n",
              "  .colab-df-quickchart-complete:disabled:hover {\n",
              "    background-color: var(--disabled-bg-color);\n",
              "    fill: var(--disabled-fill-color);\n",
              "    box-shadow: none;\n",
              "  }\n",
              "\n",
              "  .colab-df-spinner {\n",
              "    border: 2px solid var(--fill-color);\n",
              "    border-color: transparent;\n",
              "    border-bottom-color: var(--fill-color);\n",
              "    animation:\n",
              "      spin 1s steps(1) infinite;\n",
              "  }\n",
              "\n",
              "  @keyframes spin {\n",
              "    0% {\n",
              "      border-color: transparent;\n",
              "      border-bottom-color: var(--fill-color);\n",
              "      border-left-color: var(--fill-color);\n",
              "    }\n",
              "    20% {\n",
              "      border-color: transparent;\n",
              "      border-left-color: var(--fill-color);\n",
              "      border-top-color: var(--fill-color);\n",
              "    }\n",
              "    30% {\n",
              "      border-color: transparent;\n",
              "      border-left-color: var(--fill-color);\n",
              "      border-top-color: var(--fill-color);\n",
              "      border-right-color: var(--fill-color);\n",
              "    }\n",
              "    40% {\n",
              "      border-color: transparent;\n",
              "      border-right-color: var(--fill-color);\n",
              "      border-top-color: var(--fill-color);\n",
              "    }\n",
              "    60% {\n",
              "      border-color: transparent;\n",
              "      border-right-color: var(--fill-color);\n",
              "    }\n",
              "    80% {\n",
              "      border-color: transparent;\n",
              "      border-right-color: var(--fill-color);\n",
              "      border-bottom-color: var(--fill-color);\n",
              "    }\n",
              "    90% {\n",
              "      border-color: transparent;\n",
              "      border-bottom-color: var(--fill-color);\n",
              "    }\n",
              "  }\n",
              "</style>\n",
              "\n",
              "  <script>\n",
              "    async function quickchart(key) {\n",
              "      const quickchartButtonEl =\n",
              "        document.querySelector('#' + key + ' button');\n",
              "      quickchartButtonEl.disabled = true;  // To prevent multiple clicks.\n",
              "      quickchartButtonEl.classList.add('colab-df-spinner');\n",
              "      try {\n",
              "        const charts = await google.colab.kernel.invokeFunction(\n",
              "            'suggestCharts', [key], {});\n",
              "      } catch (error) {\n",
              "        console.error('Error during call to suggestCharts:', error);\n",
              "      }\n",
              "      quickchartButtonEl.classList.remove('colab-df-spinner');\n",
              "      quickchartButtonEl.classList.add('colab-df-quickchart-complete');\n",
              "    }\n",
              "    (() => {\n",
              "      let quickchartButtonEl =\n",
              "        document.querySelector('#df-745aa032-1e82-4224-a214-a6292cc924a2 button');\n",
              "      quickchartButtonEl.style.display =\n",
              "        google.colab.kernel.accessAllowed ? 'block' : 'none';\n",
              "    })();\n",
              "  </script>\n",
              "</div>\n",
              "    </div>\n",
              "  </div>\n"
            ]
          },
          "metadata": {},
          "execution_count": 2
        }
      ],
      "source": [
        "# Armo el dataset gaucho con los dos libros de José Hernández\n",
        "df = pd.read_csv('MARTIN_FIERRO.txt', sep='/n', header=None)\n",
        "df.head(7)"
      ]
    },
    {
      "cell_type": "code",
      "execution_count": null,
      "metadata": {
        "id": "LEpKubK9XzXN",
        "outputId": "a205f6d6-3f33-4abc-85cb-e527a6651899",
        "colab": {
          "base_uri": "https://localhost:8080/"
        }
      },
      "outputs": [
        {
          "output_type": "stream",
          "name": "stdout",
          "text": [
            "Cantidad de documentos: 7353\n"
          ]
        }
      ],
      "source": [
        "print(\"Cantidad de documentos:\", df.shape[0])"
      ]
    },
    {
      "cell_type": "markdown",
      "metadata": {
        "id": "ab94qaFlrA1G"
      },
      "source": [
        "**2. PREPROCESAMIENTO**"
      ]
    },
    {
      "cell_type": "code",
      "execution_count": null,
      "metadata": {
        "id": "rIsmMWmjrDHd"
      },
      "outputs": [],
      "source": [
        "from keras.preprocessing.text import text_to_word_sequence\n",
        "\n",
        "sentence_tokens = []\n",
        "# Recorrer todas las filas y transformar las oraciones\n",
        "# en una secuencia de palabras (esto podría realizarse con NLTK o spaCy también)\n",
        "for _, row in df[:None].iterrows():\n",
        "    sentence_tokens.append(text_to_word_sequence(row[0]))"
      ]
    },
    {
      "cell_type": "code",
      "execution_count": null,
      "metadata": {
        "id": "CHepi_DGrbhq",
        "outputId": "3ecd65bb-9d53-430c-a097-b4b8371ae1f6",
        "colab": {
          "base_uri": "https://localhost:8080/"
        }
      },
      "outputs": [
        {
          "output_type": "execute_result",
          "data": {
            "text/plain": [
              "[['aquí', 'me', 'pongo', 'a', 'cantar'],\n",
              " ['al', 'compás', 'de', 'la', 'vigüela'],\n",
              " ['que', 'el', 'hombre', 'que', 'lo', 'desvela'],\n",
              " ['una', 'pena', 'estrordinaria'],\n",
              " ['como', 'la', 'ave', 'solitaria'],\n",
              " ['con', 'el', 'cantar', 'se', 'consuela']]"
            ]
          },
          "metadata": {},
          "execution_count": 5
        }
      ],
      "source": [
        "# Demos un vistazo\n",
        "sentence_tokens[1:7]"
      ]
    },
    {
      "cell_type": "markdown",
      "metadata": {
        "id": "BaXV6nlHr5Aa"
      },
      "source": [
        "**3. CREACIÓN DE VECTORES**"
      ]
    },
    {
      "cell_type": "code",
      "execution_count": null,
      "metadata": {
        "id": "OSb0v7h8r7hK"
      },
      "outputs": [],
      "source": [
        "from gensim.models.callbacks import CallbackAny2Vec\n",
        "# Durante el entrenamiento gensim por defecto no informa el \"loss\" en cada época\n",
        "# Sobrecargamos el callback para poder tener esta información\n",
        "class callback(CallbackAny2Vec):\n",
        "    \"\"\"\n",
        "    Callback to print loss after each epoch\n",
        "    \"\"\"\n",
        "    def __init__(self):\n",
        "        self.epoch = 0\n",
        "\n",
        "    def on_epoch_end(self, model):\n",
        "        loss = model.get_latest_training_loss()\n",
        "        if self.epoch == 0:\n",
        "            print('Loss after epoch {}: {}'.format(self.epoch, loss))\n",
        "        else:\n",
        "            print('Loss after epoch {}: {}'.format(self.epoch, loss- self.loss_previous_step))\n",
        "        self.epoch += 1\n",
        "        self.loss_previous_step = loss"
      ]
    },
    {
      "cell_type": "code",
      "execution_count": null,
      "metadata": {
        "id": "i0wnDdv9sJ47"
      },
      "outputs": [],
      "source": [
        "# Crearmos el modelo generador de vectores\n",
        "# En este caso utilizaremos la estructura modelo Skipgram\n",
        "w2v_model = Word2Vec(min_count=2,    # frecuencia mínima de palabra para incluirla en el vocabulario\n",
        "                     window=4,       # cant de palabras antes y desp de la predicha\n",
        "                     vector_size=20,       # dimensionalidad de los vectores\n",
        "                     negative=5,    # cantidad de negative samples... 0 es no se usa\n",
        "                     workers=1,      # si tienen más cores pueden cambiar este valor\n",
        "                     sg=1)           # modelo 0:CBOW  1:skipgram"
      ]
    },
    {
      "cell_type": "code",
      "execution_count": null,
      "metadata": {
        "id": "5lTt8wErsf17"
      },
      "outputs": [],
      "source": [
        "# Obtener el vocabulario con los tokens\n",
        "w2v_model.build_vocab(sentence_tokens)"
      ]
    },
    {
      "cell_type": "code",
      "execution_count": null,
      "metadata": {
        "id": "TNc9qt4os5AT",
        "colab": {
          "base_uri": "https://localhost:8080/"
        },
        "outputId": "002fb11d-262b-41a8-a1c3-0fd55934bb22"
      },
      "outputs": [
        {
          "output_type": "stream",
          "name": "stdout",
          "text": [
            "Cantidad de docs en el corpus: 7353\n"
          ]
        }
      ],
      "source": [
        "# Cantidad de filas/docs encontradas en el corpus\n",
        "print(\"Cantidad de docs en el corpus:\", w2v_model.corpus_count)"
      ]
    },
    {
      "cell_type": "code",
      "execution_count": null,
      "metadata": {
        "id": "idw9cHF3tSMl",
        "colab": {
          "base_uri": "https://localhost:8080/"
        },
        "outputId": "18281312-30cb-4e5b-c8c1-4361300646c6"
      },
      "outputs": [
        {
          "output_type": "stream",
          "name": "stdout",
          "text": [
            "Cantidad de words distintas en el corpus: 2552\n"
          ]
        }
      ],
      "source": [
        "# Cantidad de words encontradas en el corpus\n",
        "print(\"Cantidad de words distintas en el corpus:\", len(w2v_model.wv.index_to_key))"
      ]
    },
    {
      "cell_type": "markdown",
      "metadata": {
        "id": "fC9mZ8DPk-UC"
      },
      "source": [
        "**4. ENTRENAMIENTO DE EMBEDDINGS**"
      ]
    },
    {
      "cell_type": "code",
      "execution_count": null,
      "metadata": {
        "id": "QSp-x0PAsq56",
        "colab": {
          "base_uri": "https://localhost:8080/"
        },
        "outputId": "757bd0b9-e9ef-4205-aee8-3b6d35ab00c8"
      },
      "outputs": [
        {
          "output_type": "stream",
          "name": "stdout",
          "text": [
            "Loss after epoch 0: 172061.453125\n",
            "Loss after epoch 1: 150942.359375\n",
            "Loss after epoch 2: 134880.3125\n",
            "Loss after epoch 3: 125614.5\n",
            "Loss after epoch 4: 121709.125\n",
            "Loss after epoch 5: 119111.75\n",
            "Loss after epoch 6: 117530.125\n",
            "Loss after epoch 7: 113111.75\n",
            "Loss after epoch 8: 112430.75\n",
            "Loss after epoch 9: 110610.5\n",
            "Loss after epoch 10: 108583.5\n",
            "Loss after epoch 11: 106679.125\n",
            "Loss after epoch 12: 105809.75\n",
            "Loss after epoch 13: 105604.625\n",
            "Loss after epoch 14: 103904.125\n",
            "Loss after epoch 15: 103108.75\n",
            "Loss after epoch 16: 101724.75\n",
            "Loss after epoch 17: 100896.5\n",
            "Loss after epoch 18: 102630.5\n",
            "Loss after epoch 19: 98960.75\n",
            "Loss after epoch 20: 98250.5\n",
            "Loss after epoch 21: 95206.5\n",
            "Loss after epoch 22: 94641.5\n",
            "Loss after epoch 23: 93680.25\n",
            "Loss after epoch 24: 91919.75\n",
            "Loss after epoch 25: 91415.5\n",
            "Loss after epoch 26: 90973.5\n",
            "Loss after epoch 27: 88367.5\n",
            "Loss after epoch 28: 88386.75\n",
            "Loss after epoch 29: 87881.75\n",
            "Loss after epoch 30: 86848.75\n",
            "Loss after epoch 31: 85158.5\n",
            "Loss after epoch 32: 85564.25\n",
            "Loss after epoch 33: 83750.0\n",
            "Loss after epoch 34: 83929.25\n",
            "Loss after epoch 35: 84502.75\n",
            "Loss after epoch 36: 83691.75\n",
            "Loss after epoch 37: 81711.0\n",
            "Loss after epoch 38: 80755.75\n",
            "Loss after epoch 39: 81096.75\n",
            "Loss after epoch 40: 80227.0\n",
            "Loss after epoch 41: 75380.75\n",
            "Loss after epoch 42: 69733.0\n",
            "Loss after epoch 43: 70227.5\n",
            "Loss after epoch 44: 69370.0\n",
            "Loss after epoch 45: 69823.5\n",
            "Loss after epoch 46: 70188.5\n",
            "Loss after epoch 47: 69335.0\n",
            "Loss after epoch 48: 68441.5\n",
            "Loss after epoch 49: 68543.5\n",
            "Loss after epoch 50: 68297.0\n",
            "Loss after epoch 51: 68389.5\n",
            "Loss after epoch 52: 67979.5\n",
            "Loss after epoch 53: 67397.0\n",
            "Loss after epoch 54: 68117.0\n",
            "Loss after epoch 55: 67568.0\n",
            "Loss after epoch 56: 68115.5\n",
            "Loss after epoch 57: 67317.5\n",
            "Loss after epoch 58: 67553.0\n",
            "Loss after epoch 59: 66718.5\n",
            "Loss after epoch 60: 66933.0\n",
            "Loss after epoch 61: 66376.5\n",
            "Loss after epoch 62: 66711.5\n",
            "Loss after epoch 63: 66517.5\n",
            "Loss after epoch 64: 66344.0\n",
            "Loss after epoch 65: 66878.5\n",
            "Loss after epoch 66: 65617.0\n",
            "Loss after epoch 67: 65906.0\n",
            "Loss after epoch 68: 65559.0\n",
            "Loss after epoch 69: 64861.5\n",
            "Loss after epoch 70: 65368.5\n",
            "Loss after epoch 71: 65966.0\n",
            "Loss after epoch 72: 65574.5\n",
            "Loss after epoch 73: 65222.5\n",
            "Loss after epoch 74: 65754.0\n",
            "Loss after epoch 75: 65657.5\n",
            "Loss after epoch 76: 65092.0\n",
            "Loss after epoch 77: 66916.0\n",
            "Loss after epoch 78: 64745.5\n",
            "Loss after epoch 79: 64801.0\n",
            "Loss after epoch 80: 65730.0\n",
            "Loss after epoch 81: 65133.0\n",
            "Loss after epoch 82: 64077.5\n",
            "Loss after epoch 83: 64492.0\n",
            "Loss after epoch 84: 64338.0\n",
            "Loss after epoch 85: 65323.5\n",
            "Loss after epoch 86: 64404.5\n",
            "Loss after epoch 87: 64832.0\n",
            "Loss after epoch 88: 64915.5\n",
            "Loss after epoch 89: 64343.0\n",
            "Loss after epoch 90: 65754.0\n",
            "Loss after epoch 91: 64774.5\n",
            "Loss after epoch 92: 64326.0\n",
            "Loss after epoch 93: 64768.5\n",
            "Loss after epoch 94: 64606.0\n",
            "Loss after epoch 95: 63538.0\n",
            "Loss after epoch 96: 64612.5\n",
            "Loss after epoch 97: 64311.5\n",
            "Loss after epoch 98: 64741.5\n",
            "Loss after epoch 99: 64067.5\n"
          ]
        },
        {
          "output_type": "execute_result",
          "data": {
            "text/plain": [
              "(2087870, 3484000)"
            ]
          },
          "metadata": {},
          "execution_count": 11
        }
      ],
      "source": [
        "# Entrenamos el modelo generador de vectores\n",
        "# Utilizamos nuestro callback\n",
        "w2v_model.train(sentence_tokens,\n",
        "                 total_examples=w2v_model.corpus_count,\n",
        "                 epochs=100,\n",
        "                 compute_loss = True,\n",
        "                 callbacks=[callback()]\n",
        "                 )"
      ]
    },
    {
      "cell_type": "markdown",
      "metadata": {
        "id": "ddT9NVuNlCAe"
      },
      "source": [
        "**5. ENSAYO**\n",
        "\n",
        "Buscar palabras en:\n",
        "https://www.folkloretradiciones.com.ar/literatura/Diccionario%20Gaucho.pdf"
      ]
    },
    {
      "cell_type": "code",
      "execution_count": null,
      "metadata": {
        "id": "6cHN9xGLuPEm",
        "colab": {
          "base_uri": "https://localhost:8080/"
        },
        "outputId": "12a8d4e3-900d-410c-acd9-8f8c7d935e03"
      },
      "outputs": [
        {
          "output_type": "execute_result",
          "data": {
            "text/plain": [
              "[('sogazo', 0.8504615426063538),\n",
              " ('perseguido', 0.7970082759857178),\n",
              " ('tratándome', 0.7969235181808472),\n",
              " ('vago', 0.7813240885734558),\n",
              " ('cormillo', 0.7721196413040161)]"
            ]
          },
          "metadata": {},
          "execution_count": 36
        }
      ],
      "source": [
        "# Palabras que MÁS se relacionan con...:\n",
        "w2v_model.wv.most_similar(positive=[\"gaucho\"], topn=5)"
      ]
    },
    {
      "cell_type": "code",
      "execution_count": null,
      "metadata": {
        "id": "47HiU5gdkdMq",
        "colab": {
          "base_uri": "https://localhost:8080/"
        },
        "outputId": "a05d01a1-7630-43c2-da39-10c28d4b8457"
      },
      "outputs": [
        {
          "output_type": "execute_result",
          "data": {
            "text/plain": [
              "[('madre', 0.061860159039497375),\n",
              " ('presentes', 0.055455632507801056),\n",
              " ('filas', 0.020827623084187508),\n",
              " ('visto', 0.01107831671833992),\n",
              " ('hay', -0.014213834889233112)]"
            ]
          },
          "metadata": {},
          "execution_count": 34
        }
      ],
      "source": [
        "# Palabras que MENOS se relacionan con...:\n",
        "w2v_model.wv.most_similar(negative=[\"yapa\"], topn=5)"
      ]
    },
    {
      "cell_type": "code",
      "source": [
        "# Palabras que MÁS se relacionan con Dios:\n",
        "w2v_model.wv.most_similar(positive=[\"criador\"], topn=10)"
      ],
      "metadata": {
        "colab": {
          "base_uri": "https://localhost:8080/"
        },
        "id": "Oev5Gh1cYD7z",
        "outputId": "c932b5bf-c2c5-4695-bd03-d80b663040d5"
      },
      "execution_count": null,
      "outputs": [
        {
          "output_type": "execute_result",
          "data": {
            "text/plain": [
              "[('rogué', 0.8824184536933899),\n",
              " ('dolorida', 0.8390344977378845),\n",
              " ('alma', 0.8264591693878174),\n",
              " ('trabajando', 0.8098248839378357),\n",
              " ('reyuno', 0.8092127442359924),\n",
              " ('pobreza', 0.8053876161575317),\n",
              " ('tenganló', 0.8043805360794067),\n",
              " ('vale', 0.7936849594116211),\n",
              " ('malos', 0.7872698307037354),\n",
              " ('llena', 0.7856756448745728)]"
            ]
          },
          "metadata": {},
          "execution_count": 31
        }
      ]
    },
    {
      "cell_type": "code",
      "execution_count": null,
      "metadata": {
        "id": "DT4Rvno2mD65",
        "colab": {
          "base_uri": "https://localhost:8080/"
        },
        "outputId": "a33c5749-a503-4a37-b31f-b0688a71bead"
      },
      "outputs": [
        {
          "output_type": "execute_result",
          "data": {
            "text/plain": [
              "[('escasa', 0.9061871767044067),\n",
              " ('chacota', 0.8753162026405334),\n",
              " ('presumir', 0.8502817153930664),\n",
              " ('guardar', 0.845954179763794),\n",
              " ('gala', 0.8217167854309082),\n",
              " ('dudo', 0.8206869959831238),\n",
              " ('dicha', 0.8197711110115051),\n",
              " ('ablande', 0.8104197382926941),\n",
              " ('pensamiento', 0.8032798767089844),\n",
              " ('blanda', 0.8007001876831055)]"
            ]
          },
          "metadata": {},
          "execution_count": 29
        }
      ],
      "source": [
        "# Palabras que MÁS se relacionan con la ciencia, cencia en gaucho:\n",
        "w2v_model.wv.most_similar(positive=[\"cencia\"], topn=10)"
      ]
    },
    {
      "cell_type": "code",
      "execution_count": null,
      "metadata": {
        "id": "XPLDPgzBmQXt",
        "colab": {
          "base_uri": "https://localhost:8080/"
        },
        "outputId": "1d56da7b-f830-4416-8ae7-d4fd5d0a2935"
      },
      "outputs": [
        {
          "output_type": "execute_result",
          "data": {
            "text/plain": [
              "[('pensar', 0.8490882515907288),\n",
              " ('madre', 0.8271868228912354),\n",
              " ('parida', 0.7843178510665894),\n",
              " ('inocencia', 0.7840858697891235),\n",
              " ('cueva', 0.7757599353790283)]"
            ]
          },
          "metadata": {},
          "execution_count": 40
        }
      ],
      "source": [
        "# Palabras que MÁS se relacionan con...:\n",
        "w2v_model.wv.most_similar(positive=[\"mujer\"], topn=5)"
      ]
    },
    {
      "cell_type": "code",
      "source": [
        "# Palabras que MÁS se relacionan con...:\n",
        "w2v_model.wv.most_similar(positive=[\"hombre\"], topn=5)"
      ],
      "metadata": {
        "colab": {
          "base_uri": "https://localhost:8080/"
        },
        "id": "RObSmQgItF6r",
        "outputId": "98648940-e271-48e1-de0a-01716601c7c2"
      },
      "execution_count": null,
      "outputs": [
        {
          "output_type": "execute_result",
          "data": {
            "text/plain": [
              "[('astucia', 0.8268446326255798),\n",
              " ('altanero', 0.7728117108345032),\n",
              " ('somete', 0.7637494206428528),\n",
              " ('ser', 0.7507352232933044),\n",
              " ('agarraba', 0.7437267303466797)]"
            ]
          },
          "metadata": {},
          "execution_count": 39
        }
      ]
    },
    {
      "cell_type": "code",
      "execution_count": null,
      "metadata": {
        "id": "GwGhNMxux8ax",
        "colab": {
          "base_uri": "https://localhost:8080/"
        },
        "outputId": "ed4fda48-78f9-4b8f-9c89-351c64f97d92"
      },
      "outputs": [
        {
          "output_type": "stream",
          "name": "stdout",
          "text": [
            "[-0.4326783   0.3492117  -0.20802353 -0.75731754 -0.2663071  -0.83053535\n",
            "  0.8683516   0.9627751  -0.33420897  0.17576188  0.6461766  -0.6209972\n",
            "  0.08426825  0.69366264 -0.01595506  0.2165462   0.7143331   0.7575728\n",
            " -0.07563095 -1.9703963 ]\n"
          ]
        }
      ],
      "source": [
        "# el método `get_vector` permite obtener los vectores:\n",
        "vector_padre = w2v_model.wv.get_vector(\"padre\")\n",
        "print(vector_padre)"
      ]
    },
    {
      "cell_type": "code",
      "execution_count": null,
      "metadata": {
        "id": "_Si4_F0ix8ax",
        "colab": {
          "base_uri": "https://localhost:8080/"
        },
        "outputId": "1fdc9005-59d4-4cb7-d19a-ea7f59ae65d2"
      },
      "outputs": [
        {
          "output_type": "execute_result",
          "data": {
            "text/plain": [
              "[('padre', 1.0),\n",
              " ('otorgó', 0.8616623878479004),\n",
              " ('marido', 0.8150213360786438),\n",
              " ('eterno', 0.7940366864204407),\n",
              " ('leche', 0.7914135456085205),\n",
              " ('señor', 0.7788155674934387),\n",
              " ('soldao', 0.7781060934066772),\n",
              " ('abandonado', 0.7516515851020813),\n",
              " ('maldecía', 0.7495874166488647),\n",
              " ('encargao', 0.7452136874198914)]"
            ]
          },
          "metadata": {},
          "execution_count": 27
        }
      ],
      "source": [
        "# el método `most_similar` también permite comparar a partir de vectores\n",
        "w2v_model.wv.most_similar(vector_padre)"
      ]
    },
    {
      "cell_type": "code",
      "source": [
        "# Test de analogía\n",
        "vector_padre = w2v_model.wv.get_vector(\"padre\")\n",
        "vector_madre = w2v_model.wv.get_vector(\"madre\")\n",
        "vector_mujer = w2v_model.wv.get_vector(\"mujer\")\n",
        "\n",
        "# padre - hombre/esposo/marido = madre - mujer\n",
        "nuevo_vector = vector_padre + vector_mujer - vector_madre\n",
        "\n",
        "# Busquemos los valores más similares al nuevo vector\n",
        "w2v_model.wv.most_similar(nuevo_vector)"
      ],
      "metadata": {
        "colab": {
          "base_uri": "https://localhost:8080/"
        },
        "id": "rOYWXwPR24YG",
        "outputId": "a144be6f-beca-470d-c58f-771fc29265b6"
      },
      "execution_count": null,
      "outputs": [
        {
          "output_type": "execute_result",
          "data": {
            "text/plain": [
              "[('padre', 0.8552191853523254),\n",
              " ('plan', 0.8152356743812561),\n",
              " ('encargao', 0.8053070902824402),\n",
              " ('guarida', 0.7983205914497375),\n",
              " ('flete', 0.7877184748649597),\n",
              " ('marido', 0.7774718403816223),\n",
              " ('cuartel', 0.7768259644508362),\n",
              " ('mataron', 0.7699558138847351),\n",
              " ('frente', 0.7626943588256836),\n",
              " ('hocico', 0.7604458928108215)]"
            ]
          },
          "metadata": {},
          "execution_count": 19
        }
      ]
    },
    {
      "cell_type": "markdown",
      "source": [
        "El resultado de este test no es bueno. Aparece la palabra marido recién en la quinta posición (sexta si se cuenta padre). Esto parece ser una característica propia del texto más que de los embeddings. Las formas más sencillas de testear involucran el género, geografía, rangos políticos/militares, etc. Ninguno de estos aspectos es fácil de detallar en el texto, tal vez lo mejor que haya es la combinación de embeddings anterior.\n",
        "\n",
        "Las relaciones de género y familia cuando fue escrito el texto, y en el contexto en el que fue escrito, son muy diferentes a las actuales. La mujer está asociada claramente a roles maternos/caseros. Entre palabras similares a mujer aparecen: pensar, madre, parida, cueva, inocencia, etc. El hombre en este poema épico suele ser errante o vagabundo, con atributos que lo alejan de la relación *padre-marido / madre-mujer*. Así vemos como palabras más similares a hombre a: astucia, altanero, somete, etc. Este aspecto se suma a la gran pluma de Hernández, que suele variar mucho el lenguaje al describir las conductas, lo que dificulta entrenar embeddings por la menor frecuencia de aparición de palabras."
      ],
      "metadata": {
        "id": "OM6wbuPXn4T_"
      }
    },
    {
      "cell_type": "markdown",
      "metadata": {
        "id": "_g8UVWe6lFmh"
      },
      "source": [
        "**6. VISUALIZACIÓN**"
      ]
    },
    {
      "cell_type": "code",
      "execution_count": null,
      "metadata": {
        "id": "pDxEVXAivjr9"
      },
      "outputs": [],
      "source": [
        "from sklearn.decomposition import IncrementalPCA\n",
        "from sklearn.manifold import TSNE\n",
        "import numpy as np\n",
        "\n",
        "def reduce_dimensions(model, num_dimensions = 2 ):\n",
        "\n",
        "    vectors = np.asarray(model.wv.vectors)\n",
        "    labels = np.asarray(model.wv.index_to_key)\n",
        "\n",
        "    tsne = TSNE(n_components=num_dimensions, random_state=0)\n",
        "    vectors = tsne.fit_transform(vectors)\n",
        "\n",
        "    return vectors, labels"
      ]
    },
    {
      "cell_type": "code",
      "execution_count": null,
      "metadata": {
        "id": "NCCXtDpcugmd",
        "colab": {
          "base_uri": "https://localhost:8080/",
          "height": 542
        },
        "outputId": "1b6f3e45-3f2f-4fd5-aa52-1d78f09c8a96"
      },
      "outputs": [
        {
          "output_type": "display_data",
          "data": {
            "text/html": [
              "<html>\n",
              "<head><meta charset=\"utf-8\" /></head>\n",
              "<body>\n",
              "    <div>            <script src=\"https://cdnjs.cloudflare.com/ajax/libs/mathjax/2.7.5/MathJax.js?config=TeX-AMS-MML_SVG\"></script><script type=\"text/javascript\">if (window.MathJax && window.MathJax.Hub && window.MathJax.Hub.Config) {window.MathJax.Hub.Config({SVG: {font: \"STIX-Web\"}});}</script>                <script type=\"text/javascript\">window.PlotlyConfig = {MathJaxConfig: 'local'};</script>\n",
              "        <script charset=\"utf-8\" src=\"https://cdn.plot.ly/plotly-2.24.1.min.js\"></script>                <div id=\"02f37ac0-4133-4944-98ce-2d8b39619d5e\" class=\"plotly-graph-div\" style=\"height:525px; width:100%;\"></div>            <script type=\"text/javascript\">                                    window.PLOTLYENV=window.PLOTLYENV || {};                                    if (document.getElementById(\"02f37ac0-4133-4944-98ce-2d8b39619d5e\")) {                    Plotly.newPlot(                        \"02f37ac0-4133-4944-98ce-2d8b39619d5e\",                        [{\"hovertemplate\":\"x=%{x}\\u003cbr\\u003ey=%{y}\\u003cbr\\u003etext=%{text}\\u003cextra\\u003e\\u003c\\u002fextra\\u003e\",\"legendgroup\":\"\",\"marker\":{\"color\":\"#636efa\",\"symbol\":\"circle\"},\"mode\":\"markers+text\",\"name\":\"\",\"orientation\":\"v\",\"showlegend\":false,\"text\":[\"que\",\"y\",\"el\",\"de\",\"la\",\"a\",\"en\",\"no\",\"me\",\"se\",\"lo\",\"un\",\"los\",\"al\",\"con\",\"es\",\"como\",\"le\",\"las\",\"por\",\"su\",\"yo\",\"una\",\"si\",\"mi\",\"m\\u00e1s\",\"ni\",\"del\",\"sin\",\"pero\",\"cuando\",\"ya\",\"para\",\"era\",\"pues\",\"pa\",\"aunque\",\"he\",\"porque\",\"hombre\",\"siempre\",\"hasta\",\"aquel\",\"les\",\"ha\",\"todo\",\"\\u00bb\",\"hay\",\"nos\",\"all\\u00ed\",\"tiene\",\"o\",\"ans\\u00ed\",\"muy\",\"hab\\u00eda\",\"tan\",\"uno\",\"otro\",\"mas\",\"sus\",\"gaucho\",\"entre\",\"qu\\u00e9\",\"son\",\"cuanto\",\"mis\",\"tal\",\"vez\",\"dende\",\"todos\",\"indio\",\"te\",\"esa\",\"dios\",\"despu\\u00e9s\",\"\\u00e9l\",\"nunca\",\"naides\",\"ser\",\"s\\u00e9\",\"fin\",\"mesmo\",\"dos\",\"este\",\"tanto\",\"noche\",\"ese\",\"esta\",\"quien\",\"estaba\",\"han\",\"bien\",\"pobre\",\"saber\",\"ten\\u00eda\",\"medio\",\"vida\",\"tiempo\",\"d\\u00eda\",\"esto\",\"coraz\\u00f3n\",\"m\\u00ed\",\"mal\",\"s\\u00f3lo\",\"sabe\",\"tener\",\"jam\\u00e1s\",\"donde\",\"fierro\",\"ay\",\"poco\",\"ocasi\\u00f3n\",\"gente\",\"ninguno\",\"ver\",\"soy\",\"nada\",\"hace\",\"cantar\",\"suerte\",\"dijo\",\"debe\",\"modo\",\"est\\u00e1\",\"tambi\\u00e9n\",\"tierra\",\"hizo\",\"amigo\",\"cosas\",\"aquella\",\"toda\",\"hacer\",\"cruz\",\"decir\",\"ande\",\"dio\",\"mejor\",\"veces\",\"eso\",\"otros\",\"voy\",\"dije\",\"puede\",\"punto\",\"juez\",\"otra\",\"digo\",\"mientras\",\"vino\",\"moreno\",\"quiera\",\"hijos\",\"mucho\",\"visto\",\"sino\",\"mart\\u00edn\",\"viejo\",\"madre\",\"va\",\"alg\\u00fan\",\"cantor\",\"andaba\",\"mundo\",\"aqu\\u00ed\",\"iba\",\"pasa\",\"sufrir\",\"unos\",\"dar\",\"fue\",\"cada\",\"falta\",\"mano\",\"ojos\",\"andar\",\"parece\",\"raz\\u00f3n\",\"mayor\",\"negro\",\"muerto\",\"sobre\",\"hac\\u00eda\",\"alma\",\"da\",\"peligro\",\"campo\",\"cielo\",\"a\\u00f1os\",\"momento\",\"tengo\",\"cosa\",\"esos\",\"muchas\",\"luego\",\"indios\",\"alguna\",\"triste\",\"rigor\",\"muchos\",\"desierto\"],\"x\":[-8.073700904846191,2.81390380859375,5.543338298797607,2.462313413619995,25.220003128051758,3.9565577507019043,9.375479698181152,-11.998359680175781,3.3223540782928467,-7.67655086517334,-7.870063304901123,20.68912696838379,-28.92049217224121,11.411911964416504,11.072668075561523,-7.273577690124512,-8.715826988220215,11.774706840515137,-18.5782527923584,-11.38400936126709,40.28492736816406,-34.864131927490234,25.777246475219727,-22.27656364440918,40.291038513183594,-11.52470588684082,-28.744659423828125,29.845693588256836,-8.10690975189209,-9.464643478393555,2.1204540729522705,-41.64205551147461,12.258654594421387,12.37191104888916,-9.64427375793457,12.353327751159668,-7.812225341796875,-38.93475341796875,-9.852051734924316,-3.2679316997528076,-26.88387107849121,12.384392738342285,20.761232376098633,-17.852018356323242,-37.5036735534668,22.32925796508789,15.927058219909668,-19.876161575317383,-15.31141185760498,-4.1648030281066895,-19.15370750427246,47.21967315673828,-3.953094005584717,5.416285037994385,-40.985713958740234,40.34500503540039,2.6694724559783936,10.3502197265625,-32.54302215576172,-18.580524444580078,7.794677257537842,-17.096702575683594,-38.27373504638672,-26.68708038330078,-2.3882479667663574,-20.287019729614258,-26.043224334716797,-25.593957901000977,-1.763285756111145,-5.953248023986816,10.627983093261719,-37.63815689086914,33.57597732543945,-39.75130844116211,-7.821987628936768,-18.534507751464844,-20.02298927307129,-28.128276824951172,-13.83884334564209,-37.59931564331055,14.98813247680664,13.880840301513672,-15.595577239990234,20.848228454589844,-7.931907653808594,37.89760208129883,22.270044326782227,33.130672454833984,-12.28320598602295,5.135467529296875,-37.512325286865234,3.2038633823394775,33.77546691894531,-40.96619415283203,9.082032203674316,-4.272047996520996,-9.735265731811523,19.579883575439453,8.490806579589844,-25.826223373413086,5.5214948654174805,-18.378246307373047,-0.6244892477989197,-4.385033130645752,9.655646324157715,-4.903169631958008,-20.11649513244629,-22.007017135620117,-19.002595901489258,-10.725627899169922,-25.64678192138672,46.045169830322266,31.128480911254883,-29.119489669799805,5.000940322875977,-4.271354675292969,-32.70207214355469,-7.238948822021484,-34.60752868652344,37.01637649536133,-5.168338775634766,3.0182297229766846,-16.141197204589844,-14.027732849121094,5.508721351623535,20.274709701538086,-15.274639129638672,28.05194854736328,-32.19994354248047,33.54685974121094,40.157840728759766,-33.79012680053711,9.214417457580566,-33.523868560791016,-22.024879455566406,-25.203384399414062,14.630627632141113,-30.763023376464844,-18.717500686645508,-35.47793197631836,-22.921283721923828,-21.54839324951172,-19.72337532043457,6.751187801361084,0.3699769079685211,34.00096130371094,-29.14150619506836,-12.522379875183105,23.095699310302734,11.439696311950684,5.110415935516357,-9.145817756652832,-13.263130187988281,-38.79775619506836,-22.59021759033203,-19.001575469970703,21.36884307861328,30.666015625,1.4890142679214478,11.579174995422363,14.735292434692383,-8.422934532165527,3.514885187149048,-34.21139144897461,1.1335431337356567,8.007267951965332,-11.176101684570312,-6.076205730438232,-0.3263242542743683,43.98761749267578,6.148280620574951,-16.815834045410156,27.24432373046875,-13.933005332946777,-8.469924926757812,-0.22548836469650269,-8.971622467041016,39.6461067199707,11.914215087890625,-25.202533721923828,33.98201370239258,-5.000338077545166,31.66984748840332,24.661853790283203,18.324831008911133,6.432192325592041,24.583763122558594,-19.209577560424805,-9.710369110107422,-42.00302505493164,47.010826110839844,-29.08277702331543,-33.26655197143555,12.902685165405273,-29.285615921020508,-23.25716209411621,19.748626708984375,38.8611946105957,-32.48844528198242,25.167747497558594],\"xaxis\":\"x\",\"y\":[16.721216201782227,-4.1013970375061035,13.846012115478516,-4.118579387664795,-16.299266815185547,-4.054296970367432,-13.039491653442383,17.24761962890625,-4.311330318450928,16.470386505126953,16.633642196655273,-1.389379620552063,-34.03052520751953,-0.253652423620224,-8.952939987182617,31.111520767211914,15.360774040222168,2.36226749420166,-27.444875717163086,-9.461068153381348,22.86749839782715,-0.6503297686576843,-17.07032585144043,4.534948348999023,22.868284225463867,7.099690914154053,12.341712951660156,16.55553436279297,-7.392980098724365,17.269067764282227,43.88994216918945,-7.986839771270752,-8.615530967712402,35.15994644165039,15.72119140625,-8.578550338745117,34.43716049194336,-3.1605491638183594,17.017250061035156,27.06831169128418,-13.47541332244873,-37.256385803222656,42.5345344543457,-7.4904985427856445,24.03321075439453,43.25726318359375,-30.077133178710938,36.850013732910156,-6.334733486175537,-22.42452621459961,37.80072021484375,1.1366218328475952,-18.736804962158203,47.27672576904297,-1.663171410560608,-0.5283697247505188,22.669116973876953,9.845877647399902,17.305397033691406,-28.090694427490234,33.17750930786133,-37.99266052246094,14.900429725646973,-27.19169807434082,17.29079818725586,-27.732133865356445,1.5544980764389038,2.592440605163574,13.013930320739746,-26.870153427124023,23.765323638916016,7.072454929351807,-29.061939239501953,-20.731098175048828,0.3668326437473297,-11.172774314880371,16.15937614440918,25.8387451171875,37.377620697021484,-28.323383331298828,-36.521888732910156,21.736591339111328,-36.26850509643555,17.7462100982666,-35.70339584350586,-21.641986846923828,43.23200607299805,-29.462480545043945,22.724519729614258,22.667804718017578,24.026613235473633,-35.532405853271484,8.438819885253906,12.566255569458008,-10.373369216918945,-15.080455780029297,28.93842315673828,28.29119110107422,7.759218215942383,26.294038772583008,42.448211669921875,-11.350008964538574,39.55815505981445,12.139786720275879,32.62086868286133,36.318870544433594,16.047971725463867,31.2634220123291,-43.78968811035156,19.207609176635742,26.770170211791992,-6.245570182800293,-17.22113609313965,26.921239852905273,-27.825180053710938,36.005706787109375,4.3376617431640625,31.68804359436035,20.31016731262207,-26.774755477905273,47.128597259521484,47.82903289794922,27.39202308654785,32.67041778564453,38.18327331542969,-33.0205078125,-6.344158172607422,12.223215103149414,-24.94857406616211,-29.09046745300293,-22.177143096923828,12.857385635375977,-8.84637451171875,3.8411476612091064,31.262859344482422,36.3320426940918,11.713203430175781,-2.954390048980713,32.28422927856445,-19.093767166137695,-1.0901869535446167,-2.7318499088287354,22.670923233032227,10.41872501373291,8.840137481689453,-25.361671447753906,-4.9394917488098145,-13.582433700561523,14.709240913391113,-30.912517547607422,18.754592895507812,-41.024879455566406,38.87678909301758,-3.0670056343078613,35.66321563720703,-43.785125732421875,34.93244552612305,3.9406282901763916,3.1914281845092773,10.289420127868652,40.295780181884766,-22.56630516052246,20.653587341308594,-7.011663436889648,-5.448206424713135,19.772790908813477,41.05372619628906,-38.467891693115234,-31.757951736450195,-9.616430282592773,16.201496124267578,17.943410873413086,-7.1921796798706055,-40.356651306152344,-11.264273643493652,-0.2777523398399353,32.593082427978516,-14.950738906860352,44.66466522216797,-1.2950921058654785,-4.318143844604492,1.197583556175232,-5.698975563049316,-14.643796920776367,27.799091339111328,-32.11509323120117,-8.218515396118164,-38.260826110839844,0.5329732894897461,3.852915048599243,8.91723346710205,-34.7328987121582,-11.717477798461914,-17.30791473388672,-31.747739791870117,6.960128307342529,23.574621200561523,16.392419815063477,-17.07815933227539,22.241348266601562],\"yaxis\":\"y\",\"type\":\"scatter\"}],                        {\"template\":{\"data\":{\"histogram2dcontour\":[{\"type\":\"histogram2dcontour\",\"colorbar\":{\"outlinewidth\":0,\"ticks\":\"\"},\"colorscale\":[[0.0,\"#0d0887\"],[0.1111111111111111,\"#46039f\"],[0.2222222222222222,\"#7201a8\"],[0.3333333333333333,\"#9c179e\"],[0.4444444444444444,\"#bd3786\"],[0.5555555555555556,\"#d8576b\"],[0.6666666666666666,\"#ed7953\"],[0.7777777777777778,\"#fb9f3a\"],[0.8888888888888888,\"#fdca26\"],[1.0,\"#f0f921\"]]}],\"choropleth\":[{\"type\":\"choropleth\",\"colorbar\":{\"outlinewidth\":0,\"ticks\":\"\"}}],\"histogram2d\":[{\"type\":\"histogram2d\",\"colorbar\":{\"outlinewidth\":0,\"ticks\":\"\"},\"colorscale\":[[0.0,\"#0d0887\"],[0.1111111111111111,\"#46039f\"],[0.2222222222222222,\"#7201a8\"],[0.3333333333333333,\"#9c179e\"],[0.4444444444444444,\"#bd3786\"],[0.5555555555555556,\"#d8576b\"],[0.6666666666666666,\"#ed7953\"],[0.7777777777777778,\"#fb9f3a\"],[0.8888888888888888,\"#fdca26\"],[1.0,\"#f0f921\"]]}],\"heatmap\":[{\"type\":\"heatmap\",\"colorbar\":{\"outlinewidth\":0,\"ticks\":\"\"},\"colorscale\":[[0.0,\"#0d0887\"],[0.1111111111111111,\"#46039f\"],[0.2222222222222222,\"#7201a8\"],[0.3333333333333333,\"#9c179e\"],[0.4444444444444444,\"#bd3786\"],[0.5555555555555556,\"#d8576b\"],[0.6666666666666666,\"#ed7953\"],[0.7777777777777778,\"#fb9f3a\"],[0.8888888888888888,\"#fdca26\"],[1.0,\"#f0f921\"]]}],\"heatmapgl\":[{\"type\":\"heatmapgl\",\"colorbar\":{\"outlinewidth\":0,\"ticks\":\"\"},\"colorscale\":[[0.0,\"#0d0887\"],[0.1111111111111111,\"#46039f\"],[0.2222222222222222,\"#7201a8\"],[0.3333333333333333,\"#9c179e\"],[0.4444444444444444,\"#bd3786\"],[0.5555555555555556,\"#d8576b\"],[0.6666666666666666,\"#ed7953\"],[0.7777777777777778,\"#fb9f3a\"],[0.8888888888888888,\"#fdca26\"],[1.0,\"#f0f921\"]]}],\"contourcarpet\":[{\"type\":\"contourcarpet\",\"colorbar\":{\"outlinewidth\":0,\"ticks\":\"\"}}],\"contour\":[{\"type\":\"contour\",\"colorbar\":{\"outlinewidth\":0,\"ticks\":\"\"},\"colorscale\":[[0.0,\"#0d0887\"],[0.1111111111111111,\"#46039f\"],[0.2222222222222222,\"#7201a8\"],[0.3333333333333333,\"#9c179e\"],[0.4444444444444444,\"#bd3786\"],[0.5555555555555556,\"#d8576b\"],[0.6666666666666666,\"#ed7953\"],[0.7777777777777778,\"#fb9f3a\"],[0.8888888888888888,\"#fdca26\"],[1.0,\"#f0f921\"]]}],\"surface\":[{\"type\":\"surface\",\"colorbar\":{\"outlinewidth\":0,\"ticks\":\"\"},\"colorscale\":[[0.0,\"#0d0887\"],[0.1111111111111111,\"#46039f\"],[0.2222222222222222,\"#7201a8\"],[0.3333333333333333,\"#9c179e\"],[0.4444444444444444,\"#bd3786\"],[0.5555555555555556,\"#d8576b\"],[0.6666666666666666,\"#ed7953\"],[0.7777777777777778,\"#fb9f3a\"],[0.8888888888888888,\"#fdca26\"],[1.0,\"#f0f921\"]]}],\"mesh3d\":[{\"type\":\"mesh3d\",\"colorbar\":{\"outlinewidth\":0,\"ticks\":\"\"}}],\"scatter\":[{\"fillpattern\":{\"fillmode\":\"overlay\",\"size\":10,\"solidity\":0.2},\"type\":\"scatter\"}],\"parcoords\":[{\"type\":\"parcoords\",\"line\":{\"colorbar\":{\"outlinewidth\":0,\"ticks\":\"\"}}}],\"scatterpolargl\":[{\"type\":\"scatterpolargl\",\"marker\":{\"colorbar\":{\"outlinewidth\":0,\"ticks\":\"\"}}}],\"bar\":[{\"error_x\":{\"color\":\"#2a3f5f\"},\"error_y\":{\"color\":\"#2a3f5f\"},\"marker\":{\"line\":{\"color\":\"#E5ECF6\",\"width\":0.5},\"pattern\":{\"fillmode\":\"overlay\",\"size\":10,\"solidity\":0.2}},\"type\":\"bar\"}],\"scattergeo\":[{\"type\":\"scattergeo\",\"marker\":{\"colorbar\":{\"outlinewidth\":0,\"ticks\":\"\"}}}],\"scatterpolar\":[{\"type\":\"scatterpolar\",\"marker\":{\"colorbar\":{\"outlinewidth\":0,\"ticks\":\"\"}}}],\"histogram\":[{\"marker\":{\"pattern\":{\"fillmode\":\"overlay\",\"size\":10,\"solidity\":0.2}},\"type\":\"histogram\"}],\"scattergl\":[{\"type\":\"scattergl\",\"marker\":{\"colorbar\":{\"outlinewidth\":0,\"ticks\":\"\"}}}],\"scatter3d\":[{\"type\":\"scatter3d\",\"line\":{\"colorbar\":{\"outlinewidth\":0,\"ticks\":\"\"}},\"marker\":{\"colorbar\":{\"outlinewidth\":0,\"ticks\":\"\"}}}],\"scattermapbox\":[{\"type\":\"scattermapbox\",\"marker\":{\"colorbar\":{\"outlinewidth\":0,\"ticks\":\"\"}}}],\"scatterternary\":[{\"type\":\"scatterternary\",\"marker\":{\"colorbar\":{\"outlinewidth\":0,\"ticks\":\"\"}}}],\"scattercarpet\":[{\"type\":\"scattercarpet\",\"marker\":{\"colorbar\":{\"outlinewidth\":0,\"ticks\":\"\"}}}],\"carpet\":[{\"aaxis\":{\"endlinecolor\":\"#2a3f5f\",\"gridcolor\":\"white\",\"linecolor\":\"white\",\"minorgridcolor\":\"white\",\"startlinecolor\":\"#2a3f5f\"},\"baxis\":{\"endlinecolor\":\"#2a3f5f\",\"gridcolor\":\"white\",\"linecolor\":\"white\",\"minorgridcolor\":\"white\",\"startlinecolor\":\"#2a3f5f\"},\"type\":\"carpet\"}],\"table\":[{\"cells\":{\"fill\":{\"color\":\"#EBF0F8\"},\"line\":{\"color\":\"white\"}},\"header\":{\"fill\":{\"color\":\"#C8D4E3\"},\"line\":{\"color\":\"white\"}},\"type\":\"table\"}],\"barpolar\":[{\"marker\":{\"line\":{\"color\":\"#E5ECF6\",\"width\":0.5},\"pattern\":{\"fillmode\":\"overlay\",\"size\":10,\"solidity\":0.2}},\"type\":\"barpolar\"}],\"pie\":[{\"automargin\":true,\"type\":\"pie\"}]},\"layout\":{\"autotypenumbers\":\"strict\",\"colorway\":[\"#636efa\",\"#EF553B\",\"#00cc96\",\"#ab63fa\",\"#FFA15A\",\"#19d3f3\",\"#FF6692\",\"#B6E880\",\"#FF97FF\",\"#FECB52\"],\"font\":{\"color\":\"#2a3f5f\"},\"hovermode\":\"closest\",\"hoverlabel\":{\"align\":\"left\"},\"paper_bgcolor\":\"white\",\"plot_bgcolor\":\"#E5ECF6\",\"polar\":{\"bgcolor\":\"#E5ECF6\",\"angularaxis\":{\"gridcolor\":\"white\",\"linecolor\":\"white\",\"ticks\":\"\"},\"radialaxis\":{\"gridcolor\":\"white\",\"linecolor\":\"white\",\"ticks\":\"\"}},\"ternary\":{\"bgcolor\":\"#E5ECF6\",\"aaxis\":{\"gridcolor\":\"white\",\"linecolor\":\"white\",\"ticks\":\"\"},\"baxis\":{\"gridcolor\":\"white\",\"linecolor\":\"white\",\"ticks\":\"\"},\"caxis\":{\"gridcolor\":\"white\",\"linecolor\":\"white\",\"ticks\":\"\"}},\"coloraxis\":{\"colorbar\":{\"outlinewidth\":0,\"ticks\":\"\"}},\"colorscale\":{\"sequential\":[[0.0,\"#0d0887\"],[0.1111111111111111,\"#46039f\"],[0.2222222222222222,\"#7201a8\"],[0.3333333333333333,\"#9c179e\"],[0.4444444444444444,\"#bd3786\"],[0.5555555555555556,\"#d8576b\"],[0.6666666666666666,\"#ed7953\"],[0.7777777777777778,\"#fb9f3a\"],[0.8888888888888888,\"#fdca26\"],[1.0,\"#f0f921\"]],\"sequentialminus\":[[0.0,\"#0d0887\"],[0.1111111111111111,\"#46039f\"],[0.2222222222222222,\"#7201a8\"],[0.3333333333333333,\"#9c179e\"],[0.4444444444444444,\"#bd3786\"],[0.5555555555555556,\"#d8576b\"],[0.6666666666666666,\"#ed7953\"],[0.7777777777777778,\"#fb9f3a\"],[0.8888888888888888,\"#fdca26\"],[1.0,\"#f0f921\"]],\"diverging\":[[0,\"#8e0152\"],[0.1,\"#c51b7d\"],[0.2,\"#de77ae\"],[0.3,\"#f1b6da\"],[0.4,\"#fde0ef\"],[0.5,\"#f7f7f7\"],[0.6,\"#e6f5d0\"],[0.7,\"#b8e186\"],[0.8,\"#7fbc41\"],[0.9,\"#4d9221\"],[1,\"#276419\"]]},\"xaxis\":{\"gridcolor\":\"white\",\"linecolor\":\"white\",\"ticks\":\"\",\"title\":{\"standoff\":15},\"zerolinecolor\":\"white\",\"automargin\":true,\"zerolinewidth\":2},\"yaxis\":{\"gridcolor\":\"white\",\"linecolor\":\"white\",\"ticks\":\"\",\"title\":{\"standoff\":15},\"zerolinecolor\":\"white\",\"automargin\":true,\"zerolinewidth\":2},\"scene\":{\"xaxis\":{\"backgroundcolor\":\"#E5ECF6\",\"gridcolor\":\"white\",\"linecolor\":\"white\",\"showbackground\":true,\"ticks\":\"\",\"zerolinecolor\":\"white\",\"gridwidth\":2},\"yaxis\":{\"backgroundcolor\":\"#E5ECF6\",\"gridcolor\":\"white\",\"linecolor\":\"white\",\"showbackground\":true,\"ticks\":\"\",\"zerolinecolor\":\"white\",\"gridwidth\":2},\"zaxis\":{\"backgroundcolor\":\"#E5ECF6\",\"gridcolor\":\"white\",\"linecolor\":\"white\",\"showbackground\":true,\"ticks\":\"\",\"zerolinecolor\":\"white\",\"gridwidth\":2}},\"shapedefaults\":{\"line\":{\"color\":\"#2a3f5f\"}},\"annotationdefaults\":{\"arrowcolor\":\"#2a3f5f\",\"arrowhead\":0,\"arrowwidth\":1},\"geo\":{\"bgcolor\":\"white\",\"landcolor\":\"#E5ECF6\",\"subunitcolor\":\"white\",\"showland\":true,\"showlakes\":true,\"lakecolor\":\"white\"},\"title\":{\"x\":0.05},\"mapbox\":{\"style\":\"light\"}}},\"xaxis\":{\"anchor\":\"y\",\"domain\":[0.0,1.0],\"title\":{\"text\":\"x\"}},\"yaxis\":{\"anchor\":\"x\",\"domain\":[0.0,1.0],\"title\":{\"text\":\"y\"}},\"legend\":{\"tracegroupgap\":0},\"margin\":{\"t\":60}},                        {\"responsive\": true}                    ).then(function(){\n",
              "                            \n",
              "var gd = document.getElementById('02f37ac0-4133-4944-98ce-2d8b39619d5e');\n",
              "var x = new MutationObserver(function (mutations, observer) {{\n",
              "        var display = window.getComputedStyle(gd).display;\n",
              "        if (!display || display === 'none') {{\n",
              "            console.log([gd, 'removed!']);\n",
              "            Plotly.purge(gd);\n",
              "            observer.disconnect();\n",
              "        }}\n",
              "}});\n",
              "\n",
              "// Listen for the removal of the full notebook cells\n",
              "var notebookContainer = gd.closest('#notebook-container');\n",
              "if (notebookContainer) {{\n",
              "    x.observe(notebookContainer, {childList: true});\n",
              "}}\n",
              "\n",
              "// Listen for the clearing of the current output cell\n",
              "var outputEl = gd.closest('.output');\n",
              "if (outputEl) {{\n",
              "    x.observe(outputEl, {childList: true});\n",
              "}}\n",
              "\n",
              "                        })                };                            </script>        </div>\n",
              "</body>\n",
              "</html>"
            ]
          },
          "metadata": {}
        }
      ],
      "source": [
        "# Graficar los embedddings en 2D\n",
        "import plotly.graph_objects as go\n",
        "import plotly.express as px\n",
        "\n",
        "vecs, labels = reduce_dimensions(w2v_model)\n",
        "\n",
        "MAX_WORDS=200\n",
        "fig = px.scatter(x=vecs[:MAX_WORDS,0], y=vecs[:MAX_WORDS,1], text=labels[:MAX_WORDS])\n",
        "fig.show(renderer=\"colab\") # esto para plotly en colab"
      ]
    },
    {
      "cell_type": "code",
      "execution_count": null,
      "metadata": {
        "id": "4kgL8bWhx8ay",
        "colab": {
          "base_uri": "https://localhost:8080/",
          "height": 542
        },
        "outputId": "c948036f-d15f-4c3a-9c9f-85f555423bc6"
      },
      "outputs": [
        {
          "output_type": "display_data",
          "data": {
            "text/html": [
              "<html>\n",
              "<head><meta charset=\"utf-8\" /></head>\n",
              "<body>\n",
              "    <div>            <script src=\"https://cdnjs.cloudflare.com/ajax/libs/mathjax/2.7.5/MathJax.js?config=TeX-AMS-MML_SVG\"></script><script type=\"text/javascript\">if (window.MathJax && window.MathJax.Hub && window.MathJax.Hub.Config) {window.MathJax.Hub.Config({SVG: {font: \"STIX-Web\"}});}</script>                <script type=\"text/javascript\">window.PlotlyConfig = {MathJaxConfig: 'local'};</script>\n",
              "        <script charset=\"utf-8\" src=\"https://cdn.plot.ly/plotly-2.24.1.min.js\"></script>                <div id=\"c624b434-49fb-4293-9ca5-c9058f59b584\" class=\"plotly-graph-div\" style=\"height:525px; width:100%;\"></div>            <script type=\"text/javascript\">                                    window.PLOTLYENV=window.PLOTLYENV || {};                                    if (document.getElementById(\"c624b434-49fb-4293-9ca5-c9058f59b584\")) {                    Plotly.newPlot(                        \"c624b434-49fb-4293-9ca5-c9058f59b584\",                        [{\"hovertemplate\":\"x=%{x}\\u003cbr\\u003ey=%{y}\\u003cbr\\u003ez=%{z}\\u003cbr\\u003etext=%{text}\\u003cextra\\u003e\\u003c\\u002fextra\\u003e\",\"legendgroup\":\"\",\"marker\":{\"color\":\"#636efa\",\"symbol\":\"circle\",\"size\":2},\"mode\":\"markers+text\",\"name\":\"\",\"scene\":\"scene\",\"showlegend\":false,\"text\":[\"que\",\"y\",\"el\",\"de\",\"la\",\"a\",\"en\",\"no\",\"me\",\"se\",\"lo\",\"un\",\"los\",\"al\",\"con\",\"es\",\"como\",\"le\",\"las\",\"por\",\"su\",\"yo\",\"una\",\"si\",\"mi\",\"m\\u00e1s\",\"ni\",\"del\",\"sin\",\"pero\",\"cuando\",\"ya\",\"para\",\"era\",\"pues\",\"pa\",\"aunque\",\"he\",\"porque\",\"hombre\",\"siempre\",\"hasta\",\"aquel\",\"les\",\"ha\",\"todo\",\"\\u00bb\",\"hay\",\"nos\",\"all\\u00ed\",\"tiene\",\"o\",\"ans\\u00ed\",\"muy\",\"hab\\u00eda\",\"tan\",\"uno\",\"otro\",\"mas\",\"sus\",\"gaucho\",\"entre\",\"qu\\u00e9\",\"son\",\"cuanto\",\"mis\",\"tal\",\"vez\",\"dende\",\"todos\",\"indio\",\"te\",\"esa\",\"dios\",\"despu\\u00e9s\",\"\\u00e9l\",\"nunca\",\"naides\",\"ser\",\"s\\u00e9\",\"fin\",\"mesmo\",\"dos\",\"este\",\"tanto\",\"noche\",\"ese\",\"esta\",\"quien\",\"estaba\",\"han\",\"bien\",\"pobre\",\"saber\",\"ten\\u00eda\",\"medio\",\"vida\",\"tiempo\",\"d\\u00eda\",\"esto\",\"coraz\\u00f3n\",\"m\\u00ed\",\"mal\",\"s\\u00f3lo\",\"sabe\",\"tener\",\"jam\\u00e1s\",\"donde\",\"fierro\",\"ay\",\"poco\",\"ocasi\\u00f3n\",\"gente\",\"ninguno\",\"ver\",\"soy\",\"nada\",\"hace\",\"cantar\",\"suerte\",\"dijo\",\"debe\",\"modo\",\"est\\u00e1\",\"tambi\\u00e9n\",\"tierra\",\"hizo\",\"amigo\",\"cosas\",\"aquella\",\"toda\",\"hacer\",\"cruz\",\"decir\",\"ande\",\"dio\",\"mejor\",\"veces\",\"eso\",\"otros\",\"voy\",\"dije\",\"puede\",\"punto\",\"juez\",\"otra\",\"digo\",\"mientras\",\"vino\",\"moreno\",\"quiera\",\"hijos\",\"mucho\",\"visto\",\"sino\",\"mart\\u00edn\",\"viejo\",\"madre\",\"va\",\"alg\\u00fan\",\"cantor\",\"andaba\",\"mundo\",\"aqu\\u00ed\",\"iba\",\"pasa\",\"sufrir\",\"unos\",\"dar\",\"fue\",\"cada\",\"falta\",\"mano\",\"ojos\",\"andar\",\"parece\",\"raz\\u00f3n\",\"mayor\",\"negro\",\"muerto\",\"sobre\",\"hac\\u00eda\",\"alma\",\"da\",\"peligro\",\"campo\",\"cielo\",\"a\\u00f1os\",\"momento\",\"tengo\",\"cosa\",\"esos\",\"muchas\",\"luego\",\"indios\",\"alguna\",\"triste\",\"rigor\",\"muchos\",\"desierto\"],\"x\":[1.2046741247177124,2.1737489700317383,-24.587871551513672,4.056342601776123,0.4884059429168701,-1.1617376804351807,-1.8368375301361084,-0.8659124374389648,0.08403728157281876,1.8224704265594482,0.6668604612350464,-8.525952339172363,42.76092529296875,-17.482919692993164,-2.6703357696533203,-6.464441299438477,-0.28382936120033264,-11.661394119262695,34.20004653930664,15.86048412322998,-29.87690544128418,20.915019989013672,1.6458652019500732,11.124561309814453,-28.23947525024414,9.464235305786133,2.4677228927612305,-25.400005340576172,10.441130638122559,-5.902745723724365,-42.815956115722656,25.48055648803711,-5.860954284667969,-1.5229345560073853,-2.914970636367798,-6.086812973022461,-3.468247890472412,19.98533821105957,-6.41547966003418,-21.53458023071289,25.144935607910156,28.064701080322266,-39.481300354003906,15.704939842224121,18.162933349609375,-40.52980041503906,1.9858319759368896,22.264488220214844,-17.64295196533203,27.789371490478516,24.242595672607422,0.2213403433561325,14.466117858886719,-21.22323989868164,11.809428215026855,-16.809959411621094,-16.834392547607422,-29.735061645507812,1.4994372129440308,36.482181549072266,-29.533418655395508,38.068424224853516,-3.088061809539795,37.18539810180664,-18.084014892578125,40.67546463012695,18.820026397705078,17.640121459960938,20.283645629882812,18.164291381835938,-27.96253776550293,15.04575252532959,1.471102237701416,38.02277374267578,11.956892967224121,14.98922348022461,7.450823783874512,-15.58259391784668,-12.50556755065918,33.73064041137695,23.216726303100586,-23.14137077331543,35.68318176269531,-31.937835693359375,31.8061466217041,-11.480313301086426,-40.054779052734375,4.805739402770996,-2.7409324645996094,-36.02531433105469,19.294445037841797,-0.37246909737586975,-24.784122467041016,4.558432102203369,5.090159893035889,26.980125427246094,1.5291203260421753,-29.95574951171875,-24.1955623626709,-15.845072746276855,-30.06629753112793,16.025711059570312,-18.690919876098633,-13.300172805786133,-36.26458740234375,-15.432897567749023,5.869970321655273,-27.456514358520508,32.66520690917969,-11.89183521270752,-13.562434196472168,0.03155805170536041,-3.9164600372314453,-17.14176368713379,13.1871337890625,-17.163846969604492,17.256731033325195,-6.269576072692871,7.234081268310547,15.539000511169434,-20.472824096679688,-23.017335891723633,-9.38625717163086,-20.29475975036621,-37.010311126708984,7.255071640014648,-16.829814910888672,-32.647743225097656,38.30251693725586,2.8350236415863037,13.574092864990234,6.155307292938232,0.8205945491790771,16.52003288269043,-27.1695499420166,-27.190860748291016,-28.37828826904297,15.972542762756348,5.202054500579834,20.393728256225586,18.80921173095703,9.551541328430176,-0.5209314227104187,-19.861757278442383,-19.22321128845215,14.429132461547852,13.88284683227539,25.448965072631836,-26.63146209716797,6.378790855407715,-30.745716094970703,25.041337966918945,-6.918370246887207,19.14232635498047,6.76971435546875,33.15827178955078,-38.53690719604492,2.180176019668579,-10.545745849609375,-31.447175979614258,-41.83355712890625,23.94284439086914,-21.926095962524414,27.324848175048828,-15.78906536102295,-15.661551475524902,-8.303422927856445,41.00397491455078,9.268743515014648,-17.28879165649414,-31.965679168701172,5.844742298126221,-14.03412914276123,38.13190460205078,14.143824577331543,17.96897315979004,-4.194854259490967,-20.327545166015625,-42.31456756591797,24.2733211517334,3.3826942443847656,10.873234748840332,-25.628297805786133,-0.9448785185813904,-29.993595123291016,-23.455955505371094,-35.483577728271484,37.93584060668945,-3.4119231700897217,19.344680786132812,-20.146291732788086,39.562217712402344,31.643815994262695,10.50822639465332,42.47055435180664,15.414350509643555,-13.144503593444824,-11.219141006469727,37.6757926940918,-24.64885711669922],\"y\":[6.270205974578857,4.245859146118164,-0.9875136613845825,3.9921822547912598,-40.99725341796875,-3.4945740699768066,-10.988604545593262,19.182321548461914,0.026469415053725243,8.43687629699707,6.587510585784912,-16.197378158569336,5.9597601890563965,-15.243023872375488,-14.358221054077148,8.265557289123535,11.502650260925293,-8.338824272155762,-1.1161632537841797,2.1795096397399902,-11.44383430480957,26.31095314025879,-44.06551742553711,9.047233581542969,-11.055619239807129,-4.454354286193848,40.625797271728516,-2.6112844944000244,26.91613006591797,20.345867156982422,10.995444297790527,20.498456954956055,-29.355518341064453,2.849320888519287,14.588190078735352,-28.766233444213867,2.2676568031311035,36.838043212890625,17.438560485839844,18.482648849487305,-18.55656623840332,-26.908187866210938,23.598613739013672,5.884758472442627,44.40751266479492,20.089061737060547,-6.326015949249268,-3.8620944023132324,-8.309737205505371,-13.712743759155273,-0.132965087890625,-20.44207763671875,-2.587221622467041,1.4034243822097778,39.635826110839844,-20.812652587890625,14.145853996276855,-2.8882176876068115,27.472185134887695,-3.1241538524627686,6.456942558288574,-22.02483558654785,43.39045715332031,8.666908264160156,5.3809123039245605,0.329750657081604,8.550797462463379,11.440537452697754,-11.321699142456055,-21.962936401367188,6.357936382293701,40.08169937133789,-34.921661376953125,18.983963012695312,2.9546189308166504,14.001670837402344,32.21569061279297,37.736289978027344,24.051965713500977,9.844816207885742,-33.84062194824219,1.6261152029037476,-16.153839111328125,27.23670196533203,-26.132307052612305,-42.78034210205078,21.49625587463379,-33.349002838134766,20.060813903808594,2.5168259143829346,42.94739532470703,-37.80985641479492,-33.19722366333008,38.4173698425293,10.476508140563965,-0.29020795226097107,10.429354667663574,1.4296168088912964,1.7435033321380615,35.819515228271484,9.836967468261719,11.819256782531738,-3.5023558139801025,26.135332107543945,27.026323318481445,21.44097328186035,34.55756759643555,21.964214324951172,-12.886763572692871,34.513450622558594,37.791439056396484,-15.599218368530273,-43.66349411010742,32.73261260986328,-11.299023628234863,19.024856567382812,28.631141662597656,11.041555404663086,15.333548545837402,-14.399260520935059,6.84376335144043,11.648770332336426,32.252017974853516,23.416046142578125,13.443899154663086,-30.258682250976562,-8.539397239685059,0.4850001633167267,14.822303771972656,-35.92245101928711,-5.494360446929932,33.7025146484375,7.866336345672607,29.84989356994629,19.569005966186523,20.73106575012207,-16.4195613861084,23.234235763549805,10.910890579223633,17.730175018310547,37.162349700927734,17.728105545043945,32.63002395629883,0.06490455567836761,9.61559772491455,-1.3951425552368164,14.521140098571777,14.264006614685059,8.795537948608398,21.692745208740234,16.8836669921875,-23.07987403869629,23.111190795898438,34.6373291015625,-2.4554150104522705,-14.817081451416016,-3.499765634536743,-6.7911529541015625,23.03408432006836,28.735668182373047,6.21113395690918,1.6943821907043457,13.477758407592773,20.283924102783203,11.245427131652832,8.470885276794434,15.556367874145508,-12.297173500061035,-18.13779067993164,-43.208980560302734,21.32621192932129,10.885529518127441,-32.55470657348633,-17.73272705078125,2.751722574234009,-12.259796142578125,8.80636215209961,-36.95025634765625,12.96714973449707,2.9754090309143066,-14.614259719848633,-2.1172566413879395,-25.84918212890625,-41.146366119384766,4.3141350746154785,-23.3824405670166,-13.689397811889648,-13.959406852722168,24.44843292236328,33.75407028198242,-15.915664672851562,5.158013820648193,21.712770462036133,-22.044599533081055,2.178145408630371,19.32502555847168,-7.353124618530273,-41.1976318359375,23.0050106048584,-7.972339153289795],\"z\":[-4.147971153259277,-2.5051937103271484,6.135601043701172,-4.340882301330566,0.4435389041900635,11.571398735046387,-15.760019302368164,-5.4458208084106445,9.775578498840332,-7.698220252990723,-6.271361351013184,7.767507076263428,-7.709532260894775,24.8781795501709,1.9854854345321655,-34.607852935791016,-5.854260444641113,36.230506896972656,18.106374740600586,-6.287209987640381,-36.28597640991211,-10.625476837158203,-0.9868191480636597,-18.819278717041016,-37.508079528808594,13.673677444458008,14.210006713867188,8.48073673248291,24.50666618347168,-6.283117771148682,0.967073380947113,-28.274450302124023,30.721698760986328,-47.08250045776367,-6.402500152587891,28.642986297607422,-26.275144577026367,-17.445722579956055,-6.960665225982666,-11.688655853271484,-16.59272003173828,3.9619970321655273,1.6510882377624512,8.964903831481934,-14.355914115905762,7.278250694274902,42.50392150878906,-39.159217834472656,40.950382232666016,-23.4989070892334,-38.768882751464844,-41.38909149169922,-16.9365177154541,-29.791757583618164,-18.749670028686523,-14.948694229125977,-0.8972353339195251,24.280010223388672,-3.8249473571777344,17.667354583740234,-18.843971252441406,-0.4777866005897522,-1.0120494365692139,5.820923805236816,18.55812644958496,17.5041561126709,-30.202003479003906,-27.839765548706055,-8.003790855407715,1.2696737051010132,1.0253022909164429,0.8964346647262573,-27.475082397460938,-4.426212787628174,-13.166123390197754,24.467182159423828,-20.434104919433594,3.9775400161743164,-33.66768264770508,-21.2457275390625,9.943861961364746,0.8823735117912292,1.8984233140945435,4.130104064941406,11.484179496765137,-15.1264009475708,5.583767890930176,-26.160484313964844,-16.59511947631836,1.4322272539138794,-13.696380615234375,20.359981536865234,1.2217082977294922,-8.801423072814941,37.01612854003906,-30.261075973510742,-37.261940002441406,-31.119461059570312,25.40992546081543,-1.3169336318969727,-31.857486724853516,23.169065475463867,-36.340755462646484,20.347896575927734,-3.9577386379241943,-23.01243782043457,-20.393518447875977,2.107027292251587,-14.371718406677246,29.937528610229492,-3.2398200035095215,-22.174747467041016,-7.709916114807129,7.773481369018555,-23.07660484313965,-24.91999053955078,6.0569305419921875,-36.077919006347656,22.142656326293945,-23.90281105041504,31.445724487304688,-32.73949432373047,-12.197693824768066,-32.36244201660156,-20.772676467895508,-18.86185073852539,38.83893966674805,9.331343650817871,3.337599039077759,-26.384666442871094,-43.81022644042969,27.8316650390625,34.85759735107422,2.3494396209716797,3.8854727745056152,-23.020322799682617,26.35129165649414,-1.4801911115646362,-3.0769150257110596,2.6333377361297607,4.7277021408081055,14.526728630065918,-10.47976016998291,17.77984046936035,22.888179779052734,-36.22283935546875,-0.4304507076740265,22.236469268798828,24.198984146118164,36.96193313598633,-0.2668754756450653,19.66961669921875,-35.995399475097656,-17.759057998657227,23.20235252380371,-13.626847267150879,-6.24863338470459,-37.61259078979492,30.306997299194336,10.308697700500488,6.625305652618408,35.32788848876953,2.7718002796173096,1.2088148593902588,38.47827911376953,-3.6524312496185303,-41.64999008178711,9.851397514343262,10.227258682250977,-6.146829605102539,10.676990509033203,-28.73600196838379,11.898686408996582,-7.842558860778809,37.58924865722656,-4.488414287567139,-27.77867317199707,-22.03314208984375,-15.371796607971191,-28.747547149658203,-32.89155197143555,8.12215518951416,-13.737738609313965,5.930872440338135,-28.181020736694336,25.18303871154785,20.568340301513672,-1.4279193878173828,34.291839599609375,11.379981994628906,-35.291744232177734,-8.921585083007812,-5.735503673553467,-3.6344335079193115,-2.8295769691467285,-34.43930435180664,-39.57575607299805,20.598201751708984,6.19672155380249,1.7276122570037842],\"type\":\"scatter3d\"}],                        {\"template\":{\"data\":{\"histogram2dcontour\":[{\"type\":\"histogram2dcontour\",\"colorbar\":{\"outlinewidth\":0,\"ticks\":\"\"},\"colorscale\":[[0.0,\"#0d0887\"],[0.1111111111111111,\"#46039f\"],[0.2222222222222222,\"#7201a8\"],[0.3333333333333333,\"#9c179e\"],[0.4444444444444444,\"#bd3786\"],[0.5555555555555556,\"#d8576b\"],[0.6666666666666666,\"#ed7953\"],[0.7777777777777778,\"#fb9f3a\"],[0.8888888888888888,\"#fdca26\"],[1.0,\"#f0f921\"]]}],\"choropleth\":[{\"type\":\"choropleth\",\"colorbar\":{\"outlinewidth\":0,\"ticks\":\"\"}}],\"histogram2d\":[{\"type\":\"histogram2d\",\"colorbar\":{\"outlinewidth\":0,\"ticks\":\"\"},\"colorscale\":[[0.0,\"#0d0887\"],[0.1111111111111111,\"#46039f\"],[0.2222222222222222,\"#7201a8\"],[0.3333333333333333,\"#9c179e\"],[0.4444444444444444,\"#bd3786\"],[0.5555555555555556,\"#d8576b\"],[0.6666666666666666,\"#ed7953\"],[0.7777777777777778,\"#fb9f3a\"],[0.8888888888888888,\"#fdca26\"],[1.0,\"#f0f921\"]]}],\"heatmap\":[{\"type\":\"heatmap\",\"colorbar\":{\"outlinewidth\":0,\"ticks\":\"\"},\"colorscale\":[[0.0,\"#0d0887\"],[0.1111111111111111,\"#46039f\"],[0.2222222222222222,\"#7201a8\"],[0.3333333333333333,\"#9c179e\"],[0.4444444444444444,\"#bd3786\"],[0.5555555555555556,\"#d8576b\"],[0.6666666666666666,\"#ed7953\"],[0.7777777777777778,\"#fb9f3a\"],[0.8888888888888888,\"#fdca26\"],[1.0,\"#f0f921\"]]}],\"heatmapgl\":[{\"type\":\"heatmapgl\",\"colorbar\":{\"outlinewidth\":0,\"ticks\":\"\"},\"colorscale\":[[0.0,\"#0d0887\"],[0.1111111111111111,\"#46039f\"],[0.2222222222222222,\"#7201a8\"],[0.3333333333333333,\"#9c179e\"],[0.4444444444444444,\"#bd3786\"],[0.5555555555555556,\"#d8576b\"],[0.6666666666666666,\"#ed7953\"],[0.7777777777777778,\"#fb9f3a\"],[0.8888888888888888,\"#fdca26\"],[1.0,\"#f0f921\"]]}],\"contourcarpet\":[{\"type\":\"contourcarpet\",\"colorbar\":{\"outlinewidth\":0,\"ticks\":\"\"}}],\"contour\":[{\"type\":\"contour\",\"colorbar\":{\"outlinewidth\":0,\"ticks\":\"\"},\"colorscale\":[[0.0,\"#0d0887\"],[0.1111111111111111,\"#46039f\"],[0.2222222222222222,\"#7201a8\"],[0.3333333333333333,\"#9c179e\"],[0.4444444444444444,\"#bd3786\"],[0.5555555555555556,\"#d8576b\"],[0.6666666666666666,\"#ed7953\"],[0.7777777777777778,\"#fb9f3a\"],[0.8888888888888888,\"#fdca26\"],[1.0,\"#f0f921\"]]}],\"surface\":[{\"type\":\"surface\",\"colorbar\":{\"outlinewidth\":0,\"ticks\":\"\"},\"colorscale\":[[0.0,\"#0d0887\"],[0.1111111111111111,\"#46039f\"],[0.2222222222222222,\"#7201a8\"],[0.3333333333333333,\"#9c179e\"],[0.4444444444444444,\"#bd3786\"],[0.5555555555555556,\"#d8576b\"],[0.6666666666666666,\"#ed7953\"],[0.7777777777777778,\"#fb9f3a\"],[0.8888888888888888,\"#fdca26\"],[1.0,\"#f0f921\"]]}],\"mesh3d\":[{\"type\":\"mesh3d\",\"colorbar\":{\"outlinewidth\":0,\"ticks\":\"\"}}],\"scatter\":[{\"fillpattern\":{\"fillmode\":\"overlay\",\"size\":10,\"solidity\":0.2},\"type\":\"scatter\"}],\"parcoords\":[{\"type\":\"parcoords\",\"line\":{\"colorbar\":{\"outlinewidth\":0,\"ticks\":\"\"}}}],\"scatterpolargl\":[{\"type\":\"scatterpolargl\",\"marker\":{\"colorbar\":{\"outlinewidth\":0,\"ticks\":\"\"}}}],\"bar\":[{\"error_x\":{\"color\":\"#2a3f5f\"},\"error_y\":{\"color\":\"#2a3f5f\"},\"marker\":{\"line\":{\"color\":\"#E5ECF6\",\"width\":0.5},\"pattern\":{\"fillmode\":\"overlay\",\"size\":10,\"solidity\":0.2}},\"type\":\"bar\"}],\"scattergeo\":[{\"type\":\"scattergeo\",\"marker\":{\"colorbar\":{\"outlinewidth\":0,\"ticks\":\"\"}}}],\"scatterpolar\":[{\"type\":\"scatterpolar\",\"marker\":{\"colorbar\":{\"outlinewidth\":0,\"ticks\":\"\"}}}],\"histogram\":[{\"marker\":{\"pattern\":{\"fillmode\":\"overlay\",\"size\":10,\"solidity\":0.2}},\"type\":\"histogram\"}],\"scattergl\":[{\"type\":\"scattergl\",\"marker\":{\"colorbar\":{\"outlinewidth\":0,\"ticks\":\"\"}}}],\"scatter3d\":[{\"type\":\"scatter3d\",\"line\":{\"colorbar\":{\"outlinewidth\":0,\"ticks\":\"\"}},\"marker\":{\"colorbar\":{\"outlinewidth\":0,\"ticks\":\"\"}}}],\"scattermapbox\":[{\"type\":\"scattermapbox\",\"marker\":{\"colorbar\":{\"outlinewidth\":0,\"ticks\":\"\"}}}],\"scatterternary\":[{\"type\":\"scatterternary\",\"marker\":{\"colorbar\":{\"outlinewidth\":0,\"ticks\":\"\"}}}],\"scattercarpet\":[{\"type\":\"scattercarpet\",\"marker\":{\"colorbar\":{\"outlinewidth\":0,\"ticks\":\"\"}}}],\"carpet\":[{\"aaxis\":{\"endlinecolor\":\"#2a3f5f\",\"gridcolor\":\"white\",\"linecolor\":\"white\",\"minorgridcolor\":\"white\",\"startlinecolor\":\"#2a3f5f\"},\"baxis\":{\"endlinecolor\":\"#2a3f5f\",\"gridcolor\":\"white\",\"linecolor\":\"white\",\"minorgridcolor\":\"white\",\"startlinecolor\":\"#2a3f5f\"},\"type\":\"carpet\"}],\"table\":[{\"cells\":{\"fill\":{\"color\":\"#EBF0F8\"},\"line\":{\"color\":\"white\"}},\"header\":{\"fill\":{\"color\":\"#C8D4E3\"},\"line\":{\"color\":\"white\"}},\"type\":\"table\"}],\"barpolar\":[{\"marker\":{\"line\":{\"color\":\"#E5ECF6\",\"width\":0.5},\"pattern\":{\"fillmode\":\"overlay\",\"size\":10,\"solidity\":0.2}},\"type\":\"barpolar\"}],\"pie\":[{\"automargin\":true,\"type\":\"pie\"}]},\"layout\":{\"autotypenumbers\":\"strict\",\"colorway\":[\"#636efa\",\"#EF553B\",\"#00cc96\",\"#ab63fa\",\"#FFA15A\",\"#19d3f3\",\"#FF6692\",\"#B6E880\",\"#FF97FF\",\"#FECB52\"],\"font\":{\"color\":\"#2a3f5f\"},\"hovermode\":\"closest\",\"hoverlabel\":{\"align\":\"left\"},\"paper_bgcolor\":\"white\",\"plot_bgcolor\":\"#E5ECF6\",\"polar\":{\"bgcolor\":\"#E5ECF6\",\"angularaxis\":{\"gridcolor\":\"white\",\"linecolor\":\"white\",\"ticks\":\"\"},\"radialaxis\":{\"gridcolor\":\"white\",\"linecolor\":\"white\",\"ticks\":\"\"}},\"ternary\":{\"bgcolor\":\"#E5ECF6\",\"aaxis\":{\"gridcolor\":\"white\",\"linecolor\":\"white\",\"ticks\":\"\"},\"baxis\":{\"gridcolor\":\"white\",\"linecolor\":\"white\",\"ticks\":\"\"},\"caxis\":{\"gridcolor\":\"white\",\"linecolor\":\"white\",\"ticks\":\"\"}},\"coloraxis\":{\"colorbar\":{\"outlinewidth\":0,\"ticks\":\"\"}},\"colorscale\":{\"sequential\":[[0.0,\"#0d0887\"],[0.1111111111111111,\"#46039f\"],[0.2222222222222222,\"#7201a8\"],[0.3333333333333333,\"#9c179e\"],[0.4444444444444444,\"#bd3786\"],[0.5555555555555556,\"#d8576b\"],[0.6666666666666666,\"#ed7953\"],[0.7777777777777778,\"#fb9f3a\"],[0.8888888888888888,\"#fdca26\"],[1.0,\"#f0f921\"]],\"sequentialminus\":[[0.0,\"#0d0887\"],[0.1111111111111111,\"#46039f\"],[0.2222222222222222,\"#7201a8\"],[0.3333333333333333,\"#9c179e\"],[0.4444444444444444,\"#bd3786\"],[0.5555555555555556,\"#d8576b\"],[0.6666666666666666,\"#ed7953\"],[0.7777777777777778,\"#fb9f3a\"],[0.8888888888888888,\"#fdca26\"],[1.0,\"#f0f921\"]],\"diverging\":[[0,\"#8e0152\"],[0.1,\"#c51b7d\"],[0.2,\"#de77ae\"],[0.3,\"#f1b6da\"],[0.4,\"#fde0ef\"],[0.5,\"#f7f7f7\"],[0.6,\"#e6f5d0\"],[0.7,\"#b8e186\"],[0.8,\"#7fbc41\"],[0.9,\"#4d9221\"],[1,\"#276419\"]]},\"xaxis\":{\"gridcolor\":\"white\",\"linecolor\":\"white\",\"ticks\":\"\",\"title\":{\"standoff\":15},\"zerolinecolor\":\"white\",\"automargin\":true,\"zerolinewidth\":2},\"yaxis\":{\"gridcolor\":\"white\",\"linecolor\":\"white\",\"ticks\":\"\",\"title\":{\"standoff\":15},\"zerolinecolor\":\"white\",\"automargin\":true,\"zerolinewidth\":2},\"scene\":{\"xaxis\":{\"backgroundcolor\":\"#E5ECF6\",\"gridcolor\":\"white\",\"linecolor\":\"white\",\"showbackground\":true,\"ticks\":\"\",\"zerolinecolor\":\"white\",\"gridwidth\":2},\"yaxis\":{\"backgroundcolor\":\"#E5ECF6\",\"gridcolor\":\"white\",\"linecolor\":\"white\",\"showbackground\":true,\"ticks\":\"\",\"zerolinecolor\":\"white\",\"gridwidth\":2},\"zaxis\":{\"backgroundcolor\":\"#E5ECF6\",\"gridcolor\":\"white\",\"linecolor\":\"white\",\"showbackground\":true,\"ticks\":\"\",\"zerolinecolor\":\"white\",\"gridwidth\":2}},\"shapedefaults\":{\"line\":{\"color\":\"#2a3f5f\"}},\"annotationdefaults\":{\"arrowcolor\":\"#2a3f5f\",\"arrowhead\":0,\"arrowwidth\":1},\"geo\":{\"bgcolor\":\"white\",\"landcolor\":\"#E5ECF6\",\"subunitcolor\":\"white\",\"showland\":true,\"showlakes\":true,\"lakecolor\":\"white\"},\"title\":{\"x\":0.05},\"mapbox\":{\"style\":\"light\"}}},\"scene\":{\"domain\":{\"x\":[0.0,1.0],\"y\":[0.0,1.0]},\"xaxis\":{\"title\":{\"text\":\"x\"}},\"yaxis\":{\"title\":{\"text\":\"y\"}},\"zaxis\":{\"title\":{\"text\":\"z\"}}},\"legend\":{\"tracegroupgap\":0},\"margin\":{\"t\":60}},                        {\"responsive\": true}                    ).then(function(){\n",
              "                            \n",
              "var gd = document.getElementById('c624b434-49fb-4293-9ca5-c9058f59b584');\n",
              "var x = new MutationObserver(function (mutations, observer) {{\n",
              "        var display = window.getComputedStyle(gd).display;\n",
              "        if (!display || display === 'none') {{\n",
              "            console.log([gd, 'removed!']);\n",
              "            Plotly.purge(gd);\n",
              "            observer.disconnect();\n",
              "        }}\n",
              "}});\n",
              "\n",
              "// Listen for the removal of the full notebook cells\n",
              "var notebookContainer = gd.closest('#notebook-container');\n",
              "if (notebookContainer) {{\n",
              "    x.observe(notebookContainer, {childList: true});\n",
              "}}\n",
              "\n",
              "// Listen for the clearing of the current output cell\n",
              "var outputEl = gd.closest('.output');\n",
              "if (outputEl) {{\n",
              "    x.observe(outputEl, {childList: true});\n",
              "}}\n",
              "\n",
              "                        })                };                            </script>        </div>\n",
              "</body>\n",
              "</html>"
            ]
          },
          "metadata": {}
        }
      ],
      "source": [
        "# Graficar los embedddings en 3D\n",
        "\n",
        "vecs, labels = reduce_dimensions(w2v_model,3)\n",
        "\n",
        "fig = px.scatter_3d(x=vecs[:MAX_WORDS,0], y=vecs[:MAX_WORDS,1], z=vecs[:MAX_WORDS,2],text=labels[:MAX_WORDS])\n",
        "fig.update_traces(marker_size = 2)\n",
        "fig.show(renderer=\"colab\") # esto para plotly en colab"
      ]
    },
    {
      "cell_type": "markdown",
      "metadata": {
        "id": "WivQZ3ZCZ9N_"
      },
      "source": [
        "**7. CONCLUSIONES**\n",
        "\n",
        "Los embeddings entrenados funcionan muy bien para palabras gaúchas, cuando uno se aparta de ellas, el funcionamiento es algo más inestable pero el resultado obtenido es aceptable. El propio entrenamiento de los embeddings resulta inestable, en parte por la baja longitud del texto, en parte por la riqueza de la pluma de Hernández. Los problemas provienen de la baja frecuencia de aparición de palabras. Dependiendo de la frecuencia mínima y del tamaño de la ventana considerado para el entrenamiento, cambian drásticamente los embeddings."
      ]
    },
    {
      "cell_type": "code",
      "source": [],
      "metadata": {
        "id": "CDbiC_xiivHd"
      },
      "execution_count": null,
      "outputs": []
    }
  ],
  "metadata": {
    "colab": {
      "provenance": []
    },
    "kernelspec": {
      "display_name": "Python 3 (ipykernel)",
      "language": "python",
      "name": "python3"
    },
    "language_info": {
      "codemirror_mode": {
        "name": "ipython",
        "version": 3
      },
      "file_extension": ".py",
      "mimetype": "text/x-python",
      "name": "python",
      "nbconvert_exporter": "python",
      "pygments_lexer": "ipython3",
      "version": "3.10.6"
    }
  },
  "nbformat": 4,
  "nbformat_minor": 0
}